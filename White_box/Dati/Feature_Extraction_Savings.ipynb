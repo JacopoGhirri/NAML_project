{
  "nbformat": 4,
  "nbformat_minor": 0,
  "metadata": {
    "colab": {
      "name": "Feature_Extraction_Savings.ipynb",
      "provenance": []
    },
    "kernelspec": {
      "name": "python3",
      "display_name": "Python 3"
    },
    "language_info": {
      "name": "python"
    }
  },
  "cells": [
    {
      "cell_type": "markdown",
      "source": [
        "## Feature extraction FROM .wav FILES\n",
        "We extract from each song a set of feature to use for the white box model"
      ],
      "metadata": {
        "id": "0iJ9px0WiO9r"
      }
    },
    {
      "cell_type": "code",
      "execution_count": 1,
      "metadata": {
        "id": "0g0HhT5rZpWU",
        "colab": {
          "base_uri": "https://localhost:8080/"
        },
        "outputId": "b00c0445-8939-45fe-d35b-7766bfd43a6d"
      },
      "outputs": [
        {
          "output_type": "stream",
          "name": "stdout",
          "text": [
            "Mounted at /gdrive\n"
          ]
        }
      ],
      "source": [
        "#importing google drive\n",
        "from google.colab import drive\n",
        "drive.mount('/gdrive')"
      ]
    },
    {
      "cell_type": "code",
      "source": [
        "#setting the working directory\n",
        "%cd /gdrive/MyDrive/polimi/NAML/NAML_proj/"
      ],
      "metadata": {
        "id": "yTLxa8LJiqzg",
        "colab": {
          "base_uri": "https://localhost:8080/"
        },
        "outputId": "bfa417b0-a767-47b5-c66b-8dd84d6912c4"
      },
      "execution_count": 2,
      "outputs": [
        {
          "output_type": "stream",
          "name": "stdout",
          "text": [
            "/gdrive/MyDrive/polimi/NAML/NAML_proj\n"
          ]
        }
      ]
    },
    {
      "cell_type": "code",
      "source": [
        "import librosa\n",
        "import librosa.display\n",
        "import librosa.feature as lf\n",
        "import matplotlib.pyplot as plt\n",
        "import numpy as np\n",
        "import sys"
      ],
      "metadata": {
        "id": "A2fHddwCbqZw"
      },
      "execution_count": 30,
      "outputs": []
    },
    {
      "cell_type": "code",
      "source": [
        "genres = 'blues classical country disco hiphop jazz metal pop reggae rock'.split()"
      ],
      "metadata": {
        "id": "BTlLOd68Z26A"
      },
      "execution_count": 4,
      "outputs": []
    },
    {
      "cell_type": "code",
      "source": [
        "features = 'zero_crossing_rate RMS_energy mean_Chromagram spectral_flatness'.split()\n",
        "features_head = 'zero_crossing_rate,RMS_energy,mean_Chromagram,spectral_flatness'\n",
        "n_features = len(features)"
      ],
      "metadata": {
        "id": "-HHY_LYuB7dH"
      },
      "execution_count": 38,
      "outputs": []
    },
    {
      "cell_type": "code",
      "source": [
        "def feature_extractor(y, sr) -> np.array:\n",
        "  ret = np.zeros(n_features, dtype=float)\n",
        "  ret[0] = np.mean(lf.zero_crossing_rate(y=y))\n",
        "  ret[1] = np.mean(lf.rms(y=y))\n",
        "  ret[2] = np.mean(lf.chroma_stft(y=y, sr=sr))\n",
        "  ret[3] = np.mean(lf.spectral_flatness(y = amp))\n",
        "  return ret"
      ],
      "metadata": {
        "id": "HU1xO-Z7FL77"
      },
      "execution_count": 41,
      "outputs": []
    },
    {
      "cell_type": "code",
      "source": [
        "for g in genres:\n",
        "\n",
        "  mat = np.zeros(shape=(100,n_features))\n",
        "  \n",
        "  for s in range(100):\n",
        "    if s==0:\n",
        "      song = '00000'\n",
        "    elif s<10:\n",
        "      song = str('0000'+str(s))\n",
        "    else:\n",
        "      song = str('000'+str(s))\n",
        "  \n",
        "    aud_path = str(str('dataset_old/genres/')+g+'/'+g+'.'+song+'.wav')\n",
        "    amp , sampling_rate = librosa.load(aud_path)\n",
        "    \n",
        "    mat[s, :] = feature_extractor(amp, sampling_rate)\n",
        "\n",
        "    sys.stdout.write('\\r' + g + str(\": \") + str(s) + str(\"%\"))\n",
        "\n",
        "  file_name = str(str('dataset/')+g+'.csv')\n",
        "  np.savetxt(file_name, mat, header=features_head, delimiter=\",\")\n",
        "  \n",
        "  sys.stdout.write('\\r' + g + str(\" done\") + '\\n')\n",
        "\n",
        "  "
      ],
      "metadata": {
        "id": "NUqeqO2QaCwf",
        "colab": {
          "base_uri": "https://localhost:8080/"
        },
        "outputId": "a8bb543b-1613-4b3f-b205-6af201b95b66"
      },
      "execution_count": 45,
      "outputs": [
        {
          "output_type": "stream",
          "name": "stdout",
          "text": [
            "blues done\n",
            "classical done\n",
            "country done\n",
            "disco done\n",
            "hiphop done\n",
            "jazz done\n",
            "metal done\n",
            "pop done\n",
            "reggae done\n",
            "rock done\n"
          ]
        }
      ]
    },
    {
      "cell_type": "markdown",
      "source": [
        "MFCC (Mel-Frequency Cepstral Coefficients):\n",
        "13 coefficients, to analyze better\n",
        "\n",
        "\n",
        "\n",
        "\n",
        "Spectral roll off:\n",
        "measure of the amount of the right-skewedness of the power spectrum\n",
        "roll-off is the frequency below which 85% of accumulated spectral magnitude is concentrated\n",
        "high val for right skewed spectra\n",
        "\n",
        "\n",
        "\n",
        "Spectral flux:\n",
        "measure of local spectra rate of change\n",
        "\n",
        "\n",
        "\n",
        "Spectral entropy: (librosa?)\n",
        "detect silent and voiced regions\n",
        "\n",
        "\n",
        "\n",
        "Chroma features:\n",
        "related to the 12 pitch classes,\n",
        "they capture harmonic and melodic characteristics,\n",
        "robust to changes in timbre and instrumentation\n",
        "\n",
        "\n",
        "\n",
        "\n",
        "Pitch:\n",
        "related to frequency, subjective perception on high and low notes"
      ],
      "metadata": {
        "id": "1U2AgImHEwZF"
      }
    }
  ]
}