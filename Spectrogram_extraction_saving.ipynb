{
  "nbformat": 4,
  "nbformat_minor": 0,
  "metadata": {
    "colab": {
      "name": "Spectrogram_extraction_saving.ipynb",
      "provenance": []
    },
    "kernelspec": {
      "name": "python3",
      "display_name": "Python 3"
    },
    "language_info": {
      "name": "python"
    }
  },
  "cells": [
    {
      "cell_type": "markdown",
      "source": [
        "## SPECTROGRAM EXTRACTION FROM .wav FILES\n",
        "Spectrogram extraction from files and saving as rgb images, to be converted as gray-scale"
      ],
      "metadata": {
        "id": "0iJ9px0WiO9r"
      }
    },
    {
      "cell_type": "code",
      "execution_count": null,
      "metadata": {
        "id": "0g0HhT5rZpWU"
      },
      "outputs": [],
      "source": [
        "#importing google drive\n",
        "from google.colab import drive\n",
        "drive.mount('/gdrive')"
      ]
    },
    {
      "cell_type": "code",
      "source": [
        "#setting the working directory\n",
        "%cd /gdrive/MyDrive/polimi/NAML/NAML_proj/"
      ],
      "metadata": {
        "id": "yTLxa8LJiqzg"
      },
      "execution_count": null,
      "outputs": []
    },
    {
      "cell_type": "code",
      "source": [
        "import librosa\n",
        "import librosa.display\n",
        "import matplotlib.pyplot as plt"
      ],
      "metadata": {
        "id": "A2fHddwCbqZw"
      },
      "execution_count": 5,
      "outputs": []
    },
    {
      "cell_type": "code",
      "source": [
        "genres = 'blues classical country disco hiphop jazz metal pop reggae rock'.split()"
      ],
      "metadata": {
        "id": "BTlLOd68Z26A"
      },
      "execution_count": null,
      "outputs": []
    },
    {
      "cell_type": "code",
      "source": [
        "for g in genres:\n",
        "  \n",
        "  for s in range(100):\n",
        "    if s==0:\n",
        "      song = '00000'\n",
        "    elif s<10:\n",
        "      song = str('0000'+str(s))\n",
        "    else:\n",
        "      song = str('000'+str(s))\n",
        "  \n",
        "    aud_path = str(str('dataset/genres/')+g+'/'+g+'.'+song+'.wav')\n",
        "    amp , sampling_rate = librosa.load(aud_path)\n",
        "    \n",
        "    ft = librosa.stft(amp)#short time Fourier Transform\n",
        "    ft_db = librosa.amplitude_to_db(abs(ft))\n",
        "    librosa.display.specshow(ft_db, sr=sampling_rate)\n",
        "    plt.axis(\"off\")\n",
        "    plt.savefig(str(str('dataset/images/')+g+'/'+g+'.'+song+'.png'), bbox_inches='tight',pad_inches = 0)\n"
      ],
      "metadata": {
        "id": "NUqeqO2QaCwf"
      },
      "execution_count": null,
      "outputs": []
    }
  ]
}