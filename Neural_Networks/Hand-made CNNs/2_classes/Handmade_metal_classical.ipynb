{
  "nbformat": 4,
  "nbformat_minor": 0,
  "metadata": {
    "colab": {
      "name": "Handmade_metal_classical.ipynb",
      "provenance": []
    },
    "kernelspec": {
      "name": "python3",
      "display_name": "Python 3"
    },
    "language_info": {
      "name": "python"
    },
    "accelerator": "GPU"
  },
  "cells": [
    {
      "cell_type": "markdown",
      "source": [
        "## Black Box Approach for 2 genres classification - Metal vs Classical\n",
        "\n",
        "We aim at training a Neural Network to distinguish between two genres: classical and metal."
      ],
      "metadata": {
        "id": "gKB_Sss8Ql-3"
      }
    },
    {
      "cell_type": "code",
      "execution_count": 1,
      "metadata": {
        "id": "SwPJ54sBQlFO",
        "colab": {
          "base_uri": "https://localhost:8080/"
        },
        "outputId": "d55d98bf-5f04-4070-9f42-639066685528"
      },
      "outputs": [
        {
          "output_type": "stream",
          "name": "stdout",
          "text": [
            "Mounted at /gdrive\n"
          ]
        }
      ],
      "source": [
        "#importing google drive\n",
        "from google.colab import drive\n",
        "drive.mount('/gdrive')"
      ]
    },
    {
      "cell_type": "code",
      "source": [
        "#setting the working directory\n",
        "%cd /gdrive/MyDrive/polimi/NAML/NAML_proj/"
      ],
      "metadata": {
        "id": "iYHj7NhnQs_-",
        "colab": {
          "base_uri": "https://localhost:8080/"
        },
        "outputId": "330e9595-d0ac-478e-b86c-e1c26d6be7ec"
      },
      "execution_count": 2,
      "outputs": [
        {
          "output_type": "stream",
          "name": "stdout",
          "text": [
            "/gdrive/MyDrive/polimi/NAML/NAML_proj\n"
          ]
        }
      ]
    },
    {
      "cell_type": "code",
      "source": [
        "import tensorflow as tf\n",
        "from PIL import Image\n",
        "import numpy as np\n",
        "import os\n",
        "import random\n",
        "import seaborn as sns\n",
        "import matplotlib as mpl\n",
        "import matplotlib.pyplot as plt\n",
        "from sklearn.model_selection import train_test_split\n",
        "from sklearn.metrics import accuracy_score, f1_score, precision_score, recall_score\n",
        "from sklearn.metrics import confusion_matrix\n",
        "import librosa\n",
        "import os\n",
        "\n",
        "tfk = tf.keras\n",
        "tfkl = tf.keras.layers\n",
        "seed = 42"
      ],
      "metadata": {
        "id": "INc4ttEUQuxN"
      },
      "execution_count": 3,
      "outputs": []
    },
    {
      "cell_type": "markdown",
      "source": [
        "The dataset is composed of Mel-Spectrograms of each audio sample, labeled with respect to each genre"
      ],
      "metadata": {
        "id": "IoV9bIbPfg55"
      }
    },
    {
      "cell_type": "code",
      "source": [
        "dataset = []\n",
        "#genres = {'blues': 0, 'classical': 1, 'country': 2, 'disco': 3, 'hiphop': 4, 'jazz': 5, 'metal': 6, 'pop': 7, 'reggae': 8, 'rock': 9}\n",
        "genres = {'metal': 0, 'classical': 1}\n",
        "n_genres = 2\n",
        "\n",
        "for genre, genre_number in genres.items():\n",
        "    for filename in os.listdir(f'dataset_old/genres/{genre}'):\n",
        "        songname = f'dataset_old/genres/{genre}/{filename}'\n",
        "        y, sr = librosa.load(songname, mono=True, duration=29.7)\n",
        "        ps = librosa.feature.melspectrogram(y=y, sr=sr, hop_length = 256, n_fft = 512)\n",
        "        ps = librosa.power_to_db(ps**2)\n",
        "        dataset.append( (ps, genre_number) )\n",
        "    print(str(genre+' done'))"
      ],
      "metadata": {
        "id": "oiT5mkVqQ_lt",
        "colab": {
          "base_uri": "https://localhost:8080/"
        },
        "outputId": "851354e0-9e27-4a9b-d197-42ae89bf4bf8"
      },
      "execution_count": 4,
      "outputs": [
        {
          "output_type": "stream",
          "name": "stdout",
          "text": [
            "metal done\n",
            "classical done\n"
          ]
        }
      ]
    },
    {
      "cell_type": "markdown",
      "source": [
        "We split the dataset according to the following composition:\n",
        "\n",
        "\n",
        "*   70% training set\n",
        "*   20% validation set\n",
        "*   10% test set\n",
        "\n",
        "Maintaining equal proportions amongst classes\n",
        "\n"
      ],
      "metadata": {
        "id": "0sgOQfv-gZ04"
      }
    },
    {
      "cell_type": "code",
      "source": [
        "order = np.arange(start = 0, stop = 100, step = 1)\n",
        "\n",
        "np.random.seed(seed)\n",
        "\n",
        "training = []\n",
        "validation = []\n",
        "test = []\n",
        "\n",
        "for i in range(n_genres):\n",
        "  shuffle = np.random.permutation(order)\n",
        "  for k in range(70):\n",
        "    training.append(dataset[i*100 + shuffle[k]])\n",
        "  for l in range(20):\n",
        "    validation.append(dataset[i*100 + shuffle[l+70]])\n",
        "  for m in range(10):\n",
        "    test.append(dataset[i*100 + shuffle[m+90]])"
      ],
      "metadata": {
        "id": "OSUK8JPgRFVF"
      },
      "execution_count": 5,
      "outputs": []
    },
    {
      "cell_type": "code",
      "source": [
        "X_train, Y_train = zip(*training)\n",
        "X_valid, Y_valid = zip(*validation)\n",
        "X_test, Y_test = zip(*test)\n",
        "\n",
        "X_train = np.array([x.reshape( (128, 2559, 1) ) for x in X_train])\n",
        "X_valid = np.array([x.reshape( (128, 2559, 1) ) for x in X_valid])\n",
        "X_test = np.array([x.reshape( (128, 2559, 1) ) for x in X_test])\n",
        "\n",
        "Y_train = np.array(tfk.utils.to_categorical(Y_train, 2))\n",
        "Y_valid = np.array(tfk.utils.to_categorical(Y_valid, 2))\n",
        "Y_test = np.array(tfk.utils.to_categorical(Y_test, 2))"
      ],
      "metadata": {
        "id": "WA29NV-URMuG"
      },
      "execution_count": 6,
      "outputs": []
    },
    {
      "cell_type": "markdown",
      "source": [
        "The proposed model is composed as a stack of convolutional layer, followed by a Global Average Pooling layer leading to a fully connected section.\n",
        "\n",
        "Optimization is performed as a Batch version of Adam optimizer algorithm"
      ],
      "metadata": {
        "id": "O6AvTMw2hgxB"
      }
    },
    {
      "cell_type": "code",
      "source": [
        "def build_model(input_shape, n_units):\n",
        "# Build the neural network layer by layer\n",
        "    input_layer = tfkl.Input(shape=input_shape, name='Input')\n",
        "\n",
        "    conv1 = tfkl.Conv2D(\n",
        "        filters=4,\n",
        "        kernel_size=(3, 3),\n",
        "        strides = (1, 1),\n",
        "        padding = 'same',\n",
        "        activation = 'relu',\n",
        "        kernel_initializer = tfk.initializers.GlorotUniform(seed)\n",
        "    )(input_layer)\n",
        "    conv1_2 = tfkl.Conv2D(\n",
        "        filters=8,\n",
        "        kernel_size=(2, 2),\n",
        "        strides = (1, 1),\n",
        "        padding = 'same',\n",
        "        activation = 'relu',\n",
        "        kernel_initializer = tfk.initializers.GlorotUniform(seed)\n",
        "    )(conv1)\n",
        "    pool1 = tfkl.MaxPooling2D(\n",
        "        pool_size = (2, 2)\n",
        "    )(conv1_2)\n",
        "\n",
        "    conv2 = tfkl.Conv2D(\n",
        "        filters=16,\n",
        "        kernel_size=(3, 3),\n",
        "        strides = (1, 1),\n",
        "        padding = 'same',\n",
        "        activation = 'relu',\n",
        "        kernel_initializer = tfk.initializers.GlorotUniform(seed)\n",
        "    )(pool1)\n",
        "    pool2 = tfkl.MaxPooling2D(\n",
        "        pool_size = (2, 2)\n",
        "    )(conv2)\n",
        "\n",
        "    conv3 = tfkl.Conv2D(\n",
        "        filters=32,\n",
        "        kernel_size=(3, 3),\n",
        "        strides = (1, 1),\n",
        "        padding = 'same',\n",
        "        activation = 'relu',\n",
        "        kernel_initializer = tfk.initializers.GlorotUniform(seed)\n",
        "    )(pool2)\n",
        "    pool3 = tfkl.MaxPooling2D(\n",
        "        pool_size = (2, 2)\n",
        "    )(conv3)\n",
        "\n",
        "    conv4 = tfkl.Conv2D(\n",
        "        filters=64,\n",
        "        kernel_size=(2, 2),\n",
        "        strides = (1, 1),\n",
        "        padding = 'same',\n",
        "        activation = 'relu',\n",
        "        kernel_initializer = tfk.initializers.GlorotUniform(seed)\n",
        "    )(pool3)\n",
        "    conv4_2 = tfkl.Conv2D(\n",
        "        filters=64,\n",
        "        kernel_size=(2, 2),\n",
        "        strides = (1, 1),\n",
        "        padding = 'same',\n",
        "        activation = 'relu',\n",
        "        kernel_initializer = tfk.initializers.GlorotUniform(seed)\n",
        "    )(conv4)\n",
        "    pool4 = tfkl.MaxPooling2D(\n",
        "        pool_size = (2, 2)\n",
        "    )(conv4_2)\n",
        "\n",
        "    conv5 = tfkl.Conv2D(\n",
        "        filters=128,\n",
        "        kernel_size=(2, 2),\n",
        "        strides = (1, 1),\n",
        "        padding = 'same',\n",
        "        activation = 'relu',\n",
        "        kernel_initializer = tfk.initializers.GlorotUniform(seed)\n",
        "    )(pool4)\n",
        "    pool5 = tfkl.MaxPooling2D(\n",
        "        pool_size = (2, 2)\n",
        "    )(conv5)\n",
        "\n",
        "    conv6 = tfkl.Conv2D(\n",
        "        filters=256,\n",
        "        kernel_size=(1, 1),\n",
        "        strides = (1, 1),\n",
        "        padding = 'same',\n",
        "        activation = 'relu',\n",
        "        kernel_initializer = tfk.initializers.GlorotUniform(seed)\n",
        "    )(pool5)\n",
        "    \n",
        "\n",
        "    global_average = tfkl.GlobalAveragePooling2D(name = 'GAP')(conv6)\n",
        "    global_average = tfkl.Dropout(0.3, seed=seed)(global_average)\n",
        "    \n",
        "    classifier_layer = tfkl.Dense(units=32, name='Classifier', activation='relu')(global_average)\n",
        "    #flattening_layer = tfkl.Flatten(name='Flatten')(pool5)\n",
        "    #flattening_layer = tfkl.Dropout(0.2, seed=seed)(flattening_layer)\n",
        "    #classifier_layer = tfkl.Dense(units=64, name='Classifier', activation='relu')(flattening_layer)\n",
        "    \n",
        "    classifier_layer = tfkl.Dropout(0.3, seed=seed)(classifier_layer)\n",
        "    classifier_layer_2 = tfkl.Dense(units=16, name='Classifier_2', activation='relu')(classifier_layer)\n",
        "    classifier_layer_2 = tfkl.Dropout(0.25, seed=seed)(classifier_layer_2)\n",
        "    output_layer = tfkl.Dense(units=n_units, activation='softmax', name='Output')(classifier_layer_2)\n",
        "\n",
        "    # Connect input and output through the Model class\n",
        "    model = tfk.Model(inputs=input_layer, outputs=output_layer, name='model')\n",
        "\n",
        "    # Compile the model\n",
        "    model.compile(loss=tfk.losses.CategoricalCrossentropy(), optimizer=tfk.optimizers.Adam(), metrics='accuracy')\n",
        "\n",
        "    # Return the model\n",
        "\n",
        "    return model"
      ],
      "metadata": {
        "id": "lR2QkBoSQ8lW"
      },
      "execution_count": 7,
      "outputs": []
    },
    {
      "cell_type": "code",
      "source": [
        "input_shape = (128, 2559, 1)\n",
        "\n",
        "model = build_model(input_shape, n_genres)\n",
        "\n",
        "model.summary()"
      ],
      "metadata": {
        "id": "zIitkAlGQ-mM",
        "colab": {
          "base_uri": "https://localhost:8080/"
        },
        "outputId": "c2b45b43-3fdf-4aee-89c3-2b8e1d3cefc5"
      },
      "execution_count": 8,
      "outputs": [
        {
          "output_type": "stream",
          "name": "stdout",
          "text": [
            "Model: \"model\"\n",
            "_________________________________________________________________\n",
            " Layer (type)                Output Shape              Param #   \n",
            "=================================================================\n",
            " Input (InputLayer)          [(None, 128, 2559, 1)]    0         \n",
            "                                                                 \n",
            " conv2d (Conv2D)             (None, 128, 2559, 4)      40        \n",
            "                                                                 \n",
            " conv2d_1 (Conv2D)           (None, 128, 2559, 8)      136       \n",
            "                                                                 \n",
            " max_pooling2d (MaxPooling2D  (None, 64, 1279, 8)      0         \n",
            " )                                                               \n",
            "                                                                 \n",
            " conv2d_2 (Conv2D)           (None, 64, 1279, 16)      1168      \n",
            "                                                                 \n",
            " max_pooling2d_1 (MaxPooling  (None, 32, 639, 16)      0         \n",
            " 2D)                                                             \n",
            "                                                                 \n",
            " conv2d_3 (Conv2D)           (None, 32, 639, 32)       4640      \n",
            "                                                                 \n",
            " max_pooling2d_2 (MaxPooling  (None, 16, 319, 32)      0         \n",
            " 2D)                                                             \n",
            "                                                                 \n",
            " conv2d_4 (Conv2D)           (None, 16, 319, 64)       8256      \n",
            "                                                                 \n",
            " conv2d_5 (Conv2D)           (None, 16, 319, 64)       16448     \n",
            "                                                                 \n",
            " max_pooling2d_3 (MaxPooling  (None, 8, 159, 64)       0         \n",
            " 2D)                                                             \n",
            "                                                                 \n",
            " conv2d_6 (Conv2D)           (None, 8, 159, 128)       32896     \n",
            "                                                                 \n",
            " max_pooling2d_4 (MaxPooling  (None, 4, 79, 128)       0         \n",
            " 2D)                                                             \n",
            "                                                                 \n",
            " conv2d_7 (Conv2D)           (None, 4, 79, 256)        33024     \n",
            "                                                                 \n",
            " GAP (GlobalAveragePooling2D  (None, 256)              0         \n",
            " )                                                               \n",
            "                                                                 \n",
            " dropout (Dropout)           (None, 256)               0         \n",
            "                                                                 \n",
            " Classifier (Dense)          (None, 32)                8224      \n",
            "                                                                 \n",
            " dropout_1 (Dropout)         (None, 32)                0         \n",
            "                                                                 \n",
            " Classifier_2 (Dense)        (None, 16)                528       \n",
            "                                                                 \n",
            " dropout_2 (Dropout)         (None, 16)                0         \n",
            "                                                                 \n",
            " Output (Dense)              (None, 2)                 34        \n",
            "                                                                 \n",
            "=================================================================\n",
            "Total params: 105,394\n",
            "Trainable params: 105,394\n",
            "Non-trainable params: 0\n",
            "_________________________________________________________________\n"
          ]
        }
      ]
    },
    {
      "cell_type": "code",
      "source": [
        "early_stopping = tfk.callbacks.EarlyStopping(monitor='val_loss', mode='min', patience=20, restore_best_weights=True)\n",
        "adaptive_LR = tfk.callbacks.ReduceLROnPlateau(monitor='val_loss', mode='min', patience=5, factor=0.5, min_lr=1e-4)\n",
        "\n",
        "standard_history = model.fit(\n",
        "    x = X_train,\n",
        "    y = Y_train,\n",
        "    epochs = 500,\n",
        "    batch_size = 20,\n",
        "    validation_data= (X_valid, Y_valid),\n",
        "    callbacks = [early_stopping, adaptive_LR]\n",
        "    )"
      ],
      "metadata": {
        "id": "yFUsDY6BRWi1",
        "colab": {
          "base_uri": "https://localhost:8080/"
        },
        "outputId": "a2038e6f-2e03-4c1d-afcb-f67acafaa325"
      },
      "execution_count": 9,
      "outputs": [
        {
          "output_type": "stream",
          "name": "stdout",
          "text": [
            "Epoch 1/500\n",
            "7/7 [==============================] - 14s 274ms/step - loss: 0.7385 - accuracy: 0.5429 - val_loss: 0.6832 - val_accuracy: 0.5000 - lr: 0.0010\n",
            "Epoch 2/500\n",
            "7/7 [==============================] - 1s 218ms/step - loss: 0.7168 - accuracy: 0.5000 - val_loss: 0.6723 - val_accuracy: 0.5000 - lr: 0.0010\n",
            "Epoch 3/500\n",
            "7/7 [==============================] - 1s 219ms/step - loss: 0.6489 - accuracy: 0.6357 - val_loss: 0.6191 - val_accuracy: 0.9250 - lr: 0.0010\n",
            "Epoch 4/500\n",
            "7/7 [==============================] - 1s 218ms/step - loss: 0.6176 - accuracy: 0.6786 - val_loss: 0.4289 - val_accuracy: 0.9250 - lr: 0.0010\n",
            "Epoch 5/500\n",
            "7/7 [==============================] - 2s 219ms/step - loss: 0.5251 - accuracy: 0.7500 - val_loss: 0.2672 - val_accuracy: 0.9500 - lr: 0.0010\n",
            "Epoch 6/500\n",
            "7/7 [==============================] - 1s 216ms/step - loss: 0.4961 - accuracy: 0.8143 - val_loss: 0.5018 - val_accuracy: 0.7500 - lr: 0.0010\n",
            "Epoch 7/500\n",
            "7/7 [==============================] - 1s 218ms/step - loss: 0.4233 - accuracy: 0.8500 - val_loss: 0.3021 - val_accuracy: 0.8750 - lr: 0.0010\n",
            "Epoch 8/500\n",
            "7/7 [==============================] - 2s 244ms/step - loss: 0.4542 - accuracy: 0.8571 - val_loss: 0.2707 - val_accuracy: 0.9250 - lr: 0.0010\n",
            "Epoch 9/500\n",
            "7/7 [==============================] - 1s 218ms/step - loss: 0.3211 - accuracy: 0.9000 - val_loss: 0.1850 - val_accuracy: 0.9500 - lr: 0.0010\n",
            "Epoch 10/500\n",
            "7/7 [==============================] - 2s 221ms/step - loss: 0.3201 - accuracy: 0.8714 - val_loss: 0.1547 - val_accuracy: 0.9750 - lr: 0.0010\n",
            "Epoch 11/500\n",
            "7/7 [==============================] - 1s 217ms/step - loss: 0.2238 - accuracy: 0.9286 - val_loss: 0.1886 - val_accuracy: 0.9500 - lr: 0.0010\n",
            "Epoch 12/500\n",
            "7/7 [==============================] - 1s 218ms/step - loss: 0.2256 - accuracy: 0.9357 - val_loss: 0.0488 - val_accuracy: 0.9750 - lr: 0.0010\n",
            "Epoch 13/500\n",
            "7/7 [==============================] - 1s 217ms/step - loss: 0.3396 - accuracy: 0.8929 - val_loss: 0.0762 - val_accuracy: 1.0000 - lr: 0.0010\n",
            "Epoch 14/500\n",
            "7/7 [==============================] - 1s 217ms/step - loss: 0.1644 - accuracy: 0.9500 - val_loss: 0.3793 - val_accuracy: 0.8750 - lr: 0.0010\n",
            "Epoch 15/500\n",
            "7/7 [==============================] - 2s 243ms/step - loss: 0.3381 - accuracy: 0.9071 - val_loss: 0.1440 - val_accuracy: 0.9750 - lr: 0.0010\n",
            "Epoch 16/500\n",
            "7/7 [==============================] - 1s 216ms/step - loss: 0.2367 - accuracy: 0.9000 - val_loss: 0.1406 - val_accuracy: 1.0000 - lr: 0.0010\n",
            "Epoch 17/500\n",
            "7/7 [==============================] - 1s 214ms/step - loss: 0.1574 - accuracy: 0.9500 - val_loss: 0.1120 - val_accuracy: 0.9750 - lr: 0.0010\n",
            "Epoch 18/500\n",
            "7/7 [==============================] - 2s 221ms/step - loss: 0.1049 - accuracy: 0.9643 - val_loss: 0.0471 - val_accuracy: 0.9750 - lr: 5.0000e-04\n",
            "Epoch 19/500\n",
            "7/7 [==============================] - 2s 220ms/step - loss: 0.1415 - accuracy: 0.9571 - val_loss: 0.0479 - val_accuracy: 0.9750 - lr: 5.0000e-04\n",
            "Epoch 20/500\n",
            "7/7 [==============================] - 2s 218ms/step - loss: 0.0832 - accuracy: 0.9714 - val_loss: 0.0473 - val_accuracy: 0.9750 - lr: 5.0000e-04\n",
            "Epoch 21/500\n",
            "7/7 [==============================] - 1s 218ms/step - loss: 0.0828 - accuracy: 0.9857 - val_loss: 0.0474 - val_accuracy: 1.0000 - lr: 5.0000e-04\n",
            "Epoch 22/500\n",
            "7/7 [==============================] - 2s 219ms/step - loss: 0.0799 - accuracy: 0.9714 - val_loss: 0.0535 - val_accuracy: 0.9750 - lr: 5.0000e-04\n",
            "Epoch 23/500\n",
            "7/7 [==============================] - 2s 244ms/step - loss: 0.0745 - accuracy: 0.9643 - val_loss: 0.1164 - val_accuracy: 0.9750 - lr: 5.0000e-04\n",
            "Epoch 24/500\n",
            "7/7 [==============================] - 2s 223ms/step - loss: 0.0652 - accuracy: 0.9786 - val_loss: 0.1009 - val_accuracy: 0.9750 - lr: 2.5000e-04\n",
            "Epoch 25/500\n",
            "7/7 [==============================] - 2s 268ms/step - loss: 0.0598 - accuracy: 0.9786 - val_loss: 0.0378 - val_accuracy: 0.9750 - lr: 2.5000e-04\n",
            "Epoch 26/500\n",
            "7/7 [==============================] - 2s 235ms/step - loss: 0.0895 - accuracy: 0.9714 - val_loss: 0.0641 - val_accuracy: 0.9750 - lr: 2.5000e-04\n",
            "Epoch 27/500\n",
            "7/7 [==============================] - 2s 266ms/step - loss: 0.0565 - accuracy: 0.9857 - val_loss: 0.0204 - val_accuracy: 1.0000 - lr: 2.5000e-04\n",
            "Epoch 28/500\n",
            "7/7 [==============================] - 2s 223ms/step - loss: 0.0837 - accuracy: 0.9643 - val_loss: 0.0711 - val_accuracy: 0.9750 - lr: 2.5000e-04\n",
            "Epoch 29/500\n",
            "7/7 [==============================] - 1s 216ms/step - loss: 0.0304 - accuracy: 1.0000 - val_loss: 0.0801 - val_accuracy: 0.9750 - lr: 2.5000e-04\n",
            "Epoch 30/500\n",
            "7/7 [==============================] - 1s 216ms/step - loss: 0.0583 - accuracy: 0.9786 - val_loss: 0.1636 - val_accuracy: 0.9750 - lr: 2.5000e-04\n",
            "Epoch 31/500\n",
            "7/7 [==============================] - 2s 220ms/step - loss: 0.0767 - accuracy: 0.9643 - val_loss: 0.1689 - val_accuracy: 0.9750 - lr: 2.5000e-04\n",
            "Epoch 32/500\n",
            "7/7 [==============================] - 1s 217ms/step - loss: 0.0374 - accuracy: 0.9929 - val_loss: 0.0793 - val_accuracy: 0.9750 - lr: 2.5000e-04\n",
            "Epoch 33/500\n",
            "7/7 [==============================] - 1s 217ms/step - loss: 0.0287 - accuracy: 0.9857 - val_loss: 0.0757 - val_accuracy: 0.9750 - lr: 1.2500e-04\n",
            "Epoch 34/500\n",
            "7/7 [==============================] - 2s 246ms/step - loss: 0.0469 - accuracy: 0.9857 - val_loss: 0.1684 - val_accuracy: 0.9750 - lr: 1.2500e-04\n",
            "Epoch 35/500\n",
            "7/7 [==============================] - 2s 229ms/step - loss: 0.0430 - accuracy: 0.9857 - val_loss: 0.1298 - val_accuracy: 0.9750 - lr: 1.2500e-04\n",
            "Epoch 36/500\n",
            "7/7 [==============================] - 2s 267ms/step - loss: 0.0263 - accuracy: 0.9857 - val_loss: 0.0908 - val_accuracy: 0.9750 - lr: 1.2500e-04\n",
            "Epoch 37/500\n",
            "7/7 [==============================] - 2s 223ms/step - loss: 0.0277 - accuracy: 1.0000 - val_loss: 0.0813 - val_accuracy: 0.9750 - lr: 1.2500e-04\n",
            "Epoch 38/500\n",
            "7/7 [==============================] - 2s 243ms/step - loss: 0.0350 - accuracy: 0.9857 - val_loss: 0.0840 - val_accuracy: 0.9750 - lr: 1.0000e-04\n",
            "Epoch 39/500\n",
            "7/7 [==============================] - 2s 244ms/step - loss: 0.0403 - accuracy: 0.9929 - val_loss: 0.0887 - val_accuracy: 0.9750 - lr: 1.0000e-04\n",
            "Epoch 40/500\n",
            "7/7 [==============================] - 2s 245ms/step - loss: 0.0360 - accuracy: 0.9929 - val_loss: 0.0590 - val_accuracy: 0.9750 - lr: 1.0000e-04\n",
            "Epoch 41/500\n",
            "7/7 [==============================] - 2s 219ms/step - loss: 0.0463 - accuracy: 0.9857 - val_loss: 0.1033 - val_accuracy: 0.9750 - lr: 1.0000e-04\n",
            "Epoch 42/500\n",
            "7/7 [==============================] - 1s 216ms/step - loss: 0.0323 - accuracy: 1.0000 - val_loss: 0.0678 - val_accuracy: 0.9750 - lr: 1.0000e-04\n",
            "Epoch 43/500\n",
            "7/7 [==============================] - 2s 219ms/step - loss: 0.0233 - accuracy: 1.0000 - val_loss: 0.0377 - val_accuracy: 0.9750 - lr: 1.0000e-04\n",
            "Epoch 44/500\n",
            "7/7 [==============================] - 1s 218ms/step - loss: 0.0508 - accuracy: 0.9857 - val_loss: 0.0482 - val_accuracy: 0.9750 - lr: 1.0000e-04\n",
            "Epoch 45/500\n",
            "7/7 [==============================] - 2s 226ms/step - loss: 0.0263 - accuracy: 1.0000 - val_loss: 0.0683 - val_accuracy: 0.9750 - lr: 1.0000e-04\n",
            "Epoch 46/500\n",
            "7/7 [==============================] - 1s 219ms/step - loss: 0.0270 - accuracy: 0.9857 - val_loss: 0.0824 - val_accuracy: 0.9750 - lr: 1.0000e-04\n",
            "Epoch 47/500\n",
            "7/7 [==============================] - 2s 221ms/step - loss: 0.0182 - accuracy: 0.9929 - val_loss: 0.0667 - val_accuracy: 0.9750 - lr: 1.0000e-04\n"
          ]
        }
      ]
    },
    {
      "cell_type": "code",
      "source": [
        "predictions = model.predict(X_test)\n",
        "\n",
        "# Compute the confusion matrix\n",
        "cm = confusion_matrix(np.argmax(Y_test, axis=-1), np.argmax(predictions, axis=-1))\n",
        "\n",
        "# Compute the classification metrics\n",
        "accuracy = accuracy_score(np.argmax(Y_test, axis=-1), np.argmax(predictions, axis=-1))\n",
        "precision = precision_score(np.argmax(Y_test, axis=-1), np.argmax(predictions, axis=-1), average='macro')\n",
        "recall = recall_score(np.argmax(Y_test, axis=-1), np.argmax(predictions, axis=-1), average='macro')\n",
        "f1 = f1_score(np.argmax(Y_test, axis=-1), np.argmax(predictions, axis=-1), average='macro')\n",
        "print('Accuracy:',accuracy.round(4))\n",
        "print('Precision:',precision.round(4))\n",
        "print('Recall:',recall.round(4))\n",
        "print('F1:',f1.round(4))\n",
        "\n",
        "# Plot the confusion matrix\n",
        "plt.figure(figsize=(10,8))\n",
        "sns.heatmap(cm.T)#, xticklabels=list(labels.values()), yticklabels=list(labels.values()))\n",
        "plt.xlabel('True labels')\n",
        "plt.ylabel('Predicted labels')\n",
        "plt.show()"
      ],
      "metadata": {
        "id": "6Xlmj6RaRRvk",
        "colab": {
          "base_uri": "https://localhost:8080/",
          "height": 573
        },
        "outputId": "8cb87e48-1c26-4273-9b44-854bd15a4ca4"
      },
      "execution_count": 10,
      "outputs": [
        {
          "output_type": "stream",
          "name": "stdout",
          "text": [
            "Accuracy: 1.0\n",
            "Precision: 1.0\n",
            "Recall: 1.0\n",
            "F1: 1.0\n"
          ]
        },
        {
          "output_type": "display_data",
          "data": {
            "text/plain": [
              "<Figure size 720x576 with 2 Axes>"
            ],
            "image/png": "[encoded data removed]"
          },
          "metadata": {
            "needs_background": "light"
          }
        }
      ]
    },
    {
      "cell_type": "code",
      "source": [
        "model.save('/gdrive/MyDrive/polimi/NAML/NAML_proj/models/metalvclassical/metalvsclassical')"
      ],
      "metadata": {
        "colab": {
          "base_uri": "https://localhost:8080/"
        },
        "id": "SO-HKBQc9I7r",
        "outputId": "7d3b0126-e8f5-4e1e-9147-54fca9384df5"
      },
      "execution_count": 11,
      "outputs": [
        {
          "output_type": "stream",
          "name": "stderr",
          "text": [
            "WARNING:absl:Function `_wrapped_model` contains input name(s) Input with unsupported characters which will be renamed to input in the SavedModel.\n"
          ]
        },
        {
          "output_type": "stream",
          "name": "stdout",
          "text": [
            "INFO:tensorflow:Assets written to: /gdrive/MyDrive/polimi/NAML/NAML_proj/models/metalvclassical/metalvsclassical/assets\n"
          ]
        },
        {
          "output_type": "stream",
          "name": "stderr",
          "text": [
            "INFO:tensorflow:Assets written to: /gdrive/MyDrive/polimi/NAML/NAML_proj/models/metalvclassical/metalvsclassical/assets\n"
          ]
        }
      ]
    }
  ]
}