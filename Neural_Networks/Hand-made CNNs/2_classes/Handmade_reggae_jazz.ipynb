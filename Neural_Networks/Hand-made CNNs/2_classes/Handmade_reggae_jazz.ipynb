{
  "nbformat": 4,
  "nbformat_minor": 0,
  "metadata": {
    "colab": {
      "name": "Handmade_reggae_jazz.ipynb",
      "provenance": []
    },
    "kernelspec": {
      "name": "python3",
      "display_name": "Python 3"
    },
    "language_info": {
      "name": "python"
    },
    "accelerator": "GPU"
  },
  "cells": [
    {
      "cell_type": "markdown",
      "source": [
        "## Black Box Approach for 2 genres classification - Reggae vs Jazz\n",
        "\n",
        "We aim at training a Neural Network to distinguish between two genres: reggae and jazz."
      ],
      "metadata": {
        "id": "gKB_Sss8Ql-3"
      }
    },
    {
      "cell_type": "code",
      "execution_count": 1,
      "metadata": {
        "id": "SwPJ54sBQlFO",
        "colab": {
          "base_uri": "https://localhost:8080/"
        },
        "outputId": "432f10d5-8a7b-4908-fe5f-206234f84cff"
      },
      "outputs": [
        {
          "output_type": "stream",
          "name": "stdout",
          "text": [
            "Mounted at /gdrive\n"
          ]
        }
      ],
      "source": [
        "#importing google drive\n",
        "from google.colab import drive\n",
        "drive.mount('/gdrive')"
      ]
    },
    {
      "cell_type": "code",
      "source": [
        "#setting the working directory\n",
        "%cd /gdrive/MyDrive/polimi/NAML/NAML_proj/"
      ],
      "metadata": {
        "id": "iYHj7NhnQs_-",
        "colab": {
          "base_uri": "https://localhost:8080/"
        },
        "outputId": "cce69e61-03f1-423c-8d06-836ecee20ef0"
      },
      "execution_count": 2,
      "outputs": [
        {
          "output_type": "stream",
          "name": "stdout",
          "text": [
            "/gdrive/MyDrive/polimi/NAML/NAML_proj\n"
          ]
        }
      ]
    },
    {
      "cell_type": "code",
      "source": [
        "import tensorflow as tf\n",
        "from PIL import Image\n",
        "import numpy as np\n",
        "import os\n",
        "import random\n",
        "import seaborn as sns\n",
        "import matplotlib as mpl\n",
        "import matplotlib.pyplot as plt\n",
        "from sklearn.model_selection import train_test_split\n",
        "from sklearn.metrics import accuracy_score, f1_score, precision_score, recall_score\n",
        "from sklearn.metrics import confusion_matrix\n",
        "import librosa\n",
        "import os\n",
        "\n",
        "tfk = tf.keras\n",
        "tfkl = tf.keras.layers\n",
        "seed = 42"
      ],
      "metadata": {
        "id": "INc4ttEUQuxN"
      },
      "execution_count": 3,
      "outputs": []
    },
    {
      "cell_type": "markdown",
      "source": [
        "The dataset is composed of Mel-Spectrograms of each audio sample, labeled with respect to each genre"
      ],
      "metadata": {
        "id": "IoV9bIbPfg55"
      }
    },
    {
      "cell_type": "code",
      "source": [
        "dataset = []\n",
        "#genres = {'blues': 0, 'classical': 1, 'country': 2, 'disco': 3, 'hiphop': 4, 'jazz': 5, 'metal': 6, 'pop': 7, 'reggae': 8, 'rock': 9}\n",
        "genres = {'reggae': 0, 'jazz': 1}\n",
        "n_genres = 2\n",
        "\n",
        "for genre, genre_number in genres.items():\n",
        "    for filename in os.listdir(f'dataset_old/genres/{genre}'):\n",
        "        songname = f'dataset_old/genres/{genre}/{filename}'\n",
        "        y, sr = librosa.load(songname, mono=True, duration=29.7)\n",
        "        ps = librosa.feature.melspectrogram(y=y, sr=sr, hop_length = 256, n_fft = 512)\n",
        "        ps = librosa.power_to_db(ps**2)\n",
        "        dataset.append( (ps, genre_number) )\n",
        "    print(str(genre+' done'))"
      ],
      "metadata": {
        "id": "oiT5mkVqQ_lt",
        "colab": {
          "base_uri": "https://localhost:8080/"
        },
        "outputId": "e773261b-6e29-41e9-ae10-f1067c4fa7e9"
      },
      "execution_count": 4,
      "outputs": [
        {
          "output_type": "stream",
          "name": "stdout",
          "text": [
            "reggae done\n",
            "jazz done\n"
          ]
        }
      ]
    },
    {
      "cell_type": "markdown",
      "source": [
        "We split the dataset according to the following composition:\n",
        "\n",
        "\n",
        "*   70% training set\n",
        "*   20% validation set\n",
        "*   10% test set\n",
        "\n",
        "Maintaining equal proportions amongst classes\n",
        "\n"
      ],
      "metadata": {
        "id": "0sgOQfv-gZ04"
      }
    },
    {
      "cell_type": "code",
      "source": [
        "order = np.arange(start = 0, stop = 100, step = 1)\n",
        "\n",
        "np.random.seed(seed)\n",
        "\n",
        "training = []\n",
        "validation = []\n",
        "test = []\n",
        "\n",
        "for i in range(n_genres):\n",
        "  shuffle = np.random.permutation(order)\n",
        "  for k in range(70):\n",
        "    training.append(dataset[i*100 + shuffle[k]])\n",
        "  for l in range(20):\n",
        "    validation.append(dataset[i*100 + shuffle[l+70]])\n",
        "  for m in range(10):\n",
        "    test.append(dataset[i*100 + shuffle[m+90]])"
      ],
      "metadata": {
        "id": "OSUK8JPgRFVF"
      },
      "execution_count": 5,
      "outputs": []
    },
    {
      "cell_type": "code",
      "source": [
        "X_train, Y_train = zip(*training)\n",
        "X_valid, Y_valid = zip(*validation)\n",
        "X_test, Y_test = zip(*test)\n",
        "\n",
        "X_train = np.array([x.reshape( (128, 2559, 1) ) for x in X_train])\n",
        "X_valid = np.array([x.reshape( (128, 2559, 1) ) for x in X_valid])\n",
        "X_test = np.array([x.reshape( (128, 2559, 1) ) for x in X_test])\n",
        "\n",
        "Y_train = np.array(tfk.utils.to_categorical(Y_train, n_genres))\n",
        "Y_valid = np.array(tfk.utils.to_categorical(Y_valid, n_genres))\n",
        "Y_test = np.array(tfk.utils.to_categorical(Y_test, n_genres))"
      ],
      "metadata": {
        "id": "WA29NV-URMuG"
      },
      "execution_count": 6,
      "outputs": []
    },
    {
      "cell_type": "markdown",
      "source": [
        "The proposed model is composed as a stack of convolutional layer, followed by a Global Average Pooling layer leading to a fully connected section.\n",
        "\n",
        "Optimization is performed as a Batch version of Adam optimizer algorithm"
      ],
      "metadata": {
        "id": "O6AvTMw2hgxB"
      }
    },
    {
      "cell_type": "code",
      "source": [
        "def build_model(input_shape, n_units):\n",
        "# Build the neural network layer by layer\n",
        "    input_layer = tfkl.Input(shape=input_shape, name='Input')\n",
        "\n",
        "    conv1 = tfkl.Conv2D(\n",
        "        filters=4,\n",
        "        kernel_size=(3, 3),\n",
        "        strides = (1, 1),\n",
        "        padding = 'same',\n",
        "        activation = 'relu',\n",
        "        kernel_initializer = tfk.initializers.GlorotUniform(seed)\n",
        "    )(input_layer)\n",
        "    conv1_2 = tfkl.Conv2D(\n",
        "        filters=8,\n",
        "        kernel_size=(2, 2),\n",
        "        strides = (1, 1),\n",
        "        padding = 'same',\n",
        "        activation = 'relu',\n",
        "        kernel_initializer = tfk.initializers.GlorotUniform(seed)\n",
        "    )(conv1)\n",
        "    pool1 = tfkl.MaxPooling2D(\n",
        "        pool_size = (2, 2)\n",
        "    )(conv1_2)\n",
        "\n",
        "    conv2 = tfkl.Conv2D(\n",
        "        filters=16,\n",
        "        kernel_size=(3, 3),\n",
        "        strides = (1, 1),\n",
        "        padding = 'same',\n",
        "        activation = 'relu',\n",
        "        kernel_initializer = tfk.initializers.GlorotUniform(seed)\n",
        "    )(pool1)\n",
        "    pool2 = tfkl.MaxPooling2D(\n",
        "        pool_size = (2, 2)\n",
        "    )(conv2)\n",
        "\n",
        "    conv3 = tfkl.Conv2D(\n",
        "        filters=32,\n",
        "        kernel_size=(3, 3),\n",
        "        strides = (1, 1),\n",
        "        padding = 'same',\n",
        "        activation = 'relu',\n",
        "        kernel_initializer = tfk.initializers.GlorotUniform(seed)\n",
        "    )(pool2)\n",
        "    pool3 = tfkl.MaxPooling2D(\n",
        "        pool_size = (2, 2)\n",
        "    )(conv3)\n",
        "\n",
        "    conv4 = tfkl.Conv2D(\n",
        "        filters=64,\n",
        "        kernel_size=(2, 2),\n",
        "        strides = (1, 1),\n",
        "        padding = 'same',\n",
        "        activation = 'relu',\n",
        "        kernel_initializer = tfk.initializers.GlorotUniform(seed)\n",
        "    )(pool3)\n",
        "    conv4_2 = tfkl.Conv2D(\n",
        "        filters=64,\n",
        "        kernel_size=(2, 2),\n",
        "        strides = (1, 1),\n",
        "        padding = 'same',\n",
        "        activation = 'relu',\n",
        "        kernel_initializer = tfk.initializers.GlorotUniform(seed)\n",
        "    )(conv4)\n",
        "    pool4 = tfkl.MaxPooling2D(\n",
        "        pool_size = (2, 2)\n",
        "    )(conv4_2)\n",
        "\n",
        "    conv5 = tfkl.Conv2D(\n",
        "        filters=128,\n",
        "        kernel_size=(2, 2),\n",
        "        strides = (1, 1),\n",
        "        padding = 'same',\n",
        "        activation = 'relu',\n",
        "        kernel_initializer = tfk.initializers.GlorotUniform(seed)\n",
        "    )(pool4)\n",
        "    pool5 = tfkl.MaxPooling2D(\n",
        "        pool_size = (2, 2)\n",
        "    )(conv5)\n",
        "\n",
        "    conv6 = tfkl.Conv2D(\n",
        "        filters=286,\n",
        "        kernel_size=(1, 1),\n",
        "        strides = (1, 1),\n",
        "        padding = 'same',\n",
        "        activation = 'relu',\n",
        "        kernel_initializer = tfk.initializers.GlorotUniform(seed)\n",
        "    )(pool5)\n",
        "    \n",
        "\n",
        "    global_average = tfkl.GlobalAveragePooling2D(name = 'GAP')(conv6)\n",
        "    global_average = tfkl.Dropout(0.3, seed=seed)(global_average)\n",
        "    \n",
        "    classifier_layer = tfkl.Dense(units=64, name='Classifier', activation='relu')(global_average)\n",
        "    #flattening_layer = tfkl.Flatten(name='Flatten')(pool5)\n",
        "    #flattening_layer = tfkl.Dropout(0.2, seed=seed)(flattening_layer)\n",
        "    #classifier_layer = tfkl.Dense(units=64, name='Classifier', activation='relu')(flattening_layer)\n",
        "    \n",
        "    classifier_layer = tfkl.Dropout(0.3, seed=seed)(classifier_layer)\n",
        "    classifier_layer_2 = tfkl.Dense(units=32, name='Classifier_2', activation='relu')(classifier_layer)\n",
        "    classifier_layer_2 = tfkl.Dropout(0.25, seed=seed)(classifier_layer_2)\n",
        "    output_layer = tfkl.Dense(units=n_units, activation='softmax', name='Output')(classifier_layer_2)\n",
        "\n",
        "    # Connect input and output through the Model class\n",
        "    model = tfk.Model(inputs=input_layer, outputs=output_layer, name='model')\n",
        "\n",
        "    # Compile the model\n",
        "    model.compile(loss=tfk.losses.CategoricalCrossentropy(), optimizer=tfk.optimizers.Adam(), metrics='accuracy')\n",
        "\n",
        "    # Return the model\n",
        "\n",
        "    return model"
      ],
      "metadata": {
        "id": "lR2QkBoSQ8lW"
      },
      "execution_count": 7,
      "outputs": []
    },
    {
      "cell_type": "code",
      "source": [
        "input_shape = (128, 2559, 1)\n",
        "\n",
        "model = build_model(input_shape, n_genres)\n",
        "\n",
        "model.summary()"
      ],
      "metadata": {
        "id": "zIitkAlGQ-mM",
        "colab": {
          "base_uri": "https://localhost:8080/"
        },
        "outputId": "e08205e3-9c82-4255-9e32-0857988dc644"
      },
      "execution_count": 8,
      "outputs": [
        {
          "output_type": "stream",
          "name": "stdout",
          "text": [
            "Model: \"model\"\n",
            "_________________________________________________________________\n",
            " Layer (type)                Output Shape              Param #   \n",
            "=================================================================\n",
            " Input (InputLayer)          [(None, 128, 2559, 1)]    0         \n",
            "                                                                 \n",
            " conv2d (Conv2D)             (None, 128, 2559, 4)      40        \n",
            "                                                                 \n",
            " conv2d_1 (Conv2D)           (None, 128, 2559, 8)      136       \n",
            "                                                                 \n",
            " max_pooling2d (MaxPooling2D  (None, 64, 1279, 8)      0         \n",
            " )                                                               \n",
            "                                                                 \n",
            " conv2d_2 (Conv2D)           (None, 64, 1279, 16)      1168      \n",
            "                                                                 \n",
            " max_pooling2d_1 (MaxPooling  (None, 32, 639, 16)      0         \n",
            " 2D)                                                             \n",
            "                                                                 \n",
            " conv2d_3 (Conv2D)           (None, 32, 639, 32)       4640      \n",
            "                                                                 \n",
            " max_pooling2d_2 (MaxPooling  (None, 16, 319, 32)      0         \n",
            " 2D)                                                             \n",
            "                                                                 \n",
            " conv2d_4 (Conv2D)           (None, 16, 319, 64)       8256      \n",
            "                                                                 \n",
            " conv2d_5 (Conv2D)           (None, 16, 319, 64)       16448     \n",
            "                                                                 \n",
            " max_pooling2d_3 (MaxPooling  (None, 8, 159, 64)       0         \n",
            " 2D)                                                             \n",
            "                                                                 \n",
            " conv2d_6 (Conv2D)           (None, 8, 159, 128)       32896     \n",
            "                                                                 \n",
            " max_pooling2d_4 (MaxPooling  (None, 4, 79, 128)       0         \n",
            " 2D)                                                             \n",
            "                                                                 \n",
            " conv2d_7 (Conv2D)           (None, 4, 79, 286)        36894     \n",
            "                                                                 \n",
            " GAP (GlobalAveragePooling2D  (None, 286)              0         \n",
            " )                                                               \n",
            "                                                                 \n",
            " dropout (Dropout)           (None, 286)               0         \n",
            "                                                                 \n",
            " Classifier (Dense)          (None, 64)                18368     \n",
            "                                                                 \n",
            " dropout_1 (Dropout)         (None, 64)                0         \n",
            "                                                                 \n",
            " Classifier_2 (Dense)        (None, 32)                2080      \n",
            "                                                                 \n",
            " dropout_2 (Dropout)         (None, 32)                0         \n",
            "                                                                 \n",
            " Output (Dense)              (None, 2)                 66        \n",
            "                                                                 \n",
            "=================================================================\n",
            "Total params: 120,992\n",
            "Trainable params: 120,992\n",
            "Non-trainable params: 0\n",
            "_________________________________________________________________\n"
          ]
        }
      ]
    },
    {
      "cell_type": "code",
      "source": [
        "early_stopping = tfk.callbacks.EarlyStopping(monitor='val_loss', mode='min', patience=20, restore_best_weights=True)\n",
        "adaptive_LR = tfk.callbacks.ReduceLROnPlateau(monitor='val_loss', mode='min', patience=5, factor=0.5, min_lr=1e-4)\n",
        "\n",
        "standard_history = model.fit(\n",
        "    x = X_train,\n",
        "    y = Y_train,\n",
        "    epochs = 500,\n",
        "    batch_size = 20,\n",
        "    validation_data= (X_valid, Y_valid),\n",
        "    callbacks = [early_stopping, adaptive_LR]\n",
        "    )"
      ],
      "metadata": {
        "id": "yFUsDY6BRWi1",
        "colab": {
          "base_uri": "https://localhost:8080/"
        },
        "outputId": "60fdefe2-97cc-45d6-8b83-8f20eb716014"
      },
      "execution_count": 9,
      "outputs": [
        {
          "output_type": "stream",
          "name": "stdout",
          "text": [
            "Epoch 1/500\n",
            "7/7 [==============================] - 14s 280ms/step - loss: 0.7269 - accuracy: 0.4429 - val_loss: 0.6848 - val_accuracy: 0.5000 - lr: 0.0010\n",
            "Epoch 2/500\n",
            "7/7 [==============================] - 2s 229ms/step - loss: 0.6936 - accuracy: 0.5429 - val_loss: 0.6858 - val_accuracy: 0.5000 - lr: 0.0010\n",
            "Epoch 3/500\n",
            "7/7 [==============================] - 2s 229ms/step - loss: 0.6843 - accuracy: 0.5571 - val_loss: 0.6850 - val_accuracy: 0.5000 - lr: 0.0010\n",
            "Epoch 4/500\n",
            "7/7 [==============================] - 2s 254ms/step - loss: 0.6994 - accuracy: 0.5071 - val_loss: 0.6819 - val_accuracy: 0.5000 - lr: 0.0010\n",
            "Epoch 5/500\n",
            "7/7 [==============================] - 2s 251ms/step - loss: 0.6946 - accuracy: 0.5214 - val_loss: 0.6854 - val_accuracy: 0.7500 - lr: 0.0010\n",
            "Epoch 6/500\n",
            "7/7 [==============================] - 2s 228ms/step - loss: 0.6908 - accuracy: 0.5571 - val_loss: 0.6843 - val_accuracy: 0.7500 - lr: 0.0010\n",
            "Epoch 7/500\n",
            "7/7 [==============================] - 2s 227ms/step - loss: 0.6762 - accuracy: 0.6571 - val_loss: 0.6745 - val_accuracy: 0.5000 - lr: 0.0010\n",
            "Epoch 8/500\n",
            "7/7 [==============================] - 2s 237ms/step - loss: 0.6880 - accuracy: 0.5000 - val_loss: 0.6694 - val_accuracy: 0.5000 - lr: 0.0010\n",
            "Epoch 9/500\n",
            "7/7 [==============================] - 2s 253ms/step - loss: 0.6864 - accuracy: 0.5000 - val_loss: 0.6867 - val_accuracy: 0.5000 - lr: 0.0010\n",
            "Epoch 10/500\n",
            "7/7 [==============================] - 2s 228ms/step - loss: 0.6892 - accuracy: 0.5857 - val_loss: 0.6795 - val_accuracy: 0.7250 - lr: 0.0010\n",
            "Epoch 11/500\n",
            "7/7 [==============================] - 2s 231ms/step - loss: 0.6894 - accuracy: 0.5143 - val_loss: 0.6631 - val_accuracy: 0.5250 - lr: 0.0010\n",
            "Epoch 12/500\n",
            "7/7 [==============================] - 2s 230ms/step - loss: 0.6540 - accuracy: 0.5571 - val_loss: 0.6403 - val_accuracy: 0.6000 - lr: 0.0010\n",
            "Epoch 13/500\n",
            "7/7 [==============================] - 2s 228ms/step - loss: 0.6330 - accuracy: 0.5714 - val_loss: 0.5815 - val_accuracy: 0.8250 - lr: 0.0010\n",
            "Epoch 14/500\n",
            "7/7 [==============================] - 2s 230ms/step - loss: 0.5754 - accuracy: 0.7429 - val_loss: 0.4665 - val_accuracy: 0.8500 - lr: 0.0010\n",
            "Epoch 15/500\n",
            "7/7 [==============================] - 2s 256ms/step - loss: 0.4234 - accuracy: 0.8357 - val_loss: 0.5154 - val_accuracy: 0.7250 - lr: 0.0010\n",
            "Epoch 16/500\n",
            "7/7 [==============================] - 2s 231ms/step - loss: 0.5263 - accuracy: 0.8214 - val_loss: 0.3718 - val_accuracy: 0.8250 - lr: 0.0010\n",
            "Epoch 17/500\n",
            "7/7 [==============================] - 2s 230ms/step - loss: 0.4494 - accuracy: 0.8500 - val_loss: 0.4228 - val_accuracy: 0.8250 - lr: 0.0010\n",
            "Epoch 18/500\n",
            "7/7 [==============================] - 2s 228ms/step - loss: 0.3535 - accuracy: 0.8929 - val_loss: 0.4327 - val_accuracy: 0.8750 - lr: 0.0010\n",
            "Epoch 19/500\n",
            "7/7 [==============================] - 2s 227ms/step - loss: 0.3296 - accuracy: 0.9000 - val_loss: 0.4576 - val_accuracy: 0.8000 - lr: 0.0010\n",
            "Epoch 20/500\n",
            "7/7 [==============================] - 2s 232ms/step - loss: 0.2933 - accuracy: 0.9071 - val_loss: 0.3316 - val_accuracy: 0.8750 - lr: 0.0010\n",
            "Epoch 21/500\n",
            "7/7 [==============================] - 2s 233ms/step - loss: 0.3030 - accuracy: 0.9286 - val_loss: 0.3013 - val_accuracy: 0.8750 - lr: 0.0010\n",
            "Epoch 22/500\n",
            "7/7 [==============================] - 2s 230ms/step - loss: 0.2311 - accuracy: 0.9214 - val_loss: 0.3569 - val_accuracy: 0.8750 - lr: 0.0010\n",
            "Epoch 23/500\n",
            "7/7 [==============================] - 2s 254ms/step - loss: 0.1737 - accuracy: 0.9429 - val_loss: 0.3369 - val_accuracy: 0.8750 - lr: 0.0010\n",
            "Epoch 24/500\n",
            "7/7 [==============================] - 2s 230ms/step - loss: 0.1102 - accuracy: 0.9714 - val_loss: 0.3877 - val_accuracy: 0.9000 - lr: 0.0010\n",
            "Epoch 25/500\n",
            "7/7 [==============================] - 2s 231ms/step - loss: 0.2925 - accuracy: 0.9071 - val_loss: 0.4017 - val_accuracy: 0.8500 - lr: 0.0010\n",
            "Epoch 26/500\n",
            "7/7 [==============================] - 2s 233ms/step - loss: 0.2215 - accuracy: 0.9500 - val_loss: 0.2589 - val_accuracy: 0.9250 - lr: 0.0010\n",
            "Epoch 27/500\n",
            "7/7 [==============================] - 2s 232ms/step - loss: 0.2765 - accuracy: 0.9000 - val_loss: 0.2607 - val_accuracy: 0.9000 - lr: 0.0010\n",
            "Epoch 28/500\n",
            "7/7 [==============================] - 2s 232ms/step - loss: 0.1994 - accuracy: 0.9143 - val_loss: 0.2901 - val_accuracy: 0.8750 - lr: 0.0010\n",
            "Epoch 29/500\n",
            "7/7 [==============================] - 2s 231ms/step - loss: 0.2012 - accuracy: 0.9429 - val_loss: 0.3404 - val_accuracy: 0.8250 - lr: 0.0010\n",
            "Epoch 30/500\n",
            "7/7 [==============================] - 2s 233ms/step - loss: 0.1464 - accuracy: 0.9714 - val_loss: 0.3952 - val_accuracy: 0.8750 - lr: 0.0010\n",
            "Epoch 31/500\n",
            "7/7 [==============================] - 2s 232ms/step - loss: 0.2038 - accuracy: 0.9357 - val_loss: 0.4741 - val_accuracy: 0.8250 - lr: 0.0010\n",
            "Epoch 32/500\n",
            "7/7 [==============================] - 2s 228ms/step - loss: 0.2075 - accuracy: 0.9429 - val_loss: 0.2652 - val_accuracy: 0.9000 - lr: 5.0000e-04\n",
            "Epoch 33/500\n",
            "7/7 [==============================] - 2s 232ms/step - loss: 0.1418 - accuracy: 0.9429 - val_loss: 0.2598 - val_accuracy: 0.9000 - lr: 5.0000e-04\n",
            "Epoch 34/500\n",
            "7/7 [==============================] - 2s 231ms/step - loss: 0.1041 - accuracy: 0.9643 - val_loss: 0.3285 - val_accuracy: 0.8750 - lr: 5.0000e-04\n",
            "Epoch 35/500\n",
            "7/7 [==============================] - 2s 229ms/step - loss: 0.0990 - accuracy: 0.9786 - val_loss: 0.2607 - val_accuracy: 0.9250 - lr: 5.0000e-04\n",
            "Epoch 36/500\n",
            "7/7 [==============================] - 2s 256ms/step - loss: 0.1137 - accuracy: 0.9786 - val_loss: 0.2622 - val_accuracy: 0.9250 - lr: 5.0000e-04\n",
            "Epoch 37/500\n",
            "7/7 [==============================] - 2s 232ms/step - loss: 0.1158 - accuracy: 0.9786 - val_loss: 0.2574 - val_accuracy: 0.9250 - lr: 2.5000e-04\n",
            "Epoch 38/500\n",
            "7/7 [==============================] - 2s 231ms/step - loss: 0.0942 - accuracy: 0.9786 - val_loss: 0.2681 - val_accuracy: 0.9000 - lr: 2.5000e-04\n",
            "Epoch 39/500\n",
            "7/7 [==============================] - 2s 257ms/step - loss: 0.0995 - accuracy: 0.9786 - val_loss: 0.2598 - val_accuracy: 0.9000 - lr: 2.5000e-04\n",
            "Epoch 40/500\n",
            "7/7 [==============================] - 2s 233ms/step - loss: 0.1216 - accuracy: 0.9857 - val_loss: 0.2459 - val_accuracy: 0.9000 - lr: 2.5000e-04\n",
            "Epoch 41/500\n",
            "7/7 [==============================] - 2s 233ms/step - loss: 0.1134 - accuracy: 0.9786 - val_loss: 0.2415 - val_accuracy: 0.9000 - lr: 2.5000e-04\n",
            "Epoch 42/500\n",
            "7/7 [==============================] - 2s 232ms/step - loss: 0.0775 - accuracy: 0.9857 - val_loss: 0.2358 - val_accuracy: 0.9250 - lr: 2.5000e-04\n",
            "Epoch 43/500\n",
            "7/7 [==============================] - 2s 229ms/step - loss: 0.1050 - accuracy: 0.9714 - val_loss: 0.2406 - val_accuracy: 0.9250 - lr: 2.5000e-04\n",
            "Epoch 44/500\n",
            "7/7 [==============================] - 2s 232ms/step - loss: 0.1012 - accuracy: 0.9786 - val_loss: 0.2637 - val_accuracy: 0.9000 - lr: 2.5000e-04\n",
            "Epoch 45/500\n",
            "7/7 [==============================] - 2s 230ms/step - loss: 0.0998 - accuracy: 0.9786 - val_loss: 0.2376 - val_accuracy: 0.9250 - lr: 2.5000e-04\n",
            "Epoch 46/500\n",
            "7/7 [==============================] - 2s 233ms/step - loss: 0.1053 - accuracy: 0.9857 - val_loss: 0.2433 - val_accuracy: 0.9000 - lr: 2.5000e-04\n",
            "Epoch 47/500\n",
            "7/7 [==============================] - 2s 282ms/step - loss: 0.0837 - accuracy: 0.9857 - val_loss: 0.2397 - val_accuracy: 0.9000 - lr: 2.5000e-04\n",
            "Epoch 48/500\n",
            "7/7 [==============================] - 2s 290ms/step - loss: 0.0858 - accuracy: 0.9857 - val_loss: 0.2437 - val_accuracy: 0.9000 - lr: 1.2500e-04\n",
            "Epoch 49/500\n",
            "7/7 [==============================] - 2s 277ms/step - loss: 0.0763 - accuracy: 0.9857 - val_loss: 0.2449 - val_accuracy: 0.9000 - lr: 1.2500e-04\n",
            "Epoch 50/500\n",
            "7/7 [==============================] - 2s 257ms/step - loss: 0.0942 - accuracy: 0.9857 - val_loss: 0.2478 - val_accuracy: 0.9000 - lr: 1.2500e-04\n",
            "Epoch 51/500\n",
            "7/7 [==============================] - 2s 232ms/step - loss: 0.0894 - accuracy: 0.9786 - val_loss: 0.2477 - val_accuracy: 0.9250 - lr: 1.2500e-04\n",
            "Epoch 52/500\n",
            "7/7 [==============================] - 2s 231ms/step - loss: 0.0853 - accuracy: 0.9857 - val_loss: 0.2480 - val_accuracy: 0.9250 - lr: 1.2500e-04\n",
            "Epoch 53/500\n",
            "7/7 [==============================] - 2s 228ms/step - loss: 0.0821 - accuracy: 0.9857 - val_loss: 0.2457 - val_accuracy: 0.9250 - lr: 1.0000e-04\n",
            "Epoch 54/500\n",
            "7/7 [==============================] - 2s 231ms/step - loss: 0.0937 - accuracy: 0.9857 - val_loss: 0.2488 - val_accuracy: 0.9250 - lr: 1.0000e-04\n",
            "Epoch 55/500\n",
            "7/7 [==============================] - 2s 231ms/step - loss: 0.0984 - accuracy: 0.9857 - val_loss: 0.2537 - val_accuracy: 0.9000 - lr: 1.0000e-04\n",
            "Epoch 56/500\n",
            "7/7 [==============================] - 2s 229ms/step - loss: 0.0707 - accuracy: 0.9857 - val_loss: 0.2528 - val_accuracy: 0.9000 - lr: 1.0000e-04\n",
            "Epoch 57/500\n",
            "7/7 [==============================] - 2s 255ms/step - loss: 0.0907 - accuracy: 0.9857 - val_loss: 0.2516 - val_accuracy: 0.9250 - lr: 1.0000e-04\n",
            "Epoch 58/500\n",
            "7/7 [==============================] - 2s 228ms/step - loss: 0.0824 - accuracy: 0.9857 - val_loss: 0.2523 - val_accuracy: 0.9000 - lr: 1.0000e-04\n",
            "Epoch 59/500\n",
            "7/7 [==============================] - 2s 231ms/step - loss: 0.0862 - accuracy: 0.9857 - val_loss: 0.2513 - val_accuracy: 0.9250 - lr: 1.0000e-04\n",
            "Epoch 60/500\n",
            "7/7 [==============================] - 2s 252ms/step - loss: 0.1006 - accuracy: 0.9714 - val_loss: 0.2369 - val_accuracy: 0.9250 - lr: 1.0000e-04\n",
            "Epoch 61/500\n",
            "7/7 [==============================] - 2s 229ms/step - loss: 0.0885 - accuracy: 0.9857 - val_loss: 0.2374 - val_accuracy: 0.9250 - lr: 1.0000e-04\n",
            "Epoch 62/500\n",
            "7/7 [==============================] - 2s 230ms/step - loss: 0.0882 - accuracy: 0.9857 - val_loss: 0.2376 - val_accuracy: 0.9250 - lr: 1.0000e-04\n"
          ]
        }
      ]
    },
    {
      "cell_type": "code",
      "source": [
        "predictions = model.predict(X_test)\n",
        "\n",
        "# Compute the confusion matrix\n",
        "cm = confusion_matrix(np.argmax(Y_test, axis=-1), np.argmax(predictions, axis=-1))\n",
        "\n",
        "# Compute the classification metrics\n",
        "accuracy = accuracy_score(np.argmax(Y_test, axis=-1), np.argmax(predictions, axis=-1))\n",
        "precision = precision_score(np.argmax(Y_test, axis=-1), np.argmax(predictions, axis=-1), average='macro')\n",
        "recall = recall_score(np.argmax(Y_test, axis=-1), np.argmax(predictions, axis=-1), average='macro')\n",
        "f1 = f1_score(np.argmax(Y_test, axis=-1), np.argmax(predictions, axis=-1), average='macro')\n",
        "print('Accuracy:',accuracy.round(4))\n",
        "print('Precision:',precision.round(4))\n",
        "print('Recall:',recall.round(4))\n",
        "print('F1:',f1.round(4))\n",
        "\n",
        "# Plot the confusion matrix\n",
        "plt.figure(figsize=(10,8))\n",
        "sns.heatmap(cm.T)#, xticklabels=list(labels.values()), yticklabels=list(labels.values()))\n",
        "plt.xlabel('True labels')\n",
        "plt.ylabel('Predicted labels')\n",
        "plt.show()"
      ],
      "metadata": {
        "id": "6Xlmj6RaRRvk",
        "colab": {
          "base_uri": "https://localhost:8080/",
          "height": 573
        },
        "outputId": "3776749a-f6ed-4c2a-9ac5-d4d826eb4c00"
      },
      "execution_count": 10,
      "outputs": [
        {
          "output_type": "stream",
          "name": "stdout",
          "text": [
            "Accuracy: 0.95\n",
            "Precision: 0.9545\n",
            "Recall: 0.95\n",
            "F1: 0.9499\n"
          ]
        },
        {
          "output_type": "display_data",
          "data": {
            "text/plain": [
              "<Figure size 720x576 with 2 Axes>"
            ],
            "image/png": "[encoded data removed]"
          },
          "metadata": {
            "needs_background": "light"
          }
        }
      ]
    },
    {
      "cell_type": "code",
      "source": [
        "model.save('/gdrive/MyDrive/polimi/NAML/NAML_proj/models/reggaevjazz/reggaevjazz')"
      ],
      "metadata": {
        "colab": {
          "base_uri": "https://localhost:8080/"
        },
        "id": "SO-HKBQc9I7r",
        "outputId": "33a724b2-4de9-41ac-c4cf-2e7e4c3a52cc"
      },
      "execution_count": 11,
      "outputs": [
        {
          "output_type": "stream",
          "name": "stderr",
          "text": [
            "WARNING:absl:Function `_wrapped_model` contains input name(s) Input with unsupported characters which will be renamed to input in the SavedModel.\n"
          ]
        },
        {
          "output_type": "stream",
          "name": "stdout",
          "text": [
            "INFO:tensorflow:Assets written to: /gdrive/MyDrive/polimi/NAML/NAML_proj/models/reggaevjazz/reggaevjazz/assets\n"
          ]
        },
        {
          "output_type": "stream",
          "name": "stderr",
          "text": [
            "INFO:tensorflow:Assets written to: /gdrive/MyDrive/polimi/NAML/NAML_proj/models/reggaevjazz/reggaevjazz/assets\n"
          ]
        }
      ]
    }
  ]
}