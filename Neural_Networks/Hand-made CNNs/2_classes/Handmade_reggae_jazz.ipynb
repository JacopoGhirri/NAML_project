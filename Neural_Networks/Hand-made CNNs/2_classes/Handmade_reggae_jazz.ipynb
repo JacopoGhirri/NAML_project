{
  "nbformat": 4,
  "nbformat_minor": 0,
  "metadata": {
    "colab": {
      "name": "Handmade_reggae_jazz.ipynb",
      "provenance": []
    },
    "kernelspec": {
      "name": "python3",
      "display_name": "Python 3"
    },
    "language_info": {
      "name": "python"
    },
    "accelerator": "GPU"
  },
  "cells": [
    {
      "cell_type": "markdown",
      "source": [
        "## Black Box Approach for 2 genres classification - Reggae vs Jazz\n",
        "\n",
        "We aim at training a Neural Network to distinguish between two genres: reggae and jazz."
      ],
      "metadata": {
        "id": "gKB_Sss8Ql-3"
      }
    },
    {
      "cell_type": "code",
      "execution_count": 1,
      "metadata": {
        "id": "SwPJ54sBQlFO",
        "colab": {
          "base_uri": "https://localhost:8080/"
        },
        "outputId": "cbb55bf5-68aa-43c5-b2ea-c296d1be86e6"
      },
      "outputs": [
        {
          "output_type": "stream",
          "name": "stdout",
          "text": [
            "Mounted at /gdrive\n"
          ]
        }
      ],
      "source": [
        "#importing google drive\n",
        "from google.colab import drive\n",
        "drive.mount('/gdrive')"
      ]
    },
    {
      "cell_type": "code",
      "source": [
        "#setting the working directory\n",
        "%cd /gdrive/MyDrive/polimi/NAML/NAML_proj/"
      ],
      "metadata": {
        "id": "iYHj7NhnQs_-",
        "colab": {
          "base_uri": "https://localhost:8080/"
        },
        "outputId": "383c459d-da45-4606-b6f6-37a1a9c34d2b"
      },
      "execution_count": 2,
      "outputs": [
        {
          "output_type": "stream",
          "name": "stdout",
          "text": [
            "/gdrive/MyDrive/polimi/NAML/NAML_proj\n"
          ]
        }
      ]
    },
    {
      "cell_type": "code",
      "source": [
        "import tensorflow as tf\n",
        "from PIL import Image\n",
        "import numpy as np\n",
        "import os\n",
        "import random\n",
        "import seaborn as sns\n",
        "import matplotlib as mpl\n",
        "import matplotlib.pyplot as plt\n",
        "from sklearn.model_selection import train_test_split\n",
        "from sklearn.metrics import accuracy_score, f1_score, precision_score, recall_score\n",
        "from sklearn.metrics import confusion_matrix\n",
        "import librosa\n",
        "import os\n",
        "\n",
        "tfk = tf.keras\n",
        "tfkl = tf.keras.layers\n",
        "seed = 42"
      ],
      "metadata": {
        "id": "INc4ttEUQuxN"
      },
      "execution_count": 3,
      "outputs": []
    },
    {
      "cell_type": "markdown",
      "source": [
        "The dataset is composed of Mel-Spectrograms of each audio sample, labeled with respect to each genre"
      ],
      "metadata": {
        "id": "IoV9bIbPfg55"
      }
    },
    {
      "cell_type": "code",
      "source": [
        "dataset = []\n",
        "#genres = {'blues': 0, 'classical': 1, 'country': 2, 'disco': 3, 'hiphop': 4, 'jazz': 5, 'metal': 6, 'pop': 7, 'reggae': 8, 'rock': 9}\n",
        "genres = {'reggae': 0, 'jazz': 1}\n",
        "\n",
        "for genre, genre_number in genres.items():\n",
        "    for filename in os.listdir(f'dataset_old/genres/{genre}'):\n",
        "        songname = f'dataset_old/genres/{genre}/{filename}'\n",
        "        y, sr = librosa.load(songname, mono=True, duration=2)\n",
        "        ps = librosa.feature.melspectrogram(y=y, sr=sr, hop_length = 256, n_fft = 512)\n",
        "        ps = librosa.power_to_db(ps**2)\n",
        "        dataset.append( (ps, genre_number) )\n",
        "    print(str(genre+' done'))"
      ],
      "metadata": {
        "id": "oiT5mkVqQ_lt",
        "colab": {
          "base_uri": "https://localhost:8080/"
        },
        "outputId": "bc43145b-3f56-4389-c797-a7b542c69014"
      },
      "execution_count": 4,
      "outputs": [
        {
          "output_type": "stream",
          "name": "stdout",
          "text": [
            "reggae done\n",
            "jazz done\n"
          ]
        }
      ]
    },
    {
      "cell_type": "markdown",
      "source": [
        "We split the dataset according to the following composition:\n",
        "\n",
        "\n",
        "*   70% training set\n",
        "*   20% validation set\n",
        "*   10% test set\n",
        "\n",
        "Maintaining equal proportions amongst classes\n",
        "\n"
      ],
      "metadata": {
        "id": "0sgOQfv-gZ04"
      }
    },
    {
      "cell_type": "code",
      "source": [
        "order = np.arange(start = 0, stop = 100, step = 1)\n",
        "\n",
        "np.random.seed(42)\n",
        "\n",
        "training = []\n",
        "validation = []\n",
        "test = []\n",
        "\n",
        "for i in range(2):\n",
        "  shuffle = np.random.permutation(order)\n",
        "  for k in range(70):\n",
        "    training.append(dataset[i*100 + shuffle[k]])\n",
        "  for l in range(20):\n",
        "    validation.append(dataset[i*100 + shuffle[l+70]])\n",
        "  for m in range(10):\n",
        "    test.append(dataset[i*100 + shuffle[m+90]])"
      ],
      "metadata": {
        "id": "OSUK8JPgRFVF"
      },
      "execution_count": 5,
      "outputs": []
    },
    {
      "cell_type": "code",
      "source": [
        "X_train, Y_train = zip(*training)\n",
        "X_valid, Y_valid = zip(*validation)\n",
        "X_test, Y_test = zip(*test)\n",
        "\n",
        "X_train = np.array([x.reshape( (128, 173, 1) ) for x in X_train])\n",
        "X_valid = np.array([x.reshape( (128, 173, 1) ) for x in X_valid])\n",
        "X_test = np.array([x.reshape( (128, 173, 1) ) for x in X_test])\n",
        "\n",
        "Y_train = np.array(tfk.utils.to_categorical(Y_train, 2))\n",
        "Y_valid = np.array(tfk.utils.to_categorical(Y_valid, 2))\n",
        "Y_test = np.array(tfk.utils.to_categorical(Y_test, 2))"
      ],
      "metadata": {
        "id": "WA29NV-URMuG"
      },
      "execution_count": 6,
      "outputs": []
    },
    {
      "cell_type": "markdown",
      "source": [
        "The proposed model is composed as a stack of convolutional layer, followed by a Global Average Pooling layer leading to a fully connected section.\n",
        "\n",
        "Optimization is performed as a Batch version of Adam optimizer algorithm"
      ],
      "metadata": {
        "id": "O6AvTMw2hgxB"
      }
    },
    {
      "cell_type": "code",
      "source": [
        "def build_model(input_shape, n_units):\n",
        "# Build the neural network layer by layer\n",
        "    input_layer = tfkl.Input(shape=input_shape, name='Input')\n",
        "\n",
        "    conv1 = tfkl.Conv2D(\n",
        "        filters=4,\n",
        "        kernel_size=(3, 3),\n",
        "        strides = (1, 1),\n",
        "        padding = 'same',\n",
        "        activation = 'relu',\n",
        "        kernel_initializer = tfk.initializers.GlorotUniform(seed)\n",
        "    )(input_layer)\n",
        "    conv1_2 = tfkl.Conv2D(\n",
        "        filters=8,\n",
        "        kernel_size=(2, 2),\n",
        "        strides = (1, 1),\n",
        "        padding = 'same',\n",
        "        activation = 'relu',\n",
        "        kernel_initializer = tfk.initializers.GlorotUniform(seed)\n",
        "    )(conv1)\n",
        "    pool1 = tfkl.MaxPooling2D(\n",
        "        pool_size = (2, 2)\n",
        "    )(conv1_2)\n",
        "\n",
        "    conv2 = tfkl.Conv2D(\n",
        "        filters=16,\n",
        "        kernel_size=(3, 3),\n",
        "        strides = (1, 1),\n",
        "        padding = 'same',\n",
        "        activation = 'relu',\n",
        "        kernel_initializer = tfk.initializers.GlorotUniform(seed)\n",
        "    )(pool1)\n",
        "    pool2 = tfkl.MaxPooling2D(\n",
        "        pool_size = (2, 2)\n",
        "    )(conv2)\n",
        "\n",
        "    conv3 = tfkl.Conv2D(\n",
        "        filters=32,\n",
        "        kernel_size=(3, 3),\n",
        "        strides = (1, 1),\n",
        "        padding = 'same',\n",
        "        activation = 'relu',\n",
        "        kernel_initializer = tfk.initializers.GlorotUniform(seed)\n",
        "    )(pool2)\n",
        "    pool3 = tfkl.MaxPooling2D(\n",
        "        pool_size = (2, 2)\n",
        "    )(conv3)\n",
        "\n",
        "    conv4 = tfkl.Conv2D(\n",
        "        filters=64,\n",
        "        kernel_size=(2, 2),\n",
        "        strides = (1, 1),\n",
        "        padding = 'same',\n",
        "        activation = 'relu',\n",
        "        kernel_initializer = tfk.initializers.GlorotUniform(seed)\n",
        "    )(pool3)\n",
        "    conv4_2 = tfkl.Conv2D(\n",
        "        filters=64,\n",
        "        kernel_size=(2, 2),\n",
        "        strides = (1, 1),\n",
        "        padding = 'same',\n",
        "        activation = 'relu',\n",
        "        kernel_initializer = tfk.initializers.GlorotUniform(seed)\n",
        "    )(conv4)\n",
        "    pool4 = tfkl.MaxPooling2D(\n",
        "        pool_size = (2, 2)\n",
        "    )(conv4_2)\n",
        "\n",
        "    conv5 = tfkl.Conv2D(\n",
        "        filters=128,\n",
        "        kernel_size=(2, 2),\n",
        "        strides = (1, 1),\n",
        "        padding = 'same',\n",
        "        activation = 'relu',\n",
        "        kernel_initializer = tfk.initializers.GlorotUniform(seed)\n",
        "    )(pool4)\n",
        "    pool5 = tfkl.MaxPooling2D(\n",
        "        pool_size = (2, 2)\n",
        "    )(conv5)\n",
        "\n",
        "    conv6 = tfkl.Conv2D(\n",
        "        filters=286,\n",
        "        kernel_size=(1, 1),\n",
        "        strides = (1, 1),\n",
        "        padding = 'same',\n",
        "        activation = 'relu',\n",
        "        kernel_initializer = tfk.initializers.GlorotUniform(seed)\n",
        "    )(pool5)\n",
        "    \n",
        "\n",
        "    global_average = tfkl.GlobalAveragePooling2D(name = 'GAP')(conv6)\n",
        "    global_average = tfkl.Dropout(0.3, seed=seed)(global_average)\n",
        "    \n",
        "    classifier_layer = tfkl.Dense(units=64, name='Classifier', activation='relu')(global_average)\n",
        "    #flattening_layer = tfkl.Flatten(name='Flatten')(pool5)\n",
        "    #flattening_layer = tfkl.Dropout(0.2, seed=seed)(flattening_layer)\n",
        "    #classifier_layer = tfkl.Dense(units=64, name='Classifier', activation='relu')(flattening_layer)\n",
        "    \n",
        "    classifier_layer = tfkl.Dropout(0.3, seed=seed)(classifier_layer)\n",
        "    classifier_layer_2 = tfkl.Dense(units=32, name='Classifier_2', activation='relu')(classifier_layer)\n",
        "    classifier_layer_2 = tfkl.Dropout(0.25, seed=seed)(classifier_layer_2)\n",
        "    output_layer = tfkl.Dense(units=n_units, activation='softmax', name='Output')(classifier_layer_2)\n",
        "\n",
        "    # Connect input and output through the Model class\n",
        "    model = tfk.Model(inputs=input_layer, outputs=output_layer, name='model')\n",
        "\n",
        "    # Compile the model\n",
        "    model.compile(loss=tfk.losses.CategoricalCrossentropy(), optimizer=tfk.optimizers.Adam(), metrics='accuracy')\n",
        "\n",
        "    # Return the model\n",
        "\n",
        "    return model"
      ],
      "metadata": {
        "id": "lR2QkBoSQ8lW"
      },
      "execution_count": 7,
      "outputs": []
    },
    {
      "cell_type": "code",
      "source": [
        "n_units = 2\n",
        "input_shape = (128,173,1)\n",
        "\n",
        "model = build_model(input_shape, n_units)\n",
        "\n",
        "model.summary()"
      ],
      "metadata": {
        "id": "zIitkAlGQ-mM",
        "colab": {
          "base_uri": "https://localhost:8080/"
        },
        "outputId": "b23cc15c-8671-487b-d1c3-b2474e47439f"
      },
      "execution_count": 8,
      "outputs": [
        {
          "output_type": "stream",
          "name": "stdout",
          "text": [
            "Model: \"model\"\n",
            "_________________________________________________________________\n",
            " Layer (type)                Output Shape              Param #   \n",
            "=================================================================\n",
            " Input (InputLayer)          [(None, 128, 173, 1)]     0         \n",
            "                                                                 \n",
            " conv2d (Conv2D)             (None, 128, 173, 4)       40        \n",
            "                                                                 \n",
            " conv2d_1 (Conv2D)           (None, 128, 173, 8)       136       \n",
            "                                                                 \n",
            " max_pooling2d (MaxPooling2D  (None, 64, 86, 8)        0         \n",
            " )                                                               \n",
            "                                                                 \n",
            " conv2d_2 (Conv2D)           (None, 64, 86, 16)        1168      \n",
            "                                                                 \n",
            " max_pooling2d_1 (MaxPooling  (None, 32, 43, 16)       0         \n",
            " 2D)                                                             \n",
            "                                                                 \n",
            " conv2d_3 (Conv2D)           (None, 32, 43, 32)        4640      \n",
            "                                                                 \n",
            " max_pooling2d_2 (MaxPooling  (None, 16, 21, 32)       0         \n",
            " 2D)                                                             \n",
            "                                                                 \n",
            " conv2d_4 (Conv2D)           (None, 16, 21, 64)        8256      \n",
            "                                                                 \n",
            " conv2d_5 (Conv2D)           (None, 16, 21, 64)        16448     \n",
            "                                                                 \n",
            " max_pooling2d_3 (MaxPooling  (None, 8, 10, 64)        0         \n",
            " 2D)                                                             \n",
            "                                                                 \n",
            " conv2d_6 (Conv2D)           (None, 8, 10, 128)        32896     \n",
            "                                                                 \n",
            " max_pooling2d_4 (MaxPooling  (None, 4, 5, 128)        0         \n",
            " 2D)                                                             \n",
            "                                                                 \n",
            " conv2d_7 (Conv2D)           (None, 4, 5, 286)         36894     \n",
            "                                                                 \n",
            " GAP (GlobalAveragePooling2D  (None, 286)              0         \n",
            " )                                                               \n",
            "                                                                 \n",
            " dropout (Dropout)           (None, 286)               0         \n",
            "                                                                 \n",
            " Classifier (Dense)          (None, 64)                18368     \n",
            "                                                                 \n",
            " dropout_1 (Dropout)         (None, 64)                0         \n",
            "                                                                 \n",
            " Classifier_2 (Dense)        (None, 32)                2080      \n",
            "                                                                 \n",
            " dropout_2 (Dropout)         (None, 32)                0         \n",
            "                                                                 \n",
            " Output (Dense)              (None, 2)                 66        \n",
            "                                                                 \n",
            "=================================================================\n",
            "Total params: 120,992\n",
            "Trainable params: 120,992\n",
            "Non-trainable params: 0\n",
            "_________________________________________________________________\n"
          ]
        }
      ]
    },
    {
      "cell_type": "code",
      "source": [
        "early_stopping = tfk.callbacks.EarlyStopping(monitor='val_loss', mode='min', patience=20, restore_best_weights=True)\n",
        "adaptive_LR = tfk.callbacks.ReduceLROnPlateau(monitor='val_loss', mode='min', patience=5, factor=0.5, min_lr=1e-4)\n",
        "\n",
        "standard_history = model.fit(\n",
        "    x = X_train,\n",
        "    y = Y_train,\n",
        "    epochs = 500,\n",
        "    batch_size = 20,\n",
        "    validation_data= (X_valid, Y_valid),\n",
        "    callbacks = [early_stopping, adaptive_LR]\n",
        "    )"
      ],
      "metadata": {
        "id": "yFUsDY6BRWi1",
        "colab": {
          "base_uri": "https://localhost:8080/"
        },
        "outputId": "82b28f89-b2dc-42e4-8712-547c753c4b33"
      },
      "execution_count": 9,
      "outputs": [
        {
          "output_type": "stream",
          "name": "stdout",
          "text": [
            "Epoch 1/500\n",
            "7/7 [==============================] - 11s 52ms/step - loss: 0.7216 - accuracy: 0.4714 - val_loss: 0.6865 - val_accuracy: 0.5000 - lr: 0.0010\n",
            "Epoch 2/500\n",
            "7/7 [==============================] - 0s 16ms/step - loss: 0.6904 - accuracy: 0.5000 - val_loss: 0.6834 - val_accuracy: 0.5000 - lr: 0.0010\n",
            "Epoch 3/500\n",
            "7/7 [==============================] - 0s 14ms/step - loss: 0.6819 - accuracy: 0.5143 - val_loss: 0.6835 - val_accuracy: 0.5000 - lr: 0.0010\n",
            "Epoch 4/500\n",
            "7/7 [==============================] - 0s 14ms/step - loss: 0.6895 - accuracy: 0.5143 - val_loss: 0.6791 - val_accuracy: 0.5000 - lr: 0.0010\n",
            "Epoch 5/500\n",
            "7/7 [==============================] - 0s 16ms/step - loss: 0.6762 - accuracy: 0.4929 - val_loss: 0.6732 - val_accuracy: 0.5000 - lr: 0.0010\n",
            "Epoch 6/500\n",
            "7/7 [==============================] - 0s 14ms/step - loss: 0.6689 - accuracy: 0.5357 - val_loss: 0.6621 - val_accuracy: 0.5000 - lr: 0.0010\n",
            "Epoch 7/500\n",
            "7/7 [==============================] - 0s 14ms/step - loss: 0.6641 - accuracy: 0.5286 - val_loss: 0.6623 - val_accuracy: 0.7000 - lr: 0.0010\n",
            "Epoch 8/500\n",
            "7/7 [==============================] - 0s 14ms/step - loss: 0.6477 - accuracy: 0.5929 - val_loss: 0.6309 - val_accuracy: 0.5750 - lr: 0.0010\n",
            "Epoch 9/500\n",
            "7/7 [==============================] - 0s 14ms/step - loss: 0.6309 - accuracy: 0.6071 - val_loss: 0.5940 - val_accuracy: 0.6250 - lr: 0.0010\n",
            "Epoch 10/500\n",
            "7/7 [==============================] - 0s 13ms/step - loss: 0.5776 - accuracy: 0.7214 - val_loss: 0.5995 - val_accuracy: 0.7000 - lr: 0.0010\n",
            "Epoch 11/500\n",
            "7/7 [==============================] - 0s 16ms/step - loss: 0.5055 - accuracy: 0.7571 - val_loss: 0.4630 - val_accuracy: 0.8250 - lr: 0.0010\n",
            "Epoch 12/500\n",
            "7/7 [==============================] - 0s 13ms/step - loss: 0.4585 - accuracy: 0.8071 - val_loss: 0.6237 - val_accuracy: 0.7250 - lr: 0.0010\n",
            "Epoch 13/500\n",
            "7/7 [==============================] - 0s 15ms/step - loss: 0.5400 - accuracy: 0.7857 - val_loss: 0.4342 - val_accuracy: 0.7750 - lr: 0.0010\n",
            "Epoch 14/500\n",
            "7/7 [==============================] - 0s 14ms/step - loss: 0.4961 - accuracy: 0.7500 - val_loss: 0.4285 - val_accuracy: 0.8000 - lr: 0.0010\n",
            "Epoch 15/500\n",
            "7/7 [==============================] - 0s 14ms/step - loss: 0.3753 - accuracy: 0.8571 - val_loss: 0.3974 - val_accuracy: 0.8000 - lr: 0.0010\n",
            "Epoch 16/500\n",
            "7/7 [==============================] - 0s 15ms/step - loss: 0.4518 - accuracy: 0.8500 - val_loss: 0.5675 - val_accuracy: 0.7500 - lr: 0.0010\n",
            "Epoch 17/500\n",
            "7/7 [==============================] - 0s 13ms/step - loss: 0.4538 - accuracy: 0.7714 - val_loss: 0.4198 - val_accuracy: 0.7750 - lr: 0.0010\n",
            "Epoch 18/500\n",
            "7/7 [==============================] - 0s 13ms/step - loss: 0.3765 - accuracy: 0.8643 - val_loss: 0.4116 - val_accuracy: 0.7750 - lr: 0.0010\n",
            "Epoch 19/500\n",
            "7/7 [==============================] - 0s 21ms/step - loss: 0.3687 - accuracy: 0.8571 - val_loss: 0.3691 - val_accuracy: 0.8250 - lr: 0.0010\n",
            "Epoch 20/500\n",
            "7/7 [==============================] - 0s 20ms/step - loss: 0.2813 - accuracy: 0.9071 - val_loss: 0.3834 - val_accuracy: 0.8250 - lr: 0.0010\n",
            "Epoch 21/500\n",
            "7/7 [==============================] - 0s 18ms/step - loss: 0.2964 - accuracy: 0.8786 - val_loss: 0.3814 - val_accuracy: 0.7750 - lr: 0.0010\n",
            "Epoch 22/500\n",
            "7/7 [==============================] - 0s 16ms/step - loss: 0.2170 - accuracy: 0.9500 - val_loss: 0.4363 - val_accuracy: 0.8250 - lr: 0.0010\n",
            "Epoch 23/500\n",
            "7/7 [==============================] - 0s 12ms/step - loss: 0.2914 - accuracy: 0.9071 - val_loss: 0.4160 - val_accuracy: 0.8500 - lr: 0.0010\n",
            "Epoch 24/500\n",
            "7/7 [==============================] - 0s 20ms/step - loss: 0.2327 - accuracy: 0.9143 - val_loss: 0.3442 - val_accuracy: 0.8000 - lr: 0.0010\n",
            "Epoch 25/500\n",
            "7/7 [==============================] - 0s 24ms/step - loss: 0.2123 - accuracy: 0.9286 - val_loss: 0.4283 - val_accuracy: 0.8250 - lr: 0.0010\n",
            "Epoch 26/500\n",
            "7/7 [==============================] - 0s 14ms/step - loss: 0.1822 - accuracy: 0.9429 - val_loss: 0.3340 - val_accuracy: 0.8250 - lr: 0.0010\n",
            "Epoch 27/500\n",
            "7/7 [==============================] - 0s 13ms/step - loss: 0.1508 - accuracy: 0.9571 - val_loss: 0.4786 - val_accuracy: 0.8250 - lr: 0.0010\n",
            "Epoch 28/500\n",
            "7/7 [==============================] - 0s 15ms/step - loss: 0.1415 - accuracy: 0.9357 - val_loss: 0.4040 - val_accuracy: 0.8750 - lr: 0.0010\n",
            "Epoch 29/500\n",
            "7/7 [==============================] - 0s 15ms/step - loss: 0.1046 - accuracy: 0.9786 - val_loss: 0.5479 - val_accuracy: 0.8500 - lr: 0.0010\n",
            "Epoch 30/500\n",
            "7/7 [==============================] - 0s 13ms/step - loss: 0.0973 - accuracy: 0.9643 - val_loss: 0.4049 - val_accuracy: 0.8500 - lr: 0.0010\n",
            "Epoch 31/500\n",
            "7/7 [==============================] - 0s 14ms/step - loss: 0.1062 - accuracy: 0.9786 - val_loss: 0.3939 - val_accuracy: 0.8750 - lr: 0.0010\n",
            "Epoch 32/500\n",
            "7/7 [==============================] - 0s 14ms/step - loss: 0.1116 - accuracy: 0.9643 - val_loss: 0.4594 - val_accuracy: 0.8750 - lr: 5.0000e-04\n",
            "Epoch 33/500\n",
            "7/7 [==============================] - 0s 13ms/step - loss: 0.0809 - accuracy: 0.9786 - val_loss: 0.4074 - val_accuracy: 0.8750 - lr: 5.0000e-04\n",
            "Epoch 34/500\n",
            "7/7 [==============================] - 0s 13ms/step - loss: 0.0710 - accuracy: 0.9786 - val_loss: 0.4593 - val_accuracy: 0.8750 - lr: 5.0000e-04\n",
            "Epoch 35/500\n",
            "7/7 [==============================] - 0s 19ms/step - loss: 0.0535 - accuracy: 0.9857 - val_loss: 0.4782 - val_accuracy: 0.8750 - lr: 5.0000e-04\n",
            "Epoch 36/500\n",
            "7/7 [==============================] - 0s 20ms/step - loss: 0.0478 - accuracy: 0.9857 - val_loss: 0.4590 - val_accuracy: 0.8750 - lr: 5.0000e-04\n",
            "Epoch 37/500\n",
            "7/7 [==============================] - 0s 20ms/step - loss: 0.0370 - accuracy: 0.9857 - val_loss: 0.4597 - val_accuracy: 0.8750 - lr: 2.5000e-04\n",
            "Epoch 38/500\n",
            "7/7 [==============================] - 0s 23ms/step - loss: 0.0340 - accuracy: 0.9929 - val_loss: 0.4537 - val_accuracy: 0.8750 - lr: 2.5000e-04\n",
            "Epoch 39/500\n",
            "7/7 [==============================] - 0s 26ms/step - loss: 0.0319 - accuracy: 0.9929 - val_loss: 0.4737 - val_accuracy: 0.8750 - lr: 2.5000e-04\n",
            "Epoch 40/500\n",
            "7/7 [==============================] - 0s 19ms/step - loss: 0.0320 - accuracy: 0.9929 - val_loss: 0.4815 - val_accuracy: 0.9000 - lr: 2.5000e-04\n",
            "Epoch 41/500\n",
            "7/7 [==============================] - 0s 19ms/step - loss: 0.0248 - accuracy: 0.9929 - val_loss: 0.4931 - val_accuracy: 0.9000 - lr: 2.5000e-04\n",
            "Epoch 42/500\n",
            "7/7 [==============================] - 0s 26ms/step - loss: 0.0147 - accuracy: 0.9929 - val_loss: 0.4988 - val_accuracy: 0.9000 - lr: 1.2500e-04\n",
            "Epoch 43/500\n",
            "7/7 [==============================] - 0s 20ms/step - loss: 0.0203 - accuracy: 0.9929 - val_loss: 0.5114 - val_accuracy: 0.9000 - lr: 1.2500e-04\n",
            "Epoch 44/500\n",
            "7/7 [==============================] - 0s 24ms/step - loss: 0.0257 - accuracy: 0.9929 - val_loss: 0.5219 - val_accuracy: 0.9000 - lr: 1.2500e-04\n",
            "Epoch 45/500\n",
            "7/7 [==============================] - 0s 25ms/step - loss: 0.0266 - accuracy: 0.9929 - val_loss: 0.5610 - val_accuracy: 0.9000 - lr: 1.2500e-04\n",
            "Epoch 46/500\n",
            "7/7 [==============================] - 0s 24ms/step - loss: 0.0163 - accuracy: 1.0000 - val_loss: 0.5203 - val_accuracy: 0.9000 - lr: 1.2500e-04\n"
          ]
        }
      ]
    },
    {
      "cell_type": "code",
      "source": [
        "predictions = model.predict(X_test)\n",
        "\n",
        "# Compute the confusion matrix\n",
        "cm = confusion_matrix(np.argmax(Y_test, axis=-1), np.argmax(predictions, axis=-1))\n",
        "\n",
        "# Compute the classification metrics\n",
        "accuracy = accuracy_score(np.argmax(Y_test, axis=-1), np.argmax(predictions, axis=-1))\n",
        "precision = precision_score(np.argmax(Y_test, axis=-1), np.argmax(predictions, axis=-1), average='macro')\n",
        "recall = recall_score(np.argmax(Y_test, axis=-1), np.argmax(predictions, axis=-1), average='macro')\n",
        "f1 = f1_score(np.argmax(Y_test, axis=-1), np.argmax(predictions, axis=-1), average='macro')\n",
        "print('Accuracy:',accuracy.round(4))\n",
        "print('Precision:',precision.round(4))\n",
        "print('Recall:',recall.round(4))\n",
        "print('F1:',f1.round(4))\n",
        "\n",
        "# Plot the confusion matrix\n",
        "plt.figure(figsize=(10,8))\n",
        "sns.heatmap(cm.T)#, xticklabels=list(labels.values()), yticklabels=list(labels.values()))\n",
        "plt.xlabel('True labels')\n",
        "plt.ylabel('Predicted labels')\n",
        "plt.show()"
      ],
      "metadata": {
        "id": "6Xlmj6RaRRvk",
        "colab": {
          "base_uri": "https://localhost:8080/",
          "height": 629
        },
        "outputId": "2aaf18c9-2f2d-44a7-9ac7-b7079162e911"
      },
      "execution_count": null,
      "outputs": [
        {
          "output_type": "stream",
          "name": "stdout",
          "text": [
            "WARNING:tensorflow:5 out of the last 5 calls to <function Model.make_predict_function.<locals>.predict_function at 0x7f9b0f4535f0> triggered tf.function retracing. Tracing is expensive and the excessive number of tracings could be due to (1) creating @tf.function repeatedly in a loop, (2) passing tensors with different shapes, (3) passing Python objects instead of tensors. For (1), please define your @tf.function outside of the loop. For (2), @tf.function has experimental_relax_shapes=True option that relaxes argument shapes that can avoid unnecessary retracing. For (3), please refer to https://www.tensorflow.org/guide/function#controlling_retracing and https://www.tensorflow.org/api_docs/python/tf/function for  more details.\n"
          ]
        },
        {
          "output_type": "stream",
          "name": "stderr",
          "text": [
            "WARNING:tensorflow:5 out of the last 5 calls to <function Model.make_predict_function.<locals>.predict_function at 0x7f9b0f4535f0> triggered tf.function retracing. Tracing is expensive and the excessive number of tracings could be due to (1) creating @tf.function repeatedly in a loop, (2) passing tensors with different shapes, (3) passing Python objects instead of tensors. For (1), please define your @tf.function outside of the loop. For (2), @tf.function has experimental_relax_shapes=True option that relaxes argument shapes that can avoid unnecessary retracing. For (3), please refer to https://www.tensorflow.org/guide/function#controlling_retracing and https://www.tensorflow.org/api_docs/python/tf/function for  more details.\n"
          ]
        },
        {
          "output_type": "stream",
          "name": "stdout",
          "text": [
            "Accuracy: 0.9\n",
            "Precision: 0.9\n",
            "Recall: 0.9\n",
            "F1: 0.9\n"
          ]
        },
        {
          "output_type": "display_data",
          "data": {
            "text/plain": [
              "<Figure size 720x576 with 2 Axes>"
            ],
            "image/png": "[encoded data removed]"
          },
          "metadata": {
            "needs_background": "light"
          }
        }
      ]
    },
    {
      "cell_type": "code",
      "source": [
        "model.save('/gdrive/MyDrive/polimi/NAML/NAML_proj/models/reggaevjazz/reggaevjazz_1')"
      ],
      "metadata": {
        "colab": {
          "base_uri": "https://localhost:8080/"
        },
        "id": "SO-HKBQc9I7r",
        "outputId": "00a56e33-b62a-414b-faf2-86f6e561e5e4"
      },
      "execution_count": 10,
      "outputs": [
        {
          "output_type": "stream",
          "name": "stderr",
          "text": [
            "WARNING:absl:Function `_wrapped_model` contains input name(s) Input with unsupported characters which will be renamed to input in the SavedModel.\n"
          ]
        },
        {
          "output_type": "stream",
          "name": "stdout",
          "text": [
            "INFO:tensorflow:Assets written to: /gdrive/MyDrive/polimi/NAML/NAML_proj/models/reggaevjazz/reggaevjazz_1/assets\n"
          ]
        },
        {
          "output_type": "stream",
          "name": "stderr",
          "text": [
            "INFO:tensorflow:Assets written to: /gdrive/MyDrive/polimi/NAML/NAML_proj/models/reggaevjazz/reggaevjazz_1/assets\n"
          ]
        }
      ]
    }
  ]
}