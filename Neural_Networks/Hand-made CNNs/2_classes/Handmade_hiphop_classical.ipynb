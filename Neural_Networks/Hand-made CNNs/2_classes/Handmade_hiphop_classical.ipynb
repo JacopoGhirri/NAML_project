{
  "nbformat": 4,
  "nbformat_minor": 0,
  "metadata": {
    "colab": {
      "name": "Handmade_hiphop_classical.ipynb",
      "provenance": [],
      "collapsed_sections": []
    },
    "kernelspec": {
      "name": "python3",
      "display_name": "Python 3"
    },
    "language_info": {
      "name": "python"
    },
    "accelerator": "GPU"
  },
  "cells": [
    {
      "cell_type": "markdown",
      "source": [
        "## Black Box Approach for 2 genres classification - Hip Hop vs Classical\n",
        "\n",
        "We aim at training a Neural Network to distinguish between two genres: Hip Hop and classical."
      ],
      "metadata": {
        "id": "gKB_Sss8Ql-3"
      }
    },
    {
      "cell_type": "code",
      "execution_count": 1,
      "metadata": {
        "id": "SwPJ54sBQlFO",
        "colab": {
          "base_uri": "https://localhost:8080/"
        },
        "outputId": "a229a68c-a695-492a-fa6c-57aa98c67480"
      },
      "outputs": [
        {
          "output_type": "stream",
          "name": "stdout",
          "text": [
            "Mounted at /gdrive\n"
          ]
        }
      ],
      "source": [
        "#importing google drive\n",
        "from google.colab import drive\n",
        "drive.mount('/gdrive')"
      ]
    },
    {
      "cell_type": "code",
      "source": [
        "#setting the working directory\n",
        "%cd /gdrive/MyDrive/polimi/NAML/NAML_proj/"
      ],
      "metadata": {
        "id": "iYHj7NhnQs_-",
        "colab": {
          "base_uri": "https://localhost:8080/"
        },
        "outputId": "3baa331b-f313-434b-a44d-2e19cb832200"
      },
      "execution_count": 2,
      "outputs": [
        {
          "output_type": "stream",
          "name": "stdout",
          "text": [
            "/gdrive/MyDrive/polimi/NAML/NAML_proj\n"
          ]
        }
      ]
    },
    {
      "cell_type": "code",
      "source": [
        "import tensorflow as tf\n",
        "from PIL import Image\n",
        "import numpy as np\n",
        "import os\n",
        "import random\n",
        "import seaborn as sns\n",
        "import matplotlib as mpl\n",
        "import matplotlib.pyplot as plt\n",
        "from sklearn.model_selection import train_test_split\n",
        "from sklearn.metrics import accuracy_score, f1_score, precision_score, recall_score\n",
        "from sklearn.metrics import confusion_matrix\n",
        "import librosa\n",
        "import os\n",
        "\n",
        "tfk = tf.keras\n",
        "tfkl = tf.keras.layers\n",
        "seed = 42"
      ],
      "metadata": {
        "id": "INc4ttEUQuxN"
      },
      "execution_count": 3,
      "outputs": []
    },
    {
      "cell_type": "markdown",
      "source": [
        "The dataset is composed of Mel-Spectrograms of each audio sample, labeled with respect to each genre"
      ],
      "metadata": {
        "id": "IoV9bIbPfg55"
      }
    },
    {
      "cell_type": "code",
      "source": [
        "dataset = []\n",
        "#genres = {'blues': 0, 'classical': 1, 'country': 2, 'disco': 3, 'hiphop': 4, 'jazz': 5, 'metal': 6, 'pop': 7, 'reggae': 8, 'rock': 9}\n",
        "genres = {'hiphop': 0, 'classical': 1}\n",
        "n_genres = 2\n",
        "\n",
        "for genre, genre_number in genres.items():\n",
        "    for filename in os.listdir(f'dataset_old/genres/{genre}'):\n",
        "        songname = f'dataset_old/genres/{genre}/{filename}'\n",
        "        y, sr = librosa.load(songname, mono=True, duration=29.7)\n",
        "        ps = librosa.feature.melspectrogram(y=y, sr=sr, hop_length = 256, n_fft = 512)\n",
        "        ps = librosa.power_to_db(ps**2)\n",
        "        dataset.append( (ps, genre_number) )\n",
        "    print(str(genre+' done'))"
      ],
      "metadata": {
        "id": "oiT5mkVqQ_lt",
        "colab": {
          "base_uri": "https://localhost:8080/"
        },
        "outputId": "24bc06ea-1f4e-4f1a-c0f4-6f3fb10a20e0"
      },
      "execution_count": 6,
      "outputs": [
        {
          "output_type": "stream",
          "name": "stdout",
          "text": [
            "hiphop done\n",
            "classical done\n"
          ]
        }
      ]
    },
    {
      "cell_type": "markdown",
      "source": [
        "We split the dataset according to the following composition:\n",
        "\n",
        "\n",
        "*   70% training set\n",
        "*   20% validation set\n",
        "*   10% test set\n",
        "\n",
        "Maintaining equal proportions amongst classes\n",
        "\n"
      ],
      "metadata": {
        "id": "0sgOQfv-gZ04"
      }
    },
    {
      "cell_type": "code",
      "source": [
        "order = np.arange(start = 0, stop = 100, step = 1)\n",
        "\n",
        "np.random.seed(seed)\n",
        "\n",
        "training = []\n",
        "validation = []\n",
        "test = []\n",
        "\n",
        "for i in range(n_genres):\n",
        "  shuffle = np.random.permutation(order)\n",
        "  for k in range(70):\n",
        "    training.append(dataset[i*100 + shuffle[k]])\n",
        "  for l in range(20):\n",
        "    validation.append(dataset[i*100 + shuffle[l+70]])\n",
        "  for m in range(10):\n",
        "    test.append(dataset[i*100 + shuffle[m+90]])"
      ],
      "metadata": {
        "id": "OSUK8JPgRFVF"
      },
      "execution_count": 7,
      "outputs": []
    },
    {
      "cell_type": "code",
      "source": [
        "X_train, Y_train = zip(*training)\n",
        "X_valid, Y_valid = zip(*validation)\n",
        "X_test, Y_test = zip(*test)\n",
        "\n",
        "X_train = np.array([x.reshape( (128, 2559, 1) ) for x in X_train])\n",
        "X_valid = np.array([x.reshape( (128, 2559, 1) ) for x in X_valid])\n",
        "X_test = np.array([x.reshape( (128, 2559, 1) ) for x in X_test])\n",
        "\n",
        "Y_train = np.array(tfk.utils.to_categorical(Y_train, 2))\n",
        "Y_valid = np.array(tfk.utils.to_categorical(Y_valid, 2))\n",
        "Y_test = np.array(tfk.utils.to_categorical(Y_test, 2))"
      ],
      "metadata": {
        "id": "WA29NV-URMuG"
      },
      "execution_count": 8,
      "outputs": []
    },
    {
      "cell_type": "markdown",
      "source": [
        "The proposed model is composed as a stack of convolutional layer, followed by a Global Average Pooling layer leading to a fully connected section.\n",
        "\n",
        "Optimization is performed as a Batch version of Adam optimizer algorithm"
      ],
      "metadata": {
        "id": "O6AvTMw2hgxB"
      }
    },
    {
      "cell_type": "code",
      "source": [
        "def build_model(input_shape, n_units):\n",
        "# Build the neural network layer by layer\n",
        "    input_layer = tfkl.Input(shape=input_shape, name='Input')\n",
        "\n",
        "    conv1 = tfkl.Conv2D(\n",
        "        name = 'conv_1',\n",
        "        filters=4,\n",
        "        kernel_size=(3, 3),\n",
        "        strides = (1, 1),\n",
        "        padding = 'same',\n",
        "        activation = 'relu',\n",
        "        kernel_initializer = tfk.initializers.GlorotUniform(seed)\n",
        "    )(input_layer)\n",
        "    conv1_2 = tfkl.Conv2D(\n",
        "        name = 'conv_1_2',\n",
        "        filters=8,\n",
        "        kernel_size=(2, 2),\n",
        "        strides = (1, 1),\n",
        "        padding = 'same',\n",
        "        activation = 'relu',\n",
        "        kernel_initializer = tfk.initializers.GlorotUniform(seed)\n",
        "    )(conv1)\n",
        "    pool1 = tfkl.MaxPooling2D(\n",
        "        name = 'pool_1',\n",
        "        pool_size = (2, 2)\n",
        "    )(conv1_2)\n",
        "\n",
        "    conv2 = tfkl.Conv2D(\n",
        "        name = 'conv_2',\n",
        "        filters=16,\n",
        "        kernel_size=(3, 3),\n",
        "        strides = (1, 1),\n",
        "        padding = 'same',\n",
        "        activation = 'relu',\n",
        "        kernel_initializer = tfk.initializers.GlorotUniform(seed)\n",
        "    )(pool1)\n",
        "    pool2 = tfkl.MaxPooling2D(\n",
        "        name = 'pool_2',\n",
        "        pool_size = (2, 2)\n",
        "    )(conv2)\n",
        "\n",
        "    conv3 = tfkl.Conv2D(\n",
        "        name = 'conv_3',\n",
        "        filters=32,\n",
        "        kernel_size=(3, 3),\n",
        "        strides = (1, 1),\n",
        "        padding = 'same',\n",
        "        activation = 'relu',\n",
        "        kernel_initializer = tfk.initializers.GlorotUniform(seed)\n",
        "    )(pool2)\n",
        "    pool3 = tfkl.MaxPooling2D(\n",
        "        name = 'pool_3',\n",
        "        pool_size = (2, 2)\n",
        "    )(conv3)\n",
        "\n",
        "    conv4 = tfkl.Conv2D(\n",
        "        name = 'conv_4',\n",
        "        filters=64,\n",
        "        kernel_size=(3, 3),\n",
        "        strides = (1, 1),\n",
        "        padding = 'same',\n",
        "        activation = 'relu',\n",
        "        kernel_initializer = tfk.initializers.GlorotUniform(seed)\n",
        "    )(pool3)\n",
        "    conv4_2 = tfkl.Conv2D(\n",
        "        name = 'conv_4_2',\n",
        "        filters=64,\n",
        "        kernel_size=(2, 2),\n",
        "        strides = (1, 1),\n",
        "        padding = 'same',\n",
        "        activation = 'relu',\n",
        "        kernel_initializer = tfk.initializers.GlorotUniform(seed)\n",
        "    )(conv4)\n",
        "    pool4 = tfkl.MaxPooling2D(\n",
        "        name = 'pool_4',\n",
        "        pool_size = (2, 2)\n",
        "    )(conv4_2)\n",
        "\n",
        "    conv5 = tfkl.Conv2D(\n",
        "        name = 'conv_5',\n",
        "        filters=128,\n",
        "        kernel_size=(2, 2),\n",
        "        strides = (1, 1),\n",
        "        padding = 'same',\n",
        "        activation = 'relu',\n",
        "        kernel_initializer = tfk.initializers.GlorotUniform(seed)\n",
        "    )(pool4)\n",
        "    pool5 = tfkl.MaxPooling2D(\n",
        "        name = 'pool_5',\n",
        "        pool_size = (2, 2)\n",
        "    )(conv5)\n",
        "\n",
        "    conv6 = tfkl.Conv2D(\n",
        "        name = 'conv_6',\n",
        "        filters=286,\n",
        "        kernel_size=(1, 1),\n",
        "        strides = (1, 1),\n",
        "        padding = 'same',\n",
        "        activation = 'relu',\n",
        "        kernel_initializer = tfk.initializers.GlorotUniform(seed)\n",
        "    )(pool5)\n",
        "    \n",
        "\n",
        "    global_average = tfkl.GlobalAveragePooling2D(name = 'GAP')(conv6)\n",
        "    global_average = tfkl.Dropout(0.3,name = 'Dropout_GAP', seed=seed)(global_average)\n",
        "    \n",
        "    classifier_layer = tfkl.Dense(units=64, name='Classifier', activation='relu')(global_average)\n",
        "    \n",
        "    classifier_layer = tfkl.Dropout(0.3, seed=seed, name = 'Dropout_Classifier')(classifier_layer)\n",
        "    classifier_layer_2 = tfkl.Dense(units=32, name='Classifier_2', activation='relu')(classifier_layer)\n",
        "    classifier_layer_2 = tfkl.Dropout(0.25, seed=seed, name = 'Dropout_Classifier_2')(classifier_layer_2)\n",
        "    output_layer = tfkl.Dense(units=n_units, activation='softmax', name='Output')(classifier_layer_2)\n",
        "\n",
        "    # Connect input and output through the Model class\n",
        "    model = tfk.Model(inputs=input_layer, outputs=output_layer, name='model')\n",
        "\n",
        "    # Compile the model\n",
        "    model.compile(loss=tfk.losses.CategoricalCrossentropy(), optimizer=tfk.optimizers.Adam(), metrics='accuracy')\n",
        "\n",
        "    # Return the model\n",
        "\n",
        "    return model"
      ],
      "metadata": {
        "id": "lR2QkBoSQ8lW"
      },
      "execution_count": 21,
      "outputs": []
    },
    {
      "cell_type": "code",
      "source": [
        "input_shape = (128, 2559, 1)\n",
        "\n",
        "model = build_model(input_shape, n_genres)\n",
        "\n",
        "model.summary()"
      ],
      "metadata": {
        "id": "zIitkAlGQ-mM",
        "colab": {
          "base_uri": "https://localhost:8080/"
        },
        "outputId": "69f30785-6b35-4b28-efcb-eae9caa86dcf"
      },
      "execution_count": 22,
      "outputs": [
        {
          "output_type": "stream",
          "name": "stdout",
          "text": [
            "Model: \"model\"\n",
            "_________________________________________________________________\n",
            " Layer (type)                Output Shape              Param #   \n",
            "=================================================================\n",
            " Input (InputLayer)          [(None, 128, 2559, 1)]    0         \n",
            "                                                                 \n",
            " conv_1 (Conv2D)             (None, 128, 2559, 4)      40        \n",
            "                                                                 \n",
            " conv_1_2 (Conv2D)           (None, 128, 2559, 8)      136       \n",
            "                                                                 \n",
            " pool_1 (MaxPooling2D)       (None, 64, 1279, 8)       0         \n",
            "                                                                 \n",
            " conv_2 (Conv2D)             (None, 64, 1279, 16)      1168      \n",
            "                                                                 \n",
            " pool_2 (MaxPooling2D)       (None, 32, 639, 16)       0         \n",
            "                                                                 \n",
            " conv_3 (Conv2D)             (None, 32, 639, 32)       4640      \n",
            "                                                                 \n",
            " pool_3 (MaxPooling2D)       (None, 16, 319, 32)       0         \n",
            "                                                                 \n",
            " conv_4 (Conv2D)             (None, 16, 319, 64)       18496     \n",
            "                                                                 \n",
            " conv_4_2 (Conv2D)           (None, 16, 319, 64)       16448     \n",
            "                                                                 \n",
            " pool_4 (MaxPooling2D)       (None, 8, 159, 64)        0         \n",
            "                                                                 \n",
            " conv_5 (Conv2D)             (None, 8, 159, 128)       32896     \n",
            "                                                                 \n",
            " pool_5 (MaxPooling2D)       (None, 4, 79, 128)        0         \n",
            "                                                                 \n",
            " conv_6 (Conv2D)             (None, 4, 79, 286)        36894     \n",
            "                                                                 \n",
            " GAP (GlobalAveragePooling2D  (None, 286)              0         \n",
            " )                                                               \n",
            "                                                                 \n",
            " Dropout_GAP (Dropout)       (None, 286)               0         \n",
            "                                                                 \n",
            " Classifier (Dense)          (None, 64)                18368     \n",
            "                                                                 \n",
            " Dropout_Classifier (Dropout  (None, 64)               0         \n",
            " )                                                               \n",
            "                                                                 \n",
            " Classifier_2 (Dense)        (None, 32)                2080      \n",
            "                                                                 \n",
            " Dropout_Classifier_2 (Dropo  (None, 32)               0         \n",
            " ut)                                                             \n",
            "                                                                 \n",
            " Output (Dense)              (None, 2)                 66        \n",
            "                                                                 \n",
            "=================================================================\n",
            "Total params: 131,232\n",
            "Trainable params: 131,232\n",
            "Non-trainable params: 0\n",
            "_________________________________________________________________\n"
          ]
        }
      ]
    },
    {
      "cell_type": "code",
      "source": [
        "early_stopping = tfk.callbacks.EarlyStopping(monitor='val_loss', mode='min', patience=20, restore_best_weights=True)\n",
        "adaptive_LR = tfk.callbacks.ReduceLROnPlateau(monitor='val_loss', mode='min', patience=5, factor=0.5, min_lr=1e-4)\n",
        "\n",
        "standard_history = model.fit(\n",
        "    x = X_train,\n",
        "    y = Y_train,\n",
        "    epochs = 500,\n",
        "    batch_size = 20,\n",
        "    validation_data= (X_valid, Y_valid),\n",
        "    callbacks = [early_stopping, adaptive_LR]\n",
        "    )"
      ],
      "metadata": {
        "id": "yFUsDY6BRWi1",
        "colab": {
          "base_uri": "https://localhost:8080/"
        },
        "outputId": "d8ee999e-d66a-4860-865b-82409e833cd6"
      },
      "execution_count": 16,
      "outputs": [
        {
          "output_type": "stream",
          "name": "stdout",
          "text": [
            "Epoch 1/500\n",
            "7/7 [==============================] - 2s 191ms/step - loss: 0.7323 - accuracy: 0.6000 - val_loss: 0.6001 - val_accuracy: 0.5000 - lr: 0.0010\n",
            "Epoch 2/500\n",
            "7/7 [==============================] - 1s 123ms/step - loss: 0.6147 - accuracy: 0.7071 - val_loss: 0.4249 - val_accuracy: 0.9500 - lr: 0.0010\n",
            "Epoch 3/500\n",
            "7/7 [==============================] - 1s 135ms/step - loss: 0.3965 - accuracy: 0.8643 - val_loss: 0.1697 - val_accuracy: 0.9250 - lr: 0.0010\n",
            "Epoch 4/500\n",
            "7/7 [==============================] - 1s 121ms/step - loss: 0.3086 - accuracy: 0.8857 - val_loss: 0.0693 - val_accuracy: 0.9750 - lr: 0.0010\n",
            "Epoch 5/500\n",
            "7/7 [==============================] - 1s 122ms/step - loss: 0.1794 - accuracy: 0.9357 - val_loss: 0.0318 - val_accuracy: 1.0000 - lr: 0.0010\n",
            "Epoch 6/500\n",
            "7/7 [==============================] - 1s 121ms/step - loss: 0.1531 - accuracy: 0.9500 - val_loss: 0.0502 - val_accuracy: 0.9750 - lr: 0.0010\n",
            "Epoch 7/500\n",
            "7/7 [==============================] - 1s 131ms/step - loss: 0.1348 - accuracy: 0.9500 - val_loss: 0.0397 - val_accuracy: 0.9750 - lr: 0.0010\n",
            "Epoch 8/500\n",
            "7/7 [==============================] - 1s 132ms/step - loss: 0.1995 - accuracy: 0.9357 - val_loss: 0.0382 - val_accuracy: 0.9750 - lr: 0.0010\n",
            "Epoch 9/500\n",
            "7/7 [==============================] - 1s 121ms/step - loss: 0.2055 - accuracy: 0.9571 - val_loss: 0.0186 - val_accuracy: 1.0000 - lr: 0.0010\n",
            "Epoch 10/500\n",
            "7/7 [==============================] - 1s 121ms/step - loss: 0.1264 - accuracy: 0.9643 - val_loss: 0.0342 - val_accuracy: 1.0000 - lr: 0.0010\n",
            "Epoch 11/500\n",
            "7/7 [==============================] - 1s 121ms/step - loss: 0.0787 - accuracy: 0.9786 - val_loss: 0.0225 - val_accuracy: 1.0000 - lr: 0.0010\n",
            "Epoch 12/500\n",
            "7/7 [==============================] - 1s 122ms/step - loss: 0.1259 - accuracy: 0.9500 - val_loss: 0.0060 - val_accuracy: 1.0000 - lr: 0.0010\n",
            "Epoch 13/500\n",
            "7/7 [==============================] - 1s 123ms/step - loss: 0.1394 - accuracy: 0.9500 - val_loss: 0.0050 - val_accuracy: 1.0000 - lr: 0.0010\n",
            "Epoch 14/500\n",
            "7/7 [==============================] - 1s 134ms/step - loss: 0.0896 - accuracy: 0.9714 - val_loss: 0.0135 - val_accuracy: 1.0000 - lr: 0.0010\n",
            "Epoch 15/500\n",
            "7/7 [==============================] - 1s 133ms/step - loss: 0.0565 - accuracy: 0.9857 - val_loss: 0.0067 - val_accuracy: 1.0000 - lr: 0.0010\n",
            "Epoch 16/500\n",
            "7/7 [==============================] - 1s 122ms/step - loss: 0.0721 - accuracy: 0.9786 - val_loss: 0.0032 - val_accuracy: 1.0000 - lr: 0.0010\n",
            "Epoch 17/500\n",
            "7/7 [==============================] - 1s 133ms/step - loss: 0.0419 - accuracy: 0.9857 - val_loss: 0.0014 - val_accuracy: 1.0000 - lr: 0.0010\n",
            "Epoch 18/500\n",
            "7/7 [==============================] - 1s 122ms/step - loss: 0.0567 - accuracy: 0.9857 - val_loss: 0.0017 - val_accuracy: 1.0000 - lr: 0.0010\n",
            "Epoch 19/500\n",
            "7/7 [==============================] - 1s 121ms/step - loss: 0.0476 - accuracy: 0.9857 - val_loss: 0.0024 - val_accuracy: 1.0000 - lr: 0.0010\n",
            "Epoch 20/500\n",
            "7/7 [==============================] - 1s 122ms/step - loss: 0.0460 - accuracy: 0.9786 - val_loss: 0.0022 - val_accuracy: 1.0000 - lr: 0.0010\n",
            "Epoch 21/500\n",
            "7/7 [==============================] - 1s 132ms/step - loss: 0.0423 - accuracy: 0.9857 - val_loss: 0.0020 - val_accuracy: 1.0000 - lr: 0.0010\n",
            "Epoch 22/500\n",
            "7/7 [==============================] - 1s 133ms/step - loss: 0.1186 - accuracy: 0.9571 - val_loss: 0.0031 - val_accuracy: 1.0000 - lr: 0.0010\n",
            "Epoch 23/500\n",
            "7/7 [==============================] - 1s 122ms/step - loss: 0.0811 - accuracy: 0.9786 - val_loss: 0.0149 - val_accuracy: 1.0000 - lr: 5.0000e-04\n",
            "Epoch 24/500\n",
            "7/7 [==============================] - 1s 121ms/step - loss: 0.0448 - accuracy: 0.9857 - val_loss: 0.0059 - val_accuracy: 1.0000 - lr: 5.0000e-04\n",
            "Epoch 25/500\n",
            "7/7 [==============================] - 1s 133ms/step - loss: 0.0475 - accuracy: 0.9786 - val_loss: 0.0039 - val_accuracy: 1.0000 - lr: 5.0000e-04\n",
            "Epoch 26/500\n",
            "7/7 [==============================] - 1s 121ms/step - loss: 0.0544 - accuracy: 0.9857 - val_loss: 0.0019 - val_accuracy: 1.0000 - lr: 5.0000e-04\n",
            "Epoch 27/500\n",
            "7/7 [==============================] - 1s 123ms/step - loss: 0.0465 - accuracy: 0.9857 - val_loss: 0.0026 - val_accuracy: 1.0000 - lr: 5.0000e-04\n",
            "Epoch 28/500\n",
            "7/7 [==============================] - 1s 122ms/step - loss: 0.0299 - accuracy: 0.9857 - val_loss: 0.0027 - val_accuracy: 1.0000 - lr: 2.5000e-04\n",
            "Epoch 29/500\n",
            "7/7 [==============================] - 1s 121ms/step - loss: 0.0330 - accuracy: 0.9857 - val_loss: 0.0024 - val_accuracy: 1.0000 - lr: 2.5000e-04\n",
            "Epoch 30/500\n",
            "7/7 [==============================] - 1s 122ms/step - loss: 0.0262 - accuracy: 0.9929 - val_loss: 0.0021 - val_accuracy: 1.0000 - lr: 2.5000e-04\n",
            "Epoch 31/500\n",
            "7/7 [==============================] - 1s 133ms/step - loss: 0.0312 - accuracy: 0.9857 - val_loss: 0.0016 - val_accuracy: 1.0000 - lr: 2.5000e-04\n",
            "Epoch 32/500\n",
            "7/7 [==============================] - 1s 123ms/step - loss: 0.0418 - accuracy: 0.9857 - val_loss: 0.0016 - val_accuracy: 1.0000 - lr: 2.5000e-04\n",
            "Epoch 33/500\n",
            "7/7 [==============================] - 1s 122ms/step - loss: 0.0374 - accuracy: 0.9786 - val_loss: 0.0015 - val_accuracy: 1.0000 - lr: 1.2500e-04\n",
            "Epoch 34/500\n",
            "7/7 [==============================] - 1s 122ms/step - loss: 0.0245 - accuracy: 0.9857 - val_loss: 0.0015 - val_accuracy: 1.0000 - lr: 1.2500e-04\n",
            "Epoch 35/500\n",
            "7/7 [==============================] - 1s 132ms/step - loss: 0.0281 - accuracy: 0.9857 - val_loss: 0.0015 - val_accuracy: 1.0000 - lr: 1.2500e-04\n",
            "Epoch 36/500\n",
            "7/7 [==============================] - 1s 132ms/step - loss: 0.0381 - accuracy: 0.9857 - val_loss: 0.0016 - val_accuracy: 1.0000 - lr: 1.2500e-04\n",
            "Epoch 37/500\n",
            "7/7 [==============================] - 1s 126ms/step - loss: 0.0469 - accuracy: 0.9857 - val_loss: 0.0014 - val_accuracy: 1.0000 - lr: 1.2500e-04\n"
          ]
        }
      ]
    },
    {
      "cell_type": "code",
      "source": [
        "predictions = model.predict(X_test)\n",
        "\n",
        "# Compute the confusion matrix\n",
        "cm = confusion_matrix(np.argmax(Y_test, axis=-1), np.argmax(predictions, axis=-1))\n",
        "\n",
        "# Compute the classification metrics\n",
        "accuracy = accuracy_score(np.argmax(Y_test, axis=-1), np.argmax(predictions, axis=-1))\n",
        "precision = precision_score(np.argmax(Y_test, axis=-1), np.argmax(predictions, axis=-1), average='macro')\n",
        "recall = recall_score(np.argmax(Y_test, axis=-1), np.argmax(predictions, axis=-1), average='macro')\n",
        "f1 = f1_score(np.argmax(Y_test, axis=-1), np.argmax(predictions, axis=-1), average='macro')\n",
        "print('Accuracy:',accuracy.round(4))\n",
        "print('Precision:',precision.round(4))\n",
        "print('Recall:',recall.round(4))\n",
        "print('F1:',f1.round(4))\n",
        "\n",
        "# Plot the confusion matrix\n",
        "plt.figure(figsize=(10,8))\n",
        "sns.heatmap(cm.T)#, xticklabels=list(labels.values()), yticklabels=list(labels.values()))\n",
        "plt.xlabel('True labels')\n",
        "plt.ylabel('Predicted labels')\n",
        "plt.show()"
      ],
      "metadata": {
        "id": "6Xlmj6RaRRvk",
        "colab": {
          "base_uri": "https://localhost:8080/",
          "height": 573
        },
        "outputId": "1e4da132-d059-4405-9508-cfd8085629ca"
      },
      "execution_count": 18,
      "outputs": [
        {
          "output_type": "stream",
          "name": "stdout",
          "text": [
            "Accuracy: 0.95\n",
            "Precision: 0.9545\n",
            "Recall: 0.95\n",
            "F1: 0.9499\n"
          ]
        },
        {
          "output_type": "display_data",
          "data": {
            "text/plain": [
              "<Figure size 720x576 with 2 Axes>"
            ],
            "image/png": "[encoded data removed]"
          },
          "metadata": {
            "needs_background": "light"
          }
        }
      ]
    },
    {
      "cell_type": "code",
      "source": [
        "model.save('/gdrive/MyDrive/polimi/NAML/NAML_proj/models/hiphopvclassical/hiphopvclassical')"
      ],
      "metadata": {
        "colab": {
          "base_uri": "https://localhost:8080/"
        },
        "id": "SO-HKBQc9I7r",
        "outputId": "fd667ff1-ad16-49ea-bd80-e7c76761b48f"
      },
      "execution_count": 13,
      "outputs": [
        {
          "output_type": "stream",
          "name": "stderr",
          "text": [
            "WARNING:absl:Function `_wrapped_model` contains input name(s) Input with unsupported characters which will be renamed to input in the SavedModel.\n"
          ]
        },
        {
          "output_type": "stream",
          "name": "stdout",
          "text": [
            "INFO:tensorflow:Assets written to: /gdrive/MyDrive/polimi/NAML/NAML_proj/models/hiphopvclassical/hiphopvclassical/assets\n"
          ]
        },
        {
          "output_type": "stream",
          "name": "stderr",
          "text": [
            "INFO:tensorflow:Assets written to: /gdrive/MyDrive/polimi/NAML/NAML_proj/models/hiphopvclassical/hiphopvclassical/assets\n"
          ]
        }
      ]
    }
  ]
}