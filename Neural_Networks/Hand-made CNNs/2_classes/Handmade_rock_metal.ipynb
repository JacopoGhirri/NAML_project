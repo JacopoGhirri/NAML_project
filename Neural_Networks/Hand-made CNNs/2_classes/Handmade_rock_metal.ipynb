{
  "nbformat": 4,
  "nbformat_minor": 0,
  "metadata": {
    "colab": {
      "name": "Handmade_rock_metal.ipynb",
      "provenance": []
    },
    "kernelspec": {
      "name": "python3",
      "display_name": "Python 3"
    },
    "language_info": {
      "name": "python"
    },
    "accelerator": "GPU"
  },
  "cells": [
    {
      "cell_type": "markdown",
      "source": [
        "## Black Box Approach for 2 genres classification - Rock vs Metal\n",
        "\n",
        "We aim at training a Neural Network to distinguish between two genres: rock and metal."
      ],
      "metadata": {
        "id": "gKB_Sss8Ql-3"
      }
    },
    {
      "cell_type": "code",
      "execution_count": 1,
      "metadata": {
        "id": "SwPJ54sBQlFO",
        "colab": {
          "base_uri": "https://localhost:8080/"
        },
        "outputId": "a5a82379-4f57-4d05-8a04-55a2e0bd979c"
      },
      "outputs": [
        {
          "output_type": "stream",
          "name": "stdout",
          "text": [
            "Mounted at /gdrive\n"
          ]
        }
      ],
      "source": [
        "#importing google drive\n",
        "from google.colab import drive\n",
        "drive.mount('/gdrive')"
      ]
    },
    {
      "cell_type": "code",
      "source": [
        "#setting the working directory\n",
        "%cd /gdrive/MyDrive/polimi/NAML/NAML_proj/"
      ],
      "metadata": {
        "id": "iYHj7NhnQs_-",
        "colab": {
          "base_uri": "https://localhost:8080/"
        },
        "outputId": "9c26aa72-dd92-489a-9b55-a1998d6f580f"
      },
      "execution_count": 2,
      "outputs": [
        {
          "output_type": "stream",
          "name": "stdout",
          "text": [
            "/gdrive/MyDrive/polimi/NAML/NAML_proj\n"
          ]
        }
      ]
    },
    {
      "cell_type": "code",
      "source": [
        "import tensorflow as tf\n",
        "from PIL import Image\n",
        "import numpy as np\n",
        "import os\n",
        "import random\n",
        "import seaborn as sns\n",
        "import matplotlib as mpl\n",
        "import matplotlib.pyplot as plt\n",
        "from sklearn.model_selection import train_test_split\n",
        "from sklearn.metrics import accuracy_score, f1_score, precision_score, recall_score\n",
        "from sklearn.metrics import confusion_matrix\n",
        "import librosa\n",
        "import os\n",
        "\n",
        "tfk = tf.keras\n",
        "tfkl = tf.keras.layers\n",
        "seed = 42"
      ],
      "metadata": {
        "id": "INc4ttEUQuxN"
      },
      "execution_count": 3,
      "outputs": []
    },
    {
      "cell_type": "markdown",
      "source": [
        "The dataset is composed of Mel-Spectrograms of each audio sample, labeled with respect to each genre"
      ],
      "metadata": {
        "id": "IoV9bIbPfg55"
      }
    },
    {
      "cell_type": "code",
      "source": [
        "dataset = []\n",
        "#genres = {'blues': 0, 'classical': 1, 'country': 2, 'disco': 3, 'hiphop': 4, 'jazz': 5, 'metal': 6, 'pop': 7, 'reggae': 8, 'rock': 9}\n",
        "genres = {'metal': 0, 'rock': 1}\n",
        "n_genres = 2\n",
        "\n",
        "for genre, genre_number in genres.items():\n",
        "    for filename in os.listdir(f'dataset_old/genres/{genre}'):\n",
        "        songname = f'dataset_old/genres/{genre}/{filename}'\n",
        "        y, sr = librosa.load(songname, mono=True, duration=29.7)\n",
        "        ps = librosa.feature.melspectrogram(y=y, sr=sr, hop_length = 256, n_fft = 512)\n",
        "        ps = librosa.power_to_db(ps**2)\n",
        "        dataset.append( (ps, genre_number) )\n",
        "    print(str(genre+' done'))"
      ],
      "metadata": {
        "id": "oiT5mkVqQ_lt",
        "colab": {
          "base_uri": "https://localhost:8080/"
        },
        "outputId": "b16608b0-ef06-4280-ec93-d15cb8219134"
      },
      "execution_count": 4,
      "outputs": [
        {
          "output_type": "stream",
          "name": "stdout",
          "text": [
            "metal done\n",
            "rock done\n"
          ]
        }
      ]
    },
    {
      "cell_type": "markdown",
      "source": [
        "We split the dataset according to the following composition:\n",
        "\n",
        "\n",
        "*   70% training set\n",
        "*   20% validation set\n",
        "*   10% test set\n",
        "\n",
        "Maintaining equal proportions amongst classes\n",
        "\n"
      ],
      "metadata": {
        "id": "0sgOQfv-gZ04"
      }
    },
    {
      "cell_type": "code",
      "source": [
        "order = np.arange(start = 0, stop = 100, step = 1)\n",
        "\n",
        "np.random.seed(seed)\n",
        "\n",
        "training = []\n",
        "validation = []\n",
        "test = []\n",
        "\n",
        "for i in range(n_genres):\n",
        "  shuffle = np.random.permutation(order)\n",
        "  for k in range(70):\n",
        "    training.append(dataset[i*100 + shuffle[k]])\n",
        "  for l in range(20):\n",
        "    validation.append(dataset[i*100 + shuffle[l+70]])\n",
        "  for m in range(10):\n",
        "    test.append(dataset[i*100 + shuffle[m+90]])"
      ],
      "metadata": {
        "id": "OSUK8JPgRFVF"
      },
      "execution_count": 5,
      "outputs": []
    },
    {
      "cell_type": "code",
      "source": [
        "X_train, Y_train = zip(*training)\n",
        "X_valid, Y_valid = zip(*validation)\n",
        "X_test, Y_test = zip(*test)\n",
        "\n",
        "X_train = np.array([x.reshape( (128, 2559, 1) ) for x in X_train])\n",
        "X_valid = np.array([x.reshape( (128, 2559, 1) ) for x in X_valid])\n",
        "X_test = np.array([x.reshape( (128, 2559, 1) ) for x in X_test])\n",
        "\n",
        "Y_train = np.array(tfk.utils.to_categorical(Y_train, n_genres))\n",
        "Y_valid = np.array(tfk.utils.to_categorical(Y_valid, n_genres))\n",
        "Y_test = np.array(tfk.utils.to_categorical(Y_test, n_genres))"
      ],
      "metadata": {
        "id": "WA29NV-URMuG"
      },
      "execution_count": 6,
      "outputs": []
    },
    {
      "cell_type": "markdown",
      "source": [
        "The proposed model is composed as a stack of convolutional layer, followed by a Global Average Pooling layer leading to a fully connected section.\n",
        "\n",
        "Optimization is performed as a Batch version of Adam optimizer algorithm"
      ],
      "metadata": {
        "id": "O6AvTMw2hgxB"
      }
    },
    {
      "cell_type": "code",
      "source": [
        "def build_model(input_shape, n_units):\n",
        "# Build the neural network layer by layer\n",
        "    input_layer = tfkl.Input(shape=input_shape, name='Input')\n",
        "\n",
        "    conv1 = tfkl.Conv2D(\n",
        "        name = 'conv_1',\n",
        "        filters=4,\n",
        "        kernel_size=(5, 5),\n",
        "        strides = (1, 1),\n",
        "        padding = 'same',\n",
        "        activation = 'relu',\n",
        "        kernel_initializer = tfk.initializers.GlorotUniform(seed)\n",
        "    )(input_layer)\n",
        "    conv1_2 = tfkl.Conv2D(\n",
        "        name = 'conv_1_2',\n",
        "        filters=8,\n",
        "        kernel_size=(3, 3),\n",
        "        strides = (1, 1),\n",
        "        padding = 'same',\n",
        "        activation = 'relu',\n",
        "        kernel_initializer = tfk.initializers.GlorotUniform(seed)\n",
        "    )(conv1)\n",
        "    pool1 = tfkl.MaxPooling2D(\n",
        "        name = 'pool_1',\n",
        "        pool_size = (2, 2)\n",
        "    )(conv1_2)\n",
        "\n",
        "    conv2 = tfkl.Conv2D(\n",
        "        name = 'conv_2',\n",
        "        filters=16,\n",
        "        kernel_size=(3, 3),\n",
        "        strides = (1, 1),\n",
        "        padding = 'same',\n",
        "        activation = 'relu',\n",
        "        kernel_initializer = tfk.initializers.GlorotUniform(seed)\n",
        "    )(pool1)\n",
        "    pool2 = tfkl.MaxPooling2D(\n",
        "        name = 'pool_2',\n",
        "        pool_size = (2, 2)\n",
        "    )(conv2)\n",
        "\n",
        "    conv3 = tfkl.Conv2D(\n",
        "        name = 'conv_3',\n",
        "        filters=32,\n",
        "        kernel_size=(3, 3),\n",
        "        strides = (1, 1),\n",
        "        padding = 'same',\n",
        "        activation = 'relu',\n",
        "        kernel_initializer = tfk.initializers.GlorotUniform(seed)\n",
        "    )(pool2)\n",
        "    pool3 = tfkl.MaxPooling2D(\n",
        "        name = 'pool_3',\n",
        "        pool_size = (2, 2)\n",
        "    )(conv3)\n",
        "\n",
        "    conv4 = tfkl.Conv2D(\n",
        "        name = 'conv_4',\n",
        "        filters=64,\n",
        "        kernel_size=(3, 3),\n",
        "        strides = (1, 1),\n",
        "        padding = 'same',\n",
        "        activation = 'relu',\n",
        "        kernel_initializer = tfk.initializers.GlorotUniform(seed)\n",
        "    )(pool3)\n",
        "    pool4 = tfkl.MaxPooling2D(\n",
        "        name = 'pool_4',\n",
        "        pool_size = (2, 2)\n",
        "    )(conv4)\n",
        "\n",
        "    conv5 = tfkl.Conv2D(\n",
        "        name = 'conv_5',\n",
        "        filters=128,\n",
        "        kernel_size=(3, 3),\n",
        "        strides = (1, 1),\n",
        "        padding = 'same',\n",
        "        activation = 'relu',\n",
        "        kernel_initializer = tfk.initializers.GlorotUniform(seed)\n",
        "    )(pool4)\n",
        "    pool5 = tfkl.MaxPooling2D(\n",
        "        name = 'pool_5',\n",
        "        pool_size = (2, 2)\n",
        "    )(conv5)\n",
        "\n",
        "    conv6 = tfkl.Conv2D(\n",
        "        name = 'conv_6',\n",
        "        filters=256,\n",
        "        kernel_size=(1, 1),\n",
        "        strides = (1, 1),\n",
        "        padding = 'same',\n",
        "        activation = 'relu',\n",
        "        kernel_initializer = tfk.initializers.GlorotUniform(seed)\n",
        "    )(pool5)\n",
        "    \n",
        "    global_average = tfkl.GlobalAveragePooling2D(name = 'GAP')(conv6)\n",
        "    global_average = tfkl.Dropout(0.3, seed=seed, name = 'Dropout_GAP')(global_average)\n",
        "    \n",
        "    classifier_layer = tfkl.Dense(units=64, name='Classifier', activation='relu')(global_average)\n",
        "    \n",
        "    classifier_layer = tfkl.Dropout(0.3, seed=seed, name = 'Dropout_Classifier')(classifier_layer)\n",
        "    classifier_layer_2 = tfkl.Dense(units=32, name='Classifier_2', activation='relu')(classifier_layer)\n",
        "    classifier_layer_2 = tfkl.Dropout(0.25, seed=seed, name = 'Dropout_Classifier_2')(classifier_layer_2)\n",
        "    output_layer = tfkl.Dense(units=n_units, activation='softmax', name='Output')(classifier_layer_2)\n",
        "\n",
        "    # Connect input and output through the Model class\n",
        "    model = tfk.Model(inputs=input_layer, outputs=output_layer, name='model')\n",
        "\n",
        "    # Compile the model\n",
        "    model.compile(loss=tfk.losses.CategoricalCrossentropy(), optimizer=tfk.optimizers.Adam(), metrics='accuracy')\n",
        "\n",
        "    # Return the model\n",
        "\n",
        "    return model"
      ],
      "metadata": {
        "id": "lR2QkBoSQ8lW"
      },
      "execution_count": 38,
      "outputs": []
    },
    {
      "cell_type": "code",
      "source": [
        "input_shape = (128, 2559, 1)\n",
        "\n",
        "model = build_model(input_shape, n_genres)\n",
        "\n",
        "model.summary()"
      ],
      "metadata": {
        "id": "zIitkAlGQ-mM",
        "colab": {
          "base_uri": "https://localhost:8080/"
        },
        "outputId": "52085599-e22a-4c4f-a8b7-39154393ba18"
      },
      "execution_count": 39,
      "outputs": [
        {
          "output_type": "stream",
          "name": "stdout",
          "text": [
            "Model: \"model\"\n",
            "_________________________________________________________________\n",
            " Layer (type)                Output Shape              Param #   \n",
            "=================================================================\n",
            " Input (InputLayer)          [(None, 128, 2559, 1)]    0         \n",
            "                                                                 \n",
            " conv_1 (Conv2D)             (None, 128, 2559, 4)      104       \n",
            "                                                                 \n",
            " conv_1_2 (Conv2D)           (None, 128, 2559, 8)      296       \n",
            "                                                                 \n",
            " pool_1 (MaxPooling2D)       (None, 64, 1279, 8)       0         \n",
            "                                                                 \n",
            " conv_2 (Conv2D)             (None, 64, 1279, 16)      1168      \n",
            "                                                                 \n",
            " pool_2 (MaxPooling2D)       (None, 32, 639, 16)       0         \n",
            "                                                                 \n",
            " conv_3 (Conv2D)             (None, 32, 639, 32)       4640      \n",
            "                                                                 \n",
            " pool_3 (MaxPooling2D)       (None, 16, 319, 32)       0         \n",
            "                                                                 \n",
            " conv_4 (Conv2D)             (None, 16, 319, 64)       18496     \n",
            "                                                                 \n",
            " pool_4 (MaxPooling2D)       (None, 8, 159, 64)        0         \n",
            "                                                                 \n",
            " conv_5 (Conv2D)             (None, 8, 159, 128)       73856     \n",
            "                                                                 \n",
            " pool_5 (MaxPooling2D)       (None, 4, 79, 128)        0         \n",
            "                                                                 \n",
            " conv_6 (Conv2D)             (None, 4, 79, 256)        33024     \n",
            "                                                                 \n",
            " GAP (GlobalAveragePooling2D  (None, 256)              0         \n",
            " )                                                               \n",
            "                                                                 \n",
            " Dropout_GAP (Dropout)       (None, 256)               0         \n",
            "                                                                 \n",
            " Classifier (Dense)          (None, 64)                16448     \n",
            "                                                                 \n",
            " Dropout_Classifier (Dropout  (None, 64)               0         \n",
            " )                                                               \n",
            "                                                                 \n",
            " Classifier_2 (Dense)        (None, 32)                2080      \n",
            "                                                                 \n",
            " Dropout_Classifier_2 (Dropo  (None, 32)               0         \n",
            " ut)                                                             \n",
            "                                                                 \n",
            " Output (Dense)              (None, 2)                 66        \n",
            "                                                                 \n",
            "=================================================================\n",
            "Total params: 150,178\n",
            "Trainable params: 150,178\n",
            "Non-trainable params: 0\n",
            "_________________________________________________________________\n"
          ]
        }
      ]
    },
    {
      "cell_type": "code",
      "source": [
        "early_stopping = tfk.callbacks.EarlyStopping(monitor='val_loss', mode='min', patience=20, restore_best_weights=True)\n",
        "adaptive_LR = tfk.callbacks.ReduceLROnPlateau(monitor='val_loss', mode='min', patience=5, factor=0.5, min_lr=1e-4)\n",
        "\n",
        "standard_history = model.fit(\n",
        "    x = X_train,\n",
        "    y = Y_train,\n",
        "    epochs = 500,\n",
        "    batch_size = 20,\n",
        "    validation_data= (X_valid, Y_valid),\n",
        "    callbacks = [early_stopping, adaptive_LR]\n",
        "    )"
      ],
      "metadata": {
        "id": "yFUsDY6BRWi1",
        "colab": {
          "base_uri": "https://localhost:8080/"
        },
        "outputId": "de924e8b-f1e7-416b-c667-991e46c91854"
      },
      "execution_count": 40,
      "outputs": [
        {
          "output_type": "stream",
          "name": "stdout",
          "text": [
            "Epoch 1/500\n",
            "7/7 [==============================] - 3s 310ms/step - loss: 0.8291 - accuracy: 0.4500 - val_loss: 0.6934 - val_accuracy: 0.5000 - lr: 0.0010\n",
            "Epoch 2/500\n",
            "7/7 [==============================] - 2s 257ms/step - loss: 0.7291 - accuracy: 0.5143 - val_loss: 0.6913 - val_accuracy: 0.5000 - lr: 0.0010\n",
            "Epoch 3/500\n",
            "7/7 [==============================] - 2s 234ms/step - loss: 0.6996 - accuracy: 0.4643 - val_loss: 0.6931 - val_accuracy: 0.4750 - lr: 0.0010\n",
            "Epoch 4/500\n",
            "7/7 [==============================] - 2s 235ms/step - loss: 0.6945 - accuracy: 0.4857 - val_loss: 0.6940 - val_accuracy: 0.5000 - lr: 0.0010\n",
            "Epoch 5/500\n",
            "7/7 [==============================] - 2s 233ms/step - loss: 0.6935 - accuracy: 0.5214 - val_loss: 0.6938 - val_accuracy: 0.5000 - lr: 0.0010\n",
            "Epoch 6/500\n",
            "7/7 [==============================] - 2s 234ms/step - loss: 0.6926 - accuracy: 0.4714 - val_loss: 0.6924 - val_accuracy: 0.5000 - lr: 0.0010\n",
            "Epoch 7/500\n",
            "7/7 [==============================] - 2s 236ms/step - loss: 0.6908 - accuracy: 0.4714 - val_loss: 0.6905 - val_accuracy: 0.6250 - lr: 0.0010\n",
            "Epoch 8/500\n",
            "7/7 [==============================] - 2s 257ms/step - loss: 0.6921 - accuracy: 0.4929 - val_loss: 0.6864 - val_accuracy: 0.6500 - lr: 0.0010\n",
            "Epoch 9/500\n",
            "7/7 [==============================] - 2s 235ms/step - loss: 0.6871 - accuracy: 0.5643 - val_loss: 0.6765 - val_accuracy: 0.6500 - lr: 0.0010\n",
            "Epoch 10/500\n",
            "7/7 [==============================] - 2s 235ms/step - loss: 0.6799 - accuracy: 0.5714 - val_loss: 0.6771 - val_accuracy: 0.5750 - lr: 0.0010\n",
            "Epoch 11/500\n",
            "7/7 [==============================] - 2s 233ms/step - loss: 0.6847 - accuracy: 0.5786 - val_loss: 0.6825 - val_accuracy: 0.5500 - lr: 0.0010\n",
            "Epoch 12/500\n",
            "7/7 [==============================] - 2s 234ms/step - loss: 0.6709 - accuracy: 0.5929 - val_loss: 0.6739 - val_accuracy: 0.5500 - lr: 0.0010\n",
            "Epoch 13/500\n",
            "7/7 [==============================] - 2s 234ms/step - loss: 0.6395 - accuracy: 0.6214 - val_loss: 0.6715 - val_accuracy: 0.6250 - lr: 0.0010\n",
            "Epoch 14/500\n",
            "7/7 [==============================] - 2s 232ms/step - loss: 0.6466 - accuracy: 0.6643 - val_loss: 0.7210 - val_accuracy: 0.6500 - lr: 0.0010\n",
            "Epoch 15/500\n",
            "7/7 [==============================] - 2s 258ms/step - loss: 0.6150 - accuracy: 0.7143 - val_loss: 0.6736 - val_accuracy: 0.5750 - lr: 0.0010\n",
            "Epoch 16/500\n",
            "7/7 [==============================] - 2s 259ms/step - loss: 0.5869 - accuracy: 0.6643 - val_loss: 0.6281 - val_accuracy: 0.6000 - lr: 0.0010\n",
            "Epoch 17/500\n",
            "7/7 [==============================] - 2s 234ms/step - loss: 0.4689 - accuracy: 0.8071 - val_loss: 0.6068 - val_accuracy: 0.7000 - lr: 0.0010\n",
            "Epoch 18/500\n",
            "7/7 [==============================] - 2s 233ms/step - loss: 0.4303 - accuracy: 0.8143 - val_loss: 0.7154 - val_accuracy: 0.7000 - lr: 0.0010\n",
            "Epoch 19/500\n",
            "7/7 [==============================] - 2s 235ms/step - loss: 0.3140 - accuracy: 0.8714 - val_loss: 0.3989 - val_accuracy: 0.8750 - lr: 0.0010\n",
            "Epoch 20/500\n",
            "7/7 [==============================] - 2s 231ms/step - loss: 0.4711 - accuracy: 0.7929 - val_loss: 0.6617 - val_accuracy: 0.6750 - lr: 0.0010\n",
            "Epoch 21/500\n",
            "7/7 [==============================] - 2s 233ms/step - loss: 0.3968 - accuracy: 0.8214 - val_loss: 0.4008 - val_accuracy: 0.8750 - lr: 0.0010\n",
            "Epoch 22/500\n",
            "7/7 [==============================] - 2s 249ms/step - loss: 0.3205 - accuracy: 0.8929 - val_loss: 0.4193 - val_accuracy: 0.7750 - lr: 0.0010\n",
            "Epoch 23/500\n",
            "7/7 [==============================] - 2s 239ms/step - loss: 0.2890 - accuracy: 0.8857 - val_loss: 0.4282 - val_accuracy: 0.8500 - lr: 0.0010\n",
            "Epoch 24/500\n",
            "7/7 [==============================] - 2s 233ms/step - loss: 0.2453 - accuracy: 0.9214 - val_loss: 0.4446 - val_accuracy: 0.8500 - lr: 0.0010\n",
            "Epoch 25/500\n",
            "7/7 [==============================] - 2s 235ms/step - loss: 0.2128 - accuracy: 0.9143 - val_loss: 0.4340 - val_accuracy: 0.8250 - lr: 5.0000e-04\n",
            "Epoch 26/500\n",
            "7/7 [==============================] - 2s 235ms/step - loss: 0.2070 - accuracy: 0.9071 - val_loss: 0.4677 - val_accuracy: 0.8500 - lr: 5.0000e-04\n",
            "Epoch 27/500\n",
            "7/7 [==============================] - 2s 258ms/step - loss: 0.2541 - accuracy: 0.8857 - val_loss: 0.6009 - val_accuracy: 0.7750 - lr: 5.0000e-04\n",
            "Epoch 28/500\n",
            "7/7 [==============================] - 2s 232ms/step - loss: 0.3096 - accuracy: 0.9071 - val_loss: 0.4320 - val_accuracy: 0.8500 - lr: 5.0000e-04\n",
            "Epoch 29/500\n",
            "7/7 [==============================] - 2s 236ms/step - loss: 0.2327 - accuracy: 0.9000 - val_loss: 0.3959 - val_accuracy: 0.8500 - lr: 5.0000e-04\n",
            "Epoch 30/500\n",
            "7/7 [==============================] - 2s 232ms/step - loss: 0.2104 - accuracy: 0.9071 - val_loss: 0.6407 - val_accuracy: 0.8250 - lr: 5.0000e-04\n",
            "Epoch 31/500\n",
            "7/7 [==============================] - 2s 256ms/step - loss: 0.2261 - accuracy: 0.9071 - val_loss: 0.4029 - val_accuracy: 0.8250 - lr: 5.0000e-04\n",
            "Epoch 32/500\n",
            "7/7 [==============================] - 2s 234ms/step - loss: 0.1532 - accuracy: 0.9643 - val_loss: 0.5394 - val_accuracy: 0.8000 - lr: 5.0000e-04\n",
            "Epoch 33/500\n",
            "7/7 [==============================] - 2s 234ms/step - loss: 0.1771 - accuracy: 0.9143 - val_loss: 0.5083 - val_accuracy: 0.8500 - lr: 5.0000e-04\n",
            "Epoch 34/500\n",
            "7/7 [==============================] - 2s 259ms/step - loss: 0.1727 - accuracy: 0.9286 - val_loss: 0.6191 - val_accuracy: 0.7750 - lr: 5.0000e-04\n",
            "Epoch 35/500\n",
            "7/7 [==============================] - 2s 236ms/step - loss: 0.2018 - accuracy: 0.9429 - val_loss: 0.4864 - val_accuracy: 0.8500 - lr: 2.5000e-04\n",
            "Epoch 36/500\n",
            "7/7 [==============================] - 2s 258ms/step - loss: 0.1855 - accuracy: 0.9143 - val_loss: 0.5870 - val_accuracy: 0.8500 - lr: 2.5000e-04\n",
            "Epoch 37/500\n",
            "7/7 [==============================] - 2s 234ms/step - loss: 0.1718 - accuracy: 0.9214 - val_loss: 0.5017 - val_accuracy: 0.8500 - lr: 2.5000e-04\n",
            "Epoch 38/500\n",
            "7/7 [==============================] - 2s 234ms/step - loss: 0.1700 - accuracy: 0.9214 - val_loss: 0.5820 - val_accuracy: 0.8250 - lr: 2.5000e-04\n",
            "Epoch 39/500\n",
            "7/7 [==============================] - 2s 235ms/step - loss: 0.1236 - accuracy: 0.9571 - val_loss: 0.4822 - val_accuracy: 0.8500 - lr: 2.5000e-04\n",
            "Epoch 40/500\n",
            "7/7 [==============================] - 2s 231ms/step - loss: 0.1171 - accuracy: 0.9571 - val_loss: 0.5370 - val_accuracy: 0.8250 - lr: 1.2500e-04\n",
            "Epoch 41/500\n",
            "7/7 [==============================] - 2s 256ms/step - loss: 0.1199 - accuracy: 0.9429 - val_loss: 0.5437 - val_accuracy: 0.8500 - lr: 1.2500e-04\n",
            "Epoch 42/500\n",
            "7/7 [==============================] - 2s 234ms/step - loss: 0.1077 - accuracy: 0.9429 - val_loss: 0.5292 - val_accuracy: 0.8500 - lr: 1.2500e-04\n",
            "Epoch 43/500\n",
            "7/7 [==============================] - 2s 235ms/step - loss: 0.1355 - accuracy: 0.9500 - val_loss: 0.5655 - val_accuracy: 0.8250 - lr: 1.2500e-04\n",
            "Epoch 44/500\n",
            "7/7 [==============================] - 2s 235ms/step - loss: 0.1361 - accuracy: 0.9357 - val_loss: 0.5306 - val_accuracy: 0.8000 - lr: 1.2500e-04\n",
            "Epoch 45/500\n",
            "7/7 [==============================] - 2s 234ms/step - loss: 0.1236 - accuracy: 0.9571 - val_loss: 0.5308 - val_accuracy: 0.8000 - lr: 1.0000e-04\n",
            "Epoch 46/500\n",
            "7/7 [==============================] - 2s 235ms/step - loss: 0.1166 - accuracy: 0.9500 - val_loss: 0.6193 - val_accuracy: 0.8250 - lr: 1.0000e-04\n",
            "Epoch 47/500\n",
            "7/7 [==============================] - 2s 234ms/step - loss: 0.1027 - accuracy: 0.9643 - val_loss: 0.5337 - val_accuracy: 0.8250 - lr: 1.0000e-04\n",
            "Epoch 48/500\n",
            "7/7 [==============================] - 2s 233ms/step - loss: 0.1715 - accuracy: 0.9286 - val_loss: 0.5723 - val_accuracy: 0.8250 - lr: 1.0000e-04\n",
            "Epoch 49/500\n",
            "7/7 [==============================] - 2s 235ms/step - loss: 0.1362 - accuracy: 0.9286 - val_loss: 0.6138 - val_accuracy: 0.8250 - lr: 1.0000e-04\n"
          ]
        }
      ]
    },
    {
      "cell_type": "code",
      "source": [
        "predictions = model.predict(X_test)\n",
        "\n",
        "# Compute the confusion matrix\n",
        "cm = confusion_matrix(np.argmax(Y_test, axis=-1), np.argmax(predictions, axis=-1))\n",
        "\n",
        "# Compute the classification metrics\n",
        "accuracy = accuracy_score(np.argmax(Y_test, axis=-1), np.argmax(predictions, axis=-1))\n",
        "precision = precision_score(np.argmax(Y_test, axis=-1), np.argmax(predictions, axis=-1), average='macro')\n",
        "recall = recall_score(np.argmax(Y_test, axis=-1), np.argmax(predictions, axis=-1), average='macro')\n",
        "f1 = f1_score(np.argmax(Y_test, axis=-1), np.argmax(predictions, axis=-1), average='macro')\n",
        "print('Accuracy:',accuracy.round(4))\n",
        "print('Precision:',precision.round(4))\n",
        "print('Recall:',recall.round(4))\n",
        "print('F1:',f1.round(4))\n",
        "\n",
        "# Plot the confusion matrix\n",
        "plt.figure(figsize=(10,8))\n",
        "sns.heatmap(cm.T)#, xticklabels=list(labels.values()), yticklabels=list(labels.values()))\n",
        "plt.xlabel('True labels')\n",
        "plt.ylabel('Predicted labels')\n",
        "plt.show()"
      ],
      "metadata": {
        "id": "6Xlmj6RaRRvk",
        "colab": {
          "base_uri": "https://localhost:8080/",
          "height": 573
        },
        "outputId": "fa211402-7706-42ec-e998-aa0e383c7264"
      },
      "execution_count": 41,
      "outputs": [
        {
          "output_type": "stream",
          "name": "stdout",
          "text": [
            "Accuracy: 0.9\n",
            "Precision: 0.9167\n",
            "Recall: 0.9\n",
            "F1: 0.899\n"
          ]
        },
        {
          "output_type": "display_data",
          "data": {
            "text/plain": [
              "<Figure size 720x576 with 2 Axes>"
            ],
            "image/png": "[encoded data removed]"
          },
          "metadata": {
            "needs_background": "light"
          }
        }
      ]
    },
    {
      "cell_type": "code",
      "source": [
        "model.save('/gdrive/MyDrive/polimi/NAML/NAML_proj/models/rockvmetal/rockvmetal')"
      ],
      "metadata": {
        "colab": {
          "base_uri": "https://localhost:8080/"
        },
        "id": "SO-HKBQc9I7r",
        "outputId": "996d8645-979c-4af8-bb0b-e04d6a1d8a8b"
      },
      "execution_count": 42,
      "outputs": [
        {
          "output_type": "stream",
          "name": "stderr",
          "text": [
            "WARNING:absl:Function `_wrapped_model` contains input name(s) Input with unsupported characters which will be renamed to input in the SavedModel.\n"
          ]
        },
        {
          "output_type": "stream",
          "name": "stdout",
          "text": [
            "INFO:tensorflow:Assets written to: /gdrive/MyDrive/polimi/NAML/NAML_proj/models/rockvmetal/rockvmetal/assets\n"
          ]
        },
        {
          "output_type": "stream",
          "name": "stderr",
          "text": [
            "INFO:tensorflow:Assets written to: /gdrive/MyDrive/polimi/NAML/NAML_proj/models/rockvmetal/rockvmetal/assets\n"
          ]
        }
      ]
    }
  ]
}