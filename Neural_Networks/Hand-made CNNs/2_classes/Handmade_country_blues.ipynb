{
  "nbformat": 4,
  "nbformat_minor": 0,
  "metadata": {
    "colab": {
      "name": "Handmade_country_blues.ipynb",
      "provenance": [],
      "collapsed_sections": []
    },
    "kernelspec": {
      "name": "python3",
      "display_name": "Python 3"
    },
    "language_info": {
      "name": "python"
    },
    "accelerator": "GPU"
  },
  "cells": [
    {
      "cell_type": "markdown",
      "source": [
        "## Black Box Approach for 2 genres classification - Country vs Blues\n",
        "\n",
        "We aim at training a Neural Network to distinguish between two genres: country and blues."
      ],
      "metadata": {
        "id": "gKB_Sss8Ql-3"
      }
    },
    {
      "cell_type": "code",
      "execution_count": 1,
      "metadata": {
        "id": "SwPJ54sBQlFO",
        "colab": {
          "base_uri": "https://localhost:8080/"
        },
        "outputId": "9f0adf53-60ca-4ab7-9ec0-3c3b0daffc49"
      },
      "outputs": [
        {
          "output_type": "stream",
          "name": "stdout",
          "text": [
            "Mounted at /gdrive\n"
          ]
        }
      ],
      "source": [
        "#importing google drive\n",
        "from google.colab import drive\n",
        "drive.mount('/gdrive')"
      ]
    },
    {
      "cell_type": "code",
      "source": [
        "#setting the working directory\n",
        "%cd /gdrive/MyDrive/polimi/NAML/NAML_proj/"
      ],
      "metadata": {
        "id": "iYHj7NhnQs_-",
        "colab": {
          "base_uri": "https://localhost:8080/"
        },
        "outputId": "9d333806-d73a-4e6c-e798-f758ec08d3fd"
      },
      "execution_count": 2,
      "outputs": [
        {
          "output_type": "stream",
          "name": "stdout",
          "text": [
            "/gdrive/MyDrive/polimi/NAML/NAML_proj\n"
          ]
        }
      ]
    },
    {
      "cell_type": "code",
      "source": [
        "import tensorflow as tf\n",
        "from PIL import Image\n",
        "import numpy as np\n",
        "import os\n",
        "import random\n",
        "import seaborn as sns\n",
        "import matplotlib as mpl\n",
        "import matplotlib.pyplot as plt\n",
        "from sklearn.model_selection import train_test_split\n",
        "from sklearn.metrics import accuracy_score, f1_score, precision_score, recall_score\n",
        "from sklearn.metrics import confusion_matrix\n",
        "import librosa\n",
        "import os\n",
        "\n",
        "tfk = tf.keras\n",
        "tfkl = tf.keras.layers\n",
        "seed = 42"
      ],
      "metadata": {
        "id": "INc4ttEUQuxN"
      },
      "execution_count": 3,
      "outputs": []
    },
    {
      "cell_type": "markdown",
      "source": [
        "The dataset is composed of Mel-Spectrograms of each audio sample, labeled with respect to each genre"
      ],
      "metadata": {
        "id": "IoV9bIbPfg55"
      }
    },
    {
      "cell_type": "code",
      "source": [
        "dataset = []\n",
        "#genres = {'blues': 0, 'classical': 1, 'country': 2, 'disco': 3, 'hiphop': 4, 'jazz': 5, 'metal': 6, 'pop': 7, 'reggae': 8, 'rock': 9}\n",
        "genres = {'country': 0, 'blues': 1}\n",
        "\n",
        "for genre, genre_number in genres.items():\n",
        "    for filename in os.listdir(f'dataset_old/genres/{genre}'):\n",
        "        songname = f'dataset_old/genres/{genre}/{filename}'\n",
        "        y, sr = librosa.load(songname, mono=True, duration=2)\n",
        "        ps = librosa.feature.melspectrogram(y=y, sr=sr, hop_length = 256, n_fft = 512)\n",
        "        ps = librosa.power_to_db(ps**2)\n",
        "        dataset.append( (ps, genre_number) )\n",
        "    print(str(genre+' done'))"
      ],
      "metadata": {
        "id": "oiT5mkVqQ_lt",
        "colab": {
          "base_uri": "https://localhost:8080/"
        },
        "outputId": "3e0f5a59-0207-4874-eed6-464dc5cc5fa1"
      },
      "execution_count": 4,
      "outputs": [
        {
          "output_type": "stream",
          "name": "stdout",
          "text": [
            "country done\n",
            "blues done\n"
          ]
        }
      ]
    },
    {
      "cell_type": "markdown",
      "source": [
        "We split the dataset according to the following composition:\n",
        "\n",
        "\n",
        "*   70% training set\n",
        "*   20% validation set\n",
        "*   10% test set\n",
        "\n",
        "Maintaining equal proportions amongst classes\n",
        "\n"
      ],
      "metadata": {
        "id": "0sgOQfv-gZ04"
      }
    },
    {
      "cell_type": "code",
      "source": [
        "order = np.arange(start = 0, stop = 100, step = 1)\n",
        "\n",
        "np.random.seed(42)\n",
        "\n",
        "training = []\n",
        "validation = []\n",
        "test = []\n",
        "\n",
        "for i in range(2):\n",
        "  shuffle = np.random.permutation(order)\n",
        "  for k in range(70):\n",
        "    training.append(dataset[i*100 + shuffle[k]])\n",
        "  for l in range(20):\n",
        "    validation.append(dataset[i*100 + shuffle[l+70]])\n",
        "  for m in range(10):\n",
        "    test.append(dataset[i*100 + shuffle[m+90]])"
      ],
      "metadata": {
        "id": "OSUK8JPgRFVF"
      },
      "execution_count": 5,
      "outputs": []
    },
    {
      "cell_type": "code",
      "source": [
        "X_train, Y_train = zip(*training)\n",
        "X_valid, Y_valid = zip(*validation)\n",
        "X_test, Y_test = zip(*test)\n",
        "\n",
        "X_train = np.array([x.reshape( (128, 173, 1) ) for x in X_train])\n",
        "X_valid = np.array([x.reshape( (128, 173, 1) ) for x in X_valid])\n",
        "X_test = np.array([x.reshape( (128, 173, 1) ) for x in X_test])\n",
        "\n",
        "Y_train = np.array(tfk.utils.to_categorical(Y_train, 2))\n",
        "Y_valid = np.array(tfk.utils.to_categorical(Y_valid, 2))\n",
        "Y_test = np.array(tfk.utils.to_categorical(Y_test, 2))"
      ],
      "metadata": {
        "id": "WA29NV-URMuG"
      },
      "execution_count": 6,
      "outputs": []
    },
    {
      "cell_type": "markdown",
      "source": [
        "The proposed model is composed as a stack of convolutional layer, followed by a Global Average Pooling layer leading to a fully connected section.\n",
        "\n",
        "Optimization is performed as a Batch version of Adam optimizer algorithm"
      ],
      "metadata": {
        "id": "O6AvTMw2hgxB"
      }
    },
    {
      "cell_type": "code",
      "source": [
        "def build_model(input_shape, n_units):\n",
        "# Build the neural network layer by layer\n",
        "    input_layer = tfkl.Input(shape=input_shape, name='Input')\n",
        "\n",
        "    conv1 = tfkl.Conv2D(\n",
        "        filters=4,\n",
        "        kernel_size=(3, 3),\n",
        "        strides = (1, 1),\n",
        "        padding = 'same',\n",
        "        activation = 'relu',\n",
        "        kernel_initializer = tfk.initializers.GlorotUniform(seed)\n",
        "    )(input_layer)\n",
        "    conv1_2 = tfkl.Conv2D(\n",
        "        filters=8,\n",
        "        kernel_size=(2, 2),\n",
        "        strides = (1, 1),\n",
        "        padding = 'same',\n",
        "        activation = 'relu',\n",
        "        kernel_initializer = tfk.initializers.GlorotUniform(seed)\n",
        "    )(conv1)\n",
        "    pool1 = tfkl.MaxPooling2D(\n",
        "        pool_size = (2, 2)\n",
        "    )(conv1_2)\n",
        "\n",
        "    conv2 = tfkl.Conv2D(\n",
        "        filters=16,\n",
        "        kernel_size=(3, 3),\n",
        "        strides = (1, 1),\n",
        "        padding = 'same',\n",
        "        activation = 'relu',\n",
        "        kernel_initializer = tfk.initializers.GlorotUniform(seed)\n",
        "    )(pool1)\n",
        "    pool2 = tfkl.MaxPooling2D(\n",
        "        pool_size = (2, 2)\n",
        "    )(conv2)\n",
        "\n",
        "    conv3 = tfkl.Conv2D(\n",
        "        filters=32,\n",
        "        kernel_size=(3, 3),\n",
        "        strides = (1, 1),\n",
        "        padding = 'same',\n",
        "        activation = 'relu',\n",
        "        kernel_initializer = tfk.initializers.GlorotUniform(seed)\n",
        "    )(pool2)\n",
        "    pool3 = tfkl.MaxPooling2D(\n",
        "        pool_size = (2, 2)\n",
        "    )(conv3)\n",
        "\n",
        "    conv4 = tfkl.Conv2D(\n",
        "        filters=64,\n",
        "        kernel_size=(3, 3),\n",
        "        strides = (1, 1),\n",
        "        padding = 'same',\n",
        "        activation = 'relu',\n",
        "        kernel_initializer = tfk.initializers.GlorotUniform(seed)\n",
        "    )(pool3)\n",
        "    conv4_2 = tfkl.Conv2D(\n",
        "        filters=64,\n",
        "        kernel_size=(2, 2),\n",
        "        strides = (1, 1),\n",
        "        padding = 'same',\n",
        "        activation = 'relu',\n",
        "        kernel_initializer = tfk.initializers.GlorotUniform(seed)\n",
        "    )(conv4)\n",
        "    pool4 = tfkl.MaxPooling2D(\n",
        "        pool_size = (2, 2)\n",
        "    )(conv4_2)\n",
        "\n",
        "    conv5 = tfkl.Conv2D(\n",
        "        filters=128,\n",
        "        kernel_size=(2, 2),\n",
        "        strides = (1, 1),\n",
        "        padding = 'same',\n",
        "        activation = 'relu',\n",
        "        kernel_initializer = tfk.initializers.GlorotUniform(seed)\n",
        "    )(pool4)\n",
        "    pool5 = tfkl.MaxPooling2D(\n",
        "        pool_size = (2, 2)\n",
        "    )(conv5)\n",
        "\n",
        "    conv6 = tfkl.Conv2D(\n",
        "        filters=286,\n",
        "        kernel_size=(2, 2),\n",
        "        strides = (1, 1),\n",
        "        padding = 'same',\n",
        "        activation = 'relu',\n",
        "        kernel_initializer = tfk.initializers.GlorotUniform(seed)\n",
        "    )(pool5)\n",
        "    \n",
        "\n",
        "    global_average = tfkl.GlobalAveragePooling2D(name = 'GAP')(conv6)\n",
        "    global_average = tfkl.Dropout(0.3, seed=seed)(global_average)\n",
        "    \n",
        "    classifier_layer = tfkl.Dense(units=64, name='Classifier', activation='relu')(global_average)\n",
        "    #flattening_layer = tfkl.Flatten(name='Flatten')(pool5)\n",
        "    #flattening_layer = tfkl.Dropout(0.2, seed=seed)(flattening_layer)\n",
        "    #classifier_layer = tfkl.Dense(units=64, name='Classifier', activation='relu')(flattening_layer)\n",
        "    \n",
        "    classifier_layer = tfkl.Dropout(0.3, seed=seed)(classifier_layer)\n",
        "    classifier_layer_2 = tfkl.Dense(units=32, name='Classifier_2', activation='relu')(classifier_layer)\n",
        "    classifier_layer_2 = tfkl.Dropout(0.25, seed=seed)(classifier_layer_2)\n",
        "    output_layer = tfkl.Dense(units=n_units, activation='softmax', name='Output')(classifier_layer_2)\n",
        "\n",
        "    # Connect input and output through the Model class\n",
        "    model = tfk.Model(inputs=input_layer, outputs=output_layer, name='model')\n",
        "\n",
        "    # Compile the model\n",
        "    model.compile(loss=tfk.losses.CategoricalCrossentropy(), optimizer=tfk.optimizers.Adam(), metrics='accuracy')\n",
        "\n",
        "    # Return the model\n",
        "\n",
        "    return model"
      ],
      "metadata": {
        "id": "lR2QkBoSQ8lW"
      },
      "execution_count": 26,
      "outputs": []
    },
    {
      "cell_type": "code",
      "source": [
        "n_units = 2\n",
        "input_shape = (128,173,1)\n",
        "\n",
        "model = build_model(input_shape, n_units)\n",
        "\n",
        "model.summary()"
      ],
      "metadata": {
        "id": "zIitkAlGQ-mM",
        "colab": {
          "base_uri": "https://localhost:8080/"
        },
        "outputId": "f03b6dc9-26ba-48bb-fc87-fe044d1ecbf7"
      },
      "execution_count": 27,
      "outputs": [
        {
          "output_type": "stream",
          "name": "stdout",
          "text": [
            "Model: \"model\"\n",
            "_________________________________________________________________\n",
            " Layer (type)                Output Shape              Param #   \n",
            "=================================================================\n",
            " Input (InputLayer)          [(None, 128, 173, 1)]     0         \n",
            "                                                                 \n",
            " conv2d_40 (Conv2D)          (None, 128, 173, 4)       40        \n",
            "                                                                 \n",
            " conv2d_41 (Conv2D)          (None, 128, 173, 8)       136       \n",
            "                                                                 \n",
            " max_pooling2d_25 (MaxPoolin  (None, 64, 86, 8)        0         \n",
            " g2D)                                                            \n",
            "                                                                 \n",
            " conv2d_42 (Conv2D)          (None, 64, 86, 16)        1168      \n",
            "                                                                 \n",
            " max_pooling2d_26 (MaxPoolin  (None, 32, 43, 16)       0         \n",
            " g2D)                                                            \n",
            "                                                                 \n",
            " conv2d_43 (Conv2D)          (None, 32, 43, 32)        4640      \n",
            "                                                                 \n",
            " max_pooling2d_27 (MaxPoolin  (None, 16, 21, 32)       0         \n",
            " g2D)                                                            \n",
            "                                                                 \n",
            " conv2d_44 (Conv2D)          (None, 16, 21, 64)        18496     \n",
            "                                                                 \n",
            " conv2d_45 (Conv2D)          (None, 16, 21, 64)        16448     \n",
            "                                                                 \n",
            " max_pooling2d_28 (MaxPoolin  (None, 8, 10, 64)        0         \n",
            " g2D)                                                            \n",
            "                                                                 \n",
            " conv2d_46 (Conv2D)          (None, 8, 10, 128)        32896     \n",
            "                                                                 \n",
            " max_pooling2d_29 (MaxPoolin  (None, 4, 5, 128)        0         \n",
            " g2D)                                                            \n",
            "                                                                 \n",
            " conv2d_47 (Conv2D)          (None, 4, 5, 286)         146718    \n",
            "                                                                 \n",
            " GAP (GlobalAveragePooling2D  (None, 286)              0         \n",
            " )                                                               \n",
            "                                                                 \n",
            " dropout_15 (Dropout)        (None, 286)               0         \n",
            "                                                                 \n",
            " Classifier (Dense)          (None, 64)                18368     \n",
            "                                                                 \n",
            " dropout_16 (Dropout)        (None, 64)                0         \n",
            "                                                                 \n",
            " Classifier_2 (Dense)        (None, 32)                2080      \n",
            "                                                                 \n",
            " dropout_17 (Dropout)        (None, 32)                0         \n",
            "                                                                 \n",
            " Output (Dense)              (None, 2)                 66        \n",
            "                                                                 \n",
            "=================================================================\n",
            "Total params: 241,056\n",
            "Trainable params: 241,056\n",
            "Non-trainable params: 0\n",
            "_________________________________________________________________\n"
          ]
        }
      ]
    },
    {
      "cell_type": "code",
      "source": [
        "early_stopping = tfk.callbacks.EarlyStopping(monitor='val_loss', mode='min', patience=20, restore_best_weights=True)\n",
        "adaptive_LR = tfk.callbacks.ReduceLROnPlateau(monitor='val_loss', mode='min', patience=5, factor=0.5, min_lr=1e-4)\n",
        "\n",
        "standard_history = model.fit(\n",
        "    x = X_train,\n",
        "    y = Y_train,\n",
        "    epochs = 500,\n",
        "    batch_size = 20,\n",
        "    validation_data= (X_valid, Y_valid),\n",
        "    callbacks = [early_stopping, adaptive_LR]\n",
        "    )"
      ],
      "metadata": {
        "id": "yFUsDY6BRWi1",
        "colab": {
          "base_uri": "https://localhost:8080/"
        },
        "outputId": "e793757d-f416-4813-98df-0793c98be3f3"
      },
      "execution_count": 28,
      "outputs": [
        {
          "output_type": "stream",
          "name": "stdout",
          "text": [
            "Epoch 1/500\n",
            "7/7 [==============================] - 2s 87ms/step - loss: 0.6954 - accuracy: 0.5143 - val_loss: 0.6918 - val_accuracy: 0.5000 - lr: 0.0010\n",
            "Epoch 2/500\n",
            "7/7 [==============================] - 0s 38ms/step - loss: 0.6947 - accuracy: 0.5643 - val_loss: 0.6940 - val_accuracy: 0.5000 - lr: 0.0010\n",
            "Epoch 3/500\n",
            "7/7 [==============================] - 0s 35ms/step - loss: 0.6882 - accuracy: 0.5214 - val_loss: 0.6985 - val_accuracy: 0.5000 - lr: 0.0010\n",
            "Epoch 4/500\n",
            "7/7 [==============================] - 0s 34ms/step - loss: 0.6855 - accuracy: 0.5857 - val_loss: 0.6938 - val_accuracy: 0.5250 - lr: 0.0010\n",
            "Epoch 5/500\n",
            "7/7 [==============================] - 0s 32ms/step - loss: 0.6790 - accuracy: 0.5357 - val_loss: 0.6966 - val_accuracy: 0.5500 - lr: 0.0010\n",
            "Epoch 6/500\n",
            "7/7 [==============================] - 0s 34ms/step - loss: 0.6737 - accuracy: 0.5714 - val_loss: 0.6939 - val_accuracy: 0.6500 - lr: 0.0010\n",
            "Epoch 7/500\n",
            "7/7 [==============================] - 0s 31ms/step - loss: 0.6467 - accuracy: 0.6571 - val_loss: 0.7109 - val_accuracy: 0.5500 - lr: 5.0000e-04\n",
            "Epoch 8/500\n",
            "7/7 [==============================] - 0s 31ms/step - loss: 0.6642 - accuracy: 0.6071 - val_loss: 0.6930 - val_accuracy: 0.6000 - lr: 5.0000e-04\n",
            "Epoch 9/500\n",
            "7/7 [==============================] - 0s 33ms/step - loss: 0.6480 - accuracy: 0.6214 - val_loss: 0.6856 - val_accuracy: 0.6250 - lr: 5.0000e-04\n",
            "Epoch 10/500\n",
            "7/7 [==============================] - 0s 31ms/step - loss: 0.6403 - accuracy: 0.6143 - val_loss: 0.6993 - val_accuracy: 0.5500 - lr: 5.0000e-04\n",
            "Epoch 11/500\n",
            "7/7 [==============================] - 0s 30ms/step - loss: 0.6379 - accuracy: 0.6286 - val_loss: 0.6929 - val_accuracy: 0.5750 - lr: 5.0000e-04\n",
            "Epoch 12/500\n",
            "7/7 [==============================] - 0s 32ms/step - loss: 0.6089 - accuracy: 0.6929 - val_loss: 0.6588 - val_accuracy: 0.6500 - lr: 5.0000e-04\n",
            "Epoch 13/500\n",
            "7/7 [==============================] - 0s 30ms/step - loss: 0.5733 - accuracy: 0.6857 - val_loss: 0.6713 - val_accuracy: 0.6250 - lr: 5.0000e-04\n",
            "Epoch 14/500\n",
            "7/7 [==============================] - 0s 30ms/step - loss: 0.5856 - accuracy: 0.6643 - val_loss: 0.6996 - val_accuracy: 0.6250 - lr: 5.0000e-04\n",
            "Epoch 15/500\n",
            "7/7 [==============================] - 0s 33ms/step - loss: 0.5284 - accuracy: 0.7143 - val_loss: 0.6055 - val_accuracy: 0.6000 - lr: 5.0000e-04\n",
            "Epoch 16/500\n",
            "7/7 [==============================] - 0s 33ms/step - loss: 0.5251 - accuracy: 0.7571 - val_loss: 0.5797 - val_accuracy: 0.7000 - lr: 5.0000e-04\n",
            "Epoch 17/500\n",
            "7/7 [==============================] - 0s 29ms/step - loss: 0.4979 - accuracy: 0.7786 - val_loss: 0.5978 - val_accuracy: 0.6750 - lr: 5.0000e-04\n",
            "Epoch 18/500\n",
            "7/7 [==============================] - 0s 29ms/step - loss: 0.4223 - accuracy: 0.8429 - val_loss: 0.5875 - val_accuracy: 0.7250 - lr: 5.0000e-04\n",
            "Epoch 19/500\n",
            "7/7 [==============================] - 0s 32ms/step - loss: 0.4118 - accuracy: 0.8214 - val_loss: 0.6121 - val_accuracy: 0.6750 - lr: 5.0000e-04\n",
            "Epoch 20/500\n",
            "7/7 [==============================] - 0s 32ms/step - loss: 0.3967 - accuracy: 0.8357 - val_loss: 0.7379 - val_accuracy: 0.6750 - lr: 5.0000e-04\n",
            "Epoch 21/500\n",
            "7/7 [==============================] - 0s 31ms/step - loss: 0.3350 - accuracy: 0.9071 - val_loss: 0.8577 - val_accuracy: 0.6750 - lr: 5.0000e-04\n",
            "Epoch 22/500\n",
            "7/7 [==============================] - 0s 32ms/step - loss: 0.3176 - accuracy: 0.9000 - val_loss: 0.5414 - val_accuracy: 0.7250 - lr: 2.5000e-04\n",
            "Epoch 23/500\n",
            "7/7 [==============================] - 0s 30ms/step - loss: 0.3050 - accuracy: 0.9357 - val_loss: 0.6398 - val_accuracy: 0.7500 - lr: 2.5000e-04\n",
            "Epoch 24/500\n",
            "7/7 [==============================] - 0s 30ms/step - loss: 0.2149 - accuracy: 0.9357 - val_loss: 0.6702 - val_accuracy: 0.7500 - lr: 2.5000e-04\n",
            "Epoch 25/500\n",
            "7/7 [==============================] - 0s 31ms/step - loss: 0.2042 - accuracy: 0.9643 - val_loss: 0.5837 - val_accuracy: 0.7750 - lr: 2.5000e-04\n",
            "Epoch 26/500\n",
            "7/7 [==============================] - 0s 31ms/step - loss: 0.2479 - accuracy: 0.8929 - val_loss: 1.0475 - val_accuracy: 0.7000 - lr: 2.5000e-04\n",
            "Epoch 27/500\n",
            "7/7 [==============================] - 0s 30ms/step - loss: 0.2441 - accuracy: 0.9286 - val_loss: 0.9219 - val_accuracy: 0.7750 - lr: 2.5000e-04\n",
            "Epoch 28/500\n",
            "7/7 [==============================] - 0s 30ms/step - loss: 0.1736 - accuracy: 0.9571 - val_loss: 0.5920 - val_accuracy: 0.7750 - lr: 1.2500e-04\n",
            "Epoch 29/500\n",
            "7/7 [==============================] - 0s 30ms/step - loss: 0.1679 - accuracy: 0.9571 - val_loss: 0.8391 - val_accuracy: 0.7750 - lr: 1.2500e-04\n",
            "Epoch 30/500\n",
            "7/7 [==============================] - 0s 31ms/step - loss: 0.1720 - accuracy: 0.9571 - val_loss: 0.6685 - val_accuracy: 0.7500 - lr: 1.2500e-04\n",
            "Epoch 31/500\n",
            "7/7 [==============================] - 0s 30ms/step - loss: 0.1568 - accuracy: 0.9571 - val_loss: 0.7265 - val_accuracy: 0.7750 - lr: 1.2500e-04\n",
            "Epoch 32/500\n",
            "7/7 [==============================] - 0s 31ms/step - loss: 0.1373 - accuracy: 0.9643 - val_loss: 0.6661 - val_accuracy: 0.7750 - lr: 1.2500e-04\n",
            "Epoch 33/500\n",
            "7/7 [==============================] - 0s 30ms/step - loss: 0.1415 - accuracy: 0.9714 - val_loss: 0.6491 - val_accuracy: 0.8000 - lr: 1.0000e-04\n",
            "Epoch 34/500\n",
            "7/7 [==============================] - 0s 30ms/step - loss: 0.1188 - accuracy: 0.9786 - val_loss: 0.7454 - val_accuracy: 0.7750 - lr: 1.0000e-04\n",
            "Epoch 35/500\n",
            "7/7 [==============================] - 0s 31ms/step - loss: 0.1464 - accuracy: 0.9643 - val_loss: 0.7041 - val_accuracy: 0.7500 - lr: 1.0000e-04\n",
            "Epoch 36/500\n",
            "7/7 [==============================] - 0s 32ms/step - loss: 0.1199 - accuracy: 0.9643 - val_loss: 0.7829 - val_accuracy: 0.7750 - lr: 1.0000e-04\n",
            "Epoch 37/500\n",
            "7/7 [==============================] - 0s 32ms/step - loss: 0.1366 - accuracy: 0.9500 - val_loss: 0.9014 - val_accuracy: 0.8000 - lr: 1.0000e-04\n",
            "Epoch 38/500\n",
            "7/7 [==============================] - 0s 30ms/step - loss: 0.1238 - accuracy: 0.9571 - val_loss: 0.8801 - val_accuracy: 0.7750 - lr: 1.0000e-04\n",
            "Epoch 39/500\n",
            "7/7 [==============================] - 0s 32ms/step - loss: 0.1226 - accuracy: 0.9571 - val_loss: 0.7622 - val_accuracy: 0.7500 - lr: 1.0000e-04\n",
            "Epoch 40/500\n",
            "7/7 [==============================] - 0s 31ms/step - loss: 0.0990 - accuracy: 0.9571 - val_loss: 0.7604 - val_accuracy: 0.7750 - lr: 1.0000e-04\n",
            "Epoch 41/500\n",
            "7/7 [==============================] - 0s 31ms/step - loss: 0.1142 - accuracy: 0.9714 - val_loss: 0.9362 - val_accuracy: 0.8000 - lr: 1.0000e-04\n",
            "Epoch 42/500\n",
            "7/7 [==============================] - 0s 35ms/step - loss: 0.1255 - accuracy: 0.9571 - val_loss: 0.6798 - val_accuracy: 0.7750 - lr: 1.0000e-04\n"
          ]
        }
      ]
    },
    {
      "cell_type": "code",
      "source": [
        "predictions = model.predict(X_test)\n",
        "\n",
        "# Compute the confusion matrix\n",
        "cm = confusion_matrix(np.argmax(Y_test, axis=-1), np.argmax(predictions, axis=-1))\n",
        "\n",
        "# Compute the classification metrics\n",
        "accuracy = accuracy_score(np.argmax(Y_test, axis=-1), np.argmax(predictions, axis=-1))\n",
        "precision = precision_score(np.argmax(Y_test, axis=-1), np.argmax(predictions, axis=-1), average='macro')\n",
        "recall = recall_score(np.argmax(Y_test, axis=-1), np.argmax(predictions, axis=-1), average='macro')\n",
        "f1 = f1_score(np.argmax(Y_test, axis=-1), np.argmax(predictions, axis=-1), average='macro')\n",
        "print('Accuracy:',accuracy.round(4))\n",
        "print('Precision:',precision.round(4))\n",
        "print('Recall:',recall.round(4))\n",
        "print('F1:',f1.round(4))\n",
        "\n",
        "# Plot the confusion matrix\n",
        "plt.figure(figsize=(10,8))\n",
        "sns.heatmap(cm.T)#, xticklabels=list(labels.values()), yticklabels=list(labels.values()))\n",
        "plt.xlabel('True labels')\n",
        "plt.ylabel('Predicted labels')\n",
        "plt.show()"
      ],
      "metadata": {
        "id": "6Xlmj6RaRRvk",
        "colab": {
          "base_uri": "https://localhost:8080/",
          "height": 573
        },
        "outputId": "cb20b23e-5385-4d89-e170-e78d35229c1d"
      },
      "execution_count": 29,
      "outputs": [
        {
          "output_type": "stream",
          "name": "stdout",
          "text": [
            "Accuracy: 0.8\n",
            "Precision: 0.8125\n",
            "Recall: 0.8\n",
            "F1: 0.798\n"
          ]
        },
        {
          "output_type": "display_data",
          "data": {
            "text/plain": [
              "<Figure size 720x576 with 2 Axes>"
            ],
            "image/png": "[encoded data removed]"
          },
          "metadata": {
            "needs_background": "light"
          }
        }
      ]
    },
    {
      "cell_type": "code",
      "source": [
        "model.save('/gdrive/MyDrive/polimi/NAML/NAML_proj/models/countryvblues/countryvblues_1')"
      ],
      "metadata": {
        "colab": {
          "base_uri": "https://localhost:8080/"
        },
        "id": "SO-HKBQc9I7r",
        "outputId": "92b57d4c-15e1-4d54-f373-ce19a1562ac2"
      },
      "execution_count": 18,
      "outputs": [
        {
          "output_type": "stream",
          "name": "stderr",
          "text": [
            "WARNING:absl:Function `_wrapped_model` contains input name(s) Input with unsupported characters which will be renamed to input in the SavedModel.\n"
          ]
        },
        {
          "output_type": "stream",
          "name": "stdout",
          "text": [
            "INFO:tensorflow:Assets written to: /gdrive/MyDrive/polimi/NAML/NAML_proj/models/countryvblues/countryvblues_1/assets\n"
          ]
        },
        {
          "output_type": "stream",
          "name": "stderr",
          "text": [
            "INFO:tensorflow:Assets written to: /gdrive/MyDrive/polimi/NAML/NAML_proj/models/countryvblues/countryvblues_1/assets\n"
          ]
        }
      ]
    }
  ]
}