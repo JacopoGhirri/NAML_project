{
  "nbformat": 4,
  "nbformat_minor": 0,
  "metadata": {
    "colab": {
      "name": "Handmade_CNN_complete.ipynb",
      "provenance": []
    },
    "kernelspec": {
      "name": "python3",
      "display_name": "Python 3"
    },
    "language_info": {
      "name": "python"
    },
    "accelerator": "GPU"
  },
  "cells": [
    {
      "cell_type": "markdown",
      "source": [
        "## Black Box Approach for all 10 genres classification\n",
        "\n",
        "We aim at training a Neural Network to distinguish between all the different genres"
      ],
      "metadata": {
        "id": "gKB_Sss8Ql-3"
      }
    },
    {
      "cell_type": "code",
      "execution_count": null,
      "metadata": {
        "id": "SwPJ54sBQlFO",
        "colab": {
          "base_uri": "https://localhost:8080/"
        },
        "outputId": "965db4f6-6738-45bf-b357-d7ed57fec460"
      },
      "outputs": [
        {
          "output_type": "stream",
          "name": "stdout",
          "text": [
            "Mounted at /gdrive\n"
          ]
        }
      ],
      "source": [
        "#importing google drive\n",
        "from google.colab import drive\n",
        "drive.mount('/gdrive')"
      ]
    },
    {
      "cell_type": "code",
      "source": [
        "#setting the working directory\n",
        "%cd /gdrive/MyDrive/polimi/NAML/NAML_proj/"
      ],
      "metadata": {
        "id": "iYHj7NhnQs_-",
        "colab": {
          "base_uri": "https://localhost:8080/"
        },
        "outputId": "d16df26a-f851-43a2-8786-00008661db16"
      },
      "execution_count": null,
      "outputs": [
        {
          "output_type": "stream",
          "name": "stdout",
          "text": [
            "/gdrive/MyDrive/polimi/NAML/NAML_proj\n"
          ]
        }
      ]
    },
    {
      "cell_type": "code",
      "source": [
        "import tensorflow as tf\n",
        "from PIL import Image\n",
        "import numpy as np\n",
        "import os\n",
        "import random\n",
        "import pandas as pd\n",
        "import seaborn as sns\n",
        "import matplotlib as mpl\n",
        "import matplotlib.pyplot as plt\n",
        "from sklearn.model_selection import train_test_split\n",
        "from sklearn.metrics import accuracy_score, f1_score, precision_score, recall_score\n",
        "from sklearn.metrics import confusion_matrix\n",
        "import librosa\n",
        "import os\n",
        "\n",
        "tfk = tf.keras\n",
        "tfkl = tf.keras.layers\n",
        "seed = 42"
      ],
      "metadata": {
        "id": "INc4ttEUQuxN"
      },
      "execution_count": null,
      "outputs": []
    },
    {
      "cell_type": "markdown",
      "source": [
        "The dataset is composed of Mel-Spectrograms of each audio sample, labeled with respect to each genre"
      ],
      "metadata": {
        "id": "WS4HjCWqkkUY"
      }
    },
    {
      "cell_type": "code",
      "source": [
        "dataset = []\n",
        "genres = {'blues': 0, 'classical': 1, 'country': 2, 'disco': 3, 'hiphop': 4, \n",
        "        'jazz': 5, 'metal': 6, 'pop': 7, 'reggae': 8, 'rock': 9}\n",
        "\n",
        "for genre, genre_number in genres.items():\n",
        "    for filename in os.listdir(f'dataset_old/genres/{genre}'):\n",
        "        songname = f'dataset_old/genres/{genre}/{filename}'\n",
        "        y, sr = librosa.load(songname, mono=True, duration=2)\n",
        "        ps = librosa.feature.melspectrogram(y=y, sr=sr, hop_length = 256, n_fft = 512)\n",
        "        ps = librosa.power_to_db(ps**2)\n",
        "        dataset.append( (ps, genre_number) )\n",
        "    print(str(genre+' done'))"
      ],
      "metadata": {
        "id": "oiT5mkVqQ_lt",
        "colab": {
          "base_uri": "https://localhost:8080/"
        },
        "outputId": "e5c795b3-a394-4ff8-dea2-482b6a99426a"
      },
      "execution_count": null,
      "outputs": [
        {
          "output_type": "stream",
          "name": "stdout",
          "text": [
            "blues done\n",
            "classical done\n",
            "country done\n",
            "disco done\n",
            "hiphop done\n",
            "jazz done\n",
            "metal done\n",
            "pop done\n",
            "reggae done\n",
            "rock done\n"
          ]
        }
      ]
    },
    {
      "cell_type": "markdown",
      "source": [
        "We split the dataset according to the following composition:\n",
        "\n",
        "\n",
        "*   70% training set\n",
        "*   20% validation set\n",
        "*   10% test set\n",
        "\n",
        "Maintaining equal proportions amongst classes\n",
        "\n"
      ],
      "metadata": {
        "id": "FD5R_1cekn7f"
      }
    },
    {
      "cell_type": "code",
      "source": [
        "order = np.arange(start = 0, stop = 100, step = 1)\n",
        "\n",
        "np.random.seed(42)\n",
        "\n",
        "training = []\n",
        "validation = []\n",
        "test = []\n",
        "\n",
        "for i in range(10):\n",
        "  shuffle = np.random.permutation(order)\n",
        "  for k in range(70):\n",
        "    training.append(dataset[i*100 + shuffle[k]])\n",
        "  for l in range(20):\n",
        "    validation.append(dataset[i*100 + shuffle[l+70]])\n",
        "  for m in range(10):\n",
        "    test.append(dataset[i*100 + shuffle[m+90]])"
      ],
      "metadata": {
        "id": "OSUK8JPgRFVF"
      },
      "execution_count": null,
      "outputs": []
    },
    {
      "cell_type": "code",
      "source": [
        "X_train, Y_train = zip(*training)\n",
        "X_valid, Y_valid = zip(*validation)\n",
        "X_test, Y_test = zip(*test)\n",
        "\n",
        "X_train = np.array([x.reshape( (128, 173, 1) ) for x in X_train])\n",
        "X_valid = np.array([x.reshape( (128, 173, 1) ) for x in X_valid])\n",
        "X_test = np.array([x.reshape( (128, 173, 1) ) for x in X_test])\n",
        "\n",
        "\n",
        "Y_train = np.array(tfk.utils.to_categorical(Y_train, 10))\n",
        "Y_valid = np.array(tfk.utils.to_categorical(Y_valid, 10))\n",
        "Y_test = np.array(tfk.utils.to_categorical(Y_test, 10))"
      ],
      "metadata": {
        "id": "WA29NV-URMuG"
      },
      "execution_count": null,
      "outputs": []
    },
    {
      "cell_type": "markdown",
      "source": [
        "The proposed model is composed as a stack of convolutional layer, followed by a Global Average Pooling layer leading to a fully connected section.\n",
        "\n",
        "Optimization is performed as a Batch version of Adam optimizer algorithm"
      ],
      "metadata": {
        "id": "oaOErj4uktYn"
      }
    },
    {
      "cell_type": "code",
      "source": [
        "def build_model(input_shape, n_units):\n",
        "# Build the neural network layer by layer\n",
        "    input_layer = tfkl.Input(shape=input_shape, name='Input')\n",
        "\n",
        "    conv1 = tfkl.Conv2D(\n",
        "        filters=4,\n",
        "        kernel_size=(3, 3),\n",
        "        strides = (1, 1),\n",
        "        padding = 'same',\n",
        "        activation = 'relu',\n",
        "        kernel_initializer = tfk.initializers.GlorotUniform(seed)\n",
        "    )(input_layer)\n",
        "    conv1_2 = tfkl.Conv2D(\n",
        "        filters=8,\n",
        "        kernel_size=(2, 2),\n",
        "        strides = (1, 1),\n",
        "        padding = 'same',\n",
        "        activation = 'relu',\n",
        "        kernel_initializer = tfk.initializers.GlorotUniform(seed)\n",
        "    )(conv1)\n",
        "    pool1 = tfkl.MaxPooling2D(\n",
        "        pool_size = (2, 2)\n",
        "    )(conv1_2)\n",
        "\n",
        "    conv2 = tfkl.Conv2D(\n",
        "        filters=16,\n",
        "        kernel_size=(3, 3),\n",
        "        strides = (1, 1),\n",
        "        padding = 'same',\n",
        "        activation = 'relu',\n",
        "        kernel_initializer = tfk.initializers.GlorotUniform(seed)\n",
        "    )(pool1)\n",
        "    conv2_2 = tfkl.Conv2D(\n",
        "        filters=16,\n",
        "        kernel_size=(2, 2),\n",
        "        strides = (1, 1),\n",
        "        padding = 'same',\n",
        "        activation = 'relu',\n",
        "        kernel_initializer = tfk.initializers.GlorotUniform(seed)\n",
        "    )(conv2)\n",
        "    pool2 = tfkl.MaxPooling2D(\n",
        "        pool_size = (2, 2)\n",
        "    )(conv2_2)\n",
        "\n",
        "    conv3 = tfkl.Conv2D(\n",
        "        filters=32,\n",
        "        kernel_size=(2, 2),\n",
        "        strides = (1, 1),\n",
        "        padding = 'same',\n",
        "        activation = 'relu',\n",
        "        kernel_initializer = tfk.initializers.GlorotUniform(seed)\n",
        "    )(pool2)\n",
        "    conv3_2 = tfkl.Conv2D(\n",
        "        filters=32,\n",
        "        kernel_size=(2, 2),\n",
        "        strides = (1, 1),\n",
        "        padding = 'same',\n",
        "        activation = 'relu',\n",
        "        kernel_initializer = tfk.initializers.GlorotUniform(seed)\n",
        "    )(conv3)\n",
        "    pool3 = tfkl.MaxPooling2D(\n",
        "        pool_size = (2, 2)\n",
        "    )(conv3_2)\n",
        "\n",
        "    conv4 = tfkl.Conv2D(\n",
        "        filters=64,\n",
        "        kernel_size=(2, 2),\n",
        "        strides = (1, 1),\n",
        "        padding = 'same',\n",
        "        activation = 'relu',\n",
        "        kernel_initializer = tfk.initializers.GlorotUniform(seed)\n",
        "    )(pool3)\n",
        "    conv4_2 = tfkl.Conv2D(\n",
        "        filters=64,\n",
        "        kernel_size=(2, 2),\n",
        "        strides = (1, 1),\n",
        "        padding = 'same',\n",
        "        activation = 'relu',\n",
        "        kernel_initializer = tfk.initializers.GlorotUniform(seed)\n",
        "    )(conv4)\n",
        "    pool4 = tfkl.MaxPooling2D(\n",
        "        pool_size = (2, 2)\n",
        "    )(conv4_2)\n",
        "\n",
        "    conv5 = tfkl.Conv2D(\n",
        "        filters=128,\n",
        "        kernel_size=(2, 2),\n",
        "        strides = (1, 1),\n",
        "        padding = 'same',\n",
        "        activation = 'relu',\n",
        "        kernel_initializer = tfk.initializers.GlorotUniform(seed)\n",
        "    )(pool4)\n",
        "    pool5 = tfkl.MaxPooling2D(\n",
        "        pool_size = (2, 2)\n",
        "    )(conv5)\n",
        "\n",
        "    global_average = tfkl.GlobalAveragePooling2D(name = 'GAP')(pool5)\n",
        "    classifier_layer = tfkl.Dense(units=64, name='Classifier', activation='relu')(global_average)\n",
        "    #flattening_layer = tfkl.Flatten(name='Flatten')(pool5)\n",
        "    #flattening_layer = tfkl.Dropout(0.2, seed=seed)(flattening_layer)\n",
        "    #classifier_layer = tfkl.Dense(units=64, name='Classifier', activation='relu')(flattening_layer)\n",
        "    \n",
        "    classifier_layer = tfkl.Dropout(0.2, seed=seed)(classifier_layer)\n",
        "    classifier_layer_2 = tfkl.Dense(units=32, name='Classifier_2', activation='relu')(classifier_layer)\n",
        "    classifier_layer_2 = tfkl.Dropout(0.2, seed=seed)(classifier_layer_2)\n",
        "    output_layer = tfkl.Dense(units=n_units, activation='softmax', name='Output')(classifier_layer_2)\n",
        "\n",
        "    # Connect input and output through the Model class\n",
        "    model = tfk.Model(inputs=input_layer, outputs=output_layer, name='model')\n",
        "\n",
        "    # Compile the model\n",
        "    model.compile(loss=tfk.losses.CategoricalCrossentropy(), optimizer=tfk.optimizers.Adam(), metrics='accuracy')\n",
        "\n",
        "    # Return the model\n",
        "\n",
        "    return model"
      ],
      "metadata": {
        "id": "lR2QkBoSQ8lW"
      },
      "execution_count": null,
      "outputs": []
    },
    {
      "cell_type": "code",
      "source": [
        "n_units = 10\n",
        "input_shape = (128,173,1)\n",
        "\n",
        "model = build_model(input_shape, n_units)\n",
        "\n",
        "model.summary()"
      ],
      "metadata": {
        "id": "zIitkAlGQ-mM",
        "colab": {
          "base_uri": "https://localhost:8080/"
        },
        "outputId": "7431a0fc-011b-49b5-d6d2-98369ae8cba7"
      },
      "execution_count": null,
      "outputs": [
        {
          "output_type": "stream",
          "name": "stdout",
          "text": [
            "Model: \"model\"\n",
            "_________________________________________________________________\n",
            " Layer (type)                Output Shape              Param #   \n",
            "=================================================================\n",
            " Input (InputLayer)          [(None, 128, 173, 1)]     0         \n",
            "                                                                 \n",
            " conv2d_465 (Conv2D)         (None, 128, 173, 4)       40        \n",
            "                                                                 \n",
            " conv2d_466 (Conv2D)         (None, 128, 173, 8)       136       \n",
            "                                                                 \n",
            " max_pooling2d_273 (MaxPooli  (None, 64, 86, 8)        0         \n",
            " ng2D)                                                           \n",
            "                                                                 \n",
            " conv2d_467 (Conv2D)         (None, 64, 86, 16)        1168      \n",
            "                                                                 \n",
            " conv2d_468 (Conv2D)         (None, 64, 86, 16)        1040      \n",
            "                                                                 \n",
            " max_pooling2d_274 (MaxPooli  (None, 32, 43, 16)       0         \n",
            " ng2D)                                                           \n",
            "                                                                 \n",
            " conv2d_469 (Conv2D)         (None, 32, 43, 32)        2080      \n",
            "                                                                 \n",
            " conv2d_470 (Conv2D)         (None, 32, 43, 32)        4128      \n",
            "                                                                 \n",
            " max_pooling2d_275 (MaxPooli  (None, 16, 21, 32)       0         \n",
            " ng2D)                                                           \n",
            "                                                                 \n",
            " conv2d_471 (Conv2D)         (None, 16, 21, 64)        8256      \n",
            "                                                                 \n",
            " conv2d_472 (Conv2D)         (None, 16, 21, 64)        16448     \n",
            "                                                                 \n",
            " max_pooling2d_276 (MaxPooli  (None, 8, 10, 64)        0         \n",
            " ng2D)                                                           \n",
            "                                                                 \n",
            " conv2d_473 (Conv2D)         (None, 8, 10, 128)        32896     \n",
            "                                                                 \n",
            " max_pooling2d_277 (MaxPooli  (None, 4, 5, 128)        0         \n",
            " ng2D)                                                           \n",
            "                                                                 \n",
            " GAP (GlobalAveragePooling2D  (None, 128)              0         \n",
            " )                                                               \n",
            "                                                                 \n",
            " Classifier (Dense)          (None, 64)                8256      \n",
            "                                                                 \n",
            " dropout_59 (Dropout)        (None, 64)                0         \n",
            "                                                                 \n",
            " Classifier_2 (Dense)        (None, 32)                2080      \n",
            "                                                                 \n",
            " dropout_60 (Dropout)        (None, 32)                0         \n",
            "                                                                 \n",
            " Output (Dense)              (None, 10)                330       \n",
            "                                                                 \n",
            "=================================================================\n",
            "Total params: 76,858\n",
            "Trainable params: 76,858\n",
            "Non-trainable params: 0\n",
            "_________________________________________________________________\n"
          ]
        }
      ]
    },
    {
      "cell_type": "code",
      "source": [
        "early_stopping = tfk.callbacks.EarlyStopping(monitor='val_loss', mode='min', patience=20, restore_best_weights=True)\n",
        "adaptive_LR = tfk.callbacks.ReduceLROnPlateau(monitor='val_loss', mode='min', patience=5, factor=0.5, min_lr=1e-4)\n",
        "\n",
        "standard_history = model.fit(\n",
        "    x = X_train,\n",
        "    y = Y_train,\n",
        "    epochs = 500,\n",
        "    batch_size = 100,\n",
        "    validation_data= (X_valid, Y_valid),\n",
        "    callbacks = [early_stopping, adaptive_LR]\n",
        "    )"
      ],
      "metadata": {
        "id": "yFUsDY6BRWi1",
        "colab": {
          "base_uri": "https://localhost:8080/"
        },
        "outputId": "d7bd0a51-51bb-4dbd-a659-edbc20bb61ef"
      },
      "execution_count": null,
      "outputs": [
        {
          "output_type": "stream",
          "name": "stdout",
          "text": [
            "Epoch 1/500\n",
            "4/4 [==============================] - 3s 335ms/step - loss: 2.3052 - accuracy: 0.0914 - val_loss: 2.2949 - val_accuracy: 0.1100 - lr: 0.0010\n",
            "Epoch 2/500\n",
            "4/4 [==============================] - 1s 199ms/step - loss: 2.2951 - accuracy: 0.1157 - val_loss: 2.2859 - val_accuracy: 0.1250 - lr: 0.0010\n",
            "Epoch 3/500\n",
            "4/4 [==============================] - 1s 200ms/step - loss: 2.2883 - accuracy: 0.1086 - val_loss: 2.2705 - val_accuracy: 0.1450 - lr: 0.0010\n",
            "Epoch 4/500\n",
            "4/4 [==============================] - 1s 201ms/step - loss: 2.2685 - accuracy: 0.1371 - val_loss: 2.2373 - val_accuracy: 0.1650 - lr: 0.0010\n",
            "Epoch 5/500\n",
            "4/4 [==============================] - 1s 200ms/step - loss: 2.2437 - accuracy: 0.1343 - val_loss: 2.1957 - val_accuracy: 0.1750 - lr: 0.0010\n",
            "Epoch 6/500\n",
            "4/4 [==============================] - 1s 202ms/step - loss: 2.2267 - accuracy: 0.1586 - val_loss: 2.1949 - val_accuracy: 0.1950 - lr: 0.0010\n",
            "Epoch 7/500\n",
            "4/4 [==============================] - 1s 203ms/step - loss: 2.2085 - accuracy: 0.1600 - val_loss: 2.1493 - val_accuracy: 0.2100 - lr: 0.0010\n",
            "Epoch 8/500\n",
            "4/4 [==============================] - 1s 201ms/step - loss: 2.1861 - accuracy: 0.1614 - val_loss: 2.1075 - val_accuracy: 0.2150 - lr: 0.0010\n",
            "Epoch 9/500\n",
            "4/4 [==============================] - 1s 202ms/step - loss: 2.1391 - accuracy: 0.1843 - val_loss: 2.0634 - val_accuracy: 0.2350 - lr: 0.0010\n",
            "Epoch 10/500\n",
            "4/4 [==============================] - 1s 203ms/step - loss: 2.1336 - accuracy: 0.1900 - val_loss: 2.0300 - val_accuracy: 0.2300 - lr: 0.0010\n",
            "Epoch 11/500\n",
            "4/4 [==============================] - 1s 199ms/step - loss: 2.0835 - accuracy: 0.2014 - val_loss: 2.0306 - val_accuracy: 0.2400 - lr: 0.0010\n",
            "Epoch 12/500\n",
            "4/4 [==============================] - 1s 200ms/step - loss: 2.0703 - accuracy: 0.2300 - val_loss: 1.9826 - val_accuracy: 0.2450 - lr: 0.0010\n",
            "Epoch 13/500\n",
            "4/4 [==============================] - 1s 202ms/step - loss: 2.0380 - accuracy: 0.2514 - val_loss: 1.9417 - val_accuracy: 0.2550 - lr: 0.0010\n",
            "Epoch 14/500\n",
            "4/4 [==============================] - 1s 202ms/step - loss: 1.9792 - accuracy: 0.2557 - val_loss: 1.9040 - val_accuracy: 0.2600 - lr: 0.0010\n",
            "Epoch 15/500\n",
            "4/4 [==============================] - 1s 202ms/step - loss: 1.9982 - accuracy: 0.2400 - val_loss: 1.9408 - val_accuracy: 0.2450 - lr: 0.0010\n",
            "Epoch 16/500\n",
            "4/4 [==============================] - 1s 201ms/step - loss: 1.9657 - accuracy: 0.2514 - val_loss: 1.9219 - val_accuracy: 0.2700 - lr: 0.0010\n",
            "Epoch 17/500\n",
            "4/4 [==============================] - 1s 201ms/step - loss: 1.9890 - accuracy: 0.2514 - val_loss: 1.9280 - val_accuracy: 0.2600 - lr: 0.0010\n",
            "Epoch 18/500\n",
            "4/4 [==============================] - 1s 200ms/step - loss: 1.9749 - accuracy: 0.2543 - val_loss: 1.9660 - val_accuracy: 0.2900 - lr: 0.0010\n",
            "Epoch 19/500\n",
            "4/4 [==============================] - 1s 197ms/step - loss: 1.9954 - accuracy: 0.2529 - val_loss: 1.9159 - val_accuracy: 0.2650 - lr: 0.0010\n",
            "Epoch 20/500\n",
            "4/4 [==============================] - 1s 202ms/step - loss: 1.9351 - accuracy: 0.2714 - val_loss: 1.8430 - val_accuracy: 0.3050 - lr: 5.0000e-04\n",
            "Epoch 21/500\n",
            "4/4 [==============================] - 1s 198ms/step - loss: 1.8918 - accuracy: 0.2986 - val_loss: 1.8218 - val_accuracy: 0.2650 - lr: 5.0000e-04\n",
            "Epoch 22/500\n",
            "4/4 [==============================] - 1s 203ms/step - loss: 1.8532 - accuracy: 0.2943 - val_loss: 1.7983 - val_accuracy: 0.2950 - lr: 5.0000e-04\n",
            "Epoch 23/500\n",
            "4/4 [==============================] - 1s 200ms/step - loss: 1.8303 - accuracy: 0.3143 - val_loss: 1.8274 - val_accuracy: 0.2650 - lr: 5.0000e-04\n",
            "Epoch 24/500\n",
            "4/4 [==============================] - 1s 199ms/step - loss: 1.8608 - accuracy: 0.3000 - val_loss: 1.8099 - val_accuracy: 0.2850 - lr: 5.0000e-04\n",
            "Epoch 25/500\n",
            "4/4 [==============================] - 1s 201ms/step - loss: 1.8597 - accuracy: 0.2914 - val_loss: 1.7927 - val_accuracy: 0.2700 - lr: 5.0000e-04\n",
            "Epoch 26/500\n",
            "4/4 [==============================] - 1s 223ms/step - loss: 1.8291 - accuracy: 0.2971 - val_loss: 1.7815 - val_accuracy: 0.3300 - lr: 5.0000e-04\n",
            "Epoch 27/500\n",
            "4/4 [==============================] - 1s 201ms/step - loss: 1.8183 - accuracy: 0.3129 - val_loss: 1.7939 - val_accuracy: 0.2650 - lr: 5.0000e-04\n",
            "Epoch 28/500\n",
            "4/4 [==============================] - 1s 225ms/step - loss: 1.8072 - accuracy: 0.3229 - val_loss: 1.7499 - val_accuracy: 0.3250 - lr: 5.0000e-04\n",
            "Epoch 29/500\n",
            "4/4 [==============================] - 1s 198ms/step - loss: 1.7917 - accuracy: 0.3257 - val_loss: 1.7594 - val_accuracy: 0.2750 - lr: 5.0000e-04\n",
            "Epoch 30/500\n",
            "4/4 [==============================] - 1s 201ms/step - loss: 1.7909 - accuracy: 0.3286 - val_loss: 1.7325 - val_accuracy: 0.3050 - lr: 5.0000e-04\n",
            "Epoch 31/500\n",
            "4/4 [==============================] - 1s 203ms/step - loss: 1.7799 - accuracy: 0.3243 - val_loss: 1.7664 - val_accuracy: 0.3250 - lr: 5.0000e-04\n",
            "Epoch 32/500\n",
            "4/4 [==============================] - 1s 201ms/step - loss: 1.7796 - accuracy: 0.3314 - val_loss: 1.7380 - val_accuracy: 0.3150 - lr: 5.0000e-04\n",
            "Epoch 33/500\n",
            "4/4 [==============================] - 1s 223ms/step - loss: 1.7582 - accuracy: 0.3357 - val_loss: 1.7503 - val_accuracy: 0.3050 - lr: 5.0000e-04\n",
            "Epoch 34/500\n",
            "4/4 [==============================] - 1s 205ms/step - loss: 1.7579 - accuracy: 0.3086 - val_loss: 1.7306 - val_accuracy: 0.3150 - lr: 5.0000e-04\n",
            "Epoch 35/500\n",
            "4/4 [==============================] - 1s 199ms/step - loss: 1.7576 - accuracy: 0.3443 - val_loss: 1.7317 - val_accuracy: 0.3150 - lr: 5.0000e-04\n",
            "Epoch 36/500\n",
            "4/4 [==============================] - 1s 203ms/step - loss: 1.7489 - accuracy: 0.3243 - val_loss: 1.7167 - val_accuracy: 0.3950 - lr: 5.0000e-04\n",
            "Epoch 37/500\n",
            "4/4 [==============================] - 1s 226ms/step - loss: 1.7572 - accuracy: 0.3400 - val_loss: 1.7481 - val_accuracy: 0.2750 - lr: 5.0000e-04\n",
            "Epoch 38/500\n",
            "4/4 [==============================] - 1s 200ms/step - loss: 1.7423 - accuracy: 0.3543 - val_loss: 1.7173 - val_accuracy: 0.3900 - lr: 5.0000e-04\n",
            "Epoch 39/500\n",
            "4/4 [==============================] - 1s 200ms/step - loss: 1.7153 - accuracy: 0.3814 - val_loss: 1.7206 - val_accuracy: 0.3250 - lr: 5.0000e-04\n",
            "Epoch 40/500\n",
            "4/4 [==============================] - 1s 205ms/step - loss: 1.7280 - accuracy: 0.3529 - val_loss: 1.6901 - val_accuracy: 0.4050 - lr: 5.0000e-04\n",
            "Epoch 41/500\n",
            "4/4 [==============================] - 1s 202ms/step - loss: 1.7138 - accuracy: 0.3671 - val_loss: 1.6960 - val_accuracy: 0.3600 - lr: 5.0000e-04\n",
            "Epoch 42/500\n",
            "4/4 [==============================] - 1s 204ms/step - loss: 1.7111 - accuracy: 0.3500 - val_loss: 1.6643 - val_accuracy: 0.3850 - lr: 5.0000e-04\n",
            "Epoch 43/500\n",
            "4/4 [==============================] - 1s 224ms/step - loss: 1.7012 - accuracy: 0.4014 - val_loss: 1.6682 - val_accuracy: 0.3500 - lr: 5.0000e-04\n",
            "Epoch 44/500\n",
            "4/4 [==============================] - 1s 198ms/step - loss: 1.6938 - accuracy: 0.3886 - val_loss: 1.6691 - val_accuracy: 0.3300 - lr: 5.0000e-04\n",
            "Epoch 45/500\n",
            "4/4 [==============================] - 1s 200ms/step - loss: 1.6593 - accuracy: 0.3600 - val_loss: 1.6607 - val_accuracy: 0.4100 - lr: 5.0000e-04\n",
            "Epoch 46/500\n",
            "4/4 [==============================] - 1s 228ms/step - loss: 1.6760 - accuracy: 0.3729 - val_loss: 1.6516 - val_accuracy: 0.3850 - lr: 5.0000e-04\n",
            "Epoch 47/500\n",
            "4/4 [==============================] - 1s 200ms/step - loss: 1.6523 - accuracy: 0.3900 - val_loss: 1.6714 - val_accuracy: 0.3500 - lr: 5.0000e-04\n",
            "Epoch 48/500\n",
            "4/4 [==============================] - 1s 201ms/step - loss: 1.7027 - accuracy: 0.3929 - val_loss: 1.6415 - val_accuracy: 0.3900 - lr: 5.0000e-04\n",
            "Epoch 49/500\n",
            "4/4 [==============================] - 1s 197ms/step - loss: 1.6633 - accuracy: 0.3714 - val_loss: 1.6539 - val_accuracy: 0.3950 - lr: 5.0000e-04\n",
            "Epoch 50/500\n",
            "4/4 [==============================] - 1s 198ms/step - loss: 1.6995 - accuracy: 0.3857 - val_loss: 1.6735 - val_accuracy: 0.4000 - lr: 5.0000e-04\n",
            "Epoch 51/500\n",
            "4/4 [==============================] - 1s 200ms/step - loss: 1.6852 - accuracy: 0.3800 - val_loss: 1.6540 - val_accuracy: 0.4250 - lr: 5.0000e-04\n",
            "Epoch 52/500\n",
            "4/4 [==============================] - 1s 201ms/step - loss: 1.6679 - accuracy: 0.3643 - val_loss: 1.6137 - val_accuracy: 0.4250 - lr: 5.0000e-04\n",
            "Epoch 53/500\n",
            "4/4 [==============================] - 1s 197ms/step - loss: 1.6629 - accuracy: 0.3929 - val_loss: 1.6209 - val_accuracy: 0.4000 - lr: 5.0000e-04\n",
            "Epoch 54/500\n",
            "4/4 [==============================] - 1s 227ms/step - loss: 1.6242 - accuracy: 0.4271 - val_loss: 1.6108 - val_accuracy: 0.4250 - lr: 5.0000e-04\n",
            "Epoch 55/500\n",
            "4/4 [==============================] - 1s 223ms/step - loss: 1.6254 - accuracy: 0.4100 - val_loss: 1.6362 - val_accuracy: 0.3750 - lr: 5.0000e-04\n",
            "Epoch 56/500\n",
            "4/4 [==============================] - 1s 206ms/step - loss: 1.6111 - accuracy: 0.3986 - val_loss: 1.5927 - val_accuracy: 0.4350 - lr: 5.0000e-04\n",
            "Epoch 57/500\n",
            "4/4 [==============================] - 1s 202ms/step - loss: 1.6082 - accuracy: 0.4171 - val_loss: 1.5851 - val_accuracy: 0.4350 - lr: 5.0000e-04\n",
            "Epoch 58/500\n",
            "4/4 [==============================] - 1s 200ms/step - loss: 1.5984 - accuracy: 0.4171 - val_loss: 1.6794 - val_accuracy: 0.4250 - lr: 5.0000e-04\n",
            "Epoch 59/500\n",
            "4/4 [==============================] - 1s 199ms/step - loss: 1.6530 - accuracy: 0.4129 - val_loss: 1.6391 - val_accuracy: 0.4500 - lr: 5.0000e-04\n",
            "Epoch 60/500\n",
            "4/4 [==============================] - 1s 201ms/step - loss: 1.6131 - accuracy: 0.4129 - val_loss: 1.6078 - val_accuracy: 0.4250 - lr: 5.0000e-04\n",
            "Epoch 61/500\n",
            "4/4 [==============================] - 1s 202ms/step - loss: 1.6078 - accuracy: 0.4071 - val_loss: 1.6798 - val_accuracy: 0.3900 - lr: 5.0000e-04\n",
            "Epoch 62/500\n",
            "4/4 [==============================] - 1s 201ms/step - loss: 1.6295 - accuracy: 0.4114 - val_loss: 1.6632 - val_accuracy: 0.4350 - lr: 5.0000e-04\n",
            "Epoch 63/500\n",
            "4/4 [==============================] - 1s 200ms/step - loss: 1.6478 - accuracy: 0.4071 - val_loss: 1.5999 - val_accuracy: 0.4450 - lr: 2.5000e-04\n",
            "Epoch 64/500\n",
            "4/4 [==============================] - 1s 202ms/step - loss: 1.5807 - accuracy: 0.4200 - val_loss: 1.5901 - val_accuracy: 0.4300 - lr: 2.5000e-04\n",
            "Epoch 65/500\n",
            "4/4 [==============================] - 1s 212ms/step - loss: 1.5477 - accuracy: 0.4557 - val_loss: 1.5932 - val_accuracy: 0.4450 - lr: 2.5000e-04\n",
            "Epoch 66/500\n",
            "4/4 [==============================] - 1s 204ms/step - loss: 1.5705 - accuracy: 0.4286 - val_loss: 1.5719 - val_accuracy: 0.4250 - lr: 2.5000e-04\n",
            "Epoch 67/500\n",
            "4/4 [==============================] - 1s 204ms/step - loss: 1.5348 - accuracy: 0.4486 - val_loss: 1.5442 - val_accuracy: 0.4400 - lr: 2.5000e-04\n",
            "Epoch 68/500\n",
            "4/4 [==============================] - 1s 200ms/step - loss: 1.5067 - accuracy: 0.4486 - val_loss: 1.5522 - val_accuracy: 0.4300 - lr: 2.5000e-04\n",
            "Epoch 69/500\n",
            "4/4 [==============================] - 1s 199ms/step - loss: 1.5302 - accuracy: 0.4457 - val_loss: 1.5494 - val_accuracy: 0.4500 - lr: 2.5000e-04\n",
            "Epoch 70/500\n",
            "4/4 [==============================] - 1s 202ms/step - loss: 1.5270 - accuracy: 0.4543 - val_loss: 1.5379 - val_accuracy: 0.4400 - lr: 2.5000e-04\n",
            "Epoch 71/500\n",
            "4/4 [==============================] - 1s 203ms/step - loss: 1.4714 - accuracy: 0.4757 - val_loss: 1.5218 - val_accuracy: 0.4450 - lr: 2.5000e-04\n",
            "Epoch 72/500\n",
            "4/4 [==============================] - 1s 205ms/step - loss: 1.4857 - accuracy: 0.4786 - val_loss: 1.5160 - val_accuracy: 0.4600 - lr: 2.5000e-04\n",
            "Epoch 73/500\n",
            "4/4 [==============================] - 1s 200ms/step - loss: 1.4743 - accuracy: 0.4757 - val_loss: 1.5245 - val_accuracy: 0.4500 - lr: 2.5000e-04\n",
            "Epoch 74/500\n",
            "4/4 [==============================] - 1s 201ms/step - loss: 1.4810 - accuracy: 0.4400 - val_loss: 1.5374 - val_accuracy: 0.4650 - lr: 2.5000e-04\n",
            "Epoch 75/500\n",
            "4/4 [==============================] - 1s 223ms/step - loss: 1.5326 - accuracy: 0.4386 - val_loss: 1.5226 - val_accuracy: 0.4550 - lr: 2.5000e-04\n",
            "Epoch 76/500\n",
            "4/4 [==============================] - 1s 201ms/step - loss: 1.4874 - accuracy: 0.4500 - val_loss: 1.5225 - val_accuracy: 0.4350 - lr: 2.5000e-04\n",
            "Epoch 77/500\n",
            "4/4 [==============================] - 1s 208ms/step - loss: 1.4855 - accuracy: 0.4643 - val_loss: 1.5107 - val_accuracy: 0.4650 - lr: 2.5000e-04\n",
            "Epoch 78/500\n",
            "4/4 [==============================] - 1s 202ms/step - loss: 1.4547 - accuracy: 0.5157 - val_loss: 1.5204 - val_accuracy: 0.4400 - lr: 2.5000e-04\n",
            "Epoch 79/500\n",
            "4/4 [==============================] - 1s 200ms/step - loss: 1.4935 - accuracy: 0.4729 - val_loss: 1.5272 - val_accuracy: 0.4750 - lr: 2.5000e-04\n",
            "Epoch 80/500\n",
            "4/4 [==============================] - 1s 200ms/step - loss: 1.5088 - accuracy: 0.4586 - val_loss: 1.5148 - val_accuracy: 0.4600 - lr: 2.5000e-04\n",
            "Epoch 81/500\n",
            "4/4 [==============================] - 1s 200ms/step - loss: 1.4755 - accuracy: 0.4486 - val_loss: 1.5230 - val_accuracy: 0.4450 - lr: 2.5000e-04\n",
            "Epoch 82/500\n",
            "4/4 [==============================] - 1s 202ms/step - loss: 1.4745 - accuracy: 0.4757 - val_loss: 1.5068 - val_accuracy: 0.4650 - lr: 2.5000e-04\n",
            "Epoch 83/500\n",
            "4/4 [==============================] - 1s 201ms/step - loss: 1.5186 - accuracy: 0.4600 - val_loss: 1.5157 - val_accuracy: 0.4550 - lr: 2.5000e-04\n",
            "Epoch 84/500\n",
            "4/4 [==============================] - 1s 202ms/step - loss: 1.4431 - accuracy: 0.4800 - val_loss: 1.4938 - val_accuracy: 0.4750 - lr: 2.5000e-04\n",
            "Epoch 85/500\n",
            "4/4 [==============================] - 1s 225ms/step - loss: 1.4607 - accuracy: 0.4871 - val_loss: 1.5106 - val_accuracy: 0.4500 - lr: 2.5000e-04\n",
            "Epoch 86/500\n",
            "4/4 [==============================] - 1s 199ms/step - loss: 1.4786 - accuracy: 0.4386 - val_loss: 1.4986 - val_accuracy: 0.4900 - lr: 2.5000e-04\n",
            "Epoch 87/500\n",
            "4/4 [==============================] - 1s 205ms/step - loss: 1.4788 - accuracy: 0.4643 - val_loss: 1.5216 - val_accuracy: 0.4300 - lr: 2.5000e-04\n",
            "Epoch 88/500\n",
            "4/4 [==============================] - 1s 201ms/step - loss: 1.4281 - accuracy: 0.4686 - val_loss: 1.5007 - val_accuracy: 0.5050 - lr: 2.5000e-04\n",
            "Epoch 89/500\n",
            "4/4 [==============================] - 1s 201ms/step - loss: 1.4139 - accuracy: 0.5043 - val_loss: 1.5015 - val_accuracy: 0.4700 - lr: 2.5000e-04\n",
            "Epoch 90/500\n",
            "4/4 [==============================] - 1s 201ms/step - loss: 1.4360 - accuracy: 0.4829 - val_loss: 1.5019 - val_accuracy: 0.4550 - lr: 1.2500e-04\n",
            "Epoch 91/500\n",
            "4/4 [==============================] - 1s 202ms/step - loss: 1.4142 - accuracy: 0.4886 - val_loss: 1.4883 - val_accuracy: 0.4950 - lr: 1.2500e-04\n",
            "Epoch 92/500\n",
            "4/4 [==============================] - 1s 215ms/step - loss: 1.4277 - accuracy: 0.4900 - val_loss: 1.4862 - val_accuracy: 0.4850 - lr: 1.2500e-04\n",
            "Epoch 93/500\n",
            "4/4 [==============================] - 1s 240ms/step - loss: 1.4421 - accuracy: 0.4757 - val_loss: 1.4789 - val_accuracy: 0.4750 - lr: 1.2500e-04\n",
            "Epoch 94/500\n",
            "4/4 [==============================] - 1s 208ms/step - loss: 1.4032 - accuracy: 0.4957 - val_loss: 1.4755 - val_accuracy: 0.4800 - lr: 1.2500e-04\n",
            "Epoch 95/500\n",
            "4/4 [==============================] - 1s 225ms/step - loss: 1.3597 - accuracy: 0.5214 - val_loss: 1.4636 - val_accuracy: 0.4800 - lr: 1.2500e-04\n",
            "Epoch 96/500\n",
            "4/4 [==============================] - 1s 202ms/step - loss: 1.3907 - accuracy: 0.4843 - val_loss: 1.4629 - val_accuracy: 0.4750 - lr: 1.2500e-04\n",
            "Epoch 97/500\n",
            "4/4 [==============================] - 1s 201ms/step - loss: 1.3763 - accuracy: 0.5214 - val_loss: 1.4640 - val_accuracy: 0.4700 - lr: 1.2500e-04\n",
            "Epoch 98/500\n",
            "4/4 [==============================] - 1s 234ms/step - loss: 1.4349 - accuracy: 0.5071 - val_loss: 1.4576 - val_accuracy: 0.4900 - lr: 1.2500e-04\n",
            "Epoch 99/500\n",
            "4/4 [==============================] - 1s 229ms/step - loss: 1.3702 - accuracy: 0.5171 - val_loss: 1.4690 - val_accuracy: 0.4600 - lr: 1.2500e-04\n",
            "Epoch 100/500\n",
            "4/4 [==============================] - 1s 248ms/step - loss: 1.4097 - accuracy: 0.4871 - val_loss: 1.4618 - val_accuracy: 0.4700 - lr: 1.2500e-04\n",
            "Epoch 101/500\n",
            "4/4 [==============================] - 1s 205ms/step - loss: 1.3769 - accuracy: 0.5229 - val_loss: 1.4615 - val_accuracy: 0.4800 - lr: 1.2500e-04\n",
            "Epoch 102/500\n",
            "4/4 [==============================] - 1s 204ms/step - loss: 1.3970 - accuracy: 0.4957 - val_loss: 1.4715 - val_accuracy: 0.4650 - lr: 1.2500e-04\n",
            "Epoch 103/500\n",
            "4/4 [==============================] - 1s 204ms/step - loss: 1.3860 - accuracy: 0.5157 - val_loss: 1.4524 - val_accuracy: 0.5000 - lr: 1.2500e-04\n",
            "Epoch 104/500\n",
            "4/4 [==============================] - 1s 204ms/step - loss: 1.3650 - accuracy: 0.5214 - val_loss: 1.4555 - val_accuracy: 0.5100 - lr: 1.2500e-04\n",
            "Epoch 105/500\n",
            "4/4 [==============================] - 1s 201ms/step - loss: 1.3865 - accuracy: 0.5186 - val_loss: 1.4714 - val_accuracy: 0.4700 - lr: 1.2500e-04\n",
            "Epoch 106/500\n",
            "4/4 [==============================] - 1s 206ms/step - loss: 1.3634 - accuracy: 0.5114 - val_loss: 1.4566 - val_accuracy: 0.4950 - lr: 1.2500e-04\n",
            "Epoch 107/500\n",
            "4/4 [==============================] - 1s 204ms/step - loss: 1.3687 - accuracy: 0.5186 - val_loss: 1.4508 - val_accuracy: 0.4950 - lr: 1.2500e-04\n",
            "Epoch 108/500\n",
            "4/4 [==============================] - 1s 203ms/step - loss: 1.3544 - accuracy: 0.5229 - val_loss: 1.4588 - val_accuracy: 0.4800 - lr: 1.2500e-04\n",
            "Epoch 109/500\n",
            "4/4 [==============================] - 1s 200ms/step - loss: 1.3331 - accuracy: 0.5229 - val_loss: 1.4511 - val_accuracy: 0.4950 - lr: 1.2500e-04\n",
            "Epoch 110/500\n",
            "4/4 [==============================] - 1s 198ms/step - loss: 1.3370 - accuracy: 0.5157 - val_loss: 1.4510 - val_accuracy: 0.4950 - lr: 1.2500e-04\n",
            "Epoch 111/500\n",
            "4/4 [==============================] - 1s 197ms/step - loss: 1.3522 - accuracy: 0.5300 - val_loss: 1.4590 - val_accuracy: 0.4900 - lr: 1.2500e-04\n",
            "Epoch 112/500\n",
            "4/4 [==============================] - 1s 204ms/step - loss: 1.3711 - accuracy: 0.5057 - val_loss: 1.4539 - val_accuracy: 0.5050 - lr: 1.2500e-04\n",
            "Epoch 113/500\n",
            "4/4 [==============================] - 1s 203ms/step - loss: 1.3669 - accuracy: 0.5100 - val_loss: 1.4476 - val_accuracy: 0.5050 - lr: 1.0000e-04\n",
            "Epoch 114/500\n",
            "4/4 [==============================] - 1s 197ms/step - loss: 1.3628 - accuracy: 0.5143 - val_loss: 1.4500 - val_accuracy: 0.5000 - lr: 1.0000e-04\n",
            "Epoch 115/500\n",
            "4/4 [==============================] - 1s 201ms/step - loss: 1.3419 - accuracy: 0.5357 - val_loss: 1.4465 - val_accuracy: 0.5000 - lr: 1.0000e-04\n",
            "Epoch 116/500\n",
            "4/4 [==============================] - 1s 204ms/step - loss: 1.2986 - accuracy: 0.5371 - val_loss: 1.4447 - val_accuracy: 0.5000 - lr: 1.0000e-04\n",
            "Epoch 117/500\n",
            "4/4 [==============================] - 1s 201ms/step - loss: 1.3307 - accuracy: 0.5086 - val_loss: 1.4452 - val_accuracy: 0.5050 - lr: 1.0000e-04\n",
            "Epoch 118/500\n",
            "4/4 [==============================] - 1s 198ms/step - loss: 1.3137 - accuracy: 0.5171 - val_loss: 1.4479 - val_accuracy: 0.4950 - lr: 1.0000e-04\n",
            "Epoch 119/500\n",
            "4/4 [==============================] - 1s 202ms/step - loss: 1.3562 - accuracy: 0.5186 - val_loss: 1.4493 - val_accuracy: 0.4900 - lr: 1.0000e-04\n",
            "Epoch 120/500\n",
            "4/4 [==============================] - 1s 203ms/step - loss: 1.3099 - accuracy: 0.5414 - val_loss: 1.4395 - val_accuracy: 0.5150 - lr: 1.0000e-04\n",
            "Epoch 121/500\n",
            "4/4 [==============================] - 1s 206ms/step - loss: 1.3264 - accuracy: 0.5257 - val_loss: 1.4329 - val_accuracy: 0.5000 - lr: 1.0000e-04\n",
            "Epoch 122/500\n",
            "4/4 [==============================] - 1s 206ms/step - loss: 1.3119 - accuracy: 0.5586 - val_loss: 1.4376 - val_accuracy: 0.5000 - lr: 1.0000e-04\n",
            "Epoch 123/500\n",
            "4/4 [==============================] - 1s 200ms/step - loss: 1.3376 - accuracy: 0.5357 - val_loss: 1.4410 - val_accuracy: 0.5000 - lr: 1.0000e-04\n",
            "Epoch 124/500\n",
            "4/4 [==============================] - 1s 202ms/step - loss: 1.3005 - accuracy: 0.5257 - val_loss: 1.4372 - val_accuracy: 0.4900 - lr: 1.0000e-04\n",
            "Epoch 125/500\n",
            "4/4 [==============================] - 1s 201ms/step - loss: 1.3172 - accuracy: 0.5300 - val_loss: 1.4478 - val_accuracy: 0.5050 - lr: 1.0000e-04\n",
            "Epoch 126/500\n",
            "4/4 [==============================] - 1s 202ms/step - loss: 1.3074 - accuracy: 0.5429 - val_loss: 1.4482 - val_accuracy: 0.5000 - lr: 1.0000e-04\n",
            "Epoch 127/500\n",
            "4/4 [==============================] - 1s 203ms/step - loss: 1.3156 - accuracy: 0.5257 - val_loss: 1.4604 - val_accuracy: 0.4950 - lr: 1.0000e-04\n",
            "Epoch 128/500\n",
            "4/4 [==============================] - 1s 201ms/step - loss: 1.3304 - accuracy: 0.5300 - val_loss: 1.4467 - val_accuracy: 0.4850 - lr: 1.0000e-04\n",
            "Epoch 129/500\n",
            "4/4 [==============================] - 1s 202ms/step - loss: 1.3098 - accuracy: 0.5400 - val_loss: 1.4402 - val_accuracy: 0.5050 - lr: 1.0000e-04\n",
            "Epoch 130/500\n",
            "4/4 [==============================] - 1s 201ms/step - loss: 1.3032 - accuracy: 0.5557 - val_loss: 1.4447 - val_accuracy: 0.5000 - lr: 1.0000e-04\n",
            "Epoch 131/500\n",
            "4/4 [==============================] - 1s 201ms/step - loss: 1.3266 - accuracy: 0.5343 - val_loss: 1.4441 - val_accuracy: 0.4850 - lr: 1.0000e-04\n",
            "Epoch 132/500\n",
            "4/4 [==============================] - 1s 196ms/step - loss: 1.3126 - accuracy: 0.5343 - val_loss: 1.4429 - val_accuracy: 0.4850 - lr: 1.0000e-04\n",
            "Epoch 133/500\n",
            "4/4 [==============================] - 1s 201ms/step - loss: 1.3130 - accuracy: 0.5314 - val_loss: 1.4491 - val_accuracy: 0.4700 - lr: 1.0000e-04\n",
            "Epoch 134/500\n",
            "4/4 [==============================] - 1s 200ms/step - loss: 1.3030 - accuracy: 0.5529 - val_loss: 1.4418 - val_accuracy: 0.4900 - lr: 1.0000e-04\n",
            "Epoch 135/500\n",
            "4/4 [==============================] - 1s 202ms/step - loss: 1.3024 - accuracy: 0.5386 - val_loss: 1.4427 - val_accuracy: 0.5000 - lr: 1.0000e-04\n",
            "Epoch 136/500\n",
            "4/4 [==============================] - 1s 204ms/step - loss: 1.2875 - accuracy: 0.5400 - val_loss: 1.4499 - val_accuracy: 0.4950 - lr: 1.0000e-04\n",
            "Epoch 137/500\n",
            "4/4 [==============================] - 1s 200ms/step - loss: 1.2868 - accuracy: 0.5400 - val_loss: 1.4395 - val_accuracy: 0.5000 - lr: 1.0000e-04\n",
            "Epoch 138/500\n",
            "4/4 [==============================] - 1s 200ms/step - loss: 1.2762 - accuracy: 0.5657 - val_loss: 1.4506 - val_accuracy: 0.4750 - lr: 1.0000e-04\n",
            "Epoch 139/500\n",
            "4/4 [==============================] - 1s 203ms/step - loss: 1.2934 - accuracy: 0.5471 - val_loss: 1.4376 - val_accuracy: 0.5000 - lr: 1.0000e-04\n",
            "Epoch 140/500\n",
            "4/4 [==============================] - 1s 200ms/step - loss: 1.2932 - accuracy: 0.5443 - val_loss: 1.4412 - val_accuracy: 0.5050 - lr: 1.0000e-04\n",
            "Epoch 141/500\n",
            "4/4 [==============================] - 1s 205ms/step - loss: 1.2574 - accuracy: 0.5543 - val_loss: 1.4477 - val_accuracy: 0.4950 - lr: 1.0000e-04\n"
          ]
        }
      ]
    },
    {
      "cell_type": "code",
      "source": [
        "predictions = model.predict(X_test)\n",
        "\n",
        "# Compute the confusion matrix\n",
        "cm = confusion_matrix(np.argmax(Y_test, axis=-1), np.argmax(predictions, axis=-1))\n",
        "\n",
        "# Compute the classification metrics\n",
        "accuracy = accuracy_score(np.argmax(Y_test, axis=-1), np.argmax(predictions, axis=-1))\n",
        "precision = precision_score(np.argmax(Y_test, axis=-1), np.argmax(predictions, axis=-1), average='macro')\n",
        "recall = recall_score(np.argmax(Y_test, axis=-1), np.argmax(predictions, axis=-1), average='macro')\n",
        "f1 = f1_score(np.argmax(Y_test, axis=-1), np.argmax(predictions, axis=-1), average='macro')\n",
        "print('Accuracy:',accuracy.round(4))\n",
        "print('Precision:',precision.round(4))\n",
        "print('Recall:',recall.round(4))\n",
        "print('F1:',f1.round(4))\n",
        "\n",
        "# Plot the confusion matrix\n",
        "plt.figure(figsize=(10,8))\n",
        "sns.heatmap(cm.T)#, xticklabels=list(labels.values()), yticklabels=list(labels.values()))\n",
        "plt.xlabel('True labels')\n",
        "plt.ylabel('Predicted labels')\n",
        "plt.show()"
      ],
      "metadata": {
        "id": "6Xlmj6RaRRvk",
        "colab": {
          "base_uri": "https://localhost:8080/",
          "height": 573
        },
        "outputId": "3dde738f-116c-48f4-f214-c492eab3f316"
      },
      "execution_count": null,
      "outputs": [
        {
          "output_type": "stream",
          "name": "stdout",
          "text": [
            "Accuracy: 0.6\n",
            "Precision: 0.5962\n",
            "Recall: 0.6\n",
            "F1: 0.5877\n"
          ]
        },
        {
          "output_type": "display_data",
          "data": {
            "text/plain": [
              "<Figure size 720x576 with 2 Axes>"
            ],
            "image/png": "[encoded data removed]"
          },
          "metadata": {
            "needs_background": "light"
          }
        }
      ]
    },
    {
      "cell_type": "code",
      "source": [
        "model.save('/gdrive/MyDrive/polimi/NAML/NAML_proj/models/complete/first3')"
      ],
      "metadata": {
        "colab": {
          "base_uri": "https://localhost:8080/"
        },
        "id": "SO-HKBQc9I7r",
        "outputId": "122384ac-b546-4db0-fff9-6300a7bf3982"
      },
      "execution_count": null,
      "outputs": [
        {
          "output_type": "stream",
          "name": "stderr",
          "text": [
            "WARNING:absl:Function `_wrapped_model` contains input name(s) Input with unsupported characters which will be renamed to input in the SavedModel.\n"
          ]
        },
        {
          "output_type": "stream",
          "name": "stdout",
          "text": [
            "INFO:tensorflow:Assets written to: /gdrive/MyDrive/polimi/NAML/NAML_proj/models/complete/first3/assets\n"
          ]
        },
        {
          "output_type": "stream",
          "name": "stderr",
          "text": [
            "INFO:tensorflow:Assets written to: /gdrive/MyDrive/polimi/NAML/NAML_proj/models/complete/first3/assets\n"
          ]
        }
      ]
    }
  ]
}