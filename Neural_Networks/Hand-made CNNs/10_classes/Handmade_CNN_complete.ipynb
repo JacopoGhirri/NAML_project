{
 "nbformat": 4,
 "nbformat_minor": 0,
 "metadata": {
  "colab": {
   "name": "Handmade_CNN_complete.ipynb",
   "provenance": []
  },
  "kernelspec": {
   "name": "python3",
   "display_name": "Python 3"
  },
  "language_info": {
   "name": "python"
  },
  "accelerator": "GPU"
 },
 "cells": [
  {
   "cell_type": "markdown",
   "source": [
    "## Black Box Approach for all 10 genres classification\n",
    "\n",
    "We aim at training a Neural Network to distinguish between all the different genres"
   ],
   "metadata": {
    "id": "gKB_Sss8Ql-3"
   }
  },
  {
   "cell_type": "code",
   "execution_count": 1,
   "metadata": {
    "id": "SwPJ54sBQlFO",
    "colab": {
     "base_uri": "https://localhost:8080/"
    },
    "outputId": "b5cf94df-f520-41cb-96cb-17e46a8aa4b9"
   },
   "outputs": [
    {
     "output_type": "stream",
     "name": "stdout",
     "text": [
      "Mounted at /gdrive\n"
     ]
    }
   ],
   "source": [
    "#importing google drive\n",
    "from google.colab import drive\n",
    "drive.mount('/gdrive')"
   ]
  },
  {
   "cell_type": "code",
   "source": [
    "#setting the working directory\n",
    "%cd /gdrive/MyDrive/polimi/NAML/NAML_proj/"
   ],
   "metadata": {
    "id": "iYHj7NhnQs_-",
    "colab": {
     "base_uri": "https://localhost:8080/"
    },
    "outputId": "be46ba0f-de81-4270-ace5-ea8a70318d94"
   },
   "execution_count": 2,
   "outputs": [
    {
     "output_type": "stream",
     "name": "stdout",
     "text": [
      "/gdrive/MyDrive/polimi/NAML/NAML_proj\n"
     ]
    }
   ]
  },
  {
   "cell_type": "code",
   "source": [
    "import tensorflow as tf\n",
    "from PIL import Image\n",
    "import numpy as np\n",
    "import os\n",
    "import random\n",
    "import seaborn as sns\n",
    "import matplotlib as mpl\n",
    "import matplotlib.pyplot as plt\n",
    "from sklearn.model_selection import train_test_split\n",
    "from sklearn.metrics import accuracy_score, f1_score, precision_score, recall_score\n",
    "from sklearn.metrics import confusion_matrix\n",
    "import librosa\n",
    "import os\n",
    "\n",
    "tfk = tf.keras\n",
    "tfkl = tf.keras.layers\n",
    "seed = 42"
   ],
   "metadata": {
    "id": "INc4ttEUQuxN"
   },
   "execution_count": 3,
   "outputs": []
  },
  {
   "cell_type": "markdown",
   "source": [
    "The dataset is composed of Mel-Spectrograms of each audio sample, labeled with respect to each genre"
   ],
   "metadata": {
    "id": "WS4HjCWqkkUY"
   }
  },
  {
   "cell_type": "code",
   "source": [
    "dataset = []\n",
    "genres = {'blues': 0, 'classical': 1, 'country': 2, 'disco': 3, 'hiphop': 4, \n",
    "        'jazz': 5, 'metal': 6, 'pop': 7, 'reggae': 8, 'rock': 9}\n",
    "n_genres = 10\n",
    "\n",
    "for genre, genre_number in genres.items():\n",
    "    for filename in os.listdir(f'dataset_old/genres/{genre}'):\n",
    "        songname = f'dataset_old/genres/{genre}/{filename}'\n",
    "        y, sr = librosa.load(songname, mono=True, duration=29.7)\n",
    "        ps = librosa.feature.melspectrogram(y=y, sr=sr, hop_length = 256, n_fft = 512)\n",
    "        ps = librosa.power_to_db(ps**2)\n",
    "        dataset.append( (ps, genre_number) )\n",
    "    print(str(genre+' done'))"
   ],
   "metadata": {
    "id": "oiT5mkVqQ_lt",
    "colab": {
     "base_uri": "https://localhost:8080/"
    },
    "outputId": "8d515641-688d-4a7f-9aab-f0091b8f5ee3"
   },
   "execution_count": 4,
   "outputs": [
    {
     "output_type": "stream",
     "name": "stdout",
     "text": [
      "blues done\n",
      "classical done\n",
      "country done\n",
      "disco done\n",
      "hiphop done\n",
      "jazz done\n",
      "metal done\n",
      "pop done\n",
      "reggae done\n",
      "rock done\n"
     ]
    }
   ]
  },
  {
   "cell_type": "markdown",
   "source": [
    "We split the dataset according to the following composition:\n",
    "\n",
    "\n",
    "*   70% training set\n",
    "*   20% validation set\n",
    "*   10% test set\n",
    "\n",
    "Maintaining equal proportions amongst classes\n",
    "\n"
   ],
   "metadata": {
    "id": "FD5R_1cekn7f"
   }
  },
  {
   "cell_type": "code",
   "source": [
    "order = np.arange(start = 0, stop = 100, step = 1)\n",
    "\n",
    "np.random.seed(seed)\n",
    "\n",
    "training = []\n",
    "validation = []\n",
    "test = []\n",
    "\n",
    "for i in range(n_genres):\n",
    "  shuffle = np.random.permutation(order)\n",
    "  for k in range(70):\n",
    "    training.append(dataset[i*100 + shuffle[k]])\n",
    "  for l in range(20):\n",
    "    validation.append(dataset[i*100 + shuffle[l+70]])\n",
    "  for m in range(10):\n",
    "    test.append(dataset[i*100 + shuffle[m+90]])"
   ],
   "metadata": {
    "id": "OSUK8JPgRFVF"
   },
   "execution_count": 5,
   "outputs": []
  },
  {
   "cell_type": "code",
   "source": [
    "X_train, Y_train = zip(*training)\n",
    "X_valid, Y_valid = zip(*validation)\n",
    "X_test, Y_test = zip(*test)\n",
    "\n",
    "X_train = np.array([x.reshape( (128, 2559, 1) ) for x in X_train])\n",
    "X_valid = np.array([x.reshape( (128, 2559, 1) ) for x in X_valid])\n",
    "X_test = np.array([x.reshape( (128, 2559, 1) ) for x in X_test])\n",
    "\n",
    "\n",
    "Y_train = np.array(tfk.utils.to_categorical(Y_train, n_genres))\n",
    "Y_valid = np.array(tfk.utils.to_categorical(Y_valid, n_genres))\n",
    "Y_test = np.array(tfk.utils.to_categorical(Y_test, n_genres))"
   ],
   "metadata": {
    "id": "WA29NV-URMuG"
   },
   "execution_count": 6,
   "outputs": []
  },
  {
   "cell_type": "markdown",
   "source": [
    "The proposed model is composed as a stack of convolutional layer, followed by a Global Average Pooling layer leading to a fully connected section.\n",
    "\n",
    "Optimization is performed as a Batch version of Adam optimizer algorithm"
   ],
   "metadata": {
    "id": "oaOErj4uktYn"
   }
  },
  {
   "cell_type": "code",
   "source": [
    "def build_model(input_shape, n_units):\n",
    "# Build the neural network layer by layer\n",
    "    input_layer = tfkl.Input(shape=input_shape, name='Input')\n",
    "\n",
    "    conv1 = tfkl.Conv2D(\n",
    "        name = 'conv_1',\n",
    "        filters=4,\n",
    "        kernel_size=(5, 5),\n",
    "        strides = (1, 1),\n",
    "        padding = 'same',\n",
    "        activation = 'relu',\n",
    "        kernel_initializer = tfk.initializers.GlorotUniform(seed)\n",
    "    )(input_layer)\n",
    "    conv1_2 = tfkl.Conv2D(\n",
    "        name = 'conv_1_2',\n",
    "        filters=8,\n",
    "        kernel_size=(3, 3),\n",
    "        strides = (1, 1),\n",
    "        padding = 'same',\n",
    "        activation = 'relu',\n",
    "        kernel_initializer = tfk.initializers.GlorotUniform(seed)\n",
    "    )(conv1)\n",
    "    pool1 = tfkl.MaxPooling2D(\n",
    "        name = 'pool_1',\n",
    "        pool_size = (2, 2)\n",
    "    )(conv1_2)\n",
    "\n",
    "    conv2 = tfkl.Conv2D(\n",
    "        name = 'conv_2',\n",
    "        filters=16,\n",
    "        kernel_size=(3, 3),\n",
    "        strides = (1, 1),\n",
    "        padding = 'same',\n",
    "        activation = 'relu',\n",
    "        kernel_initializer = tfk.initializers.GlorotUniform(seed)\n",
    "    )(pool1)\n",
    "    conv2_2 = tfkl.Conv2D(\n",
    "        name = 'conv_2_2',\n",
    "        filters=16,\n",
    "        kernel_size=(3, 3),\n",
    "        strides = (1, 1),\n",
    "        padding = 'same',\n",
    "        activation = 'relu',\n",
    "        kernel_initializer = tfk.initializers.GlorotUniform(seed)\n",
    "    )(conv2)\n",
    "    pool2 = tfkl.MaxPooling2D(\n",
    "        name = 'pool_2',\n",
    "        pool_size = (2, 2)\n",
    "    )(conv2_2)\n",
    "\n",
    "    conv3 = tfkl.Conv2D(\n",
    "        name = 'conv_3',\n",
    "        filters=32,\n",
    "        kernel_size=(3, 3),\n",
    "        strides = (1, 1),\n",
    "        padding = 'same',\n",
    "        activation = 'relu',\n",
    "        kernel_initializer = tfk.initializers.GlorotUniform(seed)\n",
    "    )(pool2)\n",
    "    pool3 = tfkl.MaxPooling2D(\n",
    "        name = 'pool_3',\n",
    "        pool_size = (2, 2)\n",
    "    )(conv3)\n",
    "\n",
    "    conv4 = tfkl.Conv2D(\n",
    "        name = 'conv_4',\n",
    "        filters=64,\n",
    "        kernel_size=(3, 3),\n",
    "        strides = (1, 1),\n",
    "        padding = 'same',\n",
    "        activation = 'relu',\n",
    "        kernel_initializer = tfk.initializers.GlorotUniform(seed)\n",
    "    )(pool3)\n",
    "    pool4 = tfkl.MaxPooling2D(\n",
    "        name = 'pool_4',\n",
    "        pool_size = (2, 2)\n",
    "    )(conv4)\n",
    "\n",
    "    conv5 = tfkl.Conv2D(\n",
    "        name = 'conv_5',\n",
    "        filters=128,\n",
    "        kernel_size=(3, 3),\n",
    "        strides = (1, 1),\n",
    "        padding = 'same',\n",
    "        activation = 'relu',\n",
    "        kernel_initializer = tfk.initializers.GlorotUniform(seed)\n",
    "    )(pool4)\n",
    "    pool5 = tfkl.MaxPooling2D(\n",
    "        name = 'pool_5',\n",
    "        pool_size = (2, 2)\n",
    "    )(conv5)\n",
    "\n",
    "    conv6 = tfkl.Conv2D(\n",
    "        name = 'conv_6',\n",
    "        filters=286,\n",
    "        kernel_size=(1, 1),\n",
    "        strides = (1, 1),\n",
    "        padding = 'same',\n",
    "        activation = 'relu',\n",
    "        kernel_initializer = tfk.initializers.GlorotUniform(seed)\n",
    "    )(pool5)\n",
    "    \n",
    "    global_average = tfkl.GlobalAveragePooling2D(name = 'GAP')(conv6)\n",
    "    global_average = tfkl.Dropout(0.3, seed=seed, name = 'Dropout_GAP')(global_average)\n",
    "    \n",
    "    classifier_layer = tfkl.Dense(units=64, name='Classifier', activation='relu')(global_average)\n",
    "    \n",
    "    classifier_layer = tfkl.Dropout(0.3, seed=seed, name = 'Dropout_Classifier')(classifier_layer)\n",
    "    classifier_layer_2 = tfkl.Dense(units=32, name='Classifier_2', activation='relu')(classifier_layer)\n",
    "    classifier_layer_2 = tfkl.Dropout(0.3, seed=seed, name = 'Dropout_Classifier_2')(classifier_layer_2)\n",
    "    output_layer = tfkl.Dense(units=n_units, activation='softmax', name='Output')(classifier_layer_2)\n",
    "\n",
    "    # Connect input and output through the Model class\n",
    "    model = tfk.Model(inputs=input_layer, outputs=output_layer, name='model')\n",
    "\n",
    "    # Compile the model\n",
    "    model.compile(loss=tfk.losses.CategoricalCrossentropy(), optimizer=tfk.optimizers.Adam(), metrics='accuracy')\n",
    "\n",
    "    # Return the model\n",
    "\n",
    "    return model"
   ],
   "metadata": {
    "id": "lR2QkBoSQ8lW"
   },
   "execution_count": 20,
   "outputs": []
  },
  {
   "cell_type": "code",
   "source": [
    "input_shape = (128, 2559, 1)\n",
    "\n",
    "model = build_model(input_shape, n_genres)\n",
    "\n",
    "model.summary()"
   ],
   "metadata": {
    "id": "zIitkAlGQ-mM",
    "colab": {
     "base_uri": "https://localhost:8080/"
    },
    "outputId": "9ddae429-5171-49ae-9004-233c2efe8c02"
   },
   "execution_count": 22,
   "outputs": [
    {
     "output_type": "stream",
     "name": "stdout",
     "text": [
      "Model: \"model\"\n",
      "_________________________________________________________________\n",
      " Layer (type)                Output Shape              Param #   \n",
      "=================================================================\n",
      " Input (InputLayer)          [(None, 128, 2559, 1)]    0         \n",
      "                                                                 \n",
      " conv_1 (Conv2D)             (None, 128, 2559, 4)      104       \n",
      "                                                                 \n",
      " conv_1_2 (Conv2D)           (None, 128, 2559, 8)      296       \n",
      "                                                                 \n",
      " pool_1 (MaxPooling2D)       (None, 64, 1279, 8)       0         \n",
      "                                                                 \n",
      " conv_2 (Conv2D)             (None, 64, 1279, 16)      1168      \n",
      "                                                                 \n",
      " conv_2_2 (Conv2D)           (None, 64, 1279, 16)      2320      \n",
      "                                                                 \n",
      " pool_2 (MaxPooling2D)       (None, 32, 639, 16)       0         \n",
      "                                                                 \n",
      " conv_3 (Conv2D)             (None, 32, 639, 32)       4640      \n",
      "                                                                 \n",
      " pool_3 (MaxPooling2D)       (None, 16, 319, 32)       0         \n",
      "                                                                 \n",
      " conv_4 (Conv2D)             (None, 16, 319, 64)       18496     \n",
      "                                                                 \n",
      " pool_4 (MaxPooling2D)       (None, 8, 159, 64)        0         \n",
      "                                                                 \n",
      " conv_5 (Conv2D)             (None, 8, 159, 128)       73856     \n",
      "                                                                 \n",
      " pool_5 (MaxPooling2D)       (None, 4, 79, 128)        0         \n",
      "                                                                 \n",
      " conv_6 (Conv2D)             (None, 4, 79, 286)        36894     \n",
      "                                                                 \n",
      " GAP (GlobalAveragePooling2D  (None, 286)              0         \n",
      " )                                                               \n",
      "                                                                 \n",
      " Dropout_GAP (Dropout)       (None, 286)               0         \n",
      "                                                                 \n",
      " Classifier (Dense)          (None, 64)                18368     \n",
      "                                                                 \n",
      " Dropout_Classifier (Dropout  (None, 64)               0         \n",
      " )                                                               \n",
      "                                                                 \n",
      " Classifier_2 (Dense)        (None, 32)                2080      \n",
      "                                                                 \n",
      " Dropout_Classifier_2 (Dropo  (None, 32)               0         \n",
      " ut)                                                             \n",
      "                                                                 \n",
      " Output (Dense)              (None, 10)                330       \n",
      "                                                                 \n",
      "=================================================================\n",
      "Total params: 158,552\n",
      "Trainable params: 158,552\n",
      "Non-trainable params: 0\n",
      "_________________________________________________________________\n"
     ]
    }
   ]
  },
  {
   "cell_type": "code",
   "source": [
    "early_stopping = tfk.callbacks.EarlyStopping(monitor='val_loss', mode='min', patience=20, restore_best_weights=True)\n",
    "adaptive_LR = tfk.callbacks.ReduceLROnPlateau(monitor='val_loss', mode='min', patience=5, factor=0.5, min_lr=1e-4)\n",
    "\n",
    "standard_history = model.fit(\n",
    "    x = X_train,\n",
    "    y = Y_train,\n",
    "    epochs = 500,\n",
    "    batch_size = 100,\n",
    "    validation_data= (X_valid, Y_valid),\n",
    "    callbacks = [early_stopping, adaptive_LR]\n",
    "    )"
   ],
   "metadata": {
    "id": "yFUsDY6BRWi1",
    "colab": {
     "base_uri": "https://localhost:8080/"
    },
    "outputId": "b6b29673-82e5-428d-fc66-2f51421ff0dc"
   },
   "execution_count": 23,
   "outputs": [
    {
     "output_type": "stream",
     "name": "stdout",
     "text": [
      "Epoch 1/500\n",
      "7/7 [==============================] - 15s 2s/step - loss: 2.3375 - accuracy: 0.0986 - val_loss: 2.3007 - val_accuracy: 0.1450 - lr: 0.0010\n",
      "Epoch 2/500\n",
      "7/7 [==============================] - 15s 2s/step - loss: 2.3036 - accuracy: 0.1057 - val_loss: 2.2992 - val_accuracy: 0.1000 - lr: 0.0010\n",
      "Epoch 3/500\n",
      "7/7 [==============================] - 13s 2s/step - loss: 2.3041 - accuracy: 0.0971 - val_loss: 2.2975 - val_accuracy: 0.1000 - lr: 0.0010\n",
      "Epoch 4/500\n",
      "7/7 [==============================] - 13s 2s/step - loss: 2.2994 - accuracy: 0.1257 - val_loss: 2.2966 - val_accuracy: 0.1700 - lr: 0.0010\n",
      "Epoch 5/500\n",
      "7/7 [==============================] - 15s 2s/step - loss: 2.2933 - accuracy: 0.1314 - val_loss: 2.2905 - val_accuracy: 0.1000 - lr: 0.0010\n",
      "Epoch 6/500\n",
      "7/7 [==============================] - 13s 2s/step - loss: 2.2863 - accuracy: 0.1157 - val_loss: 2.2765 - val_accuracy: 0.1700 - lr: 0.0010\n",
      "Epoch 7/500\n",
      "7/7 [==============================] - 15s 2s/step - loss: 2.2808 - accuracy: 0.1443 - val_loss: 2.2668 - val_accuracy: 0.1600 - lr: 0.0010\n",
      "Epoch 8/500\n",
      "7/7 [==============================] - 13s 2s/step - loss: 2.2588 - accuracy: 0.1543 - val_loss: 2.2012 - val_accuracy: 0.1800 - lr: 0.0010\n",
      "Epoch 9/500\n",
      "7/7 [==============================] - 15s 2s/step - loss: 2.2407 - accuracy: 0.1457 - val_loss: 2.2878 - val_accuracy: 0.1300 - lr: 0.0010\n",
      "Epoch 10/500\n",
      "7/7 [==============================] - 15s 2s/step - loss: 2.2680 - accuracy: 0.1486 - val_loss: 2.2582 - val_accuracy: 0.1700 - lr: 0.0010\n",
      "Epoch 11/500\n",
      "7/7 [==============================] - 13s 2s/step - loss: 2.2492 - accuracy: 0.1600 - val_loss: 2.2232 - val_accuracy: 0.1750 - lr: 0.0010\n",
      "Epoch 12/500\n",
      "7/7 [==============================] - 13s 2s/step - loss: 2.2150 - accuracy: 0.1586 - val_loss: 2.1450 - val_accuracy: 0.1750 - lr: 0.0010\n",
      "Epoch 13/500\n",
      "7/7 [==============================] - 13s 2s/step - loss: 2.1840 - accuracy: 0.1814 - val_loss: 2.0627 - val_accuracy: 0.2800 - lr: 0.0010\n",
      "Epoch 14/500\n",
      "7/7 [==============================] - 15s 2s/step - loss: 2.1435 - accuracy: 0.2214 - val_loss: 2.0058 - val_accuracy: 0.3300 - lr: 0.0010\n",
      "Epoch 15/500\n",
      "7/7 [==============================] - 15s 2s/step - loss: 2.1131 - accuracy: 0.2157 - val_loss: 2.0097 - val_accuracy: 0.3100 - lr: 0.0010\n",
      "Epoch 16/500\n",
      "7/7 [==============================] - 13s 2s/step - loss: 2.0430 - accuracy: 0.2643 - val_loss: 1.8928 - val_accuracy: 0.3350 - lr: 0.0010\n",
      "Epoch 17/500\n",
      "7/7 [==============================] - 15s 2s/step - loss: 2.0731 - accuracy: 0.2514 - val_loss: 1.8882 - val_accuracy: 0.3150 - lr: 0.0010\n",
      "Epoch 18/500\n",
      "7/7 [==============================] - 15s 2s/step - loss: 1.9760 - accuracy: 0.2843 - val_loss: 1.8693 - val_accuracy: 0.2950 - lr: 0.0010\n",
      "Epoch 19/500\n",
      "7/7 [==============================] - 15s 2s/step - loss: 1.9945 - accuracy: 0.2471 - val_loss: 1.8386 - val_accuracy: 0.2800 - lr: 0.0010\n",
      "Epoch 20/500\n",
      "7/7 [==============================] - 13s 2s/step - loss: 1.9292 - accuracy: 0.2886 - val_loss: 1.8655 - val_accuracy: 0.3100 - lr: 0.0010\n",
      "Epoch 21/500\n",
      "7/7 [==============================] - 15s 2s/step - loss: 1.9636 - accuracy: 0.2800 - val_loss: 1.7867 - val_accuracy: 0.3500 - lr: 0.0010\n",
      "Epoch 22/500\n",
      "7/7 [==============================] - 13s 2s/step - loss: 1.8832 - accuracy: 0.3186 - val_loss: 1.7612 - val_accuracy: 0.3600 - lr: 0.0010\n",
      "Epoch 23/500\n",
      "7/7 [==============================] - 15s 2s/step - loss: 1.8663 - accuracy: 0.3000 - val_loss: 1.6945 - val_accuracy: 0.3750 - lr: 0.0010\n",
      "Epoch 24/500\n",
      "7/7 [==============================] - 13s 2s/step - loss: 1.8335 - accuracy: 0.2986 - val_loss: 1.7148 - val_accuracy: 0.3550 - lr: 0.0010\n",
      "Epoch 25/500\n",
      "7/7 [==============================] - 13s 2s/step - loss: 1.8254 - accuracy: 0.3100 - val_loss: 1.6885 - val_accuracy: 0.3450 - lr: 0.0010\n",
      "Epoch 26/500\n",
      "7/7 [==============================] - 15s 2s/step - loss: 1.7726 - accuracy: 0.3457 - val_loss: 1.7012 - val_accuracy: 0.3200 - lr: 0.0010\n",
      "Epoch 27/500\n",
      "7/7 [==============================] - 13s 2s/step - loss: 1.7864 - accuracy: 0.3343 - val_loss: 1.7343 - val_accuracy: 0.3600 - lr: 0.0010\n",
      "Epoch 28/500\n",
      "7/7 [==============================] - 15s 2s/step - loss: 1.7653 - accuracy: 0.3614 - val_loss: 1.6640 - val_accuracy: 0.3850 - lr: 0.0010\n",
      "Epoch 29/500\n",
      "7/7 [==============================] - 14s 2s/step - loss: 1.7389 - accuracy: 0.3500 - val_loss: 1.7110 - val_accuracy: 0.4200 - lr: 0.0010\n",
      "Epoch 30/500\n",
      "7/7 [==============================] - 15s 2s/step - loss: 1.7589 - accuracy: 0.3386 - val_loss: 1.6873 - val_accuracy: 0.3650 - lr: 0.0010\n",
      "Epoch 31/500\n",
      "7/7 [==============================] - 15s 2s/step - loss: 1.7518 - accuracy: 0.3257 - val_loss: 1.6283 - val_accuracy: 0.4250 - lr: 0.0010\n",
      "Epoch 32/500\n",
      "7/7 [==============================] - 15s 2s/step - loss: 1.6831 - accuracy: 0.3786 - val_loss: 1.5856 - val_accuracy: 0.4250 - lr: 0.0010\n",
      "Epoch 33/500\n",
      "7/7 [==============================] - 13s 2s/step - loss: 1.6377 - accuracy: 0.4100 - val_loss: 1.6045 - val_accuracy: 0.4300 - lr: 0.0010\n",
      "Epoch 34/500\n",
      "7/7 [==============================] - 13s 2s/step - loss: 1.6651 - accuracy: 0.3900 - val_loss: 1.5579 - val_accuracy: 0.4350 - lr: 0.0010\n",
      "Epoch 35/500\n",
      "7/7 [==============================] - 15s 2s/step - loss: 1.6225 - accuracy: 0.4014 - val_loss: 1.5479 - val_accuracy: 0.4500 - lr: 0.0010\n",
      "Epoch 36/500\n",
      "7/7 [==============================] - 15s 2s/step - loss: 1.6023 - accuracy: 0.4343 - val_loss: 1.4678 - val_accuracy: 0.4750 - lr: 0.0010\n",
      "Epoch 37/500\n",
      "7/7 [==============================] - 15s 2s/step - loss: 1.5501 - accuracy: 0.4257 - val_loss: 1.5665 - val_accuracy: 0.4200 - lr: 0.0010\n",
      "Epoch 38/500\n",
      "7/7 [==============================] - 15s 2s/step - loss: 1.5504 - accuracy: 0.4257 - val_loss: 1.5608 - val_accuracy: 0.4450 - lr: 0.0010\n",
      "Epoch 39/500\n",
      "7/7 [==============================] - 15s 2s/step - loss: 1.5720 - accuracy: 0.4286 - val_loss: 1.4736 - val_accuracy: 0.4650 - lr: 0.0010\n",
      "Epoch 40/500\n",
      "7/7 [==============================] - 15s 2s/step - loss: 1.5095 - accuracy: 0.4386 - val_loss: 1.4417 - val_accuracy: 0.4700 - lr: 0.0010\n",
      "Epoch 41/500\n",
      "7/7 [==============================] - 15s 2s/step - loss: 1.4997 - accuracy: 0.4329 - val_loss: 1.4229 - val_accuracy: 0.4700 - lr: 0.0010\n",
      "Epoch 42/500\n",
      "7/7 [==============================] - 15s 2s/step - loss: 1.4848 - accuracy: 0.4700 - val_loss: 1.4527 - val_accuracy: 0.4650 - lr: 0.0010\n",
      "Epoch 43/500\n",
      "7/7 [==============================] - 13s 2s/step - loss: 1.5241 - accuracy: 0.4271 - val_loss: 1.4574 - val_accuracy: 0.4650 - lr: 0.0010\n",
      "Epoch 44/500\n",
      "7/7 [==============================] - 13s 2s/step - loss: 1.5054 - accuracy: 0.4800 - val_loss: 1.4399 - val_accuracy: 0.4700 - lr: 0.0010\n",
      "Epoch 45/500\n",
      "7/7 [==============================] - 15s 2s/step - loss: 1.5098 - accuracy: 0.4371 - val_loss: 1.4242 - val_accuracy: 0.4450 - lr: 0.0010\n",
      "Epoch 46/500\n",
      "7/7 [==============================] - 13s 2s/step - loss: 1.4006 - accuracy: 0.4743 - val_loss: 1.4162 - val_accuracy: 0.4750 - lr: 0.0010\n",
      "Epoch 47/500\n",
      "7/7 [==============================] - 15s 2s/step - loss: 1.4290 - accuracy: 0.4886 - val_loss: 1.3536 - val_accuracy: 0.5000 - lr: 0.0010\n",
      "Epoch 48/500\n",
      "7/7 [==============================] - 15s 2s/step - loss: 1.3817 - accuracy: 0.4857 - val_loss: 1.3903 - val_accuracy: 0.5250 - lr: 0.0010\n",
      "Epoch 49/500\n",
      "7/7 [==============================] - 15s 2s/step - loss: 1.3763 - accuracy: 0.5071 - val_loss: 1.3152 - val_accuracy: 0.5150 - lr: 0.0010\n",
      "Epoch 50/500\n",
      "7/7 [==============================] - 13s 2s/step - loss: 1.3550 - accuracy: 0.5186 - val_loss: 1.3113 - val_accuracy: 0.5100 - lr: 0.0010\n",
      "Epoch 51/500\n",
      "7/7 [==============================] - 15s 2s/step - loss: 1.3573 - accuracy: 0.4914 - val_loss: 1.3680 - val_accuracy: 0.5300 - lr: 0.0010\n",
      "Epoch 52/500\n",
      "7/7 [==============================] - 13s 2s/step - loss: 1.3389 - accuracy: 0.5286 - val_loss: 1.2718 - val_accuracy: 0.5300 - lr: 0.0010\n",
      "Epoch 53/500\n",
      "7/7 [==============================] - 13s 2s/step - loss: 1.3561 - accuracy: 0.5157 - val_loss: 1.3265 - val_accuracy: 0.5200 - lr: 0.0010\n",
      "Epoch 54/500\n",
      "7/7 [==============================] - 15s 2s/step - loss: 1.3261 - accuracy: 0.5029 - val_loss: 1.3175 - val_accuracy: 0.5350 - lr: 0.0010\n",
      "Epoch 55/500\n",
      "7/7 [==============================] - 13s 2s/step - loss: 1.3646 - accuracy: 0.5086 - val_loss: 1.3625 - val_accuracy: 0.4950 - lr: 0.0010\n",
      "Epoch 56/500\n",
      "7/7 [==============================] - 15s 2s/step - loss: 1.3431 - accuracy: 0.5114 - val_loss: 1.3345 - val_accuracy: 0.5200 - lr: 0.0010\n",
      "Epoch 57/500\n",
      "7/7 [==============================] - 13s 2s/step - loss: 1.3157 - accuracy: 0.5086 - val_loss: 1.2658 - val_accuracy: 0.5350 - lr: 0.0010\n",
      "Epoch 58/500\n",
      "7/7 [==============================] - 15s 2s/step - loss: 1.3550 - accuracy: 0.5014 - val_loss: 1.3645 - val_accuracy: 0.4850 - lr: 0.0010\n",
      "Epoch 59/500\n",
      "7/7 [==============================] - 15s 2s/step - loss: 1.3900 - accuracy: 0.4929 - val_loss: 1.3859 - val_accuracy: 0.5550 - lr: 0.0010\n",
      "Epoch 60/500\n",
      "7/7 [==============================] - 13s 2s/step - loss: 1.2897 - accuracy: 0.5357 - val_loss: 1.2760 - val_accuracy: 0.5200 - lr: 0.0010\n",
      "Epoch 61/500\n",
      "7/7 [==============================] - 15s 2s/step - loss: 1.1939 - accuracy: 0.5757 - val_loss: 1.1890 - val_accuracy: 0.5600 - lr: 0.0010\n",
      "Epoch 62/500\n",
      "7/7 [==============================] - 15s 2s/step - loss: 1.1818 - accuracy: 0.5543 - val_loss: 1.1914 - val_accuracy: 0.5350 - lr: 0.0010\n",
      "Epoch 63/500\n",
      "7/7 [==============================] - 15s 2s/step - loss: 1.1738 - accuracy: 0.5786 - val_loss: 1.1954 - val_accuracy: 0.5550 - lr: 0.0010\n",
      "Epoch 64/500\n",
      "7/7 [==============================] - 15s 2s/step - loss: 1.1603 - accuracy: 0.5886 - val_loss: 1.2015 - val_accuracy: 0.5400 - lr: 0.0010\n",
      "Epoch 65/500\n",
      "7/7 [==============================] - 13s 2s/step - loss: 1.2001 - accuracy: 0.5757 - val_loss: 1.1493 - val_accuracy: 0.6000 - lr: 0.0010\n",
      "Epoch 66/500\n",
      "7/7 [==============================] - 15s 2s/step - loss: 1.2263 - accuracy: 0.5529 - val_loss: 1.1784 - val_accuracy: 0.5800 - lr: 0.0010\n",
      "Epoch 67/500\n",
      "7/7 [==============================] - 15s 2s/step - loss: 1.2679 - accuracy: 0.5300 - val_loss: 1.2315 - val_accuracy: 0.5100 - lr: 0.0010\n",
      "Epoch 68/500\n",
      "7/7 [==============================] - 13s 2s/step - loss: 1.2133 - accuracy: 0.5671 - val_loss: 1.1980 - val_accuracy: 0.5250 - lr: 0.0010\n",
      "Epoch 69/500\n",
      "7/7 [==============================] - 13s 2s/step - loss: 1.1595 - accuracy: 0.5986 - val_loss: 1.2217 - val_accuracy: 0.5150 - lr: 0.0010\n",
      "Epoch 70/500\n",
      "7/7 [==============================] - 13s 2s/step - loss: 1.1733 - accuracy: 0.5786 - val_loss: 1.1460 - val_accuracy: 0.5950 - lr: 0.0010\n",
      "Epoch 71/500\n",
      "7/7 [==============================] - 15s 2s/step - loss: 1.1046 - accuracy: 0.5914 - val_loss: 1.1293 - val_accuracy: 0.5900 - lr: 0.0010\n",
      "Epoch 72/500\n",
      "7/7 [==============================] - 15s 2s/step - loss: 1.0944 - accuracy: 0.6057 - val_loss: 1.1588 - val_accuracy: 0.5850 - lr: 0.0010\n",
      "Epoch 73/500\n",
      "7/7 [==============================] - 15s 2s/step - loss: 1.0887 - accuracy: 0.6043 - val_loss: 1.1435 - val_accuracy: 0.5950 - lr: 0.0010\n",
      "Epoch 74/500\n",
      "7/7 [==============================] - 15s 2s/step - loss: 1.0633 - accuracy: 0.6057 - val_loss: 1.2086 - val_accuracy: 0.6350 - lr: 0.0010\n",
      "Epoch 75/500\n",
      "7/7 [==============================] - 13s 2s/step - loss: 1.1034 - accuracy: 0.6157 - val_loss: 1.1293 - val_accuracy: 0.6000 - lr: 0.0010\n",
      "Epoch 76/500\n",
      "7/7 [==============================] - 13s 2s/step - loss: 1.0927 - accuracy: 0.6229 - val_loss: 1.1935 - val_accuracy: 0.5750 - lr: 0.0010\n",
      "Epoch 77/500\n",
      "7/7 [==============================] - 13s 2s/step - loss: 1.1042 - accuracy: 0.5957 - val_loss: 1.1156 - val_accuracy: 0.5800 - lr: 5.0000e-04\n",
      "Epoch 78/500\n",
      "7/7 [==============================] - 13s 2s/step - loss: 1.0089 - accuracy: 0.6271 - val_loss: 1.0597 - val_accuracy: 0.5900 - lr: 5.0000e-04\n",
      "Epoch 79/500\n",
      "7/7 [==============================] - 13s 2s/step - loss: 0.9814 - accuracy: 0.6457 - val_loss: 1.0926 - val_accuracy: 0.6000 - lr: 5.0000e-04\n",
      "Epoch 80/500\n",
      "7/7 [==============================] - 15s 2s/step - loss: 0.9355 - accuracy: 0.6714 - val_loss: 1.0419 - val_accuracy: 0.6150 - lr: 5.0000e-04\n",
      "Epoch 81/500\n",
      "7/7 [==============================] - 15s 2s/step - loss: 0.9691 - accuracy: 0.6457 - val_loss: 1.0135 - val_accuracy: 0.6500 - lr: 5.0000e-04\n",
      "Epoch 82/500\n",
      "7/7 [==============================] - 15s 2s/step - loss: 0.9490 - accuracy: 0.6729 - val_loss: 1.0707 - val_accuracy: 0.6200 - lr: 5.0000e-04\n",
      "Epoch 83/500\n",
      "7/7 [==============================] - 13s 2s/step - loss: 0.9146 - accuracy: 0.6600 - val_loss: 1.0193 - val_accuracy: 0.6350 - lr: 5.0000e-04\n",
      "Epoch 84/500\n",
      "7/7 [==============================] - 15s 2s/step - loss: 0.9457 - accuracy: 0.6686 - val_loss: 1.1009 - val_accuracy: 0.6250 - lr: 5.0000e-04\n",
      "Epoch 85/500\n",
      "7/7 [==============================] - 13s 2s/step - loss: 0.9054 - accuracy: 0.6986 - val_loss: 1.0144 - val_accuracy: 0.6300 - lr: 5.0000e-04\n",
      "Epoch 86/500\n",
      "7/7 [==============================] - 15s 2s/step - loss: 0.8845 - accuracy: 0.6929 - val_loss: 1.0053 - val_accuracy: 0.6650 - lr: 5.0000e-04\n",
      "Epoch 87/500\n",
      "7/7 [==============================] - 15s 2s/step - loss: 0.8643 - accuracy: 0.7014 - val_loss: 1.0849 - val_accuracy: 0.6400 - lr: 5.0000e-04\n",
      "Epoch 88/500\n",
      "7/7 [==============================] - 15s 2s/step - loss: 0.9243 - accuracy: 0.6786 - val_loss: 1.0286 - val_accuracy: 0.6150 - lr: 5.0000e-04\n",
      "Epoch 89/500\n",
      "7/7 [==============================] - 13s 2s/step - loss: 0.9841 - accuracy: 0.6543 - val_loss: 1.1231 - val_accuracy: 0.6150 - lr: 5.0000e-04\n",
      "Epoch 90/500\n",
      "7/7 [==============================] - 13s 2s/step - loss: 0.9224 - accuracy: 0.6986 - val_loss: 1.0755 - val_accuracy: 0.6250 - lr: 5.0000e-04\n",
      "Epoch 91/500\n",
      "7/7 [==============================] - 13s 2s/step - loss: 0.9128 - accuracy: 0.6643 - val_loss: 1.0530 - val_accuracy: 0.6500 - lr: 5.0000e-04\n",
      "Epoch 92/500\n",
      "7/7 [==============================] - 13s 2s/step - loss: 0.8864 - accuracy: 0.6800 - val_loss: 1.0280 - val_accuracy: 0.6600 - lr: 2.5000e-04\n",
      "Epoch 93/500\n",
      "7/7 [==============================] - 15s 2s/step - loss: 0.8357 - accuracy: 0.7043 - val_loss: 0.9889 - val_accuracy: 0.6550 - lr: 2.5000e-04\n",
      "Epoch 94/500\n",
      "7/7 [==============================] - 15s 2s/step - loss: 0.8210 - accuracy: 0.7214 - val_loss: 0.9988 - val_accuracy: 0.6450 - lr: 2.5000e-04\n",
      "Epoch 95/500\n",
      "7/7 [==============================] - 13s 2s/step - loss: 0.7878 - accuracy: 0.7286 - val_loss: 0.9844 - val_accuracy: 0.6600 - lr: 2.5000e-04\n",
      "Epoch 96/500\n",
      "7/7 [==============================] - 15s 2s/step - loss: 0.8046 - accuracy: 0.7186 - val_loss: 0.9619 - val_accuracy: 0.6550 - lr: 2.5000e-04\n",
      "Epoch 97/500\n",
      "7/7 [==============================] - 15s 2s/step - loss: 0.8184 - accuracy: 0.7229 - val_loss: 0.9781 - val_accuracy: 0.6600 - lr: 2.5000e-04\n",
      "Epoch 98/500\n",
      "7/7 [==============================] - 13s 2s/step - loss: 0.7664 - accuracy: 0.7386 - val_loss: 0.9659 - val_accuracy: 0.6650 - lr: 2.5000e-04\n",
      "Epoch 99/500\n",
      "7/7 [==============================] - 13s 2s/step - loss: 0.8282 - accuracy: 0.7129 - val_loss: 0.9578 - val_accuracy: 0.6800 - lr: 2.5000e-04\n",
      "Epoch 100/500\n",
      "7/7 [==============================] - 13s 2s/step - loss: 0.7851 - accuracy: 0.7357 - val_loss: 0.9556 - val_accuracy: 0.6800 - lr: 2.5000e-04\n",
      "Epoch 101/500\n",
      "7/7 [==============================] - 13s 2s/step - loss: 0.7567 - accuracy: 0.7343 - val_loss: 0.9555 - val_accuracy: 0.6700 - lr: 2.5000e-04\n",
      "Epoch 102/500\n",
      "7/7 [==============================] - 15s 2s/step - loss: 0.7521 - accuracy: 0.7529 - val_loss: 0.9551 - val_accuracy: 0.6750 - lr: 2.5000e-04\n",
      "Epoch 103/500\n",
      "7/7 [==============================] - 13s 2s/step - loss: 0.7629 - accuracy: 0.7371 - val_loss: 0.9850 - val_accuracy: 0.6450 - lr: 2.5000e-04\n",
      "Epoch 104/500\n",
      "7/7 [==============================] - 13s 2s/step - loss: 0.7646 - accuracy: 0.7386 - val_loss: 0.9593 - val_accuracy: 0.6600 - lr: 2.5000e-04\n",
      "Epoch 105/500\n",
      "7/7 [==============================] - 15s 2s/step - loss: 0.8023 - accuracy: 0.7286 - val_loss: 0.9944 - val_accuracy: 0.6700 - lr: 2.5000e-04\n",
      "Epoch 106/500\n",
      "7/7 [==============================] - 13s 2s/step - loss: 0.8162 - accuracy: 0.7014 - val_loss: 0.9535 - val_accuracy: 0.6750 - lr: 2.5000e-04\n",
      "Epoch 107/500\n",
      "7/7 [==============================] - 13s 2s/step - loss: 0.7767 - accuracy: 0.7343 - val_loss: 0.9875 - val_accuracy: 0.6550 - lr: 2.5000e-04\n",
      "Epoch 108/500\n",
      "7/7 [==============================] - 13s 2s/step - loss: 0.8262 - accuracy: 0.7057 - val_loss: 0.9552 - val_accuracy: 0.6650 - lr: 2.5000e-04\n",
      "Epoch 109/500\n",
      "7/7 [==============================] - 15s 2s/step - loss: 0.7231 - accuracy: 0.7586 - val_loss: 0.9525 - val_accuracy: 0.6700 - lr: 2.5000e-04\n",
      "Epoch 110/500\n",
      "7/7 [==============================] - 13s 2s/step - loss: 0.7411 - accuracy: 0.7500 - val_loss: 0.9671 - val_accuracy: 0.6600 - lr: 2.5000e-04\n",
      "Epoch 111/500\n",
      "7/7 [==============================] - 13s 2s/step - loss: 0.7233 - accuracy: 0.7586 - val_loss: 0.9833 - val_accuracy: 0.6600 - lr: 2.5000e-04\n",
      "Epoch 112/500\n",
      "7/7 [==============================] - 13s 2s/step - loss: 0.7829 - accuracy: 0.7314 - val_loss: 0.9701 - val_accuracy: 0.6700 - lr: 2.5000e-04\n",
      "Epoch 113/500\n",
      "7/7 [==============================] - 13s 2s/step - loss: 0.7132 - accuracy: 0.7629 - val_loss: 0.9955 - val_accuracy: 0.6700 - lr: 2.5000e-04\n",
      "Epoch 114/500\n",
      "7/7 [==============================] - 13s 2s/step - loss: 0.7540 - accuracy: 0.7471 - val_loss: 1.0043 - val_accuracy: 0.6850 - lr: 2.5000e-04\n",
      "Epoch 115/500\n",
      "7/7 [==============================] - 13s 2s/step - loss: 0.6928 - accuracy: 0.7557 - val_loss: 0.9633 - val_accuracy: 0.6500 - lr: 1.2500e-04\n",
      "Epoch 116/500\n",
      "7/7 [==============================] - 13s 2s/step - loss: 0.7322 - accuracy: 0.7414 - val_loss: 0.9465 - val_accuracy: 0.6600 - lr: 1.2500e-04\n",
      "Epoch 117/500\n",
      "7/7 [==============================] - 15s 2s/step - loss: 0.7120 - accuracy: 0.7371 - val_loss: 0.9660 - val_accuracy: 0.6750 - lr: 1.2500e-04\n",
      "Epoch 118/500\n",
      "7/7 [==============================] - 13s 2s/step - loss: 0.7169 - accuracy: 0.7700 - val_loss: 0.9433 - val_accuracy: 0.6750 - lr: 1.2500e-04\n",
      "Epoch 119/500\n",
      "7/7 [==============================] - 15s 2s/step - loss: 0.6902 - accuracy: 0.7614 - val_loss: 0.9287 - val_accuracy: 0.6900 - lr: 1.2500e-04\n",
      "Epoch 120/500\n",
      "7/7 [==============================] - 15s 2s/step - loss: 0.6909 - accuracy: 0.7571 - val_loss: 0.9764 - val_accuracy: 0.6550 - lr: 1.2500e-04\n",
      "Epoch 121/500\n",
      "7/7 [==============================] - 13s 2s/step - loss: 0.6825 - accuracy: 0.7557 - val_loss: 0.9561 - val_accuracy: 0.6700 - lr: 1.2500e-04\n",
      "Epoch 122/500\n",
      "7/7 [==============================] - 13s 2s/step - loss: 0.6617 - accuracy: 0.7643 - val_loss: 0.9781 - val_accuracy: 0.6850 - lr: 1.2500e-04\n",
      "Epoch 123/500\n",
      "7/7 [==============================] - 13s 2s/step - loss: 0.7383 - accuracy: 0.7500 - val_loss: 0.9518 - val_accuracy: 0.6850 - lr: 1.2500e-04\n",
      "Epoch 124/500\n",
      "7/7 [==============================] - 13s 2s/step - loss: 0.6737 - accuracy: 0.7543 - val_loss: 0.9702 - val_accuracy: 0.6650 - lr: 1.2500e-04\n",
      "Epoch 125/500\n",
      "7/7 [==============================] - 15s 2s/step - loss: 0.6699 - accuracy: 0.7943 - val_loss: 0.9476 - val_accuracy: 0.6850 - lr: 1.0000e-04\n",
      "Epoch 126/500\n",
      "7/7 [==============================] - 15s 2s/step - loss: 0.6851 - accuracy: 0.7686 - val_loss: 0.9567 - val_accuracy: 0.6800 - lr: 1.0000e-04\n",
      "Epoch 127/500\n",
      "7/7 [==============================] - 13s 2s/step - loss: 0.6699 - accuracy: 0.7686 - val_loss: 0.9455 - val_accuracy: 0.6750 - lr: 1.0000e-04\n",
      "Epoch 128/500\n",
      "7/7 [==============================] - 15s 2s/step - loss: 0.6556 - accuracy: 0.7886 - val_loss: 0.9590 - val_accuracy: 0.6650 - lr: 1.0000e-04\n",
      "Epoch 129/500\n",
      "7/7 [==============================] - 13s 2s/step - loss: 0.6988 - accuracy: 0.7757 - val_loss: 0.9315 - val_accuracy: 0.6750 - lr: 1.0000e-04\n",
      "Epoch 130/500\n",
      "7/7 [==============================] - 13s 2s/step - loss: 0.6626 - accuracy: 0.7743 - val_loss: 0.9311 - val_accuracy: 0.6800 - lr: 1.0000e-04\n",
      "Epoch 131/500\n",
      "7/7 [==============================] - 13s 2s/step - loss: 0.6197 - accuracy: 0.7900 - val_loss: 0.9743 - val_accuracy: 0.6750 - lr: 1.0000e-04\n",
      "Epoch 132/500\n",
      "7/7 [==============================] - 15s 2s/step - loss: 0.6402 - accuracy: 0.7771 - val_loss: 0.9564 - val_accuracy: 0.6800 - lr: 1.0000e-04\n",
      "Epoch 133/500\n",
      "7/7 [==============================] - 15s 2s/step - loss: 0.6435 - accuracy: 0.7657 - val_loss: 0.9359 - val_accuracy: 0.6700 - lr: 1.0000e-04\n",
      "Epoch 134/500\n",
      "7/7 [==============================] - 13s 2s/step - loss: 0.6798 - accuracy: 0.7657 - val_loss: 0.9697 - val_accuracy: 0.6650 - lr: 1.0000e-04\n",
      "Epoch 135/500\n",
      "7/7 [==============================] - 13s 2s/step - loss: 0.6538 - accuracy: 0.7671 - val_loss: 0.9542 - val_accuracy: 0.6800 - lr: 1.0000e-04\n",
      "Epoch 136/500\n",
      "7/7 [==============================] - 15s 2s/step - loss: 0.6593 - accuracy: 0.7857 - val_loss: 0.9534 - val_accuracy: 0.6600 - lr: 1.0000e-04\n",
      "Epoch 137/500\n",
      "7/7 [==============================] - 15s 2s/step - loss: 0.6410 - accuracy: 0.7843 - val_loss: 0.9447 - val_accuracy: 0.6800 - lr: 1.0000e-04\n",
      "Epoch 138/500\n",
      "7/7 [==============================] - 13s 2s/step - loss: 0.6759 - accuracy: 0.7871 - val_loss: 0.9581 - val_accuracy: 0.6700 - lr: 1.0000e-04\n",
      "Epoch 139/500\n",
      "7/7 [==============================] - 13s 2s/step - loss: 0.6511 - accuracy: 0.7743 - val_loss: 0.9444 - val_accuracy: 0.6900 - lr: 1.0000e-04\n"
     ]
    }
   ]
  },
  {
   "cell_type": "code",
   "source": [
    "predictions = model.predict(X_test)\n",
    "\n",
    "# Compute the confusion matrix\n",
    "cm = confusion_matrix(np.argmax(Y_test, axis=-1), np.argmax(predictions, axis=-1))\n",
    "\n",
    "# Compute the classification metrics\n",
    "accuracy = accuracy_score(np.argmax(Y_test, axis=-1), np.argmax(predictions, axis=-1))\n",
    "precision = precision_score(np.argmax(Y_test, axis=-1), np.argmax(predictions, axis=-1), average='macro')\n",
    "recall = recall_score(np.argmax(Y_test, axis=-1), np.argmax(predictions, axis=-1), average='macro')\n",
    "f1 = f1_score(np.argmax(Y_test, axis=-1), np.argmax(predictions, axis=-1), average='macro')\n",
    "print('Accuracy:',accuracy.round(4))\n",
    "print('Precision:',precision.round(4))\n",
    "print('Recall:',recall.round(4))\n",
    "print('F1:',f1.round(4))\n",
    "\n",
    "# Plot the confusion matrix\n",
    "plt.figure(figsize=(10,8))\n",
    "sns.heatmap(cm.T)#, xticklabels=list(labels.values()), yticklabels=list(labels.values()))\n",
    "plt.xlabel('True labels')\n",
    "plt.ylabel('Predicted labels')\n",
    "plt.show()"
   ],
   "metadata": {
    "id": "6Xlmj6RaRRvk",
    "colab": {
     "base_uri": "https://localhost:8080/",
     "height": 573
    },
    "outputId": "71c389a5-3abf-4929-cb00-7f96b8c4231d"
   },
   "execution_count": 24,
   "outputs": [
    {
     "output_type": "stream",
     "name": "stdout",
     "text": [
      "Accuracy: 0.77\n",
      "Precision: 0.7741\n",
      "Recall: 0.77\n",
      "F1: 0.7682\n"
     ]
    },
    {
     "output_type": "display_data",
     "data": {
      "text/plain": [
       "<Figure size 720x576 with 2 Axes>"
      ],
      "image/png": "[encoded data removed]"
     },
     "metadata": {
      "needs_background": "light"
     }
    }
   ]
  },
  {
   "cell_type": "code",
   "source": [
    "model.save('/gdrive/MyDrive/polimi/NAML/NAML_proj/models/complete/complete')"
   ],
   "metadata": {
    "colab": {
     "base_uri": "https://localhost:8080/"
    },
    "id": "SO-HKBQc9I7r",
    "outputId": "d14c8ab4-3200-407b-b86a-baa846637770"
   },
   "execution_count": 25,
   "outputs": [
    {
     "output_type": "stream",
     "name": "stderr",
     "text": [
      "WARNING:absl:Function `_wrapped_model` contains input name(s) Input with unsupported characters which will be renamed to input in the SavedModel.\n"
     ]
    },
    {
     "output_type": "stream",
     "name": "stdout",
     "text": [
      "INFO:tensorflow:Assets written to: /gdrive/MyDrive/polimi/NAML/NAML_proj/models/complete/complete/assets\n"
     ]
    },
    {
     "output_type": "stream",
     "name": "stderr",
     "text": [
      "INFO:tensorflow:Assets written to: /gdrive/MyDrive/polimi/NAML/NAML_proj/models/complete/complete/assets\n"
     ]
    }
   ]
  }
 ]
}