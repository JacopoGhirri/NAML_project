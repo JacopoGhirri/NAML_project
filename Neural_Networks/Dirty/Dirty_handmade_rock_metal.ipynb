{
  "nbformat": 4,
  "nbformat_minor": 0,
  "metadata": {
    "colab": {
      "name": "Dirty_handmade_rock_metal.ipynb",
      "provenance": [],
      "collapsed_sections": []
    },
    "kernelspec": {
      "name": "python3",
      "display_name": "Python 3"
    },
    "language_info": {
      "name": "python"
    },
    "accelerator": "GPU"
  },
  "cells": [
    {
      "cell_type": "markdown",
      "source": [
        "## Black Box Approach for 2 genres classification - Country vs Blues\n",
        "\n",
        "We aim at training a Neural Network to distinguish between two genres: country and blues."
      ],
      "metadata": {
        "id": "gKB_Sss8Ql-3"
      }
    },
    {
      "cell_type": "code",
      "execution_count": 83,
      "metadata": {
        "id": "SwPJ54sBQlFO",
        "colab": {
          "base_uri": "https://localhost:8080/"
        },
        "outputId": "53ffc5e6-3305-46bf-871d-cbe52ab39d3b"
      },
      "outputs": [
        {
          "output_type": "stream",
          "name": "stdout",
          "text": [
            "Drive already mounted at /gdrive; to attempt to forcibly remount, call drive.mount(\"/gdrive\", force_remount=True).\n"
          ]
        }
      ],
      "source": [
        "#importing google drive\n",
        "from google.colab import drive\n",
        "drive.mount('/gdrive')"
      ]
    },
    {
      "cell_type": "code",
      "source": [
        "#setting the working directory\n",
        "%cd /gdrive/MyDrive/polimi/NAML/NAML_proj/"
      ],
      "metadata": {
        "id": "iYHj7NhnQs_-",
        "colab": {
          "base_uri": "https://localhost:8080/"
        },
        "outputId": "07282a52-e095-4136-df89-1ab9427fb297"
      },
      "execution_count": 84,
      "outputs": [
        {
          "output_type": "stream",
          "name": "stdout",
          "text": [
            "/gdrive/MyDrive/polimi/NAML/NAML_proj\n"
          ]
        }
      ]
    },
    {
      "cell_type": "code",
      "source": [
        "import tensorflow as tf\n",
        "from PIL import Image\n",
        "import numpy as np\n",
        "import os\n",
        "import random\n",
        "import seaborn as sns\n",
        "import matplotlib as mpl\n",
        "import matplotlib.pyplot as plt\n",
        "from sklearn.model_selection import train_test_split\n",
        "from sklearn.metrics import accuracy_score, f1_score, precision_score, recall_score\n",
        "from sklearn.metrics import confusion_matrix\n",
        "import librosa\n",
        "import os\n",
        "\n",
        "tfk = tf.keras\n",
        "tfkl = tf.keras.layers\n",
        "seed = 42"
      ],
      "metadata": {
        "id": "INc4ttEUQuxN"
      },
      "execution_count": 85,
      "outputs": []
    },
    {
      "cell_type": "markdown",
      "source": [
        "The dataset is composed of Mel-Spectrograms of each audio sample, labeled with respect to each genre"
      ],
      "metadata": {
        "id": "IoV9bIbPfg55"
      }
    },
    {
      "cell_type": "code",
      "source": [
        "dataset = []\n",
        "#genres = {'blues': 0, 'classical': 1, 'country': 2, 'disco': 3, 'hiphop': 4, 'jazz': 5, 'metal': 6, 'pop': 7, 'reggae': 8, 'rock': 9}\n",
        "genres = {'rock': 0, 'metal': 1}\n",
        "outliers = {'blues': 0, 'classical': 1, 'country': 2, 'disco': 3, 'hiphop': 4, 'jazz': 5, 'pop': 7, 'reggae': 8}\n",
        "n_dirty_per_genre_per_type = 6\n",
        "\n",
        "\n",
        "for genre, genre_number in genres.items():\n",
        "    for filename in os.listdir(f'dataset_old/genres/{genre}'):\n",
        "        songname = f'dataset_old/genres/{genre}/{filename}'\n",
        "        y, sr = librosa.load(songname, mono=True, duration=29.7)\n",
        "        ps = librosa.feature.melspectrogram(y=y, sr=sr, hop_length = 256, n_fft = 512)\n",
        "        ps = librosa.power_to_db(ps**2)\n",
        "        dataset.append( (ps, genre_number) )\n",
        "        \n",
        "    print(str(genre+' done'))\n",
        "\n",
        "for genre, genre_number in outliers.items():\n",
        "    count = 0\n",
        "    for filename in os.listdir(f'dataset_old/genres/{genre}'):\n",
        "        songname = f'dataset_old/genres/{genre}/{filename}'\n",
        "        y, sr = librosa.load(songname, mono=True, duration=29.7)\n",
        "        ps = librosa.feature.melspectrogram(y=y, sr=sr, hop_length = 256, n_fft = 512)\n",
        "        ps = librosa.power_to_db(ps**2)\n",
        "        if count < 2*n_dirty_per_genre_per_type:\n",
        "          if count < n_dirty_per_genre_per_type:\n",
        "            dataset.append( (ps, 0) )\n",
        "          else:\n",
        "            dataset.append( (ps, 1) )\n",
        "        else:\n",
        "          break\n",
        "    print(str(genre+' done')) "
      ],
      "metadata": {
        "colab": {
          "base_uri": "https://localhost:8080/"
        },
        "id": "-Pu8r54LJMSj",
        "outputId": "5594a7aa-54bf-4898-bb8d-3a0d00da9e76"
      },
      "execution_count": 86,
      "outputs": [
        {
          "output_type": "stream",
          "name": "stdout",
          "text": [
            "rock done\n",
            "metal done\n",
            "blues done\n",
            "classical done\n",
            "country done\n",
            "disco done\n",
            "hiphop done\n",
            "jazz done\n",
            "pop done\n",
            "reggae done\n"
          ]
        }
      ]
    },
    {
      "cell_type": "markdown",
      "source": [
        "We split the dataset according to the following composition:\n",
        "\n",
        "\n",
        "*   70% training set\n",
        "*   20% validation set\n",
        "*   10% test set\n",
        "\n",
        "Maintaining equal proportions amongst classes\n",
        "\n"
      ],
      "metadata": {
        "id": "0sgOQfv-gZ04"
      }
    },
    {
      "cell_type": "code",
      "source": [
        "order = np.arange(start = 0, stop = 100, step = 1)\n",
        "\n",
        "np.random.seed(42)\n",
        "\n",
        "training = []\n",
        "validation = []\n",
        "test = []\n",
        "\n",
        "for i in range(2):\n",
        "  shuffle = np.random.permutation(order)\n",
        "  for k in range(70):\n",
        "    training.append(dataset[i*100 + shuffle[k]])\n",
        "  for l in range(20):\n",
        "    validation.append(dataset[i*100 + shuffle[l+70]])\n",
        "  for m in range(10):\n",
        "    test.append(dataset[i*100 + shuffle[m+90]])\n",
        "\n",
        "for j in range(8):\n",
        "  for t in range(2):\n",
        "    for b in range(5):\n",
        "      training.append(dataset[200 + t*8*n_dirty_per_genre_per_type + j*n_dirty_per_genre_per_type + b])\n",
        "    validation.append(dataset[i*100 + t*8*n_dirty_per_genre_per_type + j*n_dirty_per_genre_per_type + 5])\n"
      ],
      "metadata": {
        "id": "OSUK8JPgRFVF"
      },
      "execution_count": 87,
      "outputs": []
    },
    {
      "cell_type": "code",
      "source": [
        "dataset[0][0].shape"
      ],
      "metadata": {
        "colab": {
          "base_uri": "https://localhost:8080/"
        },
        "id": "rNsfoewZARn8",
        "outputId": "2b03fe20-c56b-4421-9e0b-f3619a92a198"
      },
      "execution_count": 88,
      "outputs": [
        {
          "output_type": "execute_result",
          "data": {
            "text/plain": [
              "(128, 2559)"
            ]
          },
          "metadata": {},
          "execution_count": 88
        }
      ]
    },
    {
      "cell_type": "code",
      "source": [
        "X_train, Y_train = zip(*training)\n",
        "X_valid, Y_valid = zip(*validation)\n",
        "X_test, Y_test = zip(*test)\n",
        "\n",
        "X_train = np.array([x.reshape( (128, 2559, 1) ) for x in X_train])\n",
        "X_valid = np.array([x.reshape( (128, 2559, 1) ) for x in X_valid])\n",
        "X_test = np.array([x.reshape( (128, 2559, 1) ) for x in X_test])\n",
        "\n",
        "Y_train = np.array(tfk.utils.to_categorical(Y_train, 2))\n",
        "Y_valid = np.array(tfk.utils.to_categorical(Y_valid, 2))\n",
        "Y_test = np.array(tfk.utils.to_categorical(Y_test, 2))"
      ],
      "metadata": {
        "id": "WA29NV-URMuG"
      },
      "execution_count": 89,
      "outputs": []
    },
    {
      "cell_type": "markdown",
      "source": [
        "The proposed model is composed as a stack of convolutional layer, followed by a Global Average Pooling layer leading to a fully connected section.\n",
        "\n",
        "Optimization is performed as a Batch version of Adam optimizer algorithm"
      ],
      "metadata": {
        "id": "O6AvTMw2hgxB"
      }
    },
    {
      "cell_type": "code",
      "source": [
        "def build_model(input_shape, n_units):\n",
        "# Build the neural network layer by layer\n",
        "    input_layer = tfkl.Input(shape=input_shape, name='Input')\n",
        "\n",
        "    conv1 = tfkl.Conv2D(\n",
        "        filters=4,\n",
        "        kernel_size=(5, 5),\n",
        "        strides = (1, 1),\n",
        "        padding = 'same',\n",
        "        activation = 'relu',\n",
        "        kernel_initializer = tfk.initializers.GlorotUniform(seed)\n",
        "    )(input_layer)\n",
        "    conv1_2 = tfkl.Conv2D(\n",
        "        filters=8,\n",
        "        kernel_size=(3, 3),\n",
        "        strides = (1, 1),\n",
        "        padding = 'same',\n",
        "        activation = 'relu',\n",
        "        kernel_initializer = tfk.initializers.GlorotUniform(seed)\n",
        "    )(conv1)\n",
        "    pool1 = tfkl.MaxPooling2D(\n",
        "        pool_size = (2, 2)\n",
        "    )(conv1_2)\n",
        "\n",
        "    conv2 = tfkl.Conv2D(\n",
        "        filters=16,\n",
        "        kernel_size=(3, 3),\n",
        "        strides = (1, 1),\n",
        "        padding = 'same',\n",
        "        activation = 'relu',\n",
        "        kernel_initializer = tfk.initializers.GlorotUniform(seed)\n",
        "    )(pool1)\n",
        "    conv2_2 = tfkl.Conv2D(\n",
        "        filters=16,\n",
        "        kernel_size=(3, 3),\n",
        "        strides = (1, 1),\n",
        "        padding = 'same',\n",
        "        activation = 'relu',\n",
        "        kernel_initializer = tfk.initializers.GlorotUniform(seed)\n",
        "    )(conv2)\n",
        "    pool2 = tfkl.MaxPooling2D(\n",
        "        pool_size = (2, 2)\n",
        "    )(conv2_2)\n",
        "\n",
        "    conv3 = tfkl.Conv2D(\n",
        "        filters=32,\n",
        "        kernel_size=(3, 3),\n",
        "        strides = (1, 1),\n",
        "        padding = 'same',\n",
        "        activation = 'relu',\n",
        "        kernel_initializer = tfk.initializers.GlorotUniform(seed)\n",
        "    )(pool2)\n",
        "    pool3 = tfkl.MaxPooling2D(\n",
        "        pool_size = (2, 2)\n",
        "    )(conv3)\n",
        "\n",
        "    conv4 = tfkl.Conv2D(\n",
        "        filters=64,\n",
        "        kernel_size=(3, 3),\n",
        "        strides = (1, 1),\n",
        "        padding = 'same',\n",
        "        activation = 'relu',\n",
        "        kernel_initializer = tfk.initializers.GlorotUniform(seed)\n",
        "    )(pool3)\n",
        "    conv4_2 = tfkl.Conv2D(\n",
        "        filters=64,\n",
        "        kernel_size=(3, 3),\n",
        "        strides = (1, 1),\n",
        "        padding = 'same',\n",
        "        activation = 'relu',\n",
        "        kernel_initializer = tfk.initializers.GlorotUniform(seed)\n",
        "    )(conv4)\n",
        "    pool4 = tfkl.MaxPooling2D(\n",
        "        pool_size = (2, 2)\n",
        "    )(conv4_2)\n",
        "\n",
        "    conv5 = tfkl.Conv2D(\n",
        "        filters=128,\n",
        "        kernel_size=(3, 3),\n",
        "        strides = (1, 1),\n",
        "        padding = 'same',\n",
        "        activation = 'relu',\n",
        "        kernel_initializer = tfk.initializers.GlorotUniform(seed)\n",
        "    )(pool4)\n",
        "    pool5 = tfkl.MaxPooling2D(\n",
        "        pool_size = (2, 2)\n",
        "    )(conv5)\n",
        "\n",
        "    conv6 = tfkl.Conv2D(\n",
        "        filters=286,\n",
        "        kernel_size=(1,1),\n",
        "        strides = (1, 1),\n",
        "        padding = 'same',\n",
        "        activation = 'relu',\n",
        "        kernel_initializer = tfk.initializers.GlorotUniform(seed)\n",
        "    )(pool5)\n",
        "    \n",
        "\n",
        "    global_average = tfkl.GlobalAveragePooling2D(name = 'GAP')(conv6)\n",
        "    global_average = tfkl.Dropout(0.3, seed=seed)(global_average)\n",
        "    \n",
        "    classifier_layer = tfkl.Dense(units=64, name='Classifier', activation='relu')(global_average)\n",
        "    #flattening_layer = tfkl.Flatten(name='Flatten')(pool5)\n",
        "    #flattening_layer = tfkl.Dropout(0.2, seed=seed)(flattening_layer)\n",
        "    #classifier_layer = tfkl.Dense(units=64, name='Classifier', activation='relu')(flattening_layer)\n",
        "    \n",
        "    classifier_layer = tfkl.Dropout(0.3, seed=seed)(classifier_layer)\n",
        "    classifier_layer_2 = tfkl.Dense(units=32, name='Classifier_2', activation='relu')(classifier_layer)\n",
        "    classifier_layer_2 = tfkl.Dropout(0.3, seed=seed)(classifier_layer_2)\n",
        "    output_layer = tfkl.Dense(units=n_units, activation='softmax', name='Output')(classifier_layer_2)\n",
        "\n",
        "    # Connect input and output through the Model class\n",
        "    model = tfk.Model(inputs=input_layer, outputs=output_layer, name='model')\n",
        "\n",
        "    # Compile the model\n",
        "    model.compile(loss=tfk.losses.CategoricalCrossentropy(), optimizer=tfk.optimizers.Adam(), metrics='accuracy')\n",
        "\n",
        "    # Return the model\n",
        "\n",
        "    return model"
      ],
      "metadata": {
        "id": "lR2QkBoSQ8lW"
      },
      "execution_count": 90,
      "outputs": []
    },
    {
      "cell_type": "code",
      "source": [
        "n_units = 2\n",
        "input_shape = (128, 2559, 1)\n",
        "\n",
        "model = build_model(input_shape, n_units)\n",
        "\n",
        "model.summary()"
      ],
      "metadata": {
        "id": "zIitkAlGQ-mM",
        "colab": {
          "base_uri": "https://localhost:8080/"
        },
        "outputId": "6ee2144c-1ba1-47bf-b1b9-7caf90e65dd3"
      },
      "execution_count": 91,
      "outputs": [
        {
          "output_type": "stream",
          "name": "stdout",
          "text": [
            "Model: \"model\"\n",
            "_________________________________________________________________\n",
            " Layer (type)                Output Shape              Param #   \n",
            "=================================================================\n",
            " Input (InputLayer)          [(None, 128, 2559, 1)]    0         \n",
            "                                                                 \n",
            " conv2d_72 (Conv2D)          (None, 128, 2559, 4)      104       \n",
            "                                                                 \n",
            " conv2d_73 (Conv2D)          (None, 128, 2559, 8)      296       \n",
            "                                                                 \n",
            " max_pooling2d_40 (MaxPoolin  (None, 64, 1279, 8)      0         \n",
            " g2D)                                                            \n",
            "                                                                 \n",
            " conv2d_74 (Conv2D)          (None, 64, 1279, 16)      1168      \n",
            "                                                                 \n",
            " conv2d_75 (Conv2D)          (None, 64, 1279, 16)      2320      \n",
            "                                                                 \n",
            " max_pooling2d_41 (MaxPoolin  (None, 32, 639, 16)      0         \n",
            " g2D)                                                            \n",
            "                                                                 \n",
            " conv2d_76 (Conv2D)          (None, 32, 639, 32)       4640      \n",
            "                                                                 \n",
            " max_pooling2d_42 (MaxPoolin  (None, 16, 319, 32)      0         \n",
            " g2D)                                                            \n",
            "                                                                 \n",
            " conv2d_77 (Conv2D)          (None, 16, 319, 64)       18496     \n",
            "                                                                 \n",
            " conv2d_78 (Conv2D)          (None, 16, 319, 64)       36928     \n",
            "                                                                 \n",
            " max_pooling2d_43 (MaxPoolin  (None, 8, 159, 64)       0         \n",
            " g2D)                                                            \n",
            "                                                                 \n",
            " conv2d_79 (Conv2D)          (None, 8, 159, 128)       73856     \n",
            "                                                                 \n",
            " max_pooling2d_44 (MaxPoolin  (None, 4, 79, 128)       0         \n",
            " g2D)                                                            \n",
            "                                                                 \n",
            " conv2d_80 (Conv2D)          (None, 4, 79, 286)        36894     \n",
            "                                                                 \n",
            " GAP (GlobalAveragePooling2D  (None, 286)              0         \n",
            " )                                                               \n",
            "                                                                 \n",
            " dropout_24 (Dropout)        (None, 286)               0         \n",
            "                                                                 \n",
            " Classifier (Dense)          (None, 64)                18368     \n",
            "                                                                 \n",
            " dropout_25 (Dropout)        (None, 64)                0         \n",
            "                                                                 \n",
            " Classifier_2 (Dense)        (None, 32)                2080      \n",
            "                                                                 \n",
            " dropout_26 (Dropout)        (None, 32)                0         \n",
            "                                                                 \n",
            " Output (Dense)              (None, 2)                 66        \n",
            "                                                                 \n",
            "=================================================================\n",
            "Total params: 195,216\n",
            "Trainable params: 195,216\n",
            "Non-trainable params: 0\n",
            "_________________________________________________________________\n"
          ]
        }
      ]
    },
    {
      "cell_type": "code",
      "source": [
        "early_stopping = tfk.callbacks.EarlyStopping(monitor='val_loss', mode='min', patience=20, restore_best_weights=True)\n",
        "adaptive_LR = tfk.callbacks.ReduceLROnPlateau(monitor='val_loss', mode='min', patience=5, factor=0.5, min_lr=1e-4)\n",
        "\n",
        "standard_history = model.fit(\n",
        "    x = X_train,\n",
        "    y = Y_train,\n",
        "    epochs = 500,\n",
        "    batch_size = 20,\n",
        "    validation_data= (X_valid, Y_valid),\n",
        "    callbacks = [early_stopping, adaptive_LR]\n",
        "    )"
      ],
      "metadata": {
        "id": "yFUsDY6BRWi1",
        "colab": {
          "base_uri": "https://localhost:8080/"
        },
        "outputId": "612f24c2-e538-44b5-e90f-8136110d356f"
      },
      "execution_count": 92,
      "outputs": [
        {
          "output_type": "stream",
          "name": "stdout",
          "text": [
            "Epoch 1/500\n",
            "11/11 [==============================] - 5s 356ms/step - loss: 0.6920 - accuracy: 0.5955 - val_loss: 0.7862 - val_accuracy: 0.3571 - lr: 0.0010\n",
            "Epoch 2/500\n",
            "11/11 [==============================] - 4s 325ms/step - loss: 0.6630 - accuracy: 0.6545 - val_loss: 0.7739 - val_accuracy: 0.3571 - lr: 0.0010\n",
            "Epoch 3/500\n",
            "11/11 [==============================] - 4s 323ms/step - loss: 0.6471 - accuracy: 0.6818 - val_loss: 0.8350 - val_accuracy: 0.3571 - lr: 0.0010\n",
            "Epoch 4/500\n",
            "11/11 [==============================] - 3s 322ms/step - loss: 0.6228 - accuracy: 0.6864 - val_loss: 0.9938 - val_accuracy: 0.3571 - lr: 0.0010\n",
            "Epoch 5/500\n",
            "11/11 [==============================] - 4s 323ms/step - loss: 0.6296 - accuracy: 0.6818 - val_loss: 0.7604 - val_accuracy: 0.3571 - lr: 0.0010\n",
            "Epoch 6/500\n",
            "11/11 [==============================] - 4s 352ms/step - loss: 0.6305 - accuracy: 0.6818 - val_loss: 0.8078 - val_accuracy: 0.3571 - lr: 0.0010\n",
            "Epoch 7/500\n",
            "11/11 [==============================] - 3s 321ms/step - loss: 0.5915 - accuracy: 0.6818 - val_loss: 0.7309 - val_accuracy: 0.3571 - lr: 0.0010\n",
            "Epoch 8/500\n",
            "11/11 [==============================] - 3s 321ms/step - loss: 0.6452 - accuracy: 0.6818 - val_loss: 0.7719 - val_accuracy: 0.3571 - lr: 0.0010\n",
            "Epoch 9/500\n",
            "11/11 [==============================] - 3s 320ms/step - loss: 0.5839 - accuracy: 0.6818 - val_loss: 0.8216 - val_accuracy: 0.3571 - lr: 0.0010\n",
            "Epoch 10/500\n",
            "11/11 [==============================] - 3s 320ms/step - loss: 0.5568 - accuracy: 0.6818 - val_loss: 0.8030 - val_accuracy: 0.3571 - lr: 0.0010\n",
            "Epoch 11/500\n",
            "11/11 [==============================] - 3s 321ms/step - loss: 0.5353 - accuracy: 0.6818 - val_loss: 0.7289 - val_accuracy: 0.3571 - lr: 0.0010\n",
            "Epoch 12/500\n",
            "11/11 [==============================] - 3s 322ms/step - loss: 0.5316 - accuracy: 0.6818 - val_loss: 0.6747 - val_accuracy: 0.3571 - lr: 0.0010\n",
            "Epoch 13/500\n",
            "11/11 [==============================] - 3s 321ms/step - loss: 0.5107 - accuracy: 0.6818 - val_loss: 0.6691 - val_accuracy: 0.3571 - lr: 0.0010\n",
            "Epoch 14/500\n",
            "11/11 [==============================] - 3s 320ms/step - loss: 0.4711 - accuracy: 0.6818 - val_loss: 0.6590 - val_accuracy: 0.3571 - lr: 0.0010\n",
            "Epoch 15/500\n",
            "11/11 [==============================] - 3s 321ms/step - loss: 0.4561 - accuracy: 0.6818 - val_loss: 0.6390 - val_accuracy: 0.3571 - lr: 0.0010\n",
            "Epoch 16/500\n",
            "11/11 [==============================] - 3s 320ms/step - loss: 0.4267 - accuracy: 0.6864 - val_loss: 0.6179 - val_accuracy: 0.5893 - lr: 0.0010\n",
            "Epoch 17/500\n",
            "11/11 [==============================] - 3s 321ms/step - loss: 0.4566 - accuracy: 0.8136 - val_loss: 0.6247 - val_accuracy: 0.6964 - lr: 0.0010\n",
            "Epoch 18/500\n",
            "11/11 [==============================] - 3s 319ms/step - loss: 0.4169 - accuracy: 0.8318 - val_loss: 0.5683 - val_accuracy: 0.6964 - lr: 0.0010\n",
            "Epoch 19/500\n",
            "11/11 [==============================] - 3s 320ms/step - loss: 0.3531 - accuracy: 0.8364 - val_loss: 0.4643 - val_accuracy: 0.8750 - lr: 0.0010\n",
            "Epoch 20/500\n",
            "11/11 [==============================] - 3s 318ms/step - loss: 0.3868 - accuracy: 0.8409 - val_loss: 0.4903 - val_accuracy: 0.7321 - lr: 0.0010\n",
            "Epoch 21/500\n",
            "11/11 [==============================] - 3s 320ms/step - loss: 0.3640 - accuracy: 0.9000 - val_loss: 0.4585 - val_accuracy: 0.8036 - lr: 0.0010\n",
            "Epoch 22/500\n",
            "11/11 [==============================] - 3s 320ms/step - loss: 0.3499 - accuracy: 0.8727 - val_loss: 0.4349 - val_accuracy: 0.8036 - lr: 0.0010\n",
            "Epoch 23/500\n",
            "11/11 [==============================] - 4s 322ms/step - loss: 0.2470 - accuracy: 0.8909 - val_loss: 0.3274 - val_accuracy: 0.8750 - lr: 0.0010\n",
            "Epoch 24/500\n",
            "11/11 [==============================] - 3s 319ms/step - loss: 0.2547 - accuracy: 0.9136 - val_loss: 0.2430 - val_accuracy: 0.9286 - lr: 0.0010\n",
            "Epoch 25/500\n",
            "11/11 [==============================] - 3s 319ms/step - loss: 0.1724 - accuracy: 0.9182 - val_loss: 0.3105 - val_accuracy: 0.8393 - lr: 0.0010\n",
            "Epoch 26/500\n",
            "11/11 [==============================] - 3s 322ms/step - loss: 0.2585 - accuracy: 0.8955 - val_loss: 0.6062 - val_accuracy: 0.6250 - lr: 0.0010\n",
            "Epoch 27/500\n",
            "11/11 [==============================] - 3s 320ms/step - loss: 0.2064 - accuracy: 0.9091 - val_loss: 0.2789 - val_accuracy: 0.8929 - lr: 0.0010\n",
            "Epoch 28/500\n",
            "11/11 [==============================] - 3s 321ms/step - loss: 0.1554 - accuracy: 0.9455 - val_loss: 0.2382 - val_accuracy: 0.9286 - lr: 0.0010\n",
            "Epoch 29/500\n",
            "11/11 [==============================] - 3s 321ms/step - loss: 0.1174 - accuracy: 0.9591 - val_loss: 0.7536 - val_accuracy: 0.6607 - lr: 0.0010\n",
            "Epoch 30/500\n",
            "11/11 [==============================] - 3s 321ms/step - loss: 0.4101 - accuracy: 0.8500 - val_loss: 0.4767 - val_accuracy: 0.7321 - lr: 0.0010\n",
            "Epoch 31/500\n",
            "11/11 [==============================] - 3s 319ms/step - loss: 0.2104 - accuracy: 0.9182 - val_loss: 0.3556 - val_accuracy: 0.8571 - lr: 0.0010\n",
            "Epoch 32/500\n",
            "11/11 [==============================] - 3s 320ms/step - loss: 0.1737 - accuracy: 0.9500 - val_loss: 0.3539 - val_accuracy: 0.8036 - lr: 0.0010\n",
            "Epoch 33/500\n",
            "11/11 [==============================] - 3s 320ms/step - loss: 0.1263 - accuracy: 0.9409 - val_loss: 0.4480 - val_accuracy: 0.8393 - lr: 0.0010\n",
            "Epoch 34/500\n",
            "11/11 [==============================] - 3s 319ms/step - loss: 0.1053 - accuracy: 0.9682 - val_loss: 0.3652 - val_accuracy: 0.8750 - lr: 5.0000e-04\n",
            "Epoch 35/500\n",
            "11/11 [==============================] - 3s 319ms/step - loss: 0.0732 - accuracy: 0.9773 - val_loss: 0.3227 - val_accuracy: 0.8929 - lr: 5.0000e-04\n",
            "Epoch 36/500\n",
            "11/11 [==============================] - 3s 319ms/step - loss: 0.1050 - accuracy: 0.9500 - val_loss: 0.5013 - val_accuracy: 0.9107 - lr: 5.0000e-04\n",
            "Epoch 37/500\n",
            "11/11 [==============================] - 3s 320ms/step - loss: 0.1439 - accuracy: 0.9500 - val_loss: 0.3170 - val_accuracy: 0.9107 - lr: 5.0000e-04\n",
            "Epoch 38/500\n",
            "11/11 [==============================] - 3s 320ms/step - loss: 0.0910 - accuracy: 0.9727 - val_loss: 0.4111 - val_accuracy: 0.8214 - lr: 5.0000e-04\n",
            "Epoch 39/500\n",
            "11/11 [==============================] - 3s 318ms/step - loss: 0.0541 - accuracy: 0.9818 - val_loss: 0.3064 - val_accuracy: 0.8929 - lr: 2.5000e-04\n",
            "Epoch 40/500\n",
            "11/11 [==============================] - 3s 319ms/step - loss: 0.0518 - accuracy: 0.9909 - val_loss: 0.2935 - val_accuracy: 0.8929 - lr: 2.5000e-04\n",
            "Epoch 41/500\n",
            "11/11 [==============================] - 4s 323ms/step - loss: 0.0403 - accuracy: 0.9955 - val_loss: 0.2840 - val_accuracy: 0.8929 - lr: 2.5000e-04\n",
            "Epoch 42/500\n",
            "11/11 [==============================] - 3s 321ms/step - loss: 0.0519 - accuracy: 0.9818 - val_loss: 0.3443 - val_accuracy: 0.9286 - lr: 2.5000e-04\n",
            "Epoch 43/500\n",
            "11/11 [==============================] - 3s 321ms/step - loss: 0.0522 - accuracy: 0.9955 - val_loss: 0.3096 - val_accuracy: 0.9107 - lr: 2.5000e-04\n",
            "Epoch 44/500\n",
            "11/11 [==============================] - 4s 322ms/step - loss: 0.0359 - accuracy: 0.9955 - val_loss: 0.3291 - val_accuracy: 0.8929 - lr: 1.2500e-04\n",
            "Epoch 45/500\n",
            "11/11 [==============================] - 3s 321ms/step - loss: 0.0373 - accuracy: 0.9909 - val_loss: 0.3218 - val_accuracy: 0.8929 - lr: 1.2500e-04\n",
            "Epoch 46/500\n",
            "11/11 [==============================] - 3s 320ms/step - loss: 0.0271 - accuracy: 0.9909 - val_loss: 0.3151 - val_accuracy: 0.8929 - lr: 1.2500e-04\n",
            "Epoch 47/500\n",
            "11/11 [==============================] - 3s 320ms/step - loss: 0.0221 - accuracy: 0.9955 - val_loss: 0.3569 - val_accuracy: 0.8929 - lr: 1.2500e-04\n",
            "Epoch 48/500\n",
            "11/11 [==============================] - 3s 322ms/step - loss: 0.0275 - accuracy: 0.9955 - val_loss: 0.3592 - val_accuracy: 0.8929 - lr: 1.2500e-04\n"
          ]
        }
      ]
    },
    {
      "cell_type": "code",
      "source": [
        "predictions = model.predict(X_test)\n",
        "\n",
        "# Compute the confusion matrix\n",
        "cm = confusion_matrix(np.argmax(Y_test, axis=-1), np.argmax(predictions, axis=-1))\n",
        "\n",
        "# Compute the classification metrics\n",
        "accuracy = accuracy_score(np.argmax(Y_test, axis=-1), np.argmax(predictions, axis=-1))\n",
        "precision = precision_score(np.argmax(Y_test, axis=-1), np.argmax(predictions, axis=-1), average='macro')\n",
        "recall = recall_score(np.argmax(Y_test, axis=-1), np.argmax(predictions, axis=-1), average='macro')\n",
        "f1 = f1_score(np.argmax(Y_test, axis=-1), np.argmax(predictions, axis=-1), average='macro')\n",
        "print('Accuracy:',accuracy.round(4))\n",
        "print('Precision:',precision.round(4))\n",
        "print('Recall:',recall.round(4))\n",
        "print('F1:',f1.round(4))\n",
        "\n",
        "# Plot the confusion matrix\n",
        "plt.figure(figsize=(10,8))\n",
        "sns.heatmap(cm.T)#, xticklabels=list(labels.values()), yticklabels=list(labels.values()))\n",
        "plt.xlabel('True labels')\n",
        "plt.ylabel('Predicted labels')\n",
        "plt.show()"
      ],
      "metadata": {
        "id": "6Xlmj6RaRRvk",
        "colab": {
          "base_uri": "https://localhost:8080/",
          "height": 570
        },
        "outputId": "8fea8f28-fb81-4598-88dc-947078c02294"
      },
      "execution_count": 93,
      "outputs": [
        {
          "output_type": "stream",
          "name": "stdout",
          "text": [
            "Accuracy: 0.8\n",
            "Precision: 0.8571\n",
            "Recall: 0.8\n",
            "F1: 0.7917\n"
          ]
        },
        {
          "output_type": "display_data",
          "data": {
            "text/plain": [
              "<Figure size 720x576 with 2 Axes>"
            ],
            "image/png": "[encoded data removed]"
          },
          "metadata": {
            "needs_background": "light"
          }
        }
      ]
    },
    {
      "cell_type": "code",
      "source": [
        "model.save('/gdrive/MyDrive/polimi/NAML/NAML_proj/models/rockvmetal/dirty_rockvmetal')"
      ],
      "metadata": {
        "colab": {
          "base_uri": "https://localhost:8080/"
        },
        "id": "SO-HKBQc9I7r",
        "outputId": "0a311221-08d5-4eae-9fd6-e077cd2f0251"
      },
      "execution_count": 94,
      "outputs": [
        {
          "output_type": "stream",
          "name": "stderr",
          "text": [
            "WARNING:absl:Function `_wrapped_model` contains input name(s) Input with unsupported characters which will be renamed to input in the SavedModel.\n"
          ]
        },
        {
          "output_type": "stream",
          "name": "stdout",
          "text": [
            "INFO:tensorflow:Assets written to: /gdrive/MyDrive/polimi/NAML/NAML_proj/models/rockvmetal/dirty_rockvmetal/assets\n"
          ]
        },
        {
          "output_type": "stream",
          "name": "stderr",
          "text": [
            "INFO:tensorflow:Assets written to: /gdrive/MyDrive/polimi/NAML/NAML_proj/models/rockvmetal/dirty_rockvmetal/assets\n"
          ]
        }
      ]
    }
  ]
}