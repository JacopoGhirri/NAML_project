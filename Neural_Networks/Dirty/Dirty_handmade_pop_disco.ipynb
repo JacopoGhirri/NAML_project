{
  "nbformat": 4,
  "nbformat_minor": 0,
  "metadata": {
    "colab": {
      "name": "Dirty_handmade_pop_disco.ipynb",
      "provenance": [],
      "collapsed_sections": []
    },
    "kernelspec": {
      "name": "python3",
      "display_name": "Python 3"
    },
    "language_info": {
      "name": "python"
    },
    "accelerator": "GPU"
  },
  "cells": [
    {
      "cell_type": "markdown",
      "source": [
        "## Black Box Approach for 2 genres classification - Country vs Blues\n",
        "\n",
        "We aim at training a Neural Network to distinguish between two genres: country and blues."
      ],
      "metadata": {
        "id": "gKB_Sss8Ql-3"
      }
    },
    {
      "cell_type": "code",
      "execution_count": 59,
      "metadata": {
        "id": "SwPJ54sBQlFO",
        "colab": {
          "base_uri": "https://localhost:8080/"
        },
        "outputId": "059a9bd0-1551-4fb0-af33-75f728f7b7c3"
      },
      "outputs": [
        {
          "output_type": "stream",
          "name": "stdout",
          "text": [
            "Drive already mounted at /gdrive; to attempt to forcibly remount, call drive.mount(\"/gdrive\", force_remount=True).\n"
          ]
        }
      ],
      "source": [
        "#importing google drive\n",
        "from google.colab import drive\n",
        "drive.mount('/gdrive')"
      ]
    },
    {
      "cell_type": "code",
      "source": [
        "#setting the working directory\n",
        "%cd /gdrive/MyDrive/polimi/NAML/NAML_proj/"
      ],
      "metadata": {
        "id": "iYHj7NhnQs_-",
        "colab": {
          "base_uri": "https://localhost:8080/"
        },
        "outputId": "50cc5918-9857-4083-d609-a1315770668b"
      },
      "execution_count": 60,
      "outputs": [
        {
          "output_type": "stream",
          "name": "stdout",
          "text": [
            "/gdrive/MyDrive/polimi/NAML/NAML_proj\n"
          ]
        }
      ]
    },
    {
      "cell_type": "code",
      "source": [
        "import tensorflow as tf\n",
        "from PIL import Image\n",
        "import numpy as np\n",
        "import os\n",
        "import random\n",
        "import seaborn as sns\n",
        "import matplotlib as mpl\n",
        "import matplotlib.pyplot as plt\n",
        "from sklearn.model_selection import train_test_split\n",
        "from sklearn.metrics import accuracy_score, f1_score, precision_score, recall_score\n",
        "from sklearn.metrics import confusion_matrix\n",
        "import librosa\n",
        "import os\n",
        "\n",
        "tfk = tf.keras\n",
        "tfkl = tf.keras.layers\n",
        "seed = 42"
      ],
      "metadata": {
        "id": "INc4ttEUQuxN"
      },
      "execution_count": 61,
      "outputs": []
    },
    {
      "cell_type": "markdown",
      "source": [
        "The dataset is composed of Mel-Spectrograms of each audio sample, labeled with respect to each genre"
      ],
      "metadata": {
        "id": "IoV9bIbPfg55"
      }
    },
    {
      "cell_type": "code",
      "source": [
        "dataset = []\n",
        "#genres = {'blues': 0, 'classical': 1, 'country': 2, 'disco': 3, 'hiphop': 4, 'jazz': 5, 'metal': 6, 'pop': 7, 'reggae': 8, 'rock': 9}\n",
        "genres = {'disco': 0, 'pop': 1}\n",
        "outliers = {'blues': 0, 'metal': 1, 'country': 2, 'jazz': 3, 'hiphop': 4, 'classical': 5, 'reggae': 6, 'rock': 7}\n",
        "n_dirty_per_genre_per_type = 6\n",
        "\n",
        "\n",
        "for genre, genre_number in genres.items():\n",
        "    for filename in os.listdir(f'dataset_old/genres/{genre}'):\n",
        "        songname = f'dataset_old/genres/{genre}/{filename}'\n",
        "        y, sr = librosa.load(songname, mono=True, duration=29.7)\n",
        "        ps = librosa.feature.melspectrogram(y=y, sr=sr, hop_length = 256, n_fft = 512)\n",
        "        ps = librosa.power_to_db(ps**2)\n",
        "        dataset.append( (ps, genre_number) )\n",
        "        \n",
        "    print(str(genre+' done'))\n",
        "\n",
        "for genre, genre_number in outliers.items():\n",
        "    count = 0\n",
        "    for filename in os.listdir(f'dataset_old/genres/{genre}'):\n",
        "        songname = f'dataset_old/genres/{genre}/{filename}'\n",
        "        y, sr = librosa.load(songname, mono=True, duration=29.7)\n",
        "        ps = librosa.feature.melspectrogram(y=y, sr=sr, hop_length = 256, n_fft = 512)\n",
        "        ps = librosa.power_to_db(ps**2)\n",
        "        if count < 2*n_dirty_per_genre_per_type:\n",
        "          if count < n_dirty_per_genre_per_type:\n",
        "            dataset.append( (ps, 0) )\n",
        "          else:\n",
        "            dataset.append( (ps, 1) )\n",
        "        else:\n",
        "          break\n",
        "    print(str(genre+' done')) "
      ],
      "metadata": {
        "colab": {
          "base_uri": "https://localhost:8080/"
        },
        "id": "-Pu8r54LJMSj",
        "outputId": "e45fe3c0-0f5e-4813-f2ce-f366b4282f54"
      },
      "execution_count": 62,
      "outputs": [
        {
          "output_type": "stream",
          "name": "stdout",
          "text": [
            "disco done\n",
            "pop done\n",
            "blues done\n",
            "metal done\n",
            "country done\n",
            "jazz done\n",
            "hiphop done\n",
            "classical done\n",
            "reggae done\n",
            "rock done\n"
          ]
        }
      ]
    },
    {
      "cell_type": "markdown",
      "source": [
        "We split the dataset according to the following composition:\n",
        "\n",
        "\n",
        "*   70% training set\n",
        "*   20% validation set\n",
        "*   10% test set\n",
        "\n",
        "Maintaining equal proportions amongst classes\n",
        "\n"
      ],
      "metadata": {
        "id": "0sgOQfv-gZ04"
      }
    },
    {
      "cell_type": "code",
      "source": [
        "order = np.arange(start = 0, stop = 100, step = 1)\n",
        "\n",
        "np.random.seed(42)\n",
        "\n",
        "training = []\n",
        "validation = []\n",
        "test = []\n",
        "\n",
        "for i in range(2):\n",
        "  shuffle = np.random.permutation(order)\n",
        "  for k in range(70):\n",
        "    training.append(dataset[i*100 + shuffle[k]])\n",
        "  for l in range(20):\n",
        "    validation.append(dataset[i*100 + shuffle[l+70]])\n",
        "  for m in range(10):\n",
        "    test.append(dataset[i*100 + shuffle[m+90]])\n",
        "\n",
        "for j in range(8):\n",
        "  for t in range(2):\n",
        "    for b in range(5):\n",
        "      training.append(dataset[200 + t*8*n_dirty_per_genre_per_type + j*n_dirty_per_genre_per_type + b])\n",
        "    validation.append(dataset[i*100 + t*8*n_dirty_per_genre_per_type + j*n_dirty_per_genre_per_type + 5])\n"
      ],
      "metadata": {
        "id": "OSUK8JPgRFVF"
      },
      "execution_count": 63,
      "outputs": []
    },
    {
      "cell_type": "code",
      "source": [
        "dataset[0][0].shape"
      ],
      "metadata": {
        "colab": {
          "base_uri": "https://localhost:8080/"
        },
        "id": "rNsfoewZARn8",
        "outputId": "6c1c8eb8-5850-4026-ef5e-801ad2802cac"
      },
      "execution_count": 65,
      "outputs": [
        {
          "output_type": "execute_result",
          "data": {
            "text/plain": [
              "(128, 2559)"
            ]
          },
          "metadata": {},
          "execution_count": 65
        }
      ]
    },
    {
      "cell_type": "code",
      "source": [
        "X_train, Y_train = zip(*training)\n",
        "X_valid, Y_valid = zip(*validation)\n",
        "X_test, Y_test = zip(*test)\n",
        "\n",
        "X_train = np.array([x.reshape( (128, 2559, 1) ) for x in X_train])\n",
        "X_valid = np.array([x.reshape( (128, 2559, 1) ) for x in X_valid])\n",
        "X_test = np.array([x.reshape( (128, 2559, 1) ) for x in X_test])\n",
        "\n",
        "Y_train = np.array(tfk.utils.to_categorical(Y_train, 2))\n",
        "Y_valid = np.array(tfk.utils.to_categorical(Y_valid, 2))\n",
        "Y_test = np.array(tfk.utils.to_categorical(Y_test, 2))"
      ],
      "metadata": {
        "id": "WA29NV-URMuG"
      },
      "execution_count": 64,
      "outputs": []
    },
    {
      "cell_type": "markdown",
      "source": [
        "The proposed model is composed as a stack of convolutional layer, followed by a Global Average Pooling layer leading to a fully connected section.\n",
        "\n",
        "Optimization is performed as a Batch version of Adam optimizer algorithm"
      ],
      "metadata": {
        "id": "O6AvTMw2hgxB"
      }
    },
    {
      "cell_type": "code",
      "source": [
        "def build_model(input_shape, n_units):\n",
        "# Build the neural network layer by layer\n",
        "    input_layer = tfkl.Input(shape=input_shape, name='Input')\n",
        "\n",
        "    conv1 = tfkl.Conv2D(\n",
        "        filters=4,\n",
        "        kernel_size=(5, 5),\n",
        "        strides = (1, 1),\n",
        "        padding = 'same',\n",
        "        activation = 'relu',\n",
        "        kernel_initializer = tfk.initializers.GlorotUniform(seed)\n",
        "    )(input_layer)\n",
        "    conv1_2 = tfkl.Conv2D(\n",
        "        filters=8,\n",
        "        kernel_size=(3, 3),\n",
        "        strides = (1, 1),\n",
        "        padding = 'same',\n",
        "        activation = 'relu',\n",
        "        kernel_initializer = tfk.initializers.GlorotUniform(seed)\n",
        "    )(conv1)\n",
        "    pool1 = tfkl.MaxPooling2D(\n",
        "        pool_size = (2, 2)\n",
        "    )(conv1_2)\n",
        "\n",
        "    conv2 = tfkl.Conv2D(\n",
        "        filters=16,\n",
        "        kernel_size=(3, 3),\n",
        "        strides = (1, 1),\n",
        "        padding = 'same',\n",
        "        activation = 'relu',\n",
        "        kernel_initializer = tfk.initializers.GlorotUniform(seed)\n",
        "    )(pool1)\n",
        "    conv2_2 = tfkl.Conv2D(\n",
        "        filters=16,\n",
        "        kernel_size=(3, 3),\n",
        "        strides = (1, 1),\n",
        "        padding = 'same',\n",
        "        activation = 'relu',\n",
        "        kernel_initializer = tfk.initializers.GlorotUniform(seed)\n",
        "    )(conv2)\n",
        "    pool2 = tfkl.MaxPooling2D(\n",
        "        pool_size = (2, 2)\n",
        "    )(conv2_2)\n",
        "\n",
        "    conv3 = tfkl.Conv2D(\n",
        "        filters=32,\n",
        "        kernel_size=(3, 3),\n",
        "        strides = (1, 1),\n",
        "        padding = 'same',\n",
        "        activation = 'relu',\n",
        "        kernel_initializer = tfk.initializers.GlorotUniform(seed)\n",
        "    )(pool2)\n",
        "    pool3 = tfkl.MaxPooling2D(\n",
        "        pool_size = (2, 2)\n",
        "    )(conv3)\n",
        "\n",
        "    conv4 = tfkl.Conv2D(\n",
        "        filters=64,\n",
        "        kernel_size=(3, 3),\n",
        "        strides = (1, 1),\n",
        "        padding = 'same',\n",
        "        activation = 'relu',\n",
        "        kernel_initializer = tfk.initializers.GlorotUniform(seed)\n",
        "    )(pool3)\n",
        "    conv4_2 = tfkl.Conv2D(\n",
        "        filters=64,\n",
        "        kernel_size=(3, 3),\n",
        "        strides = (1, 1),\n",
        "        padding = 'same',\n",
        "        activation = 'relu',\n",
        "        kernel_initializer = tfk.initializers.GlorotUniform(seed)\n",
        "    )(conv4)\n",
        "    pool4 = tfkl.MaxPooling2D(\n",
        "        pool_size = (2, 2)\n",
        "    )(conv4_2)\n",
        "\n",
        "    conv5 = tfkl.Conv2D(\n",
        "        filters=128,\n",
        "        kernel_size=(3, 3),\n",
        "        strides = (1, 1),\n",
        "        padding = 'same',\n",
        "        activation = 'relu',\n",
        "        kernel_initializer = tfk.initializers.GlorotUniform(seed)\n",
        "    )(pool4)\n",
        "    pool5 = tfkl.MaxPooling2D(\n",
        "        pool_size = (2, 2)\n",
        "    )(conv5)\n",
        "\n",
        "    conv6 = tfkl.Conv2D(\n",
        "        filters=286,\n",
        "        kernel_size=(1,1),\n",
        "        strides = (1, 1),\n",
        "        padding = 'same',\n",
        "        activation = 'relu',\n",
        "        kernel_initializer = tfk.initializers.GlorotUniform(seed)\n",
        "    )(pool5)\n",
        "    \n",
        "\n",
        "    global_average = tfkl.GlobalAveragePooling2D(name = 'GAP')(conv6)\n",
        "    global_average = tfkl.Dropout(0.3, seed=seed)(global_average)\n",
        "    \n",
        "    classifier_layer = tfkl.Dense(units=64, name='Classifier', activation='relu')(global_average)\n",
        "    #flattening_layer = tfkl.Flatten(name='Flatten')(pool5)\n",
        "    #flattening_layer = tfkl.Dropout(0.2, seed=seed)(flattening_layer)\n",
        "    #classifier_layer = tfkl.Dense(units=64, name='Classifier', activation='relu')(flattening_layer)\n",
        "    \n",
        "    classifier_layer = tfkl.Dropout(0.3, seed=seed)(classifier_layer)\n",
        "    classifier_layer_2 = tfkl.Dense(units=32, name='Classifier_2', activation='relu')(classifier_layer)\n",
        "    classifier_layer_2 = tfkl.Dropout(0.3, seed=seed)(classifier_layer_2)\n",
        "    output_layer = tfkl.Dense(units=n_units, activation='softmax', name='Output')(classifier_layer_2)\n",
        "\n",
        "    # Connect input and output through the Model class\n",
        "    model = tfk.Model(inputs=input_layer, outputs=output_layer, name='model')\n",
        "\n",
        "    # Compile the model\n",
        "    model.compile(loss=tfk.losses.CategoricalCrossentropy(), optimizer=tfk.optimizers.Adam(), metrics='accuracy')\n",
        "\n",
        "    # Return the model\n",
        "\n",
        "    return model"
      ],
      "metadata": {
        "id": "lR2QkBoSQ8lW"
      },
      "execution_count": 66,
      "outputs": []
    },
    {
      "cell_type": "code",
      "source": [
        "n_units = 2\n",
        "input_shape = (128, 2559, 1)\n",
        "\n",
        "model = build_model(input_shape, n_units)\n",
        "\n",
        "model.summary()"
      ],
      "metadata": {
        "id": "zIitkAlGQ-mM",
        "colab": {
          "base_uri": "https://localhost:8080/"
        },
        "outputId": "7579b9d7-a284-4848-eac7-ff2f00278883"
      },
      "execution_count": 67,
      "outputs": [
        {
          "output_type": "stream",
          "name": "stdout",
          "text": [
            "Model: \"model\"\n",
            "_________________________________________________________________\n",
            " Layer (type)                Output Shape              Param #   \n",
            "=================================================================\n",
            " Input (InputLayer)          [(None, 128, 2559, 1)]    0         \n",
            "                                                                 \n",
            " conv2d_54 (Conv2D)          (None, 128, 2559, 4)      104       \n",
            "                                                                 \n",
            " conv2d_55 (Conv2D)          (None, 128, 2559, 8)      296       \n",
            "                                                                 \n",
            " max_pooling2d_30 (MaxPoolin  (None, 64, 1279, 8)      0         \n",
            " g2D)                                                            \n",
            "                                                                 \n",
            " conv2d_56 (Conv2D)          (None, 64, 1279, 16)      1168      \n",
            "                                                                 \n",
            " conv2d_57 (Conv2D)          (None, 64, 1279, 16)      2320      \n",
            "                                                                 \n",
            " max_pooling2d_31 (MaxPoolin  (None, 32, 639, 16)      0         \n",
            " g2D)                                                            \n",
            "                                                                 \n",
            " conv2d_58 (Conv2D)          (None, 32, 639, 32)       4640      \n",
            "                                                                 \n",
            " max_pooling2d_32 (MaxPoolin  (None, 16, 319, 32)      0         \n",
            " g2D)                                                            \n",
            "                                                                 \n",
            " conv2d_59 (Conv2D)          (None, 16, 319, 64)       18496     \n",
            "                                                                 \n",
            " conv2d_60 (Conv2D)          (None, 16, 319, 64)       36928     \n",
            "                                                                 \n",
            " max_pooling2d_33 (MaxPoolin  (None, 8, 159, 64)       0         \n",
            " g2D)                                                            \n",
            "                                                                 \n",
            " conv2d_61 (Conv2D)          (None, 8, 159, 128)       73856     \n",
            "                                                                 \n",
            " max_pooling2d_34 (MaxPoolin  (None, 4, 79, 128)       0         \n",
            " g2D)                                                            \n",
            "                                                                 \n",
            " conv2d_62 (Conv2D)          (None, 4, 79, 286)        36894     \n",
            "                                                                 \n",
            " GAP (GlobalAveragePooling2D  (None, 286)              0         \n",
            " )                                                               \n",
            "                                                                 \n",
            " dropout_18 (Dropout)        (None, 286)               0         \n",
            "                                                                 \n",
            " Classifier (Dense)          (None, 64)                18368     \n",
            "                                                                 \n",
            " dropout_19 (Dropout)        (None, 64)                0         \n",
            "                                                                 \n",
            " Classifier_2 (Dense)        (None, 32)                2080      \n",
            "                                                                 \n",
            " dropout_20 (Dropout)        (None, 32)                0         \n",
            "                                                                 \n",
            " Output (Dense)              (None, 2)                 66        \n",
            "                                                                 \n",
            "=================================================================\n",
            "Total params: 195,216\n",
            "Trainable params: 195,216\n",
            "Non-trainable params: 0\n",
            "_________________________________________________________________\n"
          ]
        }
      ]
    },
    {
      "cell_type": "code",
      "source": [
        "early_stopping = tfk.callbacks.EarlyStopping(monitor='val_loss', mode='min', patience=20, restore_best_weights=True)\n",
        "adaptive_LR = tfk.callbacks.ReduceLROnPlateau(monitor='val_loss', mode='min', patience=5, factor=0.5, min_lr=1e-4)\n",
        "\n",
        "standard_history = model.fit(\n",
        "    x = X_train,\n",
        "    y = Y_train,\n",
        "    epochs = 500,\n",
        "    batch_size = 20,\n",
        "    validation_data= (X_valid, Y_valid),\n",
        "    callbacks = [early_stopping, adaptive_LR]\n",
        "    )"
      ],
      "metadata": {
        "id": "yFUsDY6BRWi1",
        "colab": {
          "base_uri": "https://localhost:8080/"
        },
        "outputId": "5fc2d259-a6a7-4034-8f46-27f29c5fb90b"
      },
      "execution_count": 68,
      "outputs": [
        {
          "output_type": "stream",
          "name": "stdout",
          "text": [
            "Epoch 1/500\n",
            "11/11 [==============================] - 5s 356ms/step - loss: 0.7362 - accuracy: 0.6227 - val_loss: 0.7366 - val_accuracy: 0.3571 - lr: 0.0010\n",
            "Epoch 2/500\n",
            "11/11 [==============================] - 3s 321ms/step - loss: 0.6467 - accuracy: 0.6727 - val_loss: 0.7860 - val_accuracy: 0.3571 - lr: 0.0010\n",
            "Epoch 3/500\n",
            "11/11 [==============================] - 3s 322ms/step - loss: 0.6359 - accuracy: 0.6773 - val_loss: 0.7671 - val_accuracy: 0.3571 - lr: 0.0010\n",
            "Epoch 4/500\n",
            "11/11 [==============================] - 3s 322ms/step - loss: 0.6119 - accuracy: 0.6818 - val_loss: 0.8354 - val_accuracy: 0.3571 - lr: 0.0010\n",
            "Epoch 5/500\n",
            "11/11 [==============================] - 4s 322ms/step - loss: 0.6203 - accuracy: 0.6818 - val_loss: 0.7913 - val_accuracy: 0.3571 - lr: 0.0010\n",
            "Epoch 6/500\n",
            "11/11 [==============================] - 3s 320ms/step - loss: 0.6236 - accuracy: 0.6818 - val_loss: 0.7743 - val_accuracy: 0.3571 - lr: 0.0010\n",
            "Epoch 7/500\n",
            "11/11 [==============================] - 3s 322ms/step - loss: 0.6072 - accuracy: 0.6818 - val_loss: 0.8170 - val_accuracy: 0.3571 - lr: 5.0000e-04\n",
            "Epoch 8/500\n",
            "11/11 [==============================] - 3s 322ms/step - loss: 0.6010 - accuracy: 0.6864 - val_loss: 0.7872 - val_accuracy: 0.3571 - lr: 5.0000e-04\n",
            "Epoch 9/500\n",
            "11/11 [==============================] - 4s 322ms/step - loss: 0.6058 - accuracy: 0.6818 - val_loss: 0.8428 - val_accuracy: 0.3571 - lr: 5.0000e-04\n",
            "Epoch 10/500\n",
            "11/11 [==============================] - 4s 322ms/step - loss: 0.6180 - accuracy: 0.6818 - val_loss: 0.7287 - val_accuracy: 0.3571 - lr: 5.0000e-04\n",
            "Epoch 11/500\n",
            "11/11 [==============================] - 3s 322ms/step - loss: 0.5980 - accuracy: 0.6818 - val_loss: 0.8473 - val_accuracy: 0.3571 - lr: 5.0000e-04\n",
            "Epoch 12/500\n",
            "11/11 [==============================] - 3s 318ms/step - loss: 0.5513 - accuracy: 0.6864 - val_loss: 0.7627 - val_accuracy: 0.3571 - lr: 5.0000e-04\n",
            "Epoch 13/500\n",
            "11/11 [==============================] - 4s 323ms/step - loss: 0.5402 - accuracy: 0.6773 - val_loss: 0.6651 - val_accuracy: 0.3571 - lr: 5.0000e-04\n",
            "Epoch 14/500\n",
            "11/11 [==============================] - 3s 320ms/step - loss: 0.4865 - accuracy: 0.7136 - val_loss: 0.7258 - val_accuracy: 0.5179 - lr: 5.0000e-04\n",
            "Epoch 15/500\n",
            "11/11 [==============================] - 3s 319ms/step - loss: 0.4492 - accuracy: 0.7727 - val_loss: 0.7664 - val_accuracy: 0.6250 - lr: 5.0000e-04\n",
            "Epoch 16/500\n",
            "11/11 [==============================] - 3s 321ms/step - loss: 0.4481 - accuracy: 0.8182 - val_loss: 0.5433 - val_accuracy: 0.8036 - lr: 5.0000e-04\n",
            "Epoch 17/500\n",
            "11/11 [==============================] - 3s 319ms/step - loss: 0.4244 - accuracy: 0.8409 - val_loss: 0.6277 - val_accuracy: 0.6964 - lr: 5.0000e-04\n",
            "Epoch 18/500\n",
            "11/11 [==============================] - 3s 318ms/step - loss: 0.4286 - accuracy: 0.8136 - val_loss: 0.7060 - val_accuracy: 0.6607 - lr: 5.0000e-04\n",
            "Epoch 19/500\n",
            "11/11 [==============================] - 3s 321ms/step - loss: 0.3945 - accuracy: 0.8818 - val_loss: 0.5413 - val_accuracy: 0.7857 - lr: 5.0000e-04\n",
            "Epoch 20/500\n",
            "11/11 [==============================] - 3s 320ms/step - loss: 0.3822 - accuracy: 0.8727 - val_loss: 0.4442 - val_accuracy: 0.8393 - lr: 5.0000e-04\n",
            "Epoch 21/500\n",
            "11/11 [==============================] - 3s 320ms/step - loss: 0.3278 - accuracy: 0.8909 - val_loss: 0.6199 - val_accuracy: 0.7143 - lr: 5.0000e-04\n",
            "Epoch 22/500\n",
            "11/11 [==============================] - 3s 318ms/step - loss: 0.3289 - accuracy: 0.8773 - val_loss: 0.5081 - val_accuracy: 0.7857 - lr: 5.0000e-04\n",
            "Epoch 23/500\n",
            "11/11 [==============================] - 3s 321ms/step - loss: 0.3286 - accuracy: 0.8909 - val_loss: 0.3734 - val_accuracy: 0.8571 - lr: 5.0000e-04\n",
            "Epoch 24/500\n",
            "11/11 [==============================] - 3s 319ms/step - loss: 0.3175 - accuracy: 0.9000 - val_loss: 0.4434 - val_accuracy: 0.8393 - lr: 5.0000e-04\n",
            "Epoch 25/500\n",
            "11/11 [==============================] - 4s 323ms/step - loss: 0.3285 - accuracy: 0.9000 - val_loss: 0.4380 - val_accuracy: 0.8214 - lr: 5.0000e-04\n",
            "Epoch 26/500\n",
            "11/11 [==============================] - 3s 320ms/step - loss: 0.2998 - accuracy: 0.9045 - val_loss: 0.4486 - val_accuracy: 0.8214 - lr: 5.0000e-04\n",
            "Epoch 27/500\n",
            "11/11 [==============================] - 3s 319ms/step - loss: 0.3105 - accuracy: 0.8909 - val_loss: 0.3914 - val_accuracy: 0.8393 - lr: 5.0000e-04\n",
            "Epoch 28/500\n",
            "11/11 [==============================] - 3s 321ms/step - loss: 0.3797 - accuracy: 0.8909 - val_loss: 0.3192 - val_accuracy: 0.8393 - lr: 5.0000e-04\n",
            "Epoch 29/500\n",
            "11/11 [==============================] - 3s 321ms/step - loss: 0.4160 - accuracy: 0.8409 - val_loss: 0.5888 - val_accuracy: 0.6964 - lr: 5.0000e-04\n",
            "Epoch 30/500\n",
            "11/11 [==============================] - 3s 320ms/step - loss: 0.3600 - accuracy: 0.8682 - val_loss: 0.4375 - val_accuracy: 0.8571 - lr: 5.0000e-04\n",
            "Epoch 31/500\n",
            "11/11 [==============================] - 3s 320ms/step - loss: 0.2866 - accuracy: 0.9045 - val_loss: 0.5536 - val_accuracy: 0.7500 - lr: 5.0000e-04\n",
            "Epoch 32/500\n",
            "11/11 [==============================] - 3s 320ms/step - loss: 0.2840 - accuracy: 0.9045 - val_loss: 0.4486 - val_accuracy: 0.8571 - lr: 5.0000e-04\n",
            "Epoch 33/500\n",
            "11/11 [==============================] - 3s 320ms/step - loss: 0.3027 - accuracy: 0.9091 - val_loss: 0.3560 - val_accuracy: 0.8571 - lr: 5.0000e-04\n",
            "Epoch 34/500\n",
            "11/11 [==============================] - 3s 320ms/step - loss: 0.2690 - accuracy: 0.9045 - val_loss: 0.4223 - val_accuracy: 0.8214 - lr: 2.5000e-04\n",
            "Epoch 35/500\n",
            "11/11 [==============================] - 3s 320ms/step - loss: 0.2702 - accuracy: 0.9000 - val_loss: 0.3566 - val_accuracy: 0.8571 - lr: 2.5000e-04\n",
            "Epoch 36/500\n",
            "11/11 [==============================] - 3s 320ms/step - loss: 0.2834 - accuracy: 0.9273 - val_loss: 0.4453 - val_accuracy: 0.8036 - lr: 2.5000e-04\n",
            "Epoch 37/500\n",
            "11/11 [==============================] - 3s 321ms/step - loss: 0.2619 - accuracy: 0.9182 - val_loss: 0.4115 - val_accuracy: 0.8393 - lr: 2.5000e-04\n",
            "Epoch 38/500\n",
            "11/11 [==============================] - 3s 322ms/step - loss: 0.2612 - accuracy: 0.8864 - val_loss: 0.4662 - val_accuracy: 0.8214 - lr: 2.5000e-04\n",
            "Epoch 39/500\n",
            "11/11 [==============================] - 4s 330ms/step - loss: 0.2676 - accuracy: 0.9091 - val_loss: 0.4159 - val_accuracy: 0.8393 - lr: 1.2500e-04\n",
            "Epoch 40/500\n",
            "11/11 [==============================] - 3s 320ms/step - loss: 0.2490 - accuracy: 0.9273 - val_loss: 0.3674 - val_accuracy: 0.8571 - lr: 1.2500e-04\n",
            "Epoch 41/500\n",
            "11/11 [==============================] - 3s 319ms/step - loss: 0.2413 - accuracy: 0.9182 - val_loss: 0.5196 - val_accuracy: 0.8036 - lr: 1.2500e-04\n",
            "Epoch 42/500\n",
            "11/11 [==============================] - 3s 322ms/step - loss: 0.2291 - accuracy: 0.9227 - val_loss: 0.3486 - val_accuracy: 0.8571 - lr: 1.2500e-04\n",
            "Epoch 43/500\n",
            "11/11 [==============================] - 3s 320ms/step - loss: 0.2021 - accuracy: 0.9364 - val_loss: 0.3994 - val_accuracy: 0.8393 - lr: 1.2500e-04\n",
            "Epoch 44/500\n",
            "11/11 [==============================] - 3s 320ms/step - loss: 0.2151 - accuracy: 0.9409 - val_loss: 0.4222 - val_accuracy: 0.8214 - lr: 1.0000e-04\n",
            "Epoch 45/500\n",
            "11/11 [==============================] - 3s 320ms/step - loss: 0.2445 - accuracy: 0.9273 - val_loss: 0.3147 - val_accuracy: 0.8929 - lr: 1.0000e-04\n",
            "Epoch 46/500\n",
            "11/11 [==============================] - 3s 320ms/step - loss: 0.2302 - accuracy: 0.9182 - val_loss: 0.4524 - val_accuracy: 0.8214 - lr: 1.0000e-04\n",
            "Epoch 47/500\n",
            "11/11 [==============================] - 3s 321ms/step - loss: 0.2270 - accuracy: 0.9364 - val_loss: 0.3239 - val_accuracy: 0.8571 - lr: 1.0000e-04\n",
            "Epoch 48/500\n",
            "11/11 [==============================] - 3s 321ms/step - loss: 0.2240 - accuracy: 0.9364 - val_loss: 0.3373 - val_accuracy: 0.8571 - lr: 1.0000e-04\n",
            "Epoch 49/500\n",
            "11/11 [==============================] - 3s 320ms/step - loss: 0.2290 - accuracy: 0.9409 - val_loss: 0.3708 - val_accuracy: 0.8393 - lr: 1.0000e-04\n",
            "Epoch 50/500\n",
            "11/11 [==============================] - 3s 320ms/step - loss: 0.2202 - accuracy: 0.9227 - val_loss: 0.3296 - val_accuracy: 0.8750 - lr: 1.0000e-04\n",
            "Epoch 51/500\n",
            "11/11 [==============================] - 3s 321ms/step - loss: 0.1957 - accuracy: 0.9364 - val_loss: 0.3616 - val_accuracy: 0.8571 - lr: 1.0000e-04\n",
            "Epoch 52/500\n",
            "11/11 [==============================] - 3s 320ms/step - loss: 0.2000 - accuracy: 0.9455 - val_loss: 0.3357 - val_accuracy: 0.8750 - lr: 1.0000e-04\n",
            "Epoch 53/500\n",
            "11/11 [==============================] - 3s 322ms/step - loss: 0.2026 - accuracy: 0.9364 - val_loss: 0.3667 - val_accuracy: 0.8393 - lr: 1.0000e-04\n",
            "Epoch 54/500\n",
            "11/11 [==============================] - 3s 320ms/step - loss: 0.1811 - accuracy: 0.9318 - val_loss: 0.3884 - val_accuracy: 0.8571 - lr: 1.0000e-04\n",
            "Epoch 55/500\n",
            "11/11 [==============================] - 3s 319ms/step - loss: 0.1959 - accuracy: 0.9409 - val_loss: 0.3209 - val_accuracy: 0.8929 - lr: 1.0000e-04\n",
            "Epoch 56/500\n",
            "11/11 [==============================] - 3s 321ms/step - loss: 0.1905 - accuracy: 0.9273 - val_loss: 0.4411 - val_accuracy: 0.8214 - lr: 1.0000e-04\n",
            "Epoch 57/500\n",
            "11/11 [==============================] - 3s 320ms/step - loss: 0.1797 - accuracy: 0.9318 - val_loss: 0.3232 - val_accuracy: 0.8750 - lr: 1.0000e-04\n",
            "Epoch 58/500\n",
            "11/11 [==============================] - 3s 320ms/step - loss: 0.1788 - accuracy: 0.9409 - val_loss: 0.4640 - val_accuracy: 0.8036 - lr: 1.0000e-04\n",
            "Epoch 59/500\n",
            "11/11 [==============================] - 3s 321ms/step - loss: 0.1900 - accuracy: 0.9409 - val_loss: 0.2235 - val_accuracy: 0.9107 - lr: 1.0000e-04\n",
            "Epoch 60/500\n",
            "11/11 [==============================] - 3s 320ms/step - loss: 0.1852 - accuracy: 0.9455 - val_loss: 0.5088 - val_accuracy: 0.8393 - lr: 1.0000e-04\n",
            "Epoch 61/500\n",
            "11/11 [==============================] - 3s 319ms/step - loss: 0.1928 - accuracy: 0.9273 - val_loss: 0.2422 - val_accuracy: 0.9107 - lr: 1.0000e-04\n",
            "Epoch 62/500\n",
            "11/11 [==============================] - 3s 317ms/step - loss: 0.1921 - accuracy: 0.9409 - val_loss: 0.5053 - val_accuracy: 0.8214 - lr: 1.0000e-04\n",
            "Epoch 63/500\n",
            "11/11 [==============================] - 3s 320ms/step - loss: 0.1964 - accuracy: 0.9364 - val_loss: 0.3741 - val_accuracy: 0.8393 - lr: 1.0000e-04\n",
            "Epoch 64/500\n",
            "11/11 [==============================] - 3s 318ms/step - loss: 0.1744 - accuracy: 0.9409 - val_loss: 0.3277 - val_accuracy: 0.8750 - lr: 1.0000e-04\n",
            "Epoch 65/500\n",
            "11/11 [==============================] - 3s 320ms/step - loss: 0.1702 - accuracy: 0.9500 - val_loss: 0.3885 - val_accuracy: 0.8393 - lr: 1.0000e-04\n",
            "Epoch 66/500\n",
            "11/11 [==============================] - 3s 321ms/step - loss: 0.1545 - accuracy: 0.9455 - val_loss: 0.3363 - val_accuracy: 0.8750 - lr: 1.0000e-04\n",
            "Epoch 67/500\n",
            "11/11 [==============================] - 4s 321ms/step - loss: 0.1418 - accuracy: 0.9500 - val_loss: 0.3161 - val_accuracy: 0.8750 - lr: 1.0000e-04\n",
            "Epoch 68/500\n",
            "11/11 [==============================] - 3s 320ms/step - loss: 0.1698 - accuracy: 0.9500 - val_loss: 0.2794 - val_accuracy: 0.9107 - lr: 1.0000e-04\n",
            "Epoch 69/500\n",
            "11/11 [==============================] - 3s 319ms/step - loss: 0.1404 - accuracy: 0.9500 - val_loss: 0.3797 - val_accuracy: 0.8750 - lr: 1.0000e-04\n",
            "Epoch 70/500\n",
            "11/11 [==============================] - 3s 319ms/step - loss: 0.1426 - accuracy: 0.9591 - val_loss: 0.4260 - val_accuracy: 0.8750 - lr: 1.0000e-04\n",
            "Epoch 71/500\n",
            "11/11 [==============================] - 3s 319ms/step - loss: 0.1521 - accuracy: 0.9500 - val_loss: 0.2786 - val_accuracy: 0.8929 - lr: 1.0000e-04\n",
            "Epoch 72/500\n",
            "11/11 [==============================] - 3s 322ms/step - loss: 0.1338 - accuracy: 0.9591 - val_loss: 0.4494 - val_accuracy: 0.8571 - lr: 1.0000e-04\n",
            "Epoch 73/500\n",
            "11/11 [==============================] - 3s 320ms/step - loss: 0.1166 - accuracy: 0.9500 - val_loss: 0.2284 - val_accuracy: 0.8750 - lr: 1.0000e-04\n",
            "Epoch 74/500\n",
            "11/11 [==============================] - 3s 320ms/step - loss: 0.1170 - accuracy: 0.9455 - val_loss: 0.3493 - val_accuracy: 0.8750 - lr: 1.0000e-04\n",
            "Epoch 75/500\n",
            "11/11 [==============================] - 3s 320ms/step - loss: 0.1179 - accuracy: 0.9591 - val_loss: 0.2789 - val_accuracy: 0.8929 - lr: 1.0000e-04\n",
            "Epoch 76/500\n",
            "11/11 [==============================] - 3s 321ms/step - loss: 0.1199 - accuracy: 0.9409 - val_loss: 0.5288 - val_accuracy: 0.8214 - lr: 1.0000e-04\n",
            "Epoch 77/500\n",
            "11/11 [==============================] - 3s 321ms/step - loss: 0.1288 - accuracy: 0.9636 - val_loss: 0.2907 - val_accuracy: 0.8929 - lr: 1.0000e-04\n",
            "Epoch 78/500\n",
            "11/11 [==============================] - 3s 322ms/step - loss: 0.1308 - accuracy: 0.9591 - val_loss: 0.5802 - val_accuracy: 0.8214 - lr: 1.0000e-04\n",
            "Epoch 79/500\n",
            "11/11 [==============================] - 3s 321ms/step - loss: 0.1475 - accuracy: 0.9455 - val_loss: 0.2729 - val_accuracy: 0.8929 - lr: 1.0000e-04\n"
          ]
        }
      ]
    },
    {
      "cell_type": "code",
      "source": [
        "predictions = model.predict(X_test)\n",
        "\n",
        "# Compute the confusion matrix\n",
        "cm = confusion_matrix(np.argmax(Y_test, axis=-1), np.argmax(predictions, axis=-1))\n",
        "\n",
        "# Compute the classification metrics\n",
        "accuracy = accuracy_score(np.argmax(Y_test, axis=-1), np.argmax(predictions, axis=-1))\n",
        "precision = precision_score(np.argmax(Y_test, axis=-1), np.argmax(predictions, axis=-1), average='macro')\n",
        "recall = recall_score(np.argmax(Y_test, axis=-1), np.argmax(predictions, axis=-1), average='macro')\n",
        "f1 = f1_score(np.argmax(Y_test, axis=-1), np.argmax(predictions, axis=-1), average='macro')\n",
        "print('Accuracy:',accuracy.round(4))\n",
        "print('Precision:',precision.round(4))\n",
        "print('Recall:',recall.round(4))\n",
        "print('F1:',f1.round(4))\n",
        "\n",
        "# Plot the confusion matrix\n",
        "plt.figure(figsize=(10,8))\n",
        "sns.heatmap(cm.T)#, xticklabels=list(labels.values()), yticklabels=list(labels.values()))\n",
        "plt.xlabel('True labels')\n",
        "plt.ylabel('Predicted labels')\n",
        "plt.show()"
      ],
      "metadata": {
        "id": "6Xlmj6RaRRvk",
        "colab": {
          "base_uri": "https://localhost:8080/",
          "height": 625
        },
        "outputId": "2fbb18bb-d501-4596-efff-5f0d7424d34e"
      },
      "execution_count": 69,
      "outputs": [
        {
          "output_type": "stream",
          "name": "stdout",
          "text": [
            "WARNING:tensorflow:5 out of the last 5 calls to <function Model.make_predict_function.<locals>.predict_function at 0x7f8b0a27ba70> triggered tf.function retracing. Tracing is expensive and the excessive number of tracings could be due to (1) creating @tf.function repeatedly in a loop, (2) passing tensors with different shapes, (3) passing Python objects instead of tensors. For (1), please define your @tf.function outside of the loop. For (2), @tf.function has experimental_relax_shapes=True option that relaxes argument shapes that can avoid unnecessary retracing. For (3), please refer to https://www.tensorflow.org/guide/function#controlling_retracing and https://www.tensorflow.org/api_docs/python/tf/function for  more details.\n"
          ]
        },
        {
          "output_type": "stream",
          "name": "stderr",
          "text": [
            "WARNING:tensorflow:5 out of the last 5 calls to <function Model.make_predict_function.<locals>.predict_function at 0x7f8b0a27ba70> triggered tf.function retracing. Tracing is expensive and the excessive number of tracings could be due to (1) creating @tf.function repeatedly in a loop, (2) passing tensors with different shapes, (3) passing Python objects instead of tensors. For (1), please define your @tf.function outside of the loop. For (2), @tf.function has experimental_relax_shapes=True option that relaxes argument shapes that can avoid unnecessary retracing. For (3), please refer to https://www.tensorflow.org/guide/function#controlling_retracing and https://www.tensorflow.org/api_docs/python/tf/function for  more details.\n"
          ]
        },
        {
          "output_type": "stream",
          "name": "stdout",
          "text": [
            "Accuracy: 0.85\n",
            "Precision: 0.8846\n",
            "Recall: 0.85\n",
            "F1: 0.8465\n"
          ]
        },
        {
          "output_type": "display_data",
          "data": {
            "text/plain": [
              "<Figure size 720x576 with 2 Axes>"
            ],
            "image/png": "[encoded data removed]"
          },
          "metadata": {
            "needs_background": "light"
          }
        }
      ]
    },
    {
      "cell_type": "code",
      "source": [
        "model.save('/gdrive/MyDrive/polimi/NAML/NAML_proj/models/popvdisco/dirty_popvdisco')"
      ],
      "metadata": {
        "colab": {
          "base_uri": "https://localhost:8080/"
        },
        "id": "SO-HKBQc9I7r",
        "outputId": "818a94d4-c836-4383-fdcd-c58abf5a10aa"
      },
      "execution_count": 70,
      "outputs": [
        {
          "output_type": "stream",
          "name": "stderr",
          "text": [
            "WARNING:absl:Function `_wrapped_model` contains input name(s) Input with unsupported characters which will be renamed to input in the SavedModel.\n"
          ]
        },
        {
          "output_type": "stream",
          "name": "stdout",
          "text": [
            "INFO:tensorflow:Assets written to: /gdrive/MyDrive/polimi/NAML/NAML_proj/models/popvdisco/dirty_popvdisco/assets\n"
          ]
        },
        {
          "output_type": "stream",
          "name": "stderr",
          "text": [
            "INFO:tensorflow:Assets written to: /gdrive/MyDrive/polimi/NAML/NAML_proj/models/popvdisco/dirty_popvdisco/assets\n"
          ]
        }
      ]
    }
  ]
}