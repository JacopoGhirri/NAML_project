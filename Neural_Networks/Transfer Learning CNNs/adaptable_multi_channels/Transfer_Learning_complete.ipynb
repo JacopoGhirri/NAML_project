{
  "nbformat": 4,
  "nbformat_minor": 0,
  "metadata": {
    "colab": {
      "name": "Transfer_Learning_complete.ipynb",
      "provenance": []
    },
    "kernelspec": {
      "name": "python3",
      "display_name": "Python 3"
    },
    "language_info": {
      "name": "python"
    },
    "accelerator": "GPU"
  },
  "cells": [
    {
      "cell_type": "markdown",
      "source": [
        "## Transfer Learning - ResNet50\n",
        "\n",
        "In this approach we try and leverage large pre-trained Convolutional Neural Networks for tackling the classification problem over all 10 genres"
      ],
      "metadata": {
        "id": "gKB_Sss8Ql-3"
      }
    },
    {
      "cell_type": "code",
      "execution_count": 1,
      "metadata": {
        "id": "SwPJ54sBQlFO",
        "colab": {
          "base_uri": "https://localhost:8080/"
        },
        "outputId": "03c968dc-45fe-4100-83d3-7b7ba871e0ba"
      },
      "outputs": [
        {
          "output_type": "stream",
          "name": "stdout",
          "text": [
            "Mounted at /gdrive\n"
          ]
        }
      ],
      "source": [
        "#importing google drive\n",
        "from google.colab import drive\n",
        "drive.mount('/gdrive')"
      ]
    },
    {
      "cell_type": "code",
      "source": [
        "#setting the working directory\n",
        "%cd /gdrive/MyDrive/polimi/NAML/NAML_proj/"
      ],
      "metadata": {
        "id": "iYHj7NhnQs_-",
        "colab": {
          "base_uri": "https://localhost:8080/"
        },
        "outputId": "6bf6ca93-e688-4032-b817-a73bf73d904a"
      },
      "execution_count": 2,
      "outputs": [
        {
          "output_type": "stream",
          "name": "stdout",
          "text": [
            "/gdrive/MyDrive/polimi/NAML/NAML_proj\n"
          ]
        }
      ]
    },
    {
      "cell_type": "code",
      "source": [
        "import tensorflow as tf\n",
        "from PIL import Image\n",
        "import numpy as np\n",
        "import os\n",
        "import random\n",
        "import seaborn as sns\n",
        "import matplotlib as mpl\n",
        "import matplotlib.pyplot as plt\n",
        "from sklearn.model_selection import train_test_split\n",
        "from sklearn.metrics import accuracy_score, f1_score, precision_score, recall_score\n",
        "from sklearn.metrics import confusion_matrix\n",
        "import librosa\n",
        "\n",
        "tfk = tf.keras\n",
        "tfkl = tf.keras.layers\n",
        "seed = 42"
      ],
      "metadata": {
        "id": "INc4ttEUQuxN"
      },
      "execution_count": 3,
      "outputs": []
    },
    {
      "cell_type": "code",
      "source": [
        "dataset = []\n",
        "genres = {'blues': 0, 'classical': 1, 'country': 2, 'disco': 3, 'hiphop': 4, 'jazz': 5, 'metal': 6, 'pop': 7, 'reggae': 8, 'rock': 9}\n",
        "n_genres = 10\n",
        "\n",
        "for genre, genre_number in genres.items():\n",
        "    for filename in os.listdir(f'dataset_old/genres/{genre}'):\n",
        "        songname = f'dataset_old/genres/{genre}/{filename}'\n",
        "        y, sr = librosa.load(songname, mono=True, duration=29.7)\n",
        "        ps = librosa.feature.melspectrogram(y=y, sr=sr, hop_length = 256, n_fft = 512)\n",
        "        ps = librosa.power_to_db(ps**2)\n",
        "        dataset.append( (ps, genre_number) )\n",
        "    print(str(genre+' done'))"
      ],
      "metadata": {
        "id": "oiT5mkVqQ_lt",
        "colab": {
          "base_uri": "https://localhost:8080/"
        },
        "outputId": "1761c918-9eb2-41a3-a35c-38ca21c2a0b7"
      },
      "execution_count": 20,
      "outputs": [
        {
          "output_type": "stream",
          "name": "stdout",
          "text": [
            "blues done\n",
            "classical done\n",
            "country done\n",
            "disco done\n",
            "hiphop done\n",
            "jazz done\n",
            "metal done\n",
            "pop done\n",
            "reggae done\n",
            "rock done\n"
          ]
        }
      ]
    },
    {
      "cell_type": "code",
      "source": [
        "order = np.arange(start = 0, stop = 100, step = 1)\n",
        "\n",
        "np.random.seed(seed)\n",
        "\n",
        "training = []\n",
        "validation = []\n",
        "test = []\n",
        "\n",
        "for i in range(n_genres):\n",
        "  shuffle = np.random.permutation(order)\n",
        "  for k in range(70):\n",
        "    training.append(dataset[i*100 + shuffle[k]])\n",
        "  for l in range(20):\n",
        "    validation.append(dataset[i*100 + shuffle[l+70]])\n",
        "  for m in range(10):\n",
        "    test.append(dataset[i*100 + shuffle[m+90]])"
      ],
      "metadata": {
        "id": "OSUK8JPgRFVF"
      },
      "execution_count": 21,
      "outputs": []
    },
    {
      "cell_type": "code",
      "source": [
        "X_train, Y_train = zip(*training)\n",
        "X_valid, Y_valid = zip(*validation)\n",
        "X_test, Y_test = zip(*test)\n",
        "\n",
        "X_train = np.array([x.reshape( (128, 2559, 1) ) for x in X_train])\n",
        "X_valid = np.array([x.reshape( (128, 2559, 1) ) for x in X_valid])\n",
        "X_test = np.array([x.reshape( (128, 2559, 1) ) for x in X_test])\n",
        "\n",
        "Y_train = np.array(tfk.utils.to_categorical(Y_train, n_genres))\n",
        "Y_valid = np.array(tfk.utils.to_categorical(Y_valid, n_genres))\n",
        "Y_test = np.array(tfk.utils.to_categorical(Y_test, n_genres))"
      ],
      "metadata": {
        "id": "WA29NV-URMuG"
      },
      "execution_count": 22,
      "outputs": []
    },
    {
      "cell_type": "code",
      "source": [
        "supernet = tfk.applications.ResNet50(\n",
        "\n",
        "    include_top=False,\n",
        "\n",
        "    weights=\"imagenet\",\n",
        "\n",
        "    input_shape = (128, 2559, 3)\n",
        "\n",
        ")\n",
        "\n",
        "supernet.summary()"
      ],
      "metadata": {
        "id": "wfHsh1bXQ4WZ"
      },
      "execution_count": null,
      "outputs": []
    },
    {
      "cell_type": "code",
      "source": [
        "def build_model(input_shape, supernet, n_units):\n",
        "\n",
        "    # Build the neural network layer by layer\n",
        "\n",
        "    input_layer = tfkl.Input(shape=input_shape, name='Input')\n",
        "    \n",
        "    add_channels = tf.keras.layers.Conv2D(filters = 3, kernel_size = (3,3),\n",
        "                                          padding=\"same\", name = 'Channel_adder')(input_layer)\n",
        "\n",
        "\n",
        "    resnet50 = supernet(add_channels)\n",
        "\n",
        "    glob_pooling = tfkl.GlobalAveragePooling2D(name='GloablPooling')(resnet50)\n",
        "\n",
        "\n",
        "\n",
        "    classifier_layer = tfkl.Dense(\n",
        "\n",
        "        units=32,  \n",
        "\n",
        "        activation='relu',\n",
        "\n",
        "        kernel_initializer = tfk.initializers.GlorotUniform(seed),\n",
        "\n",
        "        name='Classifier')(glob_pooling)\n",
        "\n",
        "    classifier_layer = tfkl.Dropout(0.2, seed=seed, name='ClassifierDropout')(classifier_layer)\n",
        "\n",
        "\n",
        "\n",
        "    output_layer = tfkl.Dense(\n",
        "\n",
        "        units=n_units, \n",
        "\n",
        "        activation='softmax', \n",
        "\n",
        "        kernel_initializer = tfk.initializers.GlorotUniform(seed),\n",
        "\n",
        "        name='Output')(classifier_layer)\n",
        "\n",
        "\n",
        "\n",
        "    # Connect input and output through the Model class\n",
        "\n",
        "    model = tfk.Model(inputs=input_layer, outputs=output_layer, name='model')\n",
        "\n",
        "\n",
        "\n",
        "    # Compile the model\n",
        "\n",
        "    model.compile(loss=tfk.losses.CategoricalCrossentropy(), optimizer=tfk.optimizers.Adam(), metrics='accuracy')\n",
        "\n",
        "\n",
        "    # Return the model\n",
        "\n",
        "    return model"
      ],
      "metadata": {
        "id": "lR2QkBoSQ8lW"
      },
      "execution_count": 29,
      "outputs": []
    },
    {
      "cell_type": "code",
      "source": [
        "supernet.trainable = False\n",
        "\n",
        "input_shape = (128, 2559, 1)\n",
        "\n",
        "model = build_model(input_shape, supernet, n_genres)\n",
        "\n",
        "model.summary()"
      ],
      "metadata": {
        "id": "zIitkAlGQ-mM",
        "colab": {
          "base_uri": "https://localhost:8080/"
        },
        "outputId": "bdd56531-c729-4995-ca4d-01ffeadc65ab"
      },
      "execution_count": 30,
      "outputs": [
        {
          "output_type": "stream",
          "name": "stdout",
          "text": [
            "Model: \"model\"\n",
            "_________________________________________________________________\n",
            " Layer (type)                Output Shape              Param #   \n",
            "=================================================================\n",
            " Input (InputLayer)          [(None, 128, 2559, 1)]    0         \n",
            "                                                                 \n",
            " Channel_adder (Conv2D)      (None, 128, 2559, 3)      30        \n",
            "                                                                 \n",
            " resnet50 (Functional)       (None, 4, 80, 2048)       23587712  \n",
            "                                                                 \n",
            " GloablPooling (GlobalAverag  (None, 2048)             0         \n",
            " ePooling2D)                                                     \n",
            "                                                                 \n",
            " Classifier (Dense)          (None, 32)                65568     \n",
            "                                                                 \n",
            " ClassifierDropout (Dropout)  (None, 32)               0         \n",
            "                                                                 \n",
            " Output (Dense)              (None, 10)                330       \n",
            "                                                                 \n",
            "=================================================================\n",
            "Total params: 23,653,640\n",
            "Trainable params: 65,928\n",
            "Non-trainable params: 23,587,712\n",
            "_________________________________________________________________\n"
          ]
        }
      ]
    },
    {
      "cell_type": "code",
      "source": [
        "early_stopping = tfk.callbacks.EarlyStopping(monitor='val_loss', mode='min', patience=10, restore_best_weights=True)\n",
        "adaptive_LR = tfk.callbacks.ReduceLROnPlateau(monitor='val_loss', mode='min', patience=5, factor=0.5, min_lr=1e-4)\n",
        "\n",
        "standard_history = model.fit(\n",
        "    x = X_train,\n",
        "    y = Y_train,\n",
        "    epochs = 500,\n",
        "    batch_size = 16,#small batch size to avoid out of memory issues\n",
        "    validation_data= (X_valid, Y_valid),\n",
        "    callbacks = [early_stopping, adaptive_LR]\n",
        "    )"
      ],
      "metadata": {
        "id": "yFUsDY6BRWi1",
        "colab": {
          "base_uri": "https://localhost:8080/"
        },
        "outputId": "a1459a61-a10b-4b2b-8e6b-6cbb1001af48"
      },
      "execution_count": 31,
      "outputs": [
        {
          "output_type": "stream",
          "name": "stdout",
          "text": [
            "Epoch 1/500\n",
            "44/44 [==============================] - 47s 929ms/step - loss: 2.1284 - accuracy: 0.2157 - val_loss: 1.7625 - val_accuracy: 0.3450 - lr: 0.0010\n",
            "Epoch 2/500\n",
            "44/44 [==============================] - 37s 839ms/step - loss: 1.6637 - accuracy: 0.3871 - val_loss: 1.5181 - val_accuracy: 0.4600 - lr: 0.0010\n",
            "Epoch 3/500\n",
            "44/44 [==============================] - 38s 858ms/step - loss: 1.4876 - accuracy: 0.4843 - val_loss: 1.3924 - val_accuracy: 0.5000 - lr: 0.0010\n",
            "Epoch 4/500\n",
            "44/44 [==============================] - 38s 870ms/step - loss: 1.3380 - accuracy: 0.5329 - val_loss: 1.2754 - val_accuracy: 0.5850 - lr: 0.0010\n",
            "Epoch 5/500\n",
            "44/44 [==============================] - 39s 884ms/step - loss: 1.2614 - accuracy: 0.5600 - val_loss: 1.2154 - val_accuracy: 0.5550 - lr: 0.0010\n",
            "Epoch 6/500\n",
            "44/44 [==============================] - 39s 900ms/step - loss: 1.1468 - accuracy: 0.6143 - val_loss: 1.0961 - val_accuracy: 0.6600 - lr: 0.0010\n",
            "Epoch 7/500\n",
            "44/44 [==============================] - 40s 908ms/step - loss: 1.0938 - accuracy: 0.6329 - val_loss: 1.0590 - val_accuracy: 0.6550 - lr: 0.0010\n",
            "Epoch 8/500\n",
            "44/44 [==============================] - 40s 905ms/step - loss: 1.0212 - accuracy: 0.6557 - val_loss: 1.0391 - val_accuracy: 0.6700 - lr: 0.0010\n",
            "Epoch 9/500\n",
            "44/44 [==============================] - 40s 904ms/step - loss: 1.0014 - accuracy: 0.6686 - val_loss: 0.9930 - val_accuracy: 0.6750 - lr: 0.0010\n",
            "Epoch 10/500\n",
            "44/44 [==============================] - 40s 904ms/step - loss: 0.9419 - accuracy: 0.6814 - val_loss: 0.9883 - val_accuracy: 0.6950 - lr: 0.0010\n",
            "Epoch 11/500\n",
            "44/44 [==============================] - 40s 904ms/step - loss: 0.9030 - accuracy: 0.6971 - val_loss: 0.9880 - val_accuracy: 0.6650 - lr: 0.0010\n",
            "Epoch 12/500\n",
            "44/44 [==============================] - 40s 905ms/step - loss: 0.8841 - accuracy: 0.7057 - val_loss: 0.9685 - val_accuracy: 0.6600 - lr: 0.0010\n",
            "Epoch 13/500\n",
            "44/44 [==============================] - 40s 906ms/step - loss: 0.8279 - accuracy: 0.7057 - val_loss: 0.9275 - val_accuracy: 0.6950 - lr: 0.0010\n",
            "Epoch 14/500\n",
            "44/44 [==============================] - 40s 905ms/step - loss: 0.8259 - accuracy: 0.7300 - val_loss: 0.8844 - val_accuracy: 0.7400 - lr: 0.0010\n",
            "Epoch 15/500\n",
            "44/44 [==============================] - 40s 906ms/step - loss: 0.7838 - accuracy: 0.7343 - val_loss: 0.8544 - val_accuracy: 0.7600 - lr: 0.0010\n",
            "Epoch 16/500\n",
            "44/44 [==============================] - 40s 903ms/step - loss: 0.7826 - accuracy: 0.7329 - val_loss: 0.8978 - val_accuracy: 0.7350 - lr: 0.0010\n",
            "Epoch 17/500\n",
            "44/44 [==============================] - 40s 902ms/step - loss: 0.7796 - accuracy: 0.7386 - val_loss: 0.9484 - val_accuracy: 0.6800 - lr: 0.0010\n",
            "Epoch 18/500\n",
            "44/44 [==============================] - 40s 902ms/step - loss: 0.7469 - accuracy: 0.7357 - val_loss: 0.8778 - val_accuracy: 0.7350 - lr: 0.0010\n",
            "Epoch 19/500\n",
            "44/44 [==============================] - 40s 904ms/step - loss: 0.7038 - accuracy: 0.7643 - val_loss: 0.8301 - val_accuracy: 0.7500 - lr: 0.0010\n",
            "Epoch 20/500\n",
            "44/44 [==============================] - 40s 904ms/step - loss: 0.6966 - accuracy: 0.7600 - val_loss: 0.8431 - val_accuracy: 0.7000 - lr: 0.0010\n",
            "Epoch 21/500\n",
            "44/44 [==============================] - 40s 901ms/step - loss: 0.6330 - accuracy: 0.7671 - val_loss: 0.8683 - val_accuracy: 0.7200 - lr: 0.0010\n",
            "Epoch 22/500\n",
            "44/44 [==============================] - 40s 904ms/step - loss: 0.6703 - accuracy: 0.7657 - val_loss: 0.8861 - val_accuracy: 0.7000 - lr: 0.0010\n",
            "Epoch 23/500\n",
            "44/44 [==============================] - 40s 901ms/step - loss: 0.6568 - accuracy: 0.7700 - val_loss: 0.8405 - val_accuracy: 0.7500 - lr: 0.0010\n",
            "Epoch 24/500\n",
            "44/44 [==============================] - 40s 901ms/step - loss: 0.6385 - accuracy: 0.7686 - val_loss: 0.8267 - val_accuracy: 0.7700 - lr: 0.0010\n",
            "Epoch 25/500\n",
            "44/44 [==============================] - 40s 909ms/step - loss: 0.6128 - accuracy: 0.7786 - val_loss: 0.7673 - val_accuracy: 0.7550 - lr: 0.0010\n",
            "Epoch 26/500\n",
            "44/44 [==============================] - 39s 900ms/step - loss: 0.5600 - accuracy: 0.8029 - val_loss: 0.8022 - val_accuracy: 0.7550 - lr: 0.0010\n",
            "Epoch 27/500\n",
            "44/44 [==============================] - 40s 904ms/step - loss: 0.5735 - accuracy: 0.8086 - val_loss: 0.8177 - val_accuracy: 0.7500 - lr: 0.0010\n",
            "Epoch 28/500\n",
            "44/44 [==============================] - 40s 904ms/step - loss: 0.5512 - accuracy: 0.8014 - val_loss: 0.8063 - val_accuracy: 0.7450 - lr: 0.0010\n",
            "Epoch 29/500\n",
            "44/44 [==============================] - 40s 904ms/step - loss: 0.5553 - accuracy: 0.8129 - val_loss: 0.7985 - val_accuracy: 0.7550 - lr: 0.0010\n",
            "Epoch 30/500\n",
            "44/44 [==============================] - 40s 907ms/step - loss: 0.5775 - accuracy: 0.8029 - val_loss: 0.7526 - val_accuracy: 0.7600 - lr: 0.0010\n",
            "Epoch 31/500\n",
            "44/44 [==============================] - 40s 904ms/step - loss: 0.5206 - accuracy: 0.8214 - val_loss: 0.8306 - val_accuracy: 0.7700 - lr: 0.0010\n",
            "Epoch 32/500\n",
            "44/44 [==============================] - 40s 905ms/step - loss: 0.5395 - accuracy: 0.8043 - val_loss: 0.8027 - val_accuracy: 0.7300 - lr: 0.0010\n",
            "Epoch 33/500\n",
            "44/44 [==============================] - 40s 905ms/step - loss: 0.5145 - accuracy: 0.8386 - val_loss: 0.7964 - val_accuracy: 0.7500 - lr: 0.0010\n",
            "Epoch 34/500\n",
            "44/44 [==============================] - 40s 908ms/step - loss: 0.5140 - accuracy: 0.8186 - val_loss: 0.7503 - val_accuracy: 0.7700 - lr: 0.0010\n",
            "Epoch 35/500\n",
            "44/44 [==============================] - 40s 905ms/step - loss: 0.4850 - accuracy: 0.8300 - val_loss: 0.7614 - val_accuracy: 0.7700 - lr: 0.0010\n",
            "Epoch 36/500\n",
            "44/44 [==============================] - 40s 904ms/step - loss: 0.4582 - accuracy: 0.8443 - val_loss: 0.7924 - val_accuracy: 0.7450 - lr: 0.0010\n",
            "Epoch 37/500\n",
            "44/44 [==============================] - 40s 903ms/step - loss: 0.4812 - accuracy: 0.8214 - val_loss: 0.7646 - val_accuracy: 0.7500 - lr: 0.0010\n",
            "Epoch 38/500\n",
            "44/44 [==============================] - 40s 902ms/step - loss: 0.4772 - accuracy: 0.8200 - val_loss: 0.7641 - val_accuracy: 0.7700 - lr: 0.0010\n",
            "Epoch 39/500\n",
            "44/44 [==============================] - 40s 903ms/step - loss: 0.4537 - accuracy: 0.8300 - val_loss: 0.7724 - val_accuracy: 0.7600 - lr: 0.0010\n",
            "Epoch 40/500\n",
            "44/44 [==============================] - 40s 903ms/step - loss: 0.4049 - accuracy: 0.8743 - val_loss: 0.7582 - val_accuracy: 0.7750 - lr: 5.0000e-04\n",
            "Epoch 41/500\n",
            "44/44 [==============================] - 40s 906ms/step - loss: 0.3949 - accuracy: 0.8600 - val_loss: 0.7480 - val_accuracy: 0.7850 - lr: 5.0000e-04\n",
            "Epoch 42/500\n",
            "44/44 [==============================] - 40s 903ms/step - loss: 0.3930 - accuracy: 0.8700 - val_loss: 0.7804 - val_accuracy: 0.7750 - lr: 5.0000e-04\n",
            "Epoch 43/500\n",
            "44/44 [==============================] - 40s 903ms/step - loss: 0.4102 - accuracy: 0.8486 - val_loss: 0.7494 - val_accuracy: 0.7800 - lr: 5.0000e-04\n",
            "Epoch 44/500\n",
            "44/44 [==============================] - 40s 903ms/step - loss: 0.4289 - accuracy: 0.8486 - val_loss: 0.7840 - val_accuracy: 0.7700 - lr: 5.0000e-04\n",
            "Epoch 45/500\n",
            "44/44 [==============================] - 40s 905ms/step - loss: 0.4201 - accuracy: 0.8514 - val_loss: 0.7535 - val_accuracy: 0.7900 - lr: 5.0000e-04\n",
            "Epoch 46/500\n",
            "44/44 [==============================] - 40s 904ms/step - loss: 0.3829 - accuracy: 0.8700 - val_loss: 0.7605 - val_accuracy: 0.7750 - lr: 5.0000e-04\n",
            "Epoch 47/500\n",
            "44/44 [==============================] - 40s 906ms/step - loss: 0.3855 - accuracy: 0.8629 - val_loss: 0.7417 - val_accuracy: 0.7900 - lr: 2.5000e-04\n",
            "Epoch 48/500\n",
            "44/44 [==============================] - 40s 907ms/step - loss: 0.3692 - accuracy: 0.8714 - val_loss: 0.7416 - val_accuracy: 0.8100 - lr: 2.5000e-04\n",
            "Epoch 49/500\n",
            "44/44 [==============================] - 40s 904ms/step - loss: 0.4047 - accuracy: 0.8471 - val_loss: 0.7564 - val_accuracy: 0.7900 - lr: 2.5000e-04\n",
            "Epoch 50/500\n",
            "44/44 [==============================] - 40s 903ms/step - loss: 0.3735 - accuracy: 0.8814 - val_loss: 0.7444 - val_accuracy: 0.8050 - lr: 2.5000e-04\n",
            "Epoch 51/500\n",
            "44/44 [==============================] - 40s 904ms/step - loss: 0.3475 - accuracy: 0.8771 - val_loss: 0.7602 - val_accuracy: 0.7900 - lr: 2.5000e-04\n",
            "Epoch 52/500\n",
            "44/44 [==============================] - 40s 904ms/step - loss: 0.3432 - accuracy: 0.8886 - val_loss: 0.7575 - val_accuracy: 0.7850 - lr: 2.5000e-04\n",
            "Epoch 53/500\n",
            "44/44 [==============================] - 40s 905ms/step - loss: 0.3485 - accuracy: 0.8857 - val_loss: 0.7517 - val_accuracy: 0.7900 - lr: 2.5000e-04\n",
            "Epoch 54/500\n",
            "44/44 [==============================] - 40s 903ms/step - loss: 0.3618 - accuracy: 0.8700 - val_loss: 0.7472 - val_accuracy: 0.7850 - lr: 1.2500e-04\n",
            "Epoch 55/500\n",
            "44/44 [==============================] - 40s 903ms/step - loss: 0.3520 - accuracy: 0.8886 - val_loss: 0.7517 - val_accuracy: 0.7900 - lr: 1.2500e-04\n",
            "Epoch 56/500\n",
            "44/44 [==============================] - 40s 903ms/step - loss: 0.3560 - accuracy: 0.8771 - val_loss: 0.7448 - val_accuracy: 0.7950 - lr: 1.2500e-04\n",
            "Epoch 57/500\n",
            "44/44 [==============================] - 40s 902ms/step - loss: 0.3570 - accuracy: 0.8829 - val_loss: 0.7510 - val_accuracy: 0.7900 - lr: 1.2500e-04\n",
            "Epoch 58/500\n",
            "44/44 [==============================] - 40s 906ms/step - loss: 0.3884 - accuracy: 0.8643 - val_loss: 0.7384 - val_accuracy: 0.7950 - lr: 1.2500e-04\n",
            "Epoch 59/500\n",
            "44/44 [==============================] - 40s 902ms/step - loss: 0.3615 - accuracy: 0.8829 - val_loss: 0.7453 - val_accuracy: 0.7900 - lr: 1.2500e-04\n",
            "Epoch 60/500\n",
            "44/44 [==============================] - 40s 902ms/step - loss: 0.3394 - accuracy: 0.8843 - val_loss: 0.7470 - val_accuracy: 0.7950 - lr: 1.2500e-04\n",
            "Epoch 61/500\n",
            "44/44 [==============================] - 40s 901ms/step - loss: 0.3380 - accuracy: 0.8843 - val_loss: 0.7443 - val_accuracy: 0.8050 - lr: 1.2500e-04\n",
            "Epoch 62/500\n",
            "44/44 [==============================] - 40s 902ms/step - loss: 0.3279 - accuracy: 0.8857 - val_loss: 0.7544 - val_accuracy: 0.8000 - lr: 1.2500e-04\n",
            "Epoch 63/500\n",
            "44/44 [==============================] - 40s 902ms/step - loss: 0.3261 - accuracy: 0.9029 - val_loss: 0.7637 - val_accuracy: 0.7800 - lr: 1.2500e-04\n",
            "Epoch 64/500\n",
            "44/44 [==============================] - 40s 902ms/step - loss: 0.3641 - accuracy: 0.8743 - val_loss: 0.7496 - val_accuracy: 0.7950 - lr: 1.0000e-04\n",
            "Epoch 65/500\n",
            "44/44 [==============================] - 40s 901ms/step - loss: 0.3591 - accuracy: 0.8843 - val_loss: 0.7443 - val_accuracy: 0.7850 - lr: 1.0000e-04\n",
            "Epoch 66/500\n",
            "44/44 [==============================] - 40s 901ms/step - loss: 0.3623 - accuracy: 0.8857 - val_loss: 0.7559 - val_accuracy: 0.7900 - lr: 1.0000e-04\n",
            "Epoch 67/500\n",
            "44/44 [==============================] - 40s 901ms/step - loss: 0.3463 - accuracy: 0.8743 - val_loss: 0.7611 - val_accuracy: 0.7800 - lr: 1.0000e-04\n",
            "Epoch 68/500\n",
            "44/44 [==============================] - 40s 900ms/step - loss: 0.3292 - accuracy: 0.8871 - val_loss: 0.7522 - val_accuracy: 0.7950 - lr: 1.0000e-04\n",
            "Epoch 69/500\n",
            "44/44 [==============================] - 40s 901ms/step - loss: 0.3454 - accuracy: 0.8871 - val_loss: 0.7548 - val_accuracy: 0.7950 - lr: 1.0000e-04\n",
            "Epoch 70/500\n",
            "44/44 [==============================] - 40s 900ms/step - loss: 0.3217 - accuracy: 0.8929 - val_loss: 0.7536 - val_accuracy: 0.8050 - lr: 1.0000e-04\n",
            "Epoch 71/500\n",
            "44/44 [==============================] - 40s 900ms/step - loss: 0.3339 - accuracy: 0.8914 - val_loss: 0.7612 - val_accuracy: 0.7750 - lr: 1.0000e-04\n",
            "Epoch 72/500\n",
            "44/44 [==============================] - 39s 900ms/step - loss: 0.3411 - accuracy: 0.8843 - val_loss: 0.7505 - val_accuracy: 0.8000 - lr: 1.0000e-04\n",
            "Epoch 73/500\n",
            "44/44 [==============================] - 40s 901ms/step - loss: 0.3357 - accuracy: 0.8829 - val_loss: 0.7554 - val_accuracy: 0.7800 - lr: 1.0000e-04\n",
            "Epoch 74/500\n",
            "44/44 [==============================] - 40s 901ms/step - loss: 0.3233 - accuracy: 0.9029 - val_loss: 0.7546 - val_accuracy: 0.8000 - lr: 1.0000e-04\n",
            "Epoch 75/500\n",
            "44/44 [==============================] - 40s 901ms/step - loss: 0.3612 - accuracy: 0.8829 - val_loss: 0.7516 - val_accuracy: 0.7950 - lr: 1.0000e-04\n",
            "Epoch 76/500\n",
            "44/44 [==============================] - 40s 902ms/step - loss: 0.3345 - accuracy: 0.8814 - val_loss: 0.7492 - val_accuracy: 0.8050 - lr: 1.0000e-04\n",
            "Epoch 77/500\n",
            "44/44 [==============================] - 40s 903ms/step - loss: 0.3249 - accuracy: 0.9000 - val_loss: 0.7511 - val_accuracy: 0.7950 - lr: 1.0000e-04\n",
            "Epoch 78/500\n",
            "44/44 [==============================] - 40s 906ms/step - loss: 0.3191 - accuracy: 0.8957 - val_loss: 0.7568 - val_accuracy: 0.7900 - lr: 1.0000e-04\n"
          ]
        }
      ]
    },
    {
      "cell_type": "code",
      "source": [
        "predictions = model.predict(X_test)\n",
        "\n",
        "# Compute the confusion matrix\n",
        "cm = confusion_matrix(np.argmax(Y_test, axis=-1), np.argmax(predictions, axis=-1))\n",
        "\n",
        "# Compute the classification metrics\n",
        "accuracy = accuracy_score(np.argmax(Y_test, axis=-1), np.argmax(predictions, axis=-1))\n",
        "precision = precision_score(np.argmax(Y_test, axis=-1), np.argmax(predictions, axis=-1), average='macro')\n",
        "recall = recall_score(np.argmax(Y_test, axis=-1), np.argmax(predictions, axis=-1), average='macro')\n",
        "f1 = f1_score(np.argmax(Y_test, axis=-1), np.argmax(predictions, axis=-1), average='macro')\n",
        "print('Accuracy:',accuracy.round(4))\n",
        "print('Precision:',precision.round(4))\n",
        "print('Recall:',recall.round(4))\n",
        "print('F1:',f1.round(4))\n",
        "\n",
        "# Plot the confusion matrix\n",
        "plt.figure(figsize=(10,8))\n",
        "sns.heatmap(cm.T)#, xticklabels=list(labels.values()), yticklabels=list(labels.values()))\n",
        "plt.xlabel('True labels')\n",
        "plt.ylabel('Predicted labels')\n",
        "plt.show()"
      ],
      "metadata": {
        "id": "6Xlmj6RaRRvk",
        "colab": {
          "base_uri": "https://localhost:8080/",
          "height": 573
        },
        "outputId": "960c8479-566b-401f-d749-6f33f1e26b2f"
      },
      "execution_count": 32,
      "outputs": [
        {
          "output_type": "stream",
          "name": "stdout",
          "text": [
            "Accuracy: 0.8\n",
            "Precision: 0.8188\n",
            "Recall: 0.8\n",
            "F1: 0.8023\n"
          ]
        },
        {
          "output_type": "display_data",
          "data": {
            "text/plain": [
              "<Figure size 720x576 with 2 Axes>"
            ],
            "image/png": "[encoded data removed]"
          },
          "metadata": {
            "needs_background": "light"
          }
        }
      ]
    },
    {
      "cell_type": "code",
      "source": [
        "model.save('/gdrive/MyDrive/polimi/NAML/NAML_proj/models/transfer_learning/tl_complete')"
      ],
      "metadata": {
        "id": "4mpw33y3WoGi",
        "colab": {
          "base_uri": "https://localhost:8080/"
        },
        "outputId": "7e06b9a9-0aa9-450b-d5cf-4bf6ab40da36"
      },
      "execution_count": 33,
      "outputs": [
        {
          "output_type": "stream",
          "name": "stderr",
          "text": [
            "WARNING:absl:Function `_wrapped_model` contains input name(s) Input with unsupported characters which will be renamed to input in the SavedModel.\n"
          ]
        },
        {
          "output_type": "stream",
          "name": "stdout",
          "text": [
            "INFO:tensorflow:Assets written to: /gdrive/MyDrive/polimi/NAML/NAML_proj/models/transfer_learning/tl_complete/assets\n"
          ]
        },
        {
          "output_type": "stream",
          "name": "stderr",
          "text": [
            "INFO:tensorflow:Assets written to: /gdrive/MyDrive/polimi/NAML/NAML_proj/models/transfer_learning/tl_complete/assets\n"
          ]
        }
      ]
    }
  ]
}