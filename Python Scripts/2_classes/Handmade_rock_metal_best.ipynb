{
  "nbformat": 4,
  "nbformat_minor": 0,
  "metadata": {
    "colab": {
      "name": "Handmade_rock_metal_best.ipynb",
      "provenance": []
    },
    "kernelspec": {
      "name": "python3",
      "display_name": "Python 3"
    },
    "language_info": {
      "name": "python"
    }
  },
  "cells": [
    {
      "cell_type": "markdown",
      "source": [
        "## Black Box Approach for 2 genres classification - Rock vs Metal\n",
        "\n",
        "We aim at training a Neural Network to distinguish between two genres: rock and metal."
      ],
      "metadata": {
        "id": "gKB_Sss8Ql-3"
      }
    },
    {
      "cell_type": "code",
      "execution_count": null,
      "metadata": {
        "id": "SwPJ54sBQlFO",
        "colab": {
          "base_uri": "https://localhost:8080/"
        },
        "outputId": "9fc3d9ed-2651-43d9-f110-47ccb2383054"
      },
      "outputs": [
        {
          "output_type": "stream",
          "name": "stdout",
          "text": [
            "Drive already mounted at /gdrive; to attempt to forcibly remount, call drive.mount(\"/gdrive\", force_remount=True).\n"
          ]
        }
      ],
      "source": [
        "#importing google drive\n",
        "from google.colab import drive\n",
        "drive.mount('/gdrive')"
      ]
    },
    {
      "cell_type": "code",
      "source": [
        "#setting the working directory\n",
        "%cd /gdrive/MyDrive/polimi/NAML/NAML_proj/"
      ],
      "metadata": {
        "id": "iYHj7NhnQs_-",
        "colab": {
          "base_uri": "https://localhost:8080/"
        },
        "outputId": "bf64da7c-2a6d-44c7-cf6a-27712205c642"
      },
      "execution_count": null,
      "outputs": [
        {
          "output_type": "stream",
          "name": "stdout",
          "text": [
            "/gdrive/MyDrive/polimi/NAML/NAML_proj\n"
          ]
        }
      ]
    },
    {
      "cell_type": "code",
      "source": [
        "import tensorflow as tf\n",
        "from PIL import Image\n",
        "import numpy as np\n",
        "import os\n",
        "import random\n",
        "import pandas as pd\n",
        "import seaborn as sns\n",
        "import matplotlib as mpl\n",
        "import matplotlib.pyplot as plt\n",
        "from sklearn.model_selection import train_test_split\n",
        "from sklearn.metrics import accuracy_score, f1_score, precision_score, recall_score\n",
        "from sklearn.metrics import confusion_matrix\n",
        "import librosa\n",
        "import os\n",
        "\n",
        "tfk = tf.keras\n",
        "tfkl = tf.keras.layers\n",
        "seed = 42"
      ],
      "metadata": {
        "id": "INc4ttEUQuxN"
      },
      "execution_count": null,
      "outputs": []
    },
    {
      "cell_type": "markdown",
      "source": [
        "The dataset is composed of Mel-Spectrograms of each audio sample, labeled with respect to each genre"
      ],
      "metadata": {
        "id": "IoV9bIbPfg55"
      }
    },
    {
      "cell_type": "code",
      "source": [
        "dataset = []\n",
        "#genres = {'blues': 0, 'classical': 1, 'country': 2, 'disco': 3, 'hiphop': 4, 'jazz': 5, 'metal': 6, 'pop': 7, 'reggae': 8, 'rock': 9}\n",
        "genres = {'metal': 0, 'rock': 1}\n",
        "\n",
        "for genre, genre_number in genres.items():\n",
        "    for filename in os.listdir(f'dataset_old/genres/{genre}'):\n",
        "        songname = f'dataset_old/genres/{genre}/{filename}'\n",
        "        y, sr = librosa.load(songname, mono=True, duration=2)\n",
        "        ps = librosa.feature.melspectrogram(y=y, sr=sr, hop_length = 256, n_fft = 512)\n",
        "        ps = librosa.power_to_db(ps**2)\n",
        "        dataset.append( (ps, genre_number) )\n",
        "    print(str(genre+' done'))"
      ],
      "metadata": {
        "id": "oiT5mkVqQ_lt",
        "colab": {
          "base_uri": "https://localhost:8080/"
        },
        "outputId": "dca06207-3a67-41e0-b99b-0d2af23e991a"
      },
      "execution_count": null,
      "outputs": [
        {
          "output_type": "stream",
          "name": "stdout",
          "text": [
            "metal done\n",
            "rock done\n"
          ]
        }
      ]
    },
    {
      "cell_type": "markdown",
      "source": [
        "We split the dataset according to the following composition:\n",
        "\n",
        "\n",
        "*   70% training set\n",
        "*   20% validation set\n",
        "*   10% test set\n",
        "\n",
        "Maintaining equal proportions amongst classes\n",
        "\n"
      ],
      "metadata": {
        "id": "0sgOQfv-gZ04"
      }
    },
    {
      "cell_type": "code",
      "source": [
        "order = np.arange(start = 0, stop = 100, step = 1)\n",
        "\n",
        "np.random.seed(42)\n",
        "\n",
        "training = []\n",
        "validation = []\n",
        "test = []\n",
        "\n",
        "for i in range(2):\n",
        "  shuffle = np.random.permutation(order)\n",
        "  for k in range(70):\n",
        "    training.append(dataset[i*100 + shuffle[k]])\n",
        "  for l in range(20):\n",
        "    validation.append(dataset[i*100 + shuffle[l+70]])\n",
        "  for m in range(10):\n",
        "    test.append(dataset[i*100 + shuffle[m+90]])"
      ],
      "metadata": {
        "id": "OSUK8JPgRFVF"
      },
      "execution_count": null,
      "outputs": []
    },
    {
      "cell_type": "code",
      "source": [
        "X_train, Y_train = zip(*training)\n",
        "X_valid, Y_valid = zip(*validation)\n",
        "X_test, Y_test = zip(*test)\n",
        "\n",
        "X_train = np.array([x.reshape( (128, 173, 1) ) for x in X_train])\n",
        "X_valid = np.array([x.reshape( (128, 173, 1) ) for x in X_valid])\n",
        "X_test = np.array([x.reshape( (128, 173, 1) ) for x in X_test])\n",
        "\n",
        "Y_train = np.array(tfk.utils.to_categorical(Y_train, 2))\n",
        "Y_valid = np.array(tfk.utils.to_categorical(Y_valid, 2))\n",
        "Y_test = np.array(tfk.utils.to_categorical(Y_test, 2))"
      ],
      "metadata": {
        "id": "WA29NV-URMuG"
      },
      "execution_count": null,
      "outputs": []
    },
    {
      "cell_type": "markdown",
      "source": [
        "The proposed model is composed as a stack of convolutional layer, followed by a Global Average Pooling layer leading to a fully connected section.\n",
        "\n",
        "Optimization is performed as a Batch version of Adam optimizer algorithm"
      ],
      "metadata": {
        "id": "O6AvTMw2hgxB"
      }
    },
    {
      "cell_type": "code",
      "source": [
        "def build_model(input_shape, n_units):\n",
        "# Build the neural network layer by layer\n",
        "    input_layer = tfkl.Input(shape=input_shape, name='Input')\n",
        "\n",
        "    conv1 = tfkl.Conv2D(\n",
        "        filters=4,\n",
        "        kernel_size=(3, 3),\n",
        "        strides = (1, 1),\n",
        "        padding = 'same',\n",
        "        activation = 'relu',\n",
        "        kernel_initializer = tfk.initializers.GlorotUniform(seed)\n",
        "    )(input_layer)\n",
        "    conv1_2 = tfkl.Conv2D(\n",
        "        filters=8,\n",
        "        kernel_size=(2, 2),\n",
        "        strides = (1, 1),\n",
        "        padding = 'same',\n",
        "        activation = 'relu',\n",
        "        kernel_initializer = tfk.initializers.GlorotUniform(seed)\n",
        "    )(conv1)\n",
        "    pool1 = tfkl.MaxPooling2D(\n",
        "        pool_size = (2, 2)\n",
        "    )(conv1_2)\n",
        "\n",
        "    conv2 = tfkl.Conv2D(\n",
        "        filters=16,\n",
        "        kernel_size=(3, 3),\n",
        "        strides = (1, 1),\n",
        "        padding = 'same',\n",
        "        activation = 'relu',\n",
        "        kernel_initializer = tfk.initializers.GlorotUniform(seed)\n",
        "    )(pool1)\n",
        "    pool2 = tfkl.MaxPooling2D(\n",
        "        pool_size = (2, 2)\n",
        "    )(conv2)\n",
        "\n",
        "    conv3 = tfkl.Conv2D(\n",
        "        filters=32,\n",
        "        kernel_size=(3, 3),\n",
        "        strides = (1, 1),\n",
        "        padding = 'same',\n",
        "        activation = 'relu',\n",
        "        kernel_initializer = tfk.initializers.GlorotUniform(seed)\n",
        "    )(pool2)\n",
        "    pool3 = tfkl.MaxPooling2D(\n",
        "        pool_size = (2, 2)\n",
        "    )(conv3)\n",
        "\n",
        "    conv4 = tfkl.Conv2D(\n",
        "        filters=64,\n",
        "        kernel_size=(2, 2),\n",
        "        strides = (1, 1),\n",
        "        padding = 'same',\n",
        "        activation = 'relu',\n",
        "        kernel_initializer = tfk.initializers.GlorotUniform(seed)\n",
        "    )(pool3)\n",
        "    conv4_2 = tfkl.Conv2D(\n",
        "        filters=64,\n",
        "        kernel_size=(2, 2),\n",
        "        strides = (1, 1),\n",
        "        padding = 'same',\n",
        "        activation = 'relu',\n",
        "        kernel_initializer = tfk.initializers.GlorotUniform(seed)\n",
        "    )(conv4)\n",
        "    pool4 = tfkl.MaxPooling2D(\n",
        "        pool_size = (2, 2)\n",
        "    )(conv4_2)\n",
        "\n",
        "    conv5 = tfkl.Conv2D(\n",
        "        filters=128,\n",
        "        kernel_size=(2, 2),\n",
        "        strides = (1, 1),\n",
        "        padding = 'same',\n",
        "        activation = 'relu',\n",
        "        kernel_initializer = tfk.initializers.GlorotUniform(seed)\n",
        "    )(pool4)\n",
        "    pool5 = tfkl.MaxPooling2D(\n",
        "        pool_size = (2, 2)\n",
        "    )(conv5)\n",
        "\n",
        "    conv6 = tfkl.Conv2D(\n",
        "        filters=256,\n",
        "        kernel_size=(1, 1),\n",
        "        strides = (1, 1),\n",
        "        padding = 'same',\n",
        "        activation = 'relu',\n",
        "        kernel_initializer = tfk.initializers.GlorotUniform(seed)\n",
        "    )(pool5)\n",
        "    \n",
        "\n",
        "    global_average = tfkl.GlobalAveragePooling2D(name = 'GAP')(conv6)\n",
        "    global_average = tfkl.Dropout(0.3, seed=seed)(global_average)\n",
        "    \n",
        "    classifier_layer = tfkl.Dense(units=32, name='Classifier', activation='relu')(global_average)\n",
        "    #flattening_layer = tfkl.Flatten(name='Flatten')(pool5)\n",
        "    #flattening_layer = tfkl.Dropout(0.2, seed=seed)(flattening_layer)\n",
        "    #classifier_layer = tfkl.Dense(units=64, name='Classifier', activation='relu')(flattening_layer)\n",
        "    \n",
        "    classifier_layer = tfkl.Dropout(0.3, seed=seed)(classifier_layer)\n",
        "    classifier_layer_2 = tfkl.Dense(units=16, name='Classifier_2', activation='relu')(classifier_layer)\n",
        "    classifier_layer_2 = tfkl.Dropout(0.25, seed=seed)(classifier_layer_2)\n",
        "    output_layer = tfkl.Dense(units=n_units, activation='softmax', name='Output')(classifier_layer_2)\n",
        "\n",
        "    # Connect input and output through the Model class\n",
        "    model = tfk.Model(inputs=input_layer, outputs=output_layer, name='model')\n",
        "\n",
        "    # Compile the model\n",
        "    model.compile(loss=tfk.losses.CategoricalCrossentropy(), optimizer=tfk.optimizers.Adam(), metrics='accuracy')\n",
        "\n",
        "    # Return the model\n",
        "\n",
        "    return model"
      ],
      "metadata": {
        "id": "lR2QkBoSQ8lW"
      },
      "execution_count": null,
      "outputs": []
    },
    {
      "cell_type": "code",
      "source": [
        "n_units = 2\n",
        "input_shape = (128,173,1)\n",
        "\n",
        "model = build_model(input_shape, n_units)\n",
        "\n",
        "model.summary()"
      ],
      "metadata": {
        "id": "zIitkAlGQ-mM",
        "colab": {
          "base_uri": "https://localhost:8080/"
        },
        "outputId": "500af9ba-97ee-4d76-fd54-e39c2bf3768e"
      },
      "execution_count": null,
      "outputs": [
        {
          "output_type": "stream",
          "name": "stdout",
          "text": [
            "Model: \"model\"\n",
            "_________________________________________________________________\n",
            " Layer (type)                Output Shape              Param #   \n",
            "=================================================================\n",
            " Input (InputLayer)          [(None, 128, 173, 1)]     0         \n",
            "                                                                 \n",
            " conv2d_709 (Conv2D)         (None, 128, 173, 4)       40        \n",
            "                                                                 \n",
            " conv2d_710 (Conv2D)         (None, 128, 173, 8)       136       \n",
            "                                                                 \n",
            " max_pooling2d_403 (MaxPooli  (None, 64, 86, 8)        0         \n",
            " ng2D)                                                           \n",
            "                                                                 \n",
            " conv2d_711 (Conv2D)         (None, 64, 86, 16)        1168      \n",
            "                                                                 \n",
            " max_pooling2d_404 (MaxPooli  (None, 32, 43, 16)       0         \n",
            " ng2D)                                                           \n",
            "                                                                 \n",
            " conv2d_712 (Conv2D)         (None, 32, 43, 32)        4640      \n",
            "                                                                 \n",
            " max_pooling2d_405 (MaxPooli  (None, 16, 21, 32)       0         \n",
            " ng2D)                                                           \n",
            "                                                                 \n",
            " conv2d_713 (Conv2D)         (None, 16, 21, 64)        8256      \n",
            "                                                                 \n",
            " conv2d_714 (Conv2D)         (None, 16, 21, 64)        16448     \n",
            "                                                                 \n",
            " max_pooling2d_406 (MaxPooli  (None, 8, 10, 64)        0         \n",
            " ng2D)                                                           \n",
            "                                                                 \n",
            " conv2d_715 (Conv2D)         (None, 8, 10, 128)        32896     \n",
            "                                                                 \n",
            " max_pooling2d_407 (MaxPooli  (None, 4, 5, 128)        0         \n",
            " ng2D)                                                           \n",
            "                                                                 \n",
            " conv2d_716 (Conv2D)         (None, 4, 5, 256)         33024     \n",
            "                                                                 \n",
            " GAP (GlobalAveragePooling2D  (None, 256)              0         \n",
            " )                                                               \n",
            "                                                                 \n",
            " dropout_112 (Dropout)       (None, 256)               0         \n",
            "                                                                 \n",
            " Classifier (Dense)          (None, 32)                8224      \n",
            "                                                                 \n",
            " dropout_113 (Dropout)       (None, 32)                0         \n",
            "                                                                 \n",
            " Classifier_2 (Dense)        (None, 16)                528       \n",
            "                                                                 \n",
            " dropout_114 (Dropout)       (None, 16)                0         \n",
            "                                                                 \n",
            " Output (Dense)              (None, 2)                 34        \n",
            "                                                                 \n",
            "=================================================================\n",
            "Total params: 105,394\n",
            "Trainable params: 105,394\n",
            "Non-trainable params: 0\n",
            "_________________________________________________________________\n"
          ]
        }
      ]
    },
    {
      "cell_type": "code",
      "source": [
        "early_stopping = tfk.callbacks.EarlyStopping(monitor='val_loss', mode='min', patience=20, restore_best_weights=True)\n",
        "adaptive_LR = tfk.callbacks.ReduceLROnPlateau(monitor='val_loss', mode='min', patience=5, factor=0.5, min_lr=1e-4)\n",
        "\n",
        "standard_history = model.fit(\n",
        "    x = X_train,\n",
        "    y = Y_train,\n",
        "    epochs = 500,\n",
        "    batch_size = 20,\n",
        "    validation_data= (X_valid, Y_valid),\n",
        "    callbacks = [early_stopping, adaptive_LR]\n",
        "    )"
      ],
      "metadata": {
        "id": "yFUsDY6BRWi1",
        "colab": {
          "base_uri": "https://localhost:8080/"
        },
        "outputId": "c3394c70-3270-4bea-b3f5-40ec3cdb6748"
      },
      "execution_count": null,
      "outputs": [
        {
          "output_type": "stream",
          "name": "stdout",
          "text": [
            "Epoch 1/500\n",
            "7/7 [==============================] - 2s 80ms/step - loss: 0.7510 - accuracy: 0.4286 - val_loss: 0.6911 - val_accuracy: 0.5000 - lr: 0.0010\n",
            "Epoch 2/500\n",
            "7/7 [==============================] - 0s 35ms/step - loss: 0.6957 - accuracy: 0.5071 - val_loss: 0.6917 - val_accuracy: 0.5000 - lr: 0.0010\n",
            "Epoch 3/500\n",
            "7/7 [==============================] - 0s 32ms/step - loss: 0.6927 - accuracy: 0.4786 - val_loss: 0.6916 - val_accuracy: 0.6250 - lr: 0.0010\n",
            "Epoch 4/500\n",
            "7/7 [==============================] - 0s 31ms/step - loss: 0.6904 - accuracy: 0.5714 - val_loss: 0.6903 - val_accuracy: 0.6750 - lr: 0.0010\n",
            "Epoch 5/500\n",
            "7/7 [==============================] - 0s 32ms/step - loss: 0.6886 - accuracy: 0.5071 - val_loss: 0.6884 - val_accuracy: 0.6500 - lr: 0.0010\n",
            "Epoch 6/500\n",
            "7/7 [==============================] - 0s 29ms/step - loss: 0.6862 - accuracy: 0.5500 - val_loss: 0.6766 - val_accuracy: 0.6500 - lr: 0.0010\n",
            "Epoch 7/500\n",
            "7/7 [==============================] - 0s 29ms/step - loss: 0.6846 - accuracy: 0.5357 - val_loss: 0.6749 - val_accuracy: 0.6250 - lr: 0.0010\n",
            "Epoch 8/500\n",
            "7/7 [==============================] - 0s 30ms/step - loss: 0.6865 - accuracy: 0.5643 - val_loss: 0.6499 - val_accuracy: 0.7500 - lr: 0.0010\n",
            "Epoch 9/500\n",
            "7/7 [==============================] - 0s 29ms/step - loss: 0.6693 - accuracy: 0.5857 - val_loss: 0.6464 - val_accuracy: 0.7000 - lr: 0.0010\n",
            "Epoch 10/500\n",
            "7/7 [==============================] - 0s 31ms/step - loss: 0.6484 - accuracy: 0.6786 - val_loss: 0.6042 - val_accuracy: 0.7500 - lr: 0.0010\n",
            "Epoch 11/500\n",
            "7/7 [==============================] - 0s 30ms/step - loss: 0.6197 - accuracy: 0.6500 - val_loss: 0.7189 - val_accuracy: 0.5250 - lr: 0.0010\n",
            "Epoch 12/500\n",
            "7/7 [==============================] - 0s 29ms/step - loss: 0.6385 - accuracy: 0.5857 - val_loss: 0.7026 - val_accuracy: 0.5500 - lr: 0.0010\n",
            "Epoch 13/500\n",
            "7/7 [==============================] - 0s 29ms/step - loss: 0.6895 - accuracy: 0.5786 - val_loss: 0.6757 - val_accuracy: 0.5000 - lr: 0.0010\n",
            "Epoch 14/500\n",
            "7/7 [==============================] - 0s 28ms/step - loss: 0.6913 - accuracy: 0.5429 - val_loss: 0.6759 - val_accuracy: 0.5000 - lr: 0.0010\n",
            "Epoch 15/500\n",
            "7/7 [==============================] - 0s 29ms/step - loss: 0.6837 - accuracy: 0.5857 - val_loss: 0.6657 - val_accuracy: 0.6750 - lr: 0.0010\n",
            "Epoch 16/500\n",
            "7/7 [==============================] - 0s 29ms/step - loss: 0.6606 - accuracy: 0.6357 - val_loss: 0.6511 - val_accuracy: 0.6500 - lr: 5.0000e-04\n",
            "Epoch 17/500\n",
            "7/7 [==============================] - 0s 28ms/step - loss: 0.6488 - accuracy: 0.6714 - val_loss: 0.6260 - val_accuracy: 0.7250 - lr: 5.0000e-04\n",
            "Epoch 18/500\n",
            "7/7 [==============================] - 0s 31ms/step - loss: 0.6192 - accuracy: 0.7071 - val_loss: 0.5823 - val_accuracy: 0.6750 - lr: 5.0000e-04\n",
            "Epoch 19/500\n",
            "7/7 [==============================] - 0s 30ms/step - loss: 0.5976 - accuracy: 0.6714 - val_loss: 0.5459 - val_accuracy: 0.7250 - lr: 5.0000e-04\n",
            "Epoch 20/500\n",
            "7/7 [==============================] - 0s 28ms/step - loss: 0.5509 - accuracy: 0.7429 - val_loss: 0.6603 - val_accuracy: 0.6250 - lr: 5.0000e-04\n",
            "Epoch 21/500\n",
            "7/7 [==============================] - 0s 30ms/step - loss: 0.6095 - accuracy: 0.7000 - val_loss: 0.5756 - val_accuracy: 0.7250 - lr: 5.0000e-04\n",
            "Epoch 22/500\n",
            "7/7 [==============================] - 0s 29ms/step - loss: 0.5447 - accuracy: 0.7143 - val_loss: 0.5739 - val_accuracy: 0.6750 - lr: 5.0000e-04\n",
            "Epoch 23/500\n",
            "7/7 [==============================] - 0s 30ms/step - loss: 0.5674 - accuracy: 0.7143 - val_loss: 0.5449 - val_accuracy: 0.7750 - lr: 5.0000e-04\n",
            "Epoch 24/500\n",
            "7/7 [==============================] - 0s 29ms/step - loss: 0.5452 - accuracy: 0.7857 - val_loss: 0.5291 - val_accuracy: 0.7250 - lr: 5.0000e-04\n",
            "Epoch 25/500\n",
            "7/7 [==============================] - 0s 28ms/step - loss: 0.5207 - accuracy: 0.7000 - val_loss: 0.5561 - val_accuracy: 0.6750 - lr: 5.0000e-04\n",
            "Epoch 26/500\n",
            "7/7 [==============================] - 0s 28ms/step - loss: 0.5998 - accuracy: 0.7143 - val_loss: 0.7270 - val_accuracy: 0.6000 - lr: 5.0000e-04\n",
            "Epoch 27/500\n",
            "7/7 [==============================] - 0s 28ms/step - loss: 0.5618 - accuracy: 0.7214 - val_loss: 0.6250 - val_accuracy: 0.6250 - lr: 5.0000e-04\n",
            "Epoch 28/500\n",
            "7/7 [==============================] - 0s 29ms/step - loss: 0.5389 - accuracy: 0.7286 - val_loss: 0.5410 - val_accuracy: 0.7750 - lr: 5.0000e-04\n",
            "Epoch 29/500\n",
            "7/7 [==============================] - 0s 30ms/step - loss: 0.5451 - accuracy: 0.7714 - val_loss: 0.5386 - val_accuracy: 0.7000 - lr: 5.0000e-04\n",
            "Epoch 30/500\n",
            "7/7 [==============================] - 0s 30ms/step - loss: 0.4820 - accuracy: 0.8000 - val_loss: 0.5251 - val_accuracy: 0.7000 - lr: 2.5000e-04\n",
            "Epoch 31/500\n",
            "7/7 [==============================] - 0s 29ms/step - loss: 0.5391 - accuracy: 0.7643 - val_loss: 0.5297 - val_accuracy: 0.8000 - lr: 2.5000e-04\n",
            "Epoch 32/500\n",
            "7/7 [==============================] - 0s 29ms/step - loss: 0.5406 - accuracy: 0.7071 - val_loss: 0.5182 - val_accuracy: 0.7250 - lr: 2.5000e-04\n",
            "Epoch 33/500\n",
            "7/7 [==============================] - 0s 30ms/step - loss: 0.4435 - accuracy: 0.7929 - val_loss: 0.5277 - val_accuracy: 0.8000 - lr: 2.5000e-04\n",
            "Epoch 34/500\n",
            "7/7 [==============================] - 0s 29ms/step - loss: 0.4656 - accuracy: 0.7857 - val_loss: 0.5037 - val_accuracy: 0.7500 - lr: 2.5000e-04\n",
            "Epoch 35/500\n",
            "7/7 [==============================] - 0s 30ms/step - loss: 0.4581 - accuracy: 0.7643 - val_loss: 0.4957 - val_accuracy: 0.7500 - lr: 2.5000e-04\n",
            "Epoch 36/500\n",
            "7/7 [==============================] - 0s 29ms/step - loss: 0.4517 - accuracy: 0.8143 - val_loss: 0.4844 - val_accuracy: 0.8000 - lr: 2.5000e-04\n",
            "Epoch 37/500\n",
            "7/7 [==============================] - 0s 30ms/step - loss: 0.4149 - accuracy: 0.7929 - val_loss: 0.4758 - val_accuracy: 0.8000 - lr: 2.5000e-04\n",
            "Epoch 38/500\n",
            "7/7 [==============================] - 0s 30ms/step - loss: 0.3833 - accuracy: 0.8286 - val_loss: 0.4711 - val_accuracy: 0.7750 - lr: 2.5000e-04\n",
            "Epoch 39/500\n",
            "7/7 [==============================] - 0s 31ms/step - loss: 0.4142 - accuracy: 0.8071 - val_loss: 0.4796 - val_accuracy: 0.8250 - lr: 2.5000e-04\n",
            "Epoch 40/500\n",
            "7/7 [==============================] - 0s 30ms/step - loss: 0.3893 - accuracy: 0.8500 - val_loss: 0.4974 - val_accuracy: 0.7250 - lr: 2.5000e-04\n",
            "Epoch 41/500\n",
            "7/7 [==============================] - 0s 29ms/step - loss: 0.4550 - accuracy: 0.7857 - val_loss: 0.4464 - val_accuracy: 0.7750 - lr: 2.5000e-04\n",
            "Epoch 42/500\n",
            "7/7 [==============================] - 0s 28ms/step - loss: 0.3703 - accuracy: 0.8571 - val_loss: 0.5386 - val_accuracy: 0.8000 - lr: 2.5000e-04\n",
            "Epoch 43/500\n",
            "7/7 [==============================] - 0s 32ms/step - loss: 0.4008 - accuracy: 0.8214 - val_loss: 0.4430 - val_accuracy: 0.7750 - lr: 2.5000e-04\n",
            "Epoch 44/500\n",
            "7/7 [==============================] - 0s 28ms/step - loss: 0.3681 - accuracy: 0.8286 - val_loss: 0.4991 - val_accuracy: 0.8250 - lr: 2.5000e-04\n",
            "Epoch 45/500\n",
            "7/7 [==============================] - 0s 31ms/step - loss: 0.3460 - accuracy: 0.8714 - val_loss: 0.4424 - val_accuracy: 0.8000 - lr: 2.5000e-04\n",
            "Epoch 46/500\n",
            "7/7 [==============================] - 0s 28ms/step - loss: 0.3942 - accuracy: 0.8143 - val_loss: 0.4689 - val_accuracy: 0.7750 - lr: 2.5000e-04\n",
            "Epoch 47/500\n",
            "7/7 [==============================] - 0s 30ms/step - loss: 0.3907 - accuracy: 0.8357 - val_loss: 0.4359 - val_accuracy: 0.7500 - lr: 2.5000e-04\n",
            "Epoch 48/500\n",
            "7/7 [==============================] - 0s 29ms/step - loss: 0.3271 - accuracy: 0.8786 - val_loss: 0.4804 - val_accuracy: 0.8250 - lr: 2.5000e-04\n",
            "Epoch 49/500\n",
            "7/7 [==============================] - 0s 29ms/step - loss: 0.3152 - accuracy: 0.8714 - val_loss: 0.4656 - val_accuracy: 0.7750 - lr: 2.5000e-04\n",
            "Epoch 50/500\n",
            "7/7 [==============================] - 0s 28ms/step - loss: 0.4465 - accuracy: 0.8000 - val_loss: 0.8054 - val_accuracy: 0.7000 - lr: 2.5000e-04\n",
            "Epoch 51/500\n",
            "7/7 [==============================] - 0s 28ms/step - loss: 0.4458 - accuracy: 0.8071 - val_loss: 0.6602 - val_accuracy: 0.6750 - lr: 2.5000e-04\n",
            "Epoch 52/500\n",
            "7/7 [==============================] - 0s 28ms/step - loss: 0.3728 - accuracy: 0.8214 - val_loss: 0.6699 - val_accuracy: 0.7750 - lr: 2.5000e-04\n",
            "Epoch 53/500\n",
            "7/7 [==============================] - 0s 30ms/step - loss: 0.3685 - accuracy: 0.8286 - val_loss: 0.4334 - val_accuracy: 0.8000 - lr: 1.2500e-04\n",
            "Epoch 54/500\n",
            "7/7 [==============================] - 0s 31ms/step - loss: 0.3493 - accuracy: 0.8500 - val_loss: 0.4232 - val_accuracy: 0.7750 - lr: 1.2500e-04\n",
            "Epoch 55/500\n",
            "7/7 [==============================] - 0s 28ms/step - loss: 0.3874 - accuracy: 0.8286 - val_loss: 0.4918 - val_accuracy: 0.8250 - lr: 1.2500e-04\n",
            "Epoch 56/500\n",
            "7/7 [==============================] - 0s 29ms/step - loss: 0.3107 - accuracy: 0.8714 - val_loss: 0.4527 - val_accuracy: 0.8000 - lr: 1.2500e-04\n",
            "Epoch 57/500\n",
            "7/7 [==============================] - 0s 29ms/step - loss: 0.3471 - accuracy: 0.8500 - val_loss: 0.5059 - val_accuracy: 0.8250 - lr: 1.2500e-04\n",
            "Epoch 58/500\n",
            "7/7 [==============================] - 0s 28ms/step - loss: 0.3121 - accuracy: 0.8643 - val_loss: 0.4500 - val_accuracy: 0.8000 - lr: 1.2500e-04\n",
            "Epoch 59/500\n",
            "7/7 [==============================] - 0s 29ms/step - loss: 0.3277 - accuracy: 0.8500 - val_loss: 0.4833 - val_accuracy: 0.8250 - lr: 1.2500e-04\n",
            "Epoch 60/500\n",
            "7/7 [==============================] - 0s 29ms/step - loss: 0.3181 - accuracy: 0.8714 - val_loss: 0.4526 - val_accuracy: 0.8250 - lr: 1.0000e-04\n",
            "Epoch 61/500\n",
            "7/7 [==============================] - 0s 29ms/step - loss: 0.2945 - accuracy: 0.8929 - val_loss: 0.4432 - val_accuracy: 0.8000 - lr: 1.0000e-04\n",
            "Epoch 62/500\n",
            "7/7 [==============================] - 0s 29ms/step - loss: 0.2841 - accuracy: 0.8929 - val_loss: 0.4670 - val_accuracy: 0.8250 - lr: 1.0000e-04\n",
            "Epoch 63/500\n",
            "7/7 [==============================] - 0s 29ms/step - loss: 0.2812 - accuracy: 0.8857 - val_loss: 0.4445 - val_accuracy: 0.8250 - lr: 1.0000e-04\n",
            "Epoch 64/500\n",
            "7/7 [==============================] - 0s 28ms/step - loss: 0.3204 - accuracy: 0.8929 - val_loss: 0.4656 - val_accuracy: 0.8250 - lr: 1.0000e-04\n",
            "Epoch 65/500\n",
            "7/7 [==============================] - 0s 29ms/step - loss: 0.2635 - accuracy: 0.9143 - val_loss: 0.4618 - val_accuracy: 0.8250 - lr: 1.0000e-04\n",
            "Epoch 66/500\n",
            "7/7 [==============================] - 0s 29ms/step - loss: 0.2922 - accuracy: 0.8857 - val_loss: 0.4559 - val_accuracy: 0.8250 - lr: 1.0000e-04\n",
            "Epoch 67/500\n",
            "7/7 [==============================] - 0s 30ms/step - loss: 0.2620 - accuracy: 0.9143 - val_loss: 0.4504 - val_accuracy: 0.8250 - lr: 1.0000e-04\n",
            "Epoch 68/500\n",
            "7/7 [==============================] - 0s 28ms/step - loss: 0.2208 - accuracy: 0.9286 - val_loss: 0.5039 - val_accuracy: 0.8000 - lr: 1.0000e-04\n",
            "Epoch 69/500\n",
            "7/7 [==============================] - 0s 29ms/step - loss: 0.2566 - accuracy: 0.8786 - val_loss: 0.4540 - val_accuracy: 0.8500 - lr: 1.0000e-04\n",
            "Epoch 70/500\n",
            "7/7 [==============================] - 0s 30ms/step - loss: 0.3039 - accuracy: 0.8857 - val_loss: 0.4580 - val_accuracy: 0.8500 - lr: 1.0000e-04\n",
            "Epoch 71/500\n",
            "7/7 [==============================] - 0s 29ms/step - loss: 0.2649 - accuracy: 0.9143 - val_loss: 0.4788 - val_accuracy: 0.8250 - lr: 1.0000e-04\n",
            "Epoch 72/500\n",
            "7/7 [==============================] - 0s 29ms/step - loss: 0.2773 - accuracy: 0.9214 - val_loss: 0.4813 - val_accuracy: 0.8000 - lr: 1.0000e-04\n",
            "Epoch 73/500\n",
            "7/7 [==============================] - 0s 29ms/step - loss: 0.2554 - accuracy: 0.9143 - val_loss: 0.4575 - val_accuracy: 0.8500 - lr: 1.0000e-04\n",
            "Epoch 74/500\n",
            "7/7 [==============================] - 0s 31ms/step - loss: 0.2632 - accuracy: 0.9143 - val_loss: 0.4927 - val_accuracy: 0.8000 - lr: 1.0000e-04\n"
          ]
        }
      ]
    },
    {
      "cell_type": "code",
      "source": [
        "predictions = model.predict(X_test)\n",
        "\n",
        "# Compute the confusion matrix\n",
        "cm = confusion_matrix(np.argmax(Y_test, axis=-1), np.argmax(predictions, axis=-1))\n",
        "\n",
        "# Compute the classification metrics\n",
        "accuracy = accuracy_score(np.argmax(Y_test, axis=-1), np.argmax(predictions, axis=-1))\n",
        "precision = precision_score(np.argmax(Y_test, axis=-1), np.argmax(predictions, axis=-1), average='macro')\n",
        "recall = recall_score(np.argmax(Y_test, axis=-1), np.argmax(predictions, axis=-1), average='macro')\n",
        "f1 = f1_score(np.argmax(Y_test, axis=-1), np.argmax(predictions, axis=-1), average='macro')\n",
        "print('Accuracy:',accuracy.round(4))\n",
        "print('Precision:',precision.round(4))\n",
        "print('Recall:',recall.round(4))\n",
        "print('F1:',f1.round(4))\n",
        "\n",
        "# Plot the confusion matrix\n",
        "plt.figure(figsize=(10,8))\n",
        "sns.heatmap(cm.T)#, xticklabels=list(labels.values()), yticklabels=list(labels.values()))\n",
        "plt.xlabel('True labels')\n",
        "plt.ylabel('Predicted labels')\n",
        "plt.show()"
      ],
      "metadata": {
        "id": "6Xlmj6RaRRvk",
        "colab": {
          "base_uri": "https://localhost:8080/",
          "height": 573
        },
        "outputId": "5b29118c-8425-4707-dea9-d0f249a8f40c"
      },
      "execution_count": null,
      "outputs": [
        {
          "output_type": "stream",
          "name": "stdout",
          "text": [
            "Accuracy: 0.75\n",
            "Precision: 0.7525\n",
            "Recall: 0.75\n",
            "F1: 0.7494\n"
          ]
        },
        {
          "output_type": "display_data",
          "data": {
            "text/plain": [
              "<Figure size 720x576 with 2 Axes>"
            ],
            "image/png": "[encoded data removed]"
          },
          "metadata": {
            "needs_background": "light"
          }
        }
      ]
    },
    {
      "cell_type": "code",
      "source": [
        "model.save('/gdrive/MyDrive/polimi/NAML/NAML_proj/models/rockvmetal/rockvmetal_4_075')"
      ],
      "metadata": {
        "colab": {
          "base_uri": "https://localhost:8080/"
        },
        "id": "SO-HKBQc9I7r",
        "outputId": "ed7ac411-e4f5-4253-c97a-750e2fedbae6"
      },
      "execution_count": null,
      "outputs": [
        {
          "output_type": "stream",
          "name": "stderr",
          "text": [
            "WARNING:absl:Function `_wrapped_model` contains input name(s) Input with unsupported characters which will be renamed to input in the SavedModel.\n"
          ]
        },
        {
          "output_type": "stream",
          "name": "stdout",
          "text": [
            "INFO:tensorflow:Assets written to: /gdrive/MyDrive/polimi/NAML/NAML_proj/models/rockvmetal/rockvmetal_4_075/assets\n"
          ]
        },
        {
          "output_type": "stream",
          "name": "stderr",
          "text": [
            "INFO:tensorflow:Assets written to: /gdrive/MyDrive/polimi/NAML/NAML_proj/models/rockvmetal/rockvmetal_4_075/assets\n"
          ]
        }
      ]
    }
  ]
}