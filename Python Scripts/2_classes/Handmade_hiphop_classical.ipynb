{
  "nbformat": 4,
  "nbformat_minor": 0,
  "metadata": {
    "colab": {
      "name": "Handmade_hiphop_classical.ipynb",
      "provenance": [],
      "collapsed_sections": []
    },
    "kernelspec": {
      "name": "python3",
      "display_name": "Python 3"
    },
    "language_info": {
      "name": "python"
    },
    "accelerator": "GPU"
  },
  "cells": [
    {
      "cell_type": "markdown",
      "source": [
        "## Black Box Approach for 2 genres classification - Hip Hop vs Classical\n",
        "\n",
        "We aim at training a Neural Network to distinguish between two genres: Hip Hop and classical."
      ],
      "metadata": {
        "id": "gKB_Sss8Ql-3"
      }
    },
    {
      "cell_type": "code",
      "execution_count": 1,
      "metadata": {
        "id": "SwPJ54sBQlFO",
        "colab": {
          "base_uri": "https://localhost:8080/"
        },
        "outputId": "b33c2743-4d4e-4668-9c62-689308f13f7a"
      },
      "outputs": [
        {
          "output_type": "stream",
          "name": "stdout",
          "text": [
            "Mounted at /gdrive\n"
          ]
        }
      ],
      "source": [
        "#importing google drive\n",
        "from google.colab import drive\n",
        "drive.mount('/gdrive')"
      ]
    },
    {
      "cell_type": "code",
      "source": [
        "#setting the working directory\n",
        "%cd /gdrive/MyDrive/polimi/NAML/NAML_proj/"
      ],
      "metadata": {
        "id": "iYHj7NhnQs_-",
        "colab": {
          "base_uri": "https://localhost:8080/"
        },
        "outputId": "a9e6b8ea-f0f2-41f7-a86b-71256e30d850"
      },
      "execution_count": 2,
      "outputs": [
        {
          "output_type": "stream",
          "name": "stdout",
          "text": [
            "/gdrive/MyDrive/polimi/NAML/NAML_proj\n"
          ]
        }
      ]
    },
    {
      "cell_type": "code",
      "source": [
        "import tensorflow as tf\n",
        "from PIL import Image\n",
        "import numpy as np\n",
        "import os\n",
        "import random\n",
        "import seaborn as sns\n",
        "import matplotlib as mpl\n",
        "import matplotlib.pyplot as plt\n",
        "from sklearn.model_selection import train_test_split\n",
        "from sklearn.metrics import accuracy_score, f1_score, precision_score, recall_score\n",
        "from sklearn.metrics import confusion_matrix\n",
        "import librosa\n",
        "import os\n",
        "\n",
        "tfk = tf.keras\n",
        "tfkl = tf.keras.layers\n",
        "seed = 42"
      ],
      "metadata": {
        "id": "INc4ttEUQuxN"
      },
      "execution_count": 3,
      "outputs": []
    },
    {
      "cell_type": "markdown",
      "source": [
        "The dataset is composed of Mel-Spectrograms of each audio sample, labeled with respect to each genre"
      ],
      "metadata": {
        "id": "IoV9bIbPfg55"
      }
    },
    {
      "cell_type": "code",
      "source": [
        "dataset = []\n",
        "#genres = {'blues': 0, 'classical': 1, 'country': 2, 'disco': 3, 'hiphop': 4, 'jazz': 5, 'metal': 6, 'pop': 7, 'reggae': 8, 'rock': 9}\n",
        "genres = {'hiphop': 0, 'classical': 1}\n",
        "\n",
        "for genre, genre_number in genres.items():\n",
        "    for filename in os.listdir(f'dataset_old/genres/{genre}'):\n",
        "        songname = f'dataset_old/genres/{genre}/{filename}'\n",
        "        y, sr = librosa.load(songname, mono=True, duration=2)\n",
        "        ps = librosa.feature.melspectrogram(y=y, sr=sr, hop_length = 256, n_fft = 512)\n",
        "        ps = librosa.power_to_db(ps**2)\n",
        "        dataset.append( (ps, genre_number) )\n",
        "    print(str(genre+' done'))"
      ],
      "metadata": {
        "id": "oiT5mkVqQ_lt",
        "colab": {
          "base_uri": "https://localhost:8080/"
        },
        "outputId": "0176d1c8-f160-4474-ba43-0bf8a7d07a85"
      },
      "execution_count": 4,
      "outputs": [
        {
          "output_type": "stream",
          "name": "stdout",
          "text": [
            "hiphop done\n",
            "classical done\n"
          ]
        }
      ]
    },
    {
      "cell_type": "markdown",
      "source": [
        "We split the dataset according to the following composition:\n",
        "\n",
        "\n",
        "*   70% training set\n",
        "*   20% validation set\n",
        "*   10% test set\n",
        "\n",
        "Maintaining equal proportions amongst classes\n",
        "\n"
      ],
      "metadata": {
        "id": "0sgOQfv-gZ04"
      }
    },
    {
      "cell_type": "code",
      "source": [
        "order = np.arange(start = 0, stop = 100, step = 1)\n",
        "\n",
        "np.random.seed(42)\n",
        "\n",
        "training = []\n",
        "validation = []\n",
        "test = []\n",
        "\n",
        "for i in range(2):\n",
        "  shuffle = np.random.permutation(order)\n",
        "  for k in range(70):\n",
        "    training.append(dataset[i*100 + shuffle[k]])\n",
        "  for l in range(20):\n",
        "    validation.append(dataset[i*100 + shuffle[l+70]])\n",
        "  for m in range(10):\n",
        "    test.append(dataset[i*100 + shuffle[m+90]])"
      ],
      "metadata": {
        "id": "OSUK8JPgRFVF"
      },
      "execution_count": 5,
      "outputs": []
    },
    {
      "cell_type": "code",
      "source": [
        "X_train, Y_train = zip(*training)\n",
        "X_valid, Y_valid = zip(*validation)\n",
        "X_test, Y_test = zip(*test)\n",
        "\n",
        "X_train = np.array([x.reshape( (128, 173, 1) ) for x in X_train])\n",
        "X_valid = np.array([x.reshape( (128, 173, 1) ) for x in X_valid])\n",
        "X_test = np.array([x.reshape( (128, 173, 1) ) for x in X_test])\n",
        "\n",
        "Y_train = np.array(tfk.utils.to_categorical(Y_train, 2))\n",
        "Y_valid = np.array(tfk.utils.to_categorical(Y_valid, 2))\n",
        "Y_test = np.array(tfk.utils.to_categorical(Y_test, 2))"
      ],
      "metadata": {
        "id": "WA29NV-URMuG"
      },
      "execution_count": 6,
      "outputs": []
    },
    {
      "cell_type": "markdown",
      "source": [
        "The proposed model is composed as a stack of convolutional layer, followed by a Global Average Pooling layer leading to a fully connected section.\n",
        "\n",
        "Optimization is performed as a Batch version of Adam optimizer algorithm"
      ],
      "metadata": {
        "id": "O6AvTMw2hgxB"
      }
    },
    {
      "cell_type": "code",
      "source": [
        "def build_model(input_shape, n_units):\n",
        "# Build the neural network layer by layer\n",
        "    input_layer = tfkl.Input(shape=input_shape, name='Input')\n",
        "\n",
        "    conv1 = tfkl.Conv2D(\n",
        "        filters=4,\n",
        "        kernel_size=(3, 3),\n",
        "        strides = (1, 1),\n",
        "        padding = 'same',\n",
        "        activation = 'relu',\n",
        "        kernel_initializer = tfk.initializers.GlorotUniform(seed)\n",
        "    )(input_layer)\n",
        "    conv1_2 = tfkl.Conv2D(\n",
        "        filters=8,\n",
        "        kernel_size=(2, 2),\n",
        "        strides = (1, 1),\n",
        "        padding = 'same',\n",
        "        activation = 'relu',\n",
        "        kernel_initializer = tfk.initializers.GlorotUniform(seed)\n",
        "    )(conv1)\n",
        "    pool1 = tfkl.MaxPooling2D(\n",
        "        pool_size = (2, 2)\n",
        "    )(conv1_2)\n",
        "\n",
        "    conv2 = tfkl.Conv2D(\n",
        "        filters=16,\n",
        "        kernel_size=(3, 3),\n",
        "        strides = (1, 1),\n",
        "        padding = 'same',\n",
        "        activation = 'relu',\n",
        "        kernel_initializer = tfk.initializers.GlorotUniform(seed)\n",
        "    )(pool1)\n",
        "    pool2 = tfkl.MaxPooling2D(\n",
        "        pool_size = (2, 2)\n",
        "    )(conv2)\n",
        "\n",
        "    conv3 = tfkl.Conv2D(\n",
        "        filters=32,\n",
        "        kernel_size=(3, 3),\n",
        "        strides = (1, 1),\n",
        "        padding = 'same',\n",
        "        activation = 'relu',\n",
        "        kernel_initializer = tfk.initializers.GlorotUniform(seed)\n",
        "    )(pool2)\n",
        "    pool3 = tfkl.MaxPooling2D(\n",
        "        pool_size = (2, 2)\n",
        "    )(conv3)\n",
        "\n",
        "    conv4 = tfkl.Conv2D(\n",
        "        filters=64,\n",
        "        kernel_size=(3, 3),\n",
        "        strides = (1, 1),\n",
        "        padding = 'same',\n",
        "        activation = 'relu',\n",
        "        kernel_initializer = tfk.initializers.GlorotUniform(seed)\n",
        "    )(pool3)\n",
        "    conv4_2 = tfkl.Conv2D(\n",
        "        filters=64,\n",
        "        kernel_size=(2, 2),\n",
        "        strides = (1, 1),\n",
        "        padding = 'same',\n",
        "        activation = 'relu',\n",
        "        kernel_initializer = tfk.initializers.GlorotUniform(seed)\n",
        "    )(conv4)\n",
        "    pool4 = tfkl.MaxPooling2D(\n",
        "        pool_size = (2, 2)\n",
        "    )(conv4_2)\n",
        "\n",
        "    conv5 = tfkl.Conv2D(\n",
        "        filters=128,\n",
        "        kernel_size=(2, 2),\n",
        "        strides = (1, 1),\n",
        "        padding = 'same',\n",
        "        activation = 'relu',\n",
        "        kernel_initializer = tfk.initializers.GlorotUniform(seed)\n",
        "    )(pool4)\n",
        "    pool5 = tfkl.MaxPooling2D(\n",
        "        pool_size = (2, 2)\n",
        "    )(conv5)\n",
        "\n",
        "    conv6 = tfkl.Conv2D(\n",
        "        filters=286,\n",
        "        kernel_size=(2, 2),\n",
        "        strides = (1, 1),\n",
        "        padding = 'same',\n",
        "        activation = 'relu',\n",
        "        kernel_initializer = tfk.initializers.GlorotUniform(seed)\n",
        "    )(pool5)\n",
        "    \n",
        "\n",
        "    global_average = tfkl.GlobalAveragePooling2D(name = 'GAP')(conv6)\n",
        "    global_average = tfkl.Dropout(0.3, seed=seed)(global_average)\n",
        "    \n",
        "    classifier_layer = tfkl.Dense(units=64, name='Classifier', activation='relu')(global_average)\n",
        "    #flattening_layer = tfkl.Flatten(name='Flatten')(pool5)\n",
        "    #flattening_layer = tfkl.Dropout(0.2, seed=seed)(flattening_layer)\n",
        "    #classifier_layer = tfkl.Dense(units=64, name='Classifier', activation='relu')(flattening_layer)\n",
        "    \n",
        "    classifier_layer = tfkl.Dropout(0.3, seed=seed)(classifier_layer)\n",
        "    classifier_layer_2 = tfkl.Dense(units=32, name='Classifier_2', activation='relu')(classifier_layer)\n",
        "    classifier_layer_2 = tfkl.Dropout(0.25, seed=seed)(classifier_layer_2)\n",
        "    output_layer = tfkl.Dense(units=n_units, activation='softmax', name='Output')(classifier_layer_2)\n",
        "\n",
        "    # Connect input and output through the Model class\n",
        "    model = tfk.Model(inputs=input_layer, outputs=output_layer, name='model')\n",
        "\n",
        "    # Compile the model\n",
        "    model.compile(loss=tfk.losses.CategoricalCrossentropy(), optimizer=tfk.optimizers.Adam(), metrics='accuracy')\n",
        "\n",
        "    # Return the model\n",
        "\n",
        "    return model"
      ],
      "metadata": {
        "id": "lR2QkBoSQ8lW"
      },
      "execution_count": 7,
      "outputs": []
    },
    {
      "cell_type": "code",
      "source": [
        "n_units = 2\n",
        "input_shape = (128,173,1)\n",
        "\n",
        "model = build_model(input_shape, n_units)\n",
        "\n",
        "model.summary()"
      ],
      "metadata": {
        "id": "zIitkAlGQ-mM",
        "colab": {
          "base_uri": "https://localhost:8080/"
        },
        "outputId": "c9221aad-6128-49b6-fbea-31a71c06552d"
      },
      "execution_count": 8,
      "outputs": [
        {
          "output_type": "stream",
          "name": "stdout",
          "text": [
            "Model: \"model\"\n",
            "_________________________________________________________________\n",
            " Layer (type)                Output Shape              Param #   \n",
            "=================================================================\n",
            " Input (InputLayer)          [(None, 128, 173, 1)]     0         \n",
            "                                                                 \n",
            " conv2d (Conv2D)             (None, 128, 173, 4)       40        \n",
            "                                                                 \n",
            " conv2d_1 (Conv2D)           (None, 128, 173, 8)       136       \n",
            "                                                                 \n",
            " max_pooling2d (MaxPooling2D  (None, 64, 86, 8)        0         \n",
            " )                                                               \n",
            "                                                                 \n",
            " conv2d_2 (Conv2D)           (None, 64, 86, 16)        1168      \n",
            "                                                                 \n",
            " max_pooling2d_1 (MaxPooling  (None, 32, 43, 16)       0         \n",
            " 2D)                                                             \n",
            "                                                                 \n",
            " conv2d_3 (Conv2D)           (None, 32, 43, 32)        4640      \n",
            "                                                                 \n",
            " max_pooling2d_2 (MaxPooling  (None, 16, 21, 32)       0         \n",
            " 2D)                                                             \n",
            "                                                                 \n",
            " conv2d_4 (Conv2D)           (None, 16, 21, 64)        18496     \n",
            "                                                                 \n",
            " conv2d_5 (Conv2D)           (None, 16, 21, 64)        16448     \n",
            "                                                                 \n",
            " max_pooling2d_3 (MaxPooling  (None, 8, 10, 64)        0         \n",
            " 2D)                                                             \n",
            "                                                                 \n",
            " conv2d_6 (Conv2D)           (None, 8, 10, 128)        32896     \n",
            "                                                                 \n",
            " max_pooling2d_4 (MaxPooling  (None, 4, 5, 128)        0         \n",
            " 2D)                                                             \n",
            "                                                                 \n",
            " conv2d_7 (Conv2D)           (None, 4, 5, 286)         146718    \n",
            "                                                                 \n",
            " GAP (GlobalAveragePooling2D  (None, 286)              0         \n",
            " )                                                               \n",
            "                                                                 \n",
            " dropout (Dropout)           (None, 286)               0         \n",
            "                                                                 \n",
            " Classifier (Dense)          (None, 64)                18368     \n",
            "                                                                 \n",
            " dropout_1 (Dropout)         (None, 64)                0         \n",
            "                                                                 \n",
            " Classifier_2 (Dense)        (None, 32)                2080      \n",
            "                                                                 \n",
            " dropout_2 (Dropout)         (None, 32)                0         \n",
            "                                                                 \n",
            " Output (Dense)              (None, 2)                 66        \n",
            "                                                                 \n",
            "=================================================================\n",
            "Total params: 241,056\n",
            "Trainable params: 241,056\n",
            "Non-trainable params: 0\n",
            "_________________________________________________________________\n"
          ]
        }
      ]
    },
    {
      "cell_type": "code",
      "source": [
        "early_stopping = tfk.callbacks.EarlyStopping(monitor='val_loss', mode='min', patience=20, restore_best_weights=True)\n",
        "adaptive_LR = tfk.callbacks.ReduceLROnPlateau(monitor='val_loss', mode='min', patience=5, factor=0.5, min_lr=1e-4)\n",
        "\n",
        "standard_history = model.fit(\n",
        "    x = X_train,\n",
        "    y = Y_train,\n",
        "    epochs = 500,\n",
        "    batch_size = 20,\n",
        "    validation_data= (X_valid, Y_valid),\n",
        "    callbacks = [early_stopping, adaptive_LR]\n",
        "    )"
      ],
      "metadata": {
        "id": "yFUsDY6BRWi1",
        "colab": {
          "base_uri": "https://localhost:8080/"
        },
        "outputId": "df9d2f34-7fa1-45f9-ac16-beaa528fbd26"
      },
      "execution_count": 9,
      "outputs": [
        {
          "output_type": "stream",
          "name": "stdout",
          "text": [
            "Epoch 1/500\n",
            "7/7 [==============================] - 12s 92ms/step - loss: 0.7197 - accuracy: 0.5286 - val_loss: 0.6527 - val_accuracy: 0.5000 - lr: 0.0010\n",
            "Epoch 2/500\n",
            "7/7 [==============================] - 0s 38ms/step - loss: 0.7101 - accuracy: 0.4786 - val_loss: 0.6696 - val_accuracy: 0.7000 - lr: 0.0010\n",
            "Epoch 3/500\n",
            "7/7 [==============================] - 0s 34ms/step - loss: 0.6458 - accuracy: 0.6929 - val_loss: 0.5295 - val_accuracy: 0.9000 - lr: 0.0010\n",
            "Epoch 4/500\n",
            "7/7 [==============================] - 0s 36ms/step - loss: 0.4794 - accuracy: 0.8143 - val_loss: 0.2487 - val_accuracy: 0.9250 - lr: 0.0010\n",
            "Epoch 5/500\n",
            "7/7 [==============================] - 0s 43ms/step - loss: 0.2975 - accuracy: 0.8643 - val_loss: 0.2298 - val_accuracy: 0.9250 - lr: 0.0010\n",
            "Epoch 6/500\n",
            "7/7 [==============================] - 0s 41ms/step - loss: 0.2876 - accuracy: 0.8714 - val_loss: 0.2254 - val_accuracy: 0.9250 - lr: 0.0010\n",
            "Epoch 7/500\n",
            "7/7 [==============================] - 0s 42ms/step - loss: 0.2543 - accuracy: 0.9143 - val_loss: 0.3337 - val_accuracy: 0.8750 - lr: 0.0010\n",
            "Epoch 8/500\n",
            "7/7 [==============================] - 0s 40ms/step - loss: 0.2493 - accuracy: 0.9214 - val_loss: 0.2128 - val_accuracy: 0.9250 - lr: 0.0010\n",
            "Epoch 9/500\n",
            "7/7 [==============================] - 0s 43ms/step - loss: 0.1808 - accuracy: 0.9429 - val_loss: 0.4292 - val_accuracy: 0.9000 - lr: 0.0010\n",
            "Epoch 10/500\n",
            "7/7 [==============================] - 0s 34ms/step - loss: 0.1832 - accuracy: 0.9286 - val_loss: 0.2622 - val_accuracy: 0.9250 - lr: 0.0010\n",
            "Epoch 11/500\n",
            "7/7 [==============================] - 0s 30ms/step - loss: 0.1579 - accuracy: 0.9643 - val_loss: 0.2699 - val_accuracy: 0.9250 - lr: 0.0010\n",
            "Epoch 12/500\n",
            "7/7 [==============================] - 0s 30ms/step - loss: 0.1539 - accuracy: 0.9429 - val_loss: 0.3272 - val_accuracy: 0.8750 - lr: 0.0010\n",
            "Epoch 13/500\n",
            "7/7 [==============================] - 0s 32ms/step - loss: 0.1150 - accuracy: 0.9714 - val_loss: 0.2118 - val_accuracy: 0.9250 - lr: 0.0010\n",
            "Epoch 14/500\n",
            "7/7 [==============================] - 0s 29ms/step - loss: 0.2581 - accuracy: 0.9214 - val_loss: 0.6723 - val_accuracy: 0.8750 - lr: 0.0010\n",
            "Epoch 15/500\n",
            "7/7 [==============================] - 0s 31ms/step - loss: 0.1401 - accuracy: 0.9500 - val_loss: 0.2139 - val_accuracy: 0.9250 - lr: 0.0010\n",
            "Epoch 16/500\n",
            "7/7 [==============================] - 0s 31ms/step - loss: 0.1357 - accuracy: 0.9786 - val_loss: 0.3008 - val_accuracy: 0.9250 - lr: 0.0010\n",
            "Epoch 17/500\n",
            "7/7 [==============================] - 0s 29ms/step - loss: 0.1359 - accuracy: 0.9714 - val_loss: 0.3226 - val_accuracy: 0.9250 - lr: 0.0010\n",
            "Epoch 18/500\n",
            "7/7 [==============================] - 0s 31ms/step - loss: 0.0997 - accuracy: 0.9714 - val_loss: 0.3239 - val_accuracy: 0.9250 - lr: 0.0010\n",
            "Epoch 19/500\n",
            "7/7 [==============================] - 0s 36ms/step - loss: 0.0819 - accuracy: 0.9786 - val_loss: 0.2985 - val_accuracy: 0.9250 - lr: 5.0000e-04\n",
            "Epoch 20/500\n",
            "7/7 [==============================] - 0s 39ms/step - loss: 0.0936 - accuracy: 0.9714 - val_loss: 0.2978 - val_accuracy: 0.9250 - lr: 5.0000e-04\n",
            "Epoch 21/500\n",
            "7/7 [==============================] - 0s 47ms/step - loss: 0.0908 - accuracy: 0.9857 - val_loss: 0.3182 - val_accuracy: 0.9250 - lr: 5.0000e-04\n",
            "Epoch 22/500\n",
            "7/7 [==============================] - 0s 34ms/step - loss: 0.0517 - accuracy: 0.9857 - val_loss: 0.3224 - val_accuracy: 0.9500 - lr: 5.0000e-04\n",
            "Epoch 23/500\n",
            "7/7 [==============================] - 0s 51ms/step - loss: 0.0660 - accuracy: 0.9786 - val_loss: 0.3254 - val_accuracy: 0.9500 - lr: 5.0000e-04\n",
            "Epoch 24/500\n",
            "7/7 [==============================] - 0s 34ms/step - loss: 0.0564 - accuracy: 0.9857 - val_loss: 0.3237 - val_accuracy: 0.9500 - lr: 2.5000e-04\n",
            "Epoch 25/500\n",
            "7/7 [==============================] - 0s 34ms/step - loss: 0.0659 - accuracy: 0.9857 - val_loss: 0.3069 - val_accuracy: 0.9500 - lr: 2.5000e-04\n",
            "Epoch 26/500\n",
            "7/7 [==============================] - 0s 30ms/step - loss: 0.0557 - accuracy: 0.9857 - val_loss: 0.3001 - val_accuracy: 0.9500 - lr: 2.5000e-04\n",
            "Epoch 27/500\n",
            "7/7 [==============================] - 0s 30ms/step - loss: 0.0789 - accuracy: 0.9786 - val_loss: 0.3313 - val_accuracy: 0.9500 - lr: 2.5000e-04\n",
            "Epoch 28/500\n",
            "7/7 [==============================] - 0s 29ms/step - loss: 0.0495 - accuracy: 0.9857 - val_loss: 0.3258 - val_accuracy: 0.9500 - lr: 2.5000e-04\n",
            "Epoch 29/500\n",
            "7/7 [==============================] - 0s 29ms/step - loss: 0.0411 - accuracy: 0.9857 - val_loss: 0.3145 - val_accuracy: 0.9500 - lr: 1.2500e-04\n",
            "Epoch 30/500\n",
            "7/7 [==============================] - 0s 29ms/step - loss: 0.0497 - accuracy: 0.9857 - val_loss: 0.2970 - val_accuracy: 0.9500 - lr: 1.2500e-04\n",
            "Epoch 31/500\n",
            "7/7 [==============================] - 0s 29ms/step - loss: 0.0607 - accuracy: 0.9857 - val_loss: 0.2901 - val_accuracy: 0.9500 - lr: 1.2500e-04\n",
            "Epoch 32/500\n",
            "7/7 [==============================] - 0s 29ms/step - loss: 0.0526 - accuracy: 0.9857 - val_loss: 0.2871 - val_accuracy: 0.9500 - lr: 1.2500e-04\n",
            "Epoch 33/500\n",
            "7/7 [==============================] - 0s 32ms/step - loss: 0.0604 - accuracy: 0.9714 - val_loss: 0.2966 - val_accuracy: 0.9500 - lr: 1.2500e-04\n"
          ]
        }
      ]
    },
    {
      "cell_type": "code",
      "source": [
        "predictions = model.predict(X_test)\n",
        "\n",
        "# Compute the confusion matrix\n",
        "cm = confusion_matrix(np.argmax(Y_test, axis=-1), np.argmax(predictions, axis=-1))\n",
        "\n",
        "# Compute the classification metrics\n",
        "accuracy = accuracy_score(np.argmax(Y_test, axis=-1), np.argmax(predictions, axis=-1))\n",
        "precision = precision_score(np.argmax(Y_test, axis=-1), np.argmax(predictions, axis=-1), average='macro')\n",
        "recall = recall_score(np.argmax(Y_test, axis=-1), np.argmax(predictions, axis=-1), average='macro')\n",
        "f1 = f1_score(np.argmax(Y_test, axis=-1), np.argmax(predictions, axis=-1), average='macro')\n",
        "print('Accuracy:',accuracy.round(4))\n",
        "print('Precision:',precision.round(4))\n",
        "print('Recall:',recall.round(4))\n",
        "print('F1:',f1.round(4))\n",
        "\n",
        "# Plot the confusion matrix\n",
        "plt.figure(figsize=(10,8))\n",
        "sns.heatmap(cm.T)#, xticklabels=list(labels.values()), yticklabels=list(labels.values()))\n",
        "plt.xlabel('True labels')\n",
        "plt.ylabel('Predicted labels')\n",
        "plt.show()"
      ],
      "metadata": {
        "id": "6Xlmj6RaRRvk",
        "colab": {
          "base_uri": "https://localhost:8080/",
          "height": 573
        },
        "outputId": "09486e2b-65e5-4eb8-bb41-718afc485973"
      },
      "execution_count": 10,
      "outputs": [
        {
          "output_type": "stream",
          "name": "stdout",
          "text": [
            "Accuracy: 1.0\n",
            "Precision: 1.0\n",
            "Recall: 1.0\n",
            "F1: 1.0\n"
          ]
        },
        {
          "output_type": "display_data",
          "data": {
            "text/plain": [
              "<Figure size 720x576 with 2 Axes>"
            ],
            "image/png": "[encoded data removed]"
          },
          "metadata": {
            "needs_background": "light"
          }
        }
      ]
    },
    {
      "cell_type": "code",
      "source": [
        "model.save('/gdrive/MyDrive/polimi/NAML/NAML_proj/models/hiphopvclassical/hiphopvclassical')"
      ],
      "metadata": {
        "colab": {
          "base_uri": "https://localhost:8080/"
        },
        "id": "SO-HKBQc9I7r",
        "outputId": "55fa4c81-888e-496b-95fc-fa78b7ab2475"
      },
      "execution_count": 11,
      "outputs": [
        {
          "output_type": "stream",
          "name": "stderr",
          "text": [
            "WARNING:absl:Function `_wrapped_model` contains input name(s) Input with unsupported characters which will be renamed to input in the SavedModel.\n"
          ]
        },
        {
          "output_type": "stream",
          "name": "stdout",
          "text": [
            "INFO:tensorflow:Assets written to: /gdrive/MyDrive/polimi/NAML/NAML_proj/models/hiphopvclassical/hiphopvclassical/assets\n"
          ]
        },
        {
          "output_type": "stream",
          "name": "stderr",
          "text": [
            "INFO:tensorflow:Assets written to: /gdrive/MyDrive/polimi/NAML/NAML_proj/models/hiphopvclassical/hiphopvclassical/assets\n"
          ]
        }
      ]
    }
  ]
}